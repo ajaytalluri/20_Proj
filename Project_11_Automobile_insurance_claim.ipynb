{
 "cells": [
  {
   "cell_type": "code",
   "execution_count": 1,
   "metadata": {},
   "outputs": [],
   "source": [
    "import numpy as np\n",
    "import pandas as pd\n",
    "import matplotlib.pyplot as plt\n",
    "import seaborn as sns\n",
    "import warnings\n",
    "warnings.filterwarnings('ignore')"
   ]
  },
  {
   "cell_type": "code",
   "execution_count": 2,
   "metadata": {},
   "outputs": [],
   "source": [
    "df=pd.read_csv(\"C:\\\\Pandasdata\\\\DT_files\\\\auto_ins.csv\")"
   ]
  },
  {
   "cell_type": "code",
   "execution_count": 3,
   "metadata": {},
   "outputs": [
    {
     "data": {
      "text/html": [
       "<div>\n",
       "<style scoped>\n",
       "    .dataframe tbody tr th:only-of-type {\n",
       "        vertical-align: middle;\n",
       "    }\n",
       "\n",
       "    .dataframe tbody tr th {\n",
       "        vertical-align: top;\n",
       "    }\n",
       "\n",
       "    .dataframe thead th {\n",
       "        text-align: right;\n",
       "    }\n",
       "</style>\n",
       "<table border=\"1\" class=\"dataframe\">\n",
       "  <thead>\n",
       "    <tr style=\"text-align: right;\">\n",
       "      <th></th>\n",
       "      <th>Customer</th>\n",
       "      <th>Country</th>\n",
       "      <th>State Code</th>\n",
       "      <th>State</th>\n",
       "      <th>Claim Amount</th>\n",
       "      <th>Response</th>\n",
       "      <th>Coverage</th>\n",
       "      <th>Education</th>\n",
       "      <th>Effective To Date</th>\n",
       "      <th>EmploymentStatus</th>\n",
       "      <th>...</th>\n",
       "      <th>Months Since Policy Inception</th>\n",
       "      <th>Number of Open Complaints</th>\n",
       "      <th>Number of Policies</th>\n",
       "      <th>Policy Type</th>\n",
       "      <th>Policy</th>\n",
       "      <th>Claim Reason</th>\n",
       "      <th>Sales Channel</th>\n",
       "      <th>Total Claim Amount</th>\n",
       "      <th>Vehicle Class</th>\n",
       "      <th>Vehicle Size</th>\n",
       "    </tr>\n",
       "  </thead>\n",
       "  <tbody>\n",
       "    <tr>\n",
       "      <th>0</th>\n",
       "      <td>BU79786</td>\n",
       "      <td>US</td>\n",
       "      <td>KS</td>\n",
       "      <td>Kansas</td>\n",
       "      <td>276.351928</td>\n",
       "      <td>No</td>\n",
       "      <td>Basic</td>\n",
       "      <td>Bachelor</td>\n",
       "      <td>2/24/11</td>\n",
       "      <td>Employed</td>\n",
       "      <td>...</td>\n",
       "      <td>5</td>\n",
       "      <td>0</td>\n",
       "      <td>1</td>\n",
       "      <td>Corporate Auto</td>\n",
       "      <td>Corporate L3</td>\n",
       "      <td>Collision</td>\n",
       "      <td>Agent</td>\n",
       "      <td>384.811147</td>\n",
       "      <td>Two-Door Car</td>\n",
       "      <td>Medsize</td>\n",
       "    </tr>\n",
       "    <tr>\n",
       "      <th>1</th>\n",
       "      <td>QZ44356</td>\n",
       "      <td>US</td>\n",
       "      <td>NE</td>\n",
       "      <td>Nebraska</td>\n",
       "      <td>697.953590</td>\n",
       "      <td>No</td>\n",
       "      <td>Extended</td>\n",
       "      <td>Bachelor</td>\n",
       "      <td>1/31/11</td>\n",
       "      <td>Unemployed</td>\n",
       "      <td>...</td>\n",
       "      <td>42</td>\n",
       "      <td>0</td>\n",
       "      <td>8</td>\n",
       "      <td>Personal Auto</td>\n",
       "      <td>Personal L3</td>\n",
       "      <td>Scratch/Dent</td>\n",
       "      <td>Agent</td>\n",
       "      <td>1131.464935</td>\n",
       "      <td>Four-Door Car</td>\n",
       "      <td>Medsize</td>\n",
       "    </tr>\n",
       "    <tr>\n",
       "      <th>2</th>\n",
       "      <td>AI49188</td>\n",
       "      <td>US</td>\n",
       "      <td>OK</td>\n",
       "      <td>Oklahoma</td>\n",
       "      <td>1288.743165</td>\n",
       "      <td>No</td>\n",
       "      <td>Premium</td>\n",
       "      <td>Bachelor</td>\n",
       "      <td>2/19/11</td>\n",
       "      <td>Employed</td>\n",
       "      <td>...</td>\n",
       "      <td>38</td>\n",
       "      <td>0</td>\n",
       "      <td>2</td>\n",
       "      <td>Personal Auto</td>\n",
       "      <td>Personal L3</td>\n",
       "      <td>Collision</td>\n",
       "      <td>Agent</td>\n",
       "      <td>566.472247</td>\n",
       "      <td>Two-Door Car</td>\n",
       "      <td>Medsize</td>\n",
       "    </tr>\n",
       "    <tr>\n",
       "      <th>3</th>\n",
       "      <td>WW63253</td>\n",
       "      <td>US</td>\n",
       "      <td>MO</td>\n",
       "      <td>Missouri</td>\n",
       "      <td>764.586183</td>\n",
       "      <td>No</td>\n",
       "      <td>Basic</td>\n",
       "      <td>Bachelor</td>\n",
       "      <td>1/20/11</td>\n",
       "      <td>Unemployed</td>\n",
       "      <td>...</td>\n",
       "      <td>65</td>\n",
       "      <td>0</td>\n",
       "      <td>7</td>\n",
       "      <td>Corporate Auto</td>\n",
       "      <td>Corporate L2</td>\n",
       "      <td>Collision</td>\n",
       "      <td>Call Center</td>\n",
       "      <td>529.881344</td>\n",
       "      <td>SUV</td>\n",
       "      <td>Medsize</td>\n",
       "    </tr>\n",
       "    <tr>\n",
       "      <th>4</th>\n",
       "      <td>HB64268</td>\n",
       "      <td>US</td>\n",
       "      <td>KS</td>\n",
       "      <td>Kansas</td>\n",
       "      <td>281.369258</td>\n",
       "      <td>No</td>\n",
       "      <td>Basic</td>\n",
       "      <td>Bachelor</td>\n",
       "      <td>2/3/11</td>\n",
       "      <td>Employed</td>\n",
       "      <td>...</td>\n",
       "      <td>44</td>\n",
       "      <td>0</td>\n",
       "      <td>1</td>\n",
       "      <td>Personal Auto</td>\n",
       "      <td>Personal L1</td>\n",
       "      <td>Collision</td>\n",
       "      <td>Agent</td>\n",
       "      <td>138.130879</td>\n",
       "      <td>Four-Door Car</td>\n",
       "      <td>Medsize</td>\n",
       "    </tr>\n",
       "  </tbody>\n",
       "</table>\n",
       "<p>5 rows × 26 columns</p>\n",
       "</div>"
      ],
      "text/plain": [
       "  Customer Country State Code     State  Claim Amount Response  Coverage  \\\n",
       "0  BU79786      US         KS    Kansas    276.351928       No     Basic   \n",
       "1  QZ44356      US         NE  Nebraska    697.953590       No  Extended   \n",
       "2  AI49188      US         OK  Oklahoma   1288.743165       No   Premium   \n",
       "3  WW63253      US         MO  Missouri    764.586183       No     Basic   \n",
       "4  HB64268      US         KS    Kansas    281.369258       No     Basic   \n",
       "\n",
       "  Education Effective To Date EmploymentStatus  ...  \\\n",
       "0  Bachelor           2/24/11         Employed  ...   \n",
       "1  Bachelor           1/31/11       Unemployed  ...   \n",
       "2  Bachelor           2/19/11         Employed  ...   \n",
       "3  Bachelor           1/20/11       Unemployed  ...   \n",
       "4  Bachelor            2/3/11         Employed  ...   \n",
       "\n",
       "  Months Since Policy Inception  Number of Open Complaints Number of Policies  \\\n",
       "0                             5                          0                  1   \n",
       "1                            42                          0                  8   \n",
       "2                            38                          0                  2   \n",
       "3                            65                          0                  7   \n",
       "4                            44                          0                  1   \n",
       "\n",
       "      Policy Type        Policy  Claim Reason  Sales Channel  \\\n",
       "0  Corporate Auto  Corporate L3     Collision          Agent   \n",
       "1   Personal Auto   Personal L3  Scratch/Dent          Agent   \n",
       "2   Personal Auto   Personal L3     Collision          Agent   \n",
       "3  Corporate Auto  Corporate L2     Collision    Call Center   \n",
       "4   Personal Auto   Personal L1     Collision          Agent   \n",
       "\n",
       "   Total Claim Amount  Vehicle Class Vehicle Size  \n",
       "0          384.811147   Two-Door Car      Medsize  \n",
       "1         1131.464935  Four-Door Car      Medsize  \n",
       "2          566.472247   Two-Door Car      Medsize  \n",
       "3          529.881344            SUV      Medsize  \n",
       "4          138.130879  Four-Door Car      Medsize  \n",
       "\n",
       "[5 rows x 26 columns]"
      ]
     },
     "execution_count": 3,
     "metadata": {},
     "output_type": "execute_result"
    }
   ],
   "source": [
    "df.head()"
   ]
  },
  {
   "cell_type": "code",
   "execution_count": 4,
   "metadata": {},
   "outputs": [],
   "source": [
    "df.drop('Customer',axis=1,inplace=True)"
   ]
  },
  {
   "cell_type": "code",
   "execution_count": 5,
   "metadata": {},
   "outputs": [
    {
     "data": {
      "text/plain": [
       "Country                           object\n",
       "State Code                        object\n",
       "State                             object\n",
       "Claim Amount                     float64\n",
       "Response                          object\n",
       "Coverage                          object\n",
       "Education                         object\n",
       "Effective To Date                 object\n",
       "EmploymentStatus                  object\n",
       "Gender                            object\n",
       "Income                             int64\n",
       "Location Code                     object\n",
       "Marital Status                    object\n",
       "Monthly Premium Auto               int64\n",
       "Months Since Last Claim            int64\n",
       "Months Since Policy Inception      int64\n",
       "Number of Open Complaints          int64\n",
       "Number of Policies                 int64\n",
       "Policy Type                       object\n",
       "Policy                            object\n",
       "Claim Reason                      object\n",
       "Sales Channel                     object\n",
       "Total Claim Amount               float64\n",
       "Vehicle Class                     object\n",
       "Vehicle Size                      object\n",
       "dtype: object"
      ]
     },
     "execution_count": 5,
     "metadata": {},
     "output_type": "execute_result"
    }
   ],
   "source": [
    "df.dtypes"
   ]
  },
  {
   "cell_type": "code",
   "execution_count": 6,
   "metadata": {},
   "outputs": [
    {
     "data": {
      "text/plain": [
       "Country                          0\n",
       "State Code                       0\n",
       "State                            0\n",
       "Claim Amount                     0\n",
       "Response                         0\n",
       "Coverage                         0\n",
       "Education                        0\n",
       "Effective To Date                0\n",
       "EmploymentStatus                 0\n",
       "Gender                           0\n",
       "Income                           0\n",
       "Location Code                    0\n",
       "Marital Status                   0\n",
       "Monthly Premium Auto             0\n",
       "Months Since Last Claim          0\n",
       "Months Since Policy Inception    0\n",
       "Number of Open Complaints        0\n",
       "Number of Policies               0\n",
       "Policy Type                      0\n",
       "Policy                           0\n",
       "Claim Reason                     0\n",
       "Sales Channel                    0\n",
       "Total Claim Amount               0\n",
       "Vehicle Class                    0\n",
       "Vehicle Size                     0\n",
       "dtype: int64"
      ]
     },
     "execution_count": 6,
     "metadata": {},
     "output_type": "execute_result"
    }
   ],
   "source": [
    "df.isnull().sum()"
   ]
  },
  {
   "cell_type": "code",
   "execution_count": 7,
   "metadata": {},
   "outputs": [
    {
     "data": {
      "text/plain": [
       "US    9134\n",
       "Name: Country, dtype: int64"
      ]
     },
     "execution_count": 7,
     "metadata": {},
     "output_type": "execute_result"
    }
   ],
   "source": [
    "df['Country'].value_counts()"
   ]
  },
  {
   "cell_type": "code",
   "execution_count": 8,
   "metadata": {},
   "outputs": [],
   "source": [
    "# Only USA in Country, No Variance Hence we will drop it\n",
    "df.drop('Country',axis=1,inplace=True)"
   ]
  },
  {
   "cell_type": "code",
   "execution_count": 9,
   "metadata": {},
   "outputs": [
    {
     "name": "stdout",
     "output_type": "stream",
     "text": [
      "MO    3150\n",
      "IA    2601\n",
      "NE    1703\n",
      "OK     882\n",
      "KS     798\n",
      "Name: State Code, dtype: int64\n",
      "Missouri    3150\n",
      "Iowa        2601\n",
      "Nebraska    1703\n",
      "Oklahoma     882\n",
      "Kansas       798\n",
      "Name: State, dtype: int64\n",
      "472.686933     6\n",
      "272.535640     6\n",
      "575.744226     6\n",
      "592.672938     6\n",
      "1216.874492    6\n",
      "              ..\n",
      "919.868511     1\n",
      "287.543239     1\n",
      "623.430592     1\n",
      "910.389970     1\n",
      "816.951398     1\n",
      "Name: Claim Amount, Length: 8041, dtype: int64\n",
      "No     7826\n",
      "Yes    1308\n",
      "Name: Response, dtype: int64\n",
      "Basic       5568\n",
      "Extended    2742\n",
      "Premium      824\n",
      "Name: Coverage, dtype: int64\n",
      "Bachelor                2748\n",
      "College                 2681\n",
      "High School or Below    2622\n",
      "Master                   741\n",
      "Doctor                   342\n",
      "Name: Education, dtype: int64\n",
      "1/10/11    195\n",
      "1/27/11    194\n",
      "2/14/11    186\n",
      "1/26/11    181\n",
      "1/17/11    180\n",
      "1/19/11    179\n",
      "1/3/11     178\n",
      "1/31/11    178\n",
      "1/20/11    173\n",
      "2/26/11    169\n",
      "1/28/11    169\n",
      "2/19/11    168\n",
      "2/27/11    167\n",
      "1/5/11     167\n",
      "1/11/11    166\n",
      "2/4/11     164\n",
      "2/10/11    161\n",
      "2/28/11    161\n",
      "1/2/11     160\n",
      "1/29/11    160\n",
      "1/21/11    160\n",
      "2/22/11    158\n",
      "2/5/11     158\n",
      "2/3/11     158\n",
      "2/7/11     157\n",
      "2/12/11    156\n",
      "1/23/11    155\n",
      "1/18/11    154\n",
      "2/1/11     154\n",
      "1/15/11    153\n",
      "1/14/11    152\n",
      "1/25/11    151\n",
      "1/7/11     151\n",
      "2/11/11    151\n",
      "2/2/11     149\n",
      "2/25/11    149\n",
      "2/18/11    149\n",
      "1/8/11     149\n",
      "2/21/11    148\n",
      "1/1/11     148\n",
      "1/24/11    147\n",
      "1/9/11     146\n",
      "1/13/11    145\n",
      "1/30/11    145\n",
      "2/6/11     144\n",
      "1/6/11     143\n",
      "2/23/11    143\n",
      "1/16/11    142\n",
      "2/16/11    139\n",
      "2/13/11    139\n",
      "2/24/11    139\n",
      "2/9/11     137\n",
      "1/22/11    136\n",
      "2/17/11    136\n",
      "2/8/11     134\n",
      "2/20/11    132\n",
      "2/15/11    130\n",
      "1/12/11    126\n",
      "1/4/11     115\n",
      "Name: Effective To Date, dtype: int64\n",
      "Employed         5698\n",
      "Unemployed       2317\n",
      "Medical Leave     432\n",
      "Disabled          405\n",
      "Retired           282\n",
      "Name: EmploymentStatus, dtype: int64\n",
      "F    4658\n",
      "M    4476\n",
      "Name: Gender, dtype: int64\n",
      "0        2317\n",
      "95697      12\n",
      "40864       7\n",
      "24910       7\n",
      "25965       7\n",
      "         ... \n",
      "26952       1\n",
      "84300       1\n",
      "22862       1\n",
      "20815       1\n",
      "57240       1\n",
      "Name: Income, Length: 5694, dtype: int64\n",
      "Suburban    5779\n",
      "Rural       1773\n",
      "Urban       1582\n",
      "Name: Location Code, dtype: int64\n",
      "Married     5298\n",
      "Single      2467\n",
      "Divorced    1369\n",
      "Name: Marital Status, dtype: int64\n",
      "65     348\n",
      "66     307\n",
      "71     304\n",
      "73     302\n",
      "63     289\n",
      "      ... \n",
      "231      1\n",
      "209      1\n",
      "204      1\n",
      "268      1\n",
      "284      1\n",
      "Name: Monthly Premium Auto, Length: 202, dtype: int64\n",
      "3     381\n",
      "6     364\n",
      "1     345\n",
      "4     335\n",
      "7     333\n",
      "2     329\n",
      "0     314\n",
      "5     313\n",
      "10    306\n",
      "11    297\n",
      "16    295\n",
      "15    286\n",
      "13    285\n",
      "8     279\n",
      "12    273\n",
      "14    268\n",
      "17    263\n",
      "9     250\n",
      "19    246\n",
      "23    239\n",
      "25    236\n",
      "21    233\n",
      "20    231\n",
      "18    229\n",
      "22    218\n",
      "24    211\n",
      "29    206\n",
      "28    201\n",
      "31    190\n",
      "26    186\n",
      "27    182\n",
      "30    182\n",
      "33    179\n",
      "34    169\n",
      "35    142\n",
      "32    138\n",
      "Name: Months Since Last Claim, dtype: int64\n",
      "59    142\n",
      "61    128\n",
      "50    125\n",
      "44    115\n",
      "10    114\n",
      "     ... \n",
      "16     70\n",
      "96     67\n",
      "82     56\n",
      "98     54\n",
      "97     52\n",
      "Name: Months Since Policy Inception, Length: 100, dtype: int64\n",
      "0    7252\n",
      "1    1011\n",
      "2     374\n",
      "3     292\n",
      "4     149\n",
      "5      56\n",
      "Name: Number of Open Complaints, dtype: int64\n",
      "1    3251\n",
      "2    2294\n",
      "3    1168\n",
      "7     433\n",
      "9     416\n",
      "4     409\n",
      "5     407\n",
      "8     384\n",
      "6     372\n",
      "Name: Number of Policies, dtype: int64\n",
      "Personal Auto     6788\n",
      "Corporate Auto    1968\n",
      "Special Auto       378\n",
      "Name: Policy Type, dtype: int64\n",
      "Personal L3     3426\n",
      "Personal L2     2122\n",
      "Personal L1     1240\n",
      "Corporate L3    1014\n",
      "Corporate L2     595\n",
      "Corporate L1     359\n",
      "Special L2       164\n",
      "Special L3       148\n",
      "Special L1        66\n",
      "Name: Policy, dtype: int64\n",
      "Collision       3752\n",
      "Hail            2926\n",
      "Scratch/Dent    1432\n",
      "Other           1024\n",
      "Name: Claim Reason, dtype: int64\n",
      "Agent          3477\n",
      "Branch         2567\n",
      "Call Center    1765\n",
      "Web            1325\n",
      "Name: Sales Channel, dtype: int64\n",
      "316.800000    116\n",
      "292.800000    110\n",
      "312.000000    108\n",
      "350.400000    105\n",
      "331.200000    102\n",
      "             ... \n",
      "212.009825      1\n",
      "314.880326      1\n",
      "707.925645      1\n",
      "246.993145      1\n",
      "204.620759      1\n",
      "Name: Total Claim Amount, Length: 5106, dtype: int64\n",
      "Four-Door Car    4621\n",
      "Two-Door Car     1886\n",
      "SUV              1796\n",
      "Sports Car        484\n",
      "Luxury SUV        184\n",
      "Luxury Car        163\n",
      "Name: Vehicle Class, dtype: int64\n",
      "Medsize    6424\n",
      "Small      1764\n",
      "Large       946\n",
      "Name: Vehicle Size, dtype: int64\n"
     ]
    }
   ],
   "source": [
    "for cols in df.columns:\n",
    "    print(df[cols].value_counts())"
   ]
  },
  {
   "cell_type": "code",
   "execution_count": 10,
   "metadata": {},
   "outputs": [
    {
     "name": "stdout",
     "output_type": "stream",
     "text": [
      "Column Name is State Code and  no of Unique values are 5\n",
      "\n",
      "Column Name is State and  no of Unique values are 5\n",
      "\n",
      "Column Name is Response and  no of Unique values are 2\n",
      "\n",
      "Column Name is Coverage and  no of Unique values are 3\n",
      "\n",
      "Column Name is Education and  no of Unique values are 5\n",
      "\n",
      "Column Name is Effective To Date and  no of Unique values are 59\n",
      "\n",
      "Column Name is EmploymentStatus and  no of Unique values are 5\n",
      "\n",
      "Column Name is Gender and  no of Unique values are 2\n",
      "\n",
      "Column Name is Location Code and  no of Unique values are 3\n",
      "\n",
      "Column Name is Marital Status and  no of Unique values are 3\n",
      "\n",
      "Column Name is Policy Type and  no of Unique values are 3\n",
      "\n",
      "Column Name is Policy and  no of Unique values are 9\n",
      "\n",
      "Column Name is Claim Reason and  no of Unique values are 4\n",
      "\n",
      "Column Name is Sales Channel and  no of Unique values are 4\n",
      "\n",
      "Column Name is Vehicle Class and  no of Unique values are 6\n",
      "\n",
      "Column Name is Vehicle Size and  no of Unique values are 3\n",
      "\n"
     ]
    }
   ],
   "source": [
    "for cols in df.columns:\n",
    "    if df[cols].dtypes =='object':\n",
    "        print(\"Column Name is {} and  no of Unique values are {}\".format(cols, len(df[cols].value_counts())))\n",
    "        print()"
   ]
  },
  {
   "cell_type": "code",
   "execution_count": 11,
   "metadata": {},
   "outputs": [],
   "source": [
    "# Let us also drop state code and effective to date\n",
    "df.drop(columns=[\"State Code\",\"Effective To Date\"],axis=1,inplace=True)"
   ]
  },
  {
   "cell_type": "code",
   "execution_count": 12,
   "metadata": {},
   "outputs": [
    {
     "data": {
      "text/html": [
       "<div>\n",
       "<style scoped>\n",
       "    .dataframe tbody tr th:only-of-type {\n",
       "        vertical-align: middle;\n",
       "    }\n",
       "\n",
       "    .dataframe tbody tr th {\n",
       "        vertical-align: top;\n",
       "    }\n",
       "\n",
       "    .dataframe thead th {\n",
       "        text-align: right;\n",
       "    }\n",
       "</style>\n",
       "<table border=\"1\" class=\"dataframe\">\n",
       "  <thead>\n",
       "    <tr style=\"text-align: right;\">\n",
       "      <th></th>\n",
       "      <th>State</th>\n",
       "      <th>Claim Amount</th>\n",
       "      <th>Response</th>\n",
       "      <th>Coverage</th>\n",
       "      <th>Education</th>\n",
       "      <th>EmploymentStatus</th>\n",
       "      <th>Gender</th>\n",
       "      <th>Income</th>\n",
       "      <th>Location Code</th>\n",
       "      <th>Marital Status</th>\n",
       "      <th>...</th>\n",
       "      <th>Months Since Policy Inception</th>\n",
       "      <th>Number of Open Complaints</th>\n",
       "      <th>Number of Policies</th>\n",
       "      <th>Policy Type</th>\n",
       "      <th>Policy</th>\n",
       "      <th>Claim Reason</th>\n",
       "      <th>Sales Channel</th>\n",
       "      <th>Total Claim Amount</th>\n",
       "      <th>Vehicle Class</th>\n",
       "      <th>Vehicle Size</th>\n",
       "    </tr>\n",
       "  </thead>\n",
       "  <tbody>\n",
       "    <tr>\n",
       "      <th>0</th>\n",
       "      <td>Kansas</td>\n",
       "      <td>276.351928</td>\n",
       "      <td>No</td>\n",
       "      <td>Basic</td>\n",
       "      <td>Bachelor</td>\n",
       "      <td>Employed</td>\n",
       "      <td>F</td>\n",
       "      <td>56274</td>\n",
       "      <td>Suburban</td>\n",
       "      <td>Married</td>\n",
       "      <td>...</td>\n",
       "      <td>5</td>\n",
       "      <td>0</td>\n",
       "      <td>1</td>\n",
       "      <td>Corporate Auto</td>\n",
       "      <td>Corporate L3</td>\n",
       "      <td>Collision</td>\n",
       "      <td>Agent</td>\n",
       "      <td>384.811147</td>\n",
       "      <td>Two-Door Car</td>\n",
       "      <td>Medsize</td>\n",
       "    </tr>\n",
       "    <tr>\n",
       "      <th>1</th>\n",
       "      <td>Nebraska</td>\n",
       "      <td>697.953590</td>\n",
       "      <td>No</td>\n",
       "      <td>Extended</td>\n",
       "      <td>Bachelor</td>\n",
       "      <td>Unemployed</td>\n",
       "      <td>F</td>\n",
       "      <td>0</td>\n",
       "      <td>Suburban</td>\n",
       "      <td>Single</td>\n",
       "      <td>...</td>\n",
       "      <td>42</td>\n",
       "      <td>0</td>\n",
       "      <td>8</td>\n",
       "      <td>Personal Auto</td>\n",
       "      <td>Personal L3</td>\n",
       "      <td>Scratch/Dent</td>\n",
       "      <td>Agent</td>\n",
       "      <td>1131.464935</td>\n",
       "      <td>Four-Door Car</td>\n",
       "      <td>Medsize</td>\n",
       "    </tr>\n",
       "    <tr>\n",
       "      <th>2</th>\n",
       "      <td>Oklahoma</td>\n",
       "      <td>1288.743165</td>\n",
       "      <td>No</td>\n",
       "      <td>Premium</td>\n",
       "      <td>Bachelor</td>\n",
       "      <td>Employed</td>\n",
       "      <td>F</td>\n",
       "      <td>48767</td>\n",
       "      <td>Suburban</td>\n",
       "      <td>Married</td>\n",
       "      <td>...</td>\n",
       "      <td>38</td>\n",
       "      <td>0</td>\n",
       "      <td>2</td>\n",
       "      <td>Personal Auto</td>\n",
       "      <td>Personal L3</td>\n",
       "      <td>Collision</td>\n",
       "      <td>Agent</td>\n",
       "      <td>566.472247</td>\n",
       "      <td>Two-Door Car</td>\n",
       "      <td>Medsize</td>\n",
       "    </tr>\n",
       "    <tr>\n",
       "      <th>3</th>\n",
       "      <td>Missouri</td>\n",
       "      <td>764.586183</td>\n",
       "      <td>No</td>\n",
       "      <td>Basic</td>\n",
       "      <td>Bachelor</td>\n",
       "      <td>Unemployed</td>\n",
       "      <td>M</td>\n",
       "      <td>0</td>\n",
       "      <td>Suburban</td>\n",
       "      <td>Married</td>\n",
       "      <td>...</td>\n",
       "      <td>65</td>\n",
       "      <td>0</td>\n",
       "      <td>7</td>\n",
       "      <td>Corporate Auto</td>\n",
       "      <td>Corporate L2</td>\n",
       "      <td>Collision</td>\n",
       "      <td>Call Center</td>\n",
       "      <td>529.881344</td>\n",
       "      <td>SUV</td>\n",
       "      <td>Medsize</td>\n",
       "    </tr>\n",
       "    <tr>\n",
       "      <th>4</th>\n",
       "      <td>Kansas</td>\n",
       "      <td>281.369258</td>\n",
       "      <td>No</td>\n",
       "      <td>Basic</td>\n",
       "      <td>Bachelor</td>\n",
       "      <td>Employed</td>\n",
       "      <td>M</td>\n",
       "      <td>43836</td>\n",
       "      <td>Rural</td>\n",
       "      <td>Single</td>\n",
       "      <td>...</td>\n",
       "      <td>44</td>\n",
       "      <td>0</td>\n",
       "      <td>1</td>\n",
       "      <td>Personal Auto</td>\n",
       "      <td>Personal L1</td>\n",
       "      <td>Collision</td>\n",
       "      <td>Agent</td>\n",
       "      <td>138.130879</td>\n",
       "      <td>Four-Door Car</td>\n",
       "      <td>Medsize</td>\n",
       "    </tr>\n",
       "  </tbody>\n",
       "</table>\n",
       "<p>5 rows × 22 columns</p>\n",
       "</div>"
      ],
      "text/plain": [
       "      State  Claim Amount Response  Coverage Education EmploymentStatus  \\\n",
       "0    Kansas    276.351928       No     Basic  Bachelor         Employed   \n",
       "1  Nebraska    697.953590       No  Extended  Bachelor       Unemployed   \n",
       "2  Oklahoma   1288.743165       No   Premium  Bachelor         Employed   \n",
       "3  Missouri    764.586183       No     Basic  Bachelor       Unemployed   \n",
       "4    Kansas    281.369258       No     Basic  Bachelor         Employed   \n",
       "\n",
       "  Gender  Income Location Code Marital Status  ...  \\\n",
       "0      F   56274      Suburban        Married  ...   \n",
       "1      F       0      Suburban         Single  ...   \n",
       "2      F   48767      Suburban        Married  ...   \n",
       "3      M       0      Suburban        Married  ...   \n",
       "4      M   43836         Rural         Single  ...   \n",
       "\n",
       "   Months Since Policy Inception  Number of Open Complaints  \\\n",
       "0                              5                          0   \n",
       "1                             42                          0   \n",
       "2                             38                          0   \n",
       "3                             65                          0   \n",
       "4                             44                          0   \n",
       "\n",
       "   Number of Policies     Policy Type        Policy  Claim Reason  \\\n",
       "0                   1  Corporate Auto  Corporate L3     Collision   \n",
       "1                   8   Personal Auto   Personal L3  Scratch/Dent   \n",
       "2                   2   Personal Auto   Personal L3     Collision   \n",
       "3                   7  Corporate Auto  Corporate L2     Collision   \n",
       "4                   1   Personal Auto   Personal L1     Collision   \n",
       "\n",
       "  Sales Channel Total Claim Amount  Vehicle Class  Vehicle Size  \n",
       "0         Agent         384.811147   Two-Door Car       Medsize  \n",
       "1         Agent        1131.464935  Four-Door Car       Medsize  \n",
       "2         Agent         566.472247   Two-Door Car       Medsize  \n",
       "3   Call Center         529.881344            SUV       Medsize  \n",
       "4         Agent         138.130879  Four-Door Car       Medsize  \n",
       "\n",
       "[5 rows x 22 columns]"
      ]
     },
     "execution_count": 12,
     "metadata": {},
     "output_type": "execute_result"
    }
   ],
   "source": [
    "df.head()"
   ]
  },
  {
   "cell_type": "code",
   "execution_count": 13,
   "metadata": {},
   "outputs": [
    {
     "data": {
      "text/plain": [
       "<matplotlib.axes._subplots.AxesSubplot at 0x1c5250134c0>"
      ]
     },
     "execution_count": 13,
     "metadata": {},
     "output_type": "execute_result"
    },
    {
     "data": {
      "image/png": "[encoded data removed]",
      "text/plain": [
       "<Figure size 432x288 with 1 Axes>"
      ]
     },
     "metadata": {
      "needs_background": "light"
     },
     "output_type": "display_data"
    }
   ],
   "source": [
    "sns.barplot(x=\"State\",y=\"Claim Amount\",data=df)\n",
    "\n"
   ]
  },
  {
   "cell_type": "code",
   "execution_count": 14,
   "metadata": {},
   "outputs": [],
   "source": [
    "# Almost equal in all states"
   ]
  },
  {
   "cell_type": "code",
   "execution_count": 15,
   "metadata": {},
   "outputs": [
    {
     "data": {
      "text/plain": [
       "<matplotlib.axes._subplots.AxesSubplot at 0x1c52577c340>"
      ]
     },
     "execution_count": 15,
     "metadata": {},
     "output_type": "execute_result"
    },
    {
     "data": {
      "image/png": "[encoded data removed]",
      "text/plain": [
       "<Figure size 432x288 with 1 Axes>"
      ]
     },
     "metadata": {
      "needs_background": "light"
     },
     "output_type": "display_data"
    }
   ],
   "source": [
    "sns.countplot(x=\"Claim Reason\",data=df)"
   ]
  },
  {
   "cell_type": "code",
   "execution_count": 16,
   "metadata": {},
   "outputs": [],
   "source": [
    "# Collision is the major reason for claiming Insurance "
   ]
  },
  {
   "cell_type": "code",
   "execution_count": 17,
   "metadata": {},
   "outputs": [
    {
     "data": {
      "text/plain": [
       "<matplotlib.axes._subplots.AxesSubplot at 0x1c5257c0b50>"
      ]
     },
     "execution_count": 17,
     "metadata": {},
     "output_type": "execute_result"
    },
    {
     "data": {
      "image/png": "[encoded data removed]",
      "text/plain": [
       "<Figure size 432x288 with 1 Axes>"
      ]
     },
     "metadata": {
      "needs_background": "light"
     },
     "output_type": "display_data"
    }
   ],
   "source": [
    "sns.countplot(x=\"Sales Channel\",data=df)"
   ]
  },
  {
   "cell_type": "code",
   "execution_count": 18,
   "metadata": {},
   "outputs": [],
   "source": [
    "# Claims were more through Agent sales channel"
   ]
  },
  {
   "cell_type": "code",
   "execution_count": 19,
   "metadata": {},
   "outputs": [
    {
     "data": {
      "text/plain": [
       "<matplotlib.axes._subplots.AxesSubplot at 0x1c525831f10>"
      ]
     },
     "execution_count": 19,
     "metadata": {},
     "output_type": "execute_result"
    },
    {
     "data": {
      "image/png": "[encoded data removed]",
      "text/plain": [
       "<Figure size 432x288 with 1 Axes>"
      ]
     },
     "metadata": {
      "needs_background": "light"
     },
     "output_type": "display_data"
    }
   ],
   "source": [
    "sns.countplot(x=\"Vehicle Class\",data=df)"
   ]
  },
  {
   "cell_type": "code",
   "execution_count": 20,
   "metadata": {},
   "outputs": [],
   "source": [
    "# Four door car were more in number"
   ]
  },
  {
   "cell_type": "code",
   "execution_count": 21,
   "metadata": {},
   "outputs": [
    {
     "data": {
      "text/plain": [
       "<matplotlib.axes._subplots.AxesSubplot at 0x1c525894b50>"
      ]
     },
     "execution_count": 21,
     "metadata": {},
     "output_type": "execute_result"
    },
    {
     "data": {
      "image/png": "[encoded data removed]",
      "text/plain": [
       "<Figure size 432x288 with 1 Axes>"
      ]
     },
     "metadata": {
      "needs_background": "light"
     },
     "output_type": "display_data"
    }
   ],
   "source": [
    "sns.countplot(x=\"Response\",data=df)"
   ]
  },
  {
   "cell_type": "code",
   "execution_count": 22,
   "metadata": {},
   "outputs": [],
   "source": [
    "df_corr=df.corr()"
   ]
  },
  {
   "cell_type": "code",
   "execution_count": 23,
   "metadata": {},
   "outputs": [
    {
     "data": {
      "text/plain": [
       "<matplotlib.axes._subplots.AxesSubplot at 0x1c524ff18b0>"
      ]
     },
     "execution_count": 23,
     "metadata": {},
     "output_type": "execute_result"
    },
    {
     "data": {
      "image/png": "[encoded data removed]",
      "text/plain": [
       "<Figure size 720x720 with 2 Axes>"
      ]
     },
     "metadata": {
      "needs_background": "light"
     },
     "output_type": "display_data"
    }
   ],
   "source": [
    "plt.figure(figsize=(10,10))\n",
    "sns.heatmap(df_corr)"
   ]
  },
  {
   "cell_type": "code",
   "execution_count": 24,
   "metadata": {},
   "outputs": [
    {
     "data": {
      "text/plain": [
       "State                             object\n",
       "Claim Amount                     float64\n",
       "Response                          object\n",
       "Coverage                          object\n",
       "Education                         object\n",
       "EmploymentStatus                  object\n",
       "Gender                            object\n",
       "Income                             int64\n",
       "Location Code                     object\n",
       "Marital Status                    object\n",
       "Monthly Premium Auto               int64\n",
       "Months Since Last Claim            int64\n",
       "Months Since Policy Inception      int64\n",
       "Number of Open Complaints          int64\n",
       "Number of Policies                 int64\n",
       "Policy Type                       object\n",
       "Policy                            object\n",
       "Claim Reason                      object\n",
       "Sales Channel                     object\n",
       "Total Claim Amount               float64\n",
       "Vehicle Class                     object\n",
       "Vehicle Size                      object\n",
       "dtype: object"
      ]
     },
     "execution_count": 24,
     "metadata": {},
     "output_type": "execute_result"
    }
   ],
   "source": [
    "df.dtypes"
   ]
  },
  {
   "cell_type": "code",
   "execution_count": 25,
   "metadata": {},
   "outputs": [],
   "source": [
    "# let us use Label Encoder and encode all object features\n",
    "from sklearn.preprocessing import LabelEncoder\n",
    "for col in df.columns:\n",
    "    if df[col].dtype==\"object\":\n",
    "        df[col]=LabelEncoder().fit_transform(df[col])"
   ]
  },
  {
   "cell_type": "code",
   "execution_count": 26,
   "metadata": {},
   "outputs": [
    {
     "data": {
      "text/html": [
       "<div>\n",
       "<style scoped>\n",
       "    .dataframe tbody tr th:only-of-type {\n",
       "        vertical-align: middle;\n",
       "    }\n",
       "\n",
       "    .dataframe tbody tr th {\n",
       "        vertical-align: top;\n",
       "    }\n",
       "\n",
       "    .dataframe thead th {\n",
       "        text-align: right;\n",
       "    }\n",
       "</style>\n",
       "<table border=\"1\" class=\"dataframe\">\n",
       "  <thead>\n",
       "    <tr style=\"text-align: right;\">\n",
       "      <th></th>\n",
       "      <th>State</th>\n",
       "      <th>Claim Amount</th>\n",
       "      <th>Response</th>\n",
       "      <th>Coverage</th>\n",
       "      <th>Education</th>\n",
       "      <th>EmploymentStatus</th>\n",
       "      <th>Gender</th>\n",
       "      <th>Income</th>\n",
       "      <th>Location Code</th>\n",
       "      <th>Marital Status</th>\n",
       "      <th>...</th>\n",
       "      <th>Months Since Policy Inception</th>\n",
       "      <th>Number of Open Complaints</th>\n",
       "      <th>Number of Policies</th>\n",
       "      <th>Policy Type</th>\n",
       "      <th>Policy</th>\n",
       "      <th>Claim Reason</th>\n",
       "      <th>Sales Channel</th>\n",
       "      <th>Total Claim Amount</th>\n",
       "      <th>Vehicle Class</th>\n",
       "      <th>Vehicle Size</th>\n",
       "    </tr>\n",
       "  </thead>\n",
       "  <tbody>\n",
       "    <tr>\n",
       "      <th>0</th>\n",
       "      <td>1</td>\n",
       "      <td>276.351928</td>\n",
       "      <td>0</td>\n",
       "      <td>0</td>\n",
       "      <td>0</td>\n",
       "      <td>1</td>\n",
       "      <td>0</td>\n",
       "      <td>56274</td>\n",
       "      <td>1</td>\n",
       "      <td>1</td>\n",
       "      <td>...</td>\n",
       "      <td>5</td>\n",
       "      <td>0</td>\n",
       "      <td>1</td>\n",
       "      <td>0</td>\n",
       "      <td>2</td>\n",
       "      <td>0</td>\n",
       "      <td>0</td>\n",
       "      <td>384.811147</td>\n",
       "      <td>5</td>\n",
       "      <td>1</td>\n",
       "    </tr>\n",
       "    <tr>\n",
       "      <th>1</th>\n",
       "      <td>3</td>\n",
       "      <td>697.953590</td>\n",
       "      <td>0</td>\n",
       "      <td>1</td>\n",
       "      <td>0</td>\n",
       "      <td>4</td>\n",
       "      <td>0</td>\n",
       "      <td>0</td>\n",
       "      <td>1</td>\n",
       "      <td>2</td>\n",
       "      <td>...</td>\n",
       "      <td>42</td>\n",
       "      <td>0</td>\n",
       "      <td>8</td>\n",
       "      <td>1</td>\n",
       "      <td>5</td>\n",
       "      <td>3</td>\n",
       "      <td>0</td>\n",
       "      <td>1131.464935</td>\n",
       "      <td>0</td>\n",
       "      <td>1</td>\n",
       "    </tr>\n",
       "    <tr>\n",
       "      <th>2</th>\n",
       "      <td>4</td>\n",
       "      <td>1288.743165</td>\n",
       "      <td>0</td>\n",
       "      <td>2</td>\n",
       "      <td>0</td>\n",
       "      <td>1</td>\n",
       "      <td>0</td>\n",
       "      <td>48767</td>\n",
       "      <td>1</td>\n",
       "      <td>1</td>\n",
       "      <td>...</td>\n",
       "      <td>38</td>\n",
       "      <td>0</td>\n",
       "      <td>2</td>\n",
       "      <td>1</td>\n",
       "      <td>5</td>\n",
       "      <td>0</td>\n",
       "      <td>0</td>\n",
       "      <td>566.472247</td>\n",
       "      <td>5</td>\n",
       "      <td>1</td>\n",
       "    </tr>\n",
       "    <tr>\n",
       "      <th>3</th>\n",
       "      <td>2</td>\n",
       "      <td>764.586183</td>\n",
       "      <td>0</td>\n",
       "      <td>0</td>\n",
       "      <td>0</td>\n",
       "      <td>4</td>\n",
       "      <td>1</td>\n",
       "      <td>0</td>\n",
       "      <td>1</td>\n",
       "      <td>1</td>\n",
       "      <td>...</td>\n",
       "      <td>65</td>\n",
       "      <td>0</td>\n",
       "      <td>7</td>\n",
       "      <td>0</td>\n",
       "      <td>1</td>\n",
       "      <td>0</td>\n",
       "      <td>2</td>\n",
       "      <td>529.881344</td>\n",
       "      <td>3</td>\n",
       "      <td>1</td>\n",
       "    </tr>\n",
       "    <tr>\n",
       "      <th>4</th>\n",
       "      <td>1</td>\n",
       "      <td>281.369258</td>\n",
       "      <td>0</td>\n",
       "      <td>0</td>\n",
       "      <td>0</td>\n",
       "      <td>1</td>\n",
       "      <td>1</td>\n",
       "      <td>43836</td>\n",
       "      <td>0</td>\n",
       "      <td>2</td>\n",
       "      <td>...</td>\n",
       "      <td>44</td>\n",
       "      <td>0</td>\n",
       "      <td>1</td>\n",
       "      <td>1</td>\n",
       "      <td>3</td>\n",
       "      <td>0</td>\n",
       "      <td>0</td>\n",
       "      <td>138.130879</td>\n",
       "      <td>0</td>\n",
       "      <td>1</td>\n",
       "    </tr>\n",
       "  </tbody>\n",
       "</table>\n",
       "<p>5 rows × 22 columns</p>\n",
       "</div>"
      ],
      "text/plain": [
       "   State  Claim Amount  Response  Coverage  Education  EmploymentStatus  \\\n",
       "0      1    276.351928         0         0          0                 1   \n",
       "1      3    697.953590         0         1          0                 4   \n",
       "2      4   1288.743165         0         2          0                 1   \n",
       "3      2    764.586183         0         0          0                 4   \n",
       "4      1    281.369258         0         0          0                 1   \n",
       "\n",
       "   Gender  Income  Location Code  Marital Status  ...  \\\n",
       "0       0   56274              1               1  ...   \n",
       "1       0       0              1               2  ...   \n",
       "2       0   48767              1               1  ...   \n",
       "3       1       0              1               1  ...   \n",
       "4       1   43836              0               2  ...   \n",
       "\n",
       "   Months Since Policy Inception  Number of Open Complaints  \\\n",
       "0                              5                          0   \n",
       "1                             42                          0   \n",
       "2                             38                          0   \n",
       "3                             65                          0   \n",
       "4                             44                          0   \n",
       "\n",
       "   Number of Policies  Policy Type  Policy  Claim Reason  Sales Channel  \\\n",
       "0                   1            0       2             0              0   \n",
       "1                   8            1       5             3              0   \n",
       "2                   2            1       5             0              0   \n",
       "3                   7            0       1             0              2   \n",
       "4                   1            1       3             0              0   \n",
       "\n",
       "   Total Claim Amount  Vehicle Class  Vehicle Size  \n",
       "0          384.811147              5             1  \n",
       "1         1131.464935              0             1  \n",
       "2          566.472247              5             1  \n",
       "3          529.881344              3             1  \n",
       "4          138.130879              0             1  \n",
       "\n",
       "[5 rows x 22 columns]"
      ]
     },
     "execution_count": 26,
     "metadata": {},
     "output_type": "execute_result"
    }
   ],
   "source": [
    "df.head()"
   ]
  },
  {
   "cell_type": "code",
   "execution_count": 27,
   "metadata": {},
   "outputs": [],
   "source": [
    "x=df.drop('Claim Amount',axis=1)\n",
    "y=df['Claim Amount']"
   ]
  },
  {
   "cell_type": "code",
   "execution_count": 28,
   "metadata": {},
   "outputs": [
    {
     "data": {
      "text/plain": [
       "(9134, 21)"
      ]
     },
     "execution_count": 28,
     "metadata": {},
     "output_type": "execute_result"
    }
   ],
   "source": [
    "x.shape"
   ]
  },
  {
   "cell_type": "code",
   "execution_count": 29,
   "metadata": {},
   "outputs": [
    {
     "data": {
      "text/plain": [
       "(9134,)"
      ]
     },
     "execution_count": 29,
     "metadata": {},
     "output_type": "execute_result"
    }
   ],
   "source": [
    "y.shape"
   ]
  },
  {
   "cell_type": "code",
   "execution_count": 30,
   "metadata": {},
   "outputs": [],
   "source": [
    "from sklearn.model_selection import train_test_split,cross_val_score\n",
    "from sklearn.preprocessing import StandardScaler\n",
    "from sklearn.metrics import mean_absolute_error,mean_squared_error, r2_score, accuracy_score"
   ]
  },
  {
   "cell_type": "code",
   "execution_count": 31,
   "metadata": {},
   "outputs": [],
   "source": [
    "ss= StandardScaler()\n",
    "x=ss.fit_transform(x)"
   ]
  },
  {
   "cell_type": "code",
   "execution_count": 32,
   "metadata": {},
   "outputs": [],
   "source": [
    "def max_r2_score(algo,x,y):\n",
    "    max_r_score=0\n",
    "    for r_state in range(42,100):\n",
    "        x_train, x_test, y_train, y_test = train_test_split(x, y,random_state = r_state,test_size=0.20)\n",
    "        algo.fit(x_train,y_train)\n",
    "        y_pred = algo.predict(x_test)\n",
    "        r2_scr=r2_score(y_test,y_pred)\n",
    "        print(\"r2 score corresponding to \",r_state,\" is \",r2_scr)\n",
    "        if r2_scr>max_r_score:\n",
    "            max_r_score=r2_scr\n",
    "            final_r_state=r_state\n",
    "    print(\"max r2 score corresponding to \",final_r_state,\" is \",max_r_score)\n",
    "    return final_r_state"
   ]
  },
  {
   "cell_type": "markdown",
   "metadata": {},
   "source": [
    "### Linear Regression"
   ]
  },
  {
   "cell_type": "code",
   "execution_count": 33,
   "metadata": {},
   "outputs": [
    {
     "name": "stdout",
     "output_type": "stream",
     "text": [
      "r2 score corresponding to  42  is  0.15480217647429728\n",
      "r2 score corresponding to  43  is  0.15134553545823592\n",
      "r2 score corresponding to  44  is  0.1422801951770628\n",
      "r2 score corresponding to  45  is  0.1566896374144151\n",
      "r2 score corresponding to  46  is  0.17644761683965915\n",
      "r2 score corresponding to  47  is  0.18462200342680568\n",
      "r2 score corresponding to  48  is  0.18515818389994954\n",
      "r2 score corresponding to  49  is  0.1696764814387075\n",
      "r2 score corresponding to  50  is  0.1759253276444065\n",
      "r2 score corresponding to  51  is  0.1273935627714622\n",
      "r2 score corresponding to  52  is  0.1576631618169705\n",
      "r2 score corresponding to  53  is  0.15724459308501793\n",
      "r2 score corresponding to  54  is  0.12718304629191823\n",
      "r2 score corresponding to  55  is  0.17156498387181907\n",
      "r2 score corresponding to  56  is  0.15244968857583785\n",
      "r2 score corresponding to  57  is  0.1459421724403548\n",
      "r2 score corresponding to  58  is  0.1609805770228926\n",
      "r2 score corresponding to  59  is  0.14110829553727933\n",
      "r2 score corresponding to  60  is  0.14847646296770511\n",
      "r2 score corresponding to  61  is  0.18118208834554506\n",
      "r2 score corresponding to  62  is  0.15947227360504113\n",
      "r2 score corresponding to  63  is  0.15212655712788414\n",
      "r2 score corresponding to  64  is  0.17949243866708042\n",
      "r2 score corresponding to  65  is  0.15495779825609057\n",
      "r2 score corresponding to  66  is  0.15843062682226328\n",
      "r2 score corresponding to  67  is  0.18531206538135025\n",
      "r2 score corresponding to  68  is  0.17226177920769825\n",
      "r2 score corresponding to  69  is  0.13385841432433254\n",
      "r2 score corresponding to  70  is  0.15931071188437584\n",
      "r2 score corresponding to  71  is  0.15889386170483255\n",
      "r2 score corresponding to  72  is  0.127898773305123\n",
      "r2 score corresponding to  73  is  0.15940650443006932\n",
      "r2 score corresponding to  74  is  0.14137972972375878\n",
      "r2 score corresponding to  75  is  0.19072398602889074\n",
      "r2 score corresponding to  76  is  0.15277159921323613\n",
      "r2 score corresponding to  77  is  0.1779225867911297\n",
      "r2 score corresponding to  78  is  0.16646156714183102\n",
      "r2 score corresponding to  79  is  0.16090920512598728\n",
      "r2 score corresponding to  80  is  0.15536456133416388\n",
      "r2 score corresponding to  81  is  0.14637914276597563\n",
      "r2 score corresponding to  82  is  0.18718404068140648\n",
      "r2 score corresponding to  83  is  0.1668710349620085\n",
      "r2 score corresponding to  84  is  0.1818134023848853\n",
      "r2 score corresponding to  85  is  0.18078410404370704\n",
      "r2 score corresponding to  86  is  0.1771004271386477\n",
      "r2 score corresponding to  87  is  0.20008614141298586\n",
      "r2 score corresponding to  88  is  0.17865805486347863\n",
      "r2 score corresponding to  89  is  0.1584835231682128\n",
      "r2 score corresponding to  90  is  0.16767611956633155\n",
      "r2 score corresponding to  91  is  0.13767166827191135\n",
      "r2 score corresponding to  92  is  0.15049218321718594\n",
      "r2 score corresponding to  93  is  0.15336794899410366\n",
      "r2 score corresponding to  94  is  0.12110691093884374\n",
      "r2 score corresponding to  95  is  0.1332963872947368\n",
      "r2 score corresponding to  96  is  0.1934964941054128\n",
      "r2 score corresponding to  97  is  0.1606870591933809\n",
      "r2 score corresponding to  98  is  0.14636294593740617\n",
      "r2 score corresponding to  99  is  0.16406853192846704\n",
      "max r2 score corresponding to  87  is  0.20008614141298586\n"
     ]
    },
    {
     "data": {
      "text/plain": [
       "87"
      ]
     },
     "execution_count": 33,
     "metadata": {},
     "output_type": "execute_result"
    }
   ],
   "source": [
    "from sklearn.linear_model import LinearRegression\n",
    "lr=LinearRegression()\n",
    "max_r2_score(lr,x,y)"
   ]
  },
  {
   "cell_type": "code",
   "execution_count": 34,
   "metadata": {},
   "outputs": [
    {
     "name": "stdout",
     "output_type": "stream",
     "text": [
      "r2 score corresponding to  42  is  0.6846834579610821\n",
      "r2 score corresponding to  43  is  0.7214732260862239\n",
      "r2 score corresponding to  44  is  0.676810985226818\n",
      "r2 score corresponding to  45  is  0.7221486947765372\n",
      "r2 score corresponding to  46  is  0.6953555534708628\n",
      "r2 score corresponding to  47  is  0.7290154910026039\n",
      "r2 score corresponding to  48  is  0.7089067882689809\n",
      "r2 score corresponding to  49  is  0.7150558791804864\n",
      "r2 score corresponding to  50  is  0.6985515413326895\n",
      "r2 score corresponding to  51  is  0.686905507961818\n",
      "r2 score corresponding to  52  is  0.6741482923163475\n",
      "r2 score corresponding to  53  is  0.6729160633208375\n",
      "r2 score corresponding to  54  is  0.6874832488959226\n",
      "r2 score corresponding to  55  is  0.6914289007333978\n",
      "r2 score corresponding to  56  is  0.6934467423753288\n",
      "r2 score corresponding to  57  is  0.6969892723533959\n",
      "r2 score corresponding to  58  is  0.6990211878988146\n",
      "r2 score corresponding to  59  is  0.6994061617555221\n",
      "r2 score corresponding to  60  is  0.6755468638926291\n",
      "r2 score corresponding to  61  is  0.7123702467737021\n",
      "r2 score corresponding to  62  is  0.6892189441773054\n",
      "r2 score corresponding to  63  is  0.7025937402781992\n",
      "r2 score corresponding to  64  is  0.7031150694845418\n",
      "r2 score corresponding to  65  is  0.7000597173606906\n",
      "r2 score corresponding to  66  is  0.7139214826242338\n",
      "r2 score corresponding to  67  is  0.6827786342945351\n",
      "r2 score corresponding to  68  is  0.7181270666584965\n",
      "r2 score corresponding to  69  is  0.6906675959647418\n",
      "r2 score corresponding to  70  is  0.69887891361855\n",
      "r2 score corresponding to  71  is  0.691317412667118\n",
      "r2 score corresponding to  72  is  0.6878376167464348\n",
      "r2 score corresponding to  73  is  0.684280265823007\n",
      "r2 score corresponding to  74  is  0.6506203319110737\n",
      "r2 score corresponding to  75  is  0.6941035256878121\n",
      "r2 score corresponding to  76  is  0.7145198067560363\n",
      "r2 score corresponding to  77  is  0.6900169420517417\n",
      "r2 score corresponding to  78  is  0.6770433412554855\n",
      "r2 score corresponding to  79  is  0.6884225551104266\n",
      "r2 score corresponding to  80  is  0.7085946619813664\n",
      "r2 score corresponding to  81  is  0.6967712664494206\n",
      "r2 score corresponding to  82  is  0.6761502125154242\n",
      "r2 score corresponding to  83  is  0.7130758051754613\n",
      "r2 score corresponding to  84  is  0.6813602761893426\n",
      "r2 score corresponding to  85  is  0.7078817187249288\n",
      "r2 score corresponding to  86  is  0.6877126241098619\n",
      "r2 score corresponding to  87  is  0.71525857554435\n",
      "r2 score corresponding to  88  is  0.6960665745558107\n",
      "r2 score corresponding to  89  is  0.6826243869991125\n",
      "r2 score corresponding to  90  is  0.6783556417413914\n",
      "r2 score corresponding to  91  is  0.6512651279414643\n",
      "r2 score corresponding to  92  is  0.6748526658444692\n",
      "r2 score corresponding to  93  is  0.7039827555420598\n",
      "r2 score corresponding to  94  is  0.6864800796357398\n",
      "r2 score corresponding to  95  is  0.6997248682227716\n",
      "r2 score corresponding to  96  is  0.6976076183221006\n",
      "r2 score corresponding to  97  is  0.7216932848038866\n",
      "r2 score corresponding to  98  is  0.7062198271852981\n",
      "r2 score corresponding to  99  is  0.7020145831342854\n",
      "max r2 score corresponding to  47  is  0.7290154910026039\n"
     ]
    },
    {
     "data": {
      "text/plain": [
       "47"
      ]
     },
     "execution_count": 34,
     "metadata": {},
     "output_type": "execute_result"
    }
   ],
   "source": [
    "from sklearn.ensemble import RandomForestRegressor\n",
    "rf=RandomForestRegressor()\n",
    "max_r2_score(rf,x,y)"
   ]
  },
  {
   "cell_type": "code",
   "execution_count": 35,
   "metadata": {},
   "outputs": [
    {
     "data": {
      "text/html": [
       "<div>\n",
       "<style scoped>\n",
       "    .dataframe tbody tr th:only-of-type {\n",
       "        vertical-align: middle;\n",
       "    }\n",
       "\n",
       "    .dataframe tbody tr th {\n",
       "        vertical-align: top;\n",
       "    }\n",
       "\n",
       "    .dataframe thead th {\n",
       "        text-align: right;\n",
       "    }\n",
       "</style>\n",
       "<table border=\"1\" class=\"dataframe\">\n",
       "  <thead>\n",
       "    <tr style=\"text-align: right;\">\n",
       "      <th></th>\n",
       "      <th>0</th>\n",
       "    </tr>\n",
       "  </thead>\n",
       "  <tbody>\n",
       "    <tr>\n",
       "      <th>13</th>\n",
       "      <td>0.475970</td>\n",
       "    </tr>\n",
       "    <tr>\n",
       "      <th>9</th>\n",
       "      <td>0.244029</td>\n",
       "    </tr>\n",
       "    <tr>\n",
       "      <th>18</th>\n",
       "      <td>0.044540</td>\n",
       "    </tr>\n",
       "    <tr>\n",
       "      <th>10</th>\n",
       "      <td>0.043736</td>\n",
       "    </tr>\n",
       "    <tr>\n",
       "      <th>11</th>\n",
       "      <td>0.038308</td>\n",
       "    </tr>\n",
       "    <tr>\n",
       "      <th>6</th>\n",
       "      <td>0.031526</td>\n",
       "    </tr>\n",
       "    <tr>\n",
       "      <th>3</th>\n",
       "      <td>0.014426</td>\n",
       "    </tr>\n",
       "    <tr>\n",
       "      <th>15</th>\n",
       "      <td>0.013953</td>\n",
       "    </tr>\n",
       "    <tr>\n",
       "      <th>0</th>\n",
       "      <td>0.012745</td>\n",
       "    </tr>\n",
       "    <tr>\n",
       "      <th>16</th>\n",
       "      <td>0.010115</td>\n",
       "    </tr>\n",
       "  </tbody>\n",
       "</table>\n",
       "</div>"
      ],
      "text/plain": [
       "           0\n",
       "13  0.475970\n",
       "9   0.244029\n",
       "18  0.044540\n",
       "10  0.043736\n",
       "11  0.038308\n",
       "6   0.031526\n",
       "3   0.014426\n",
       "15  0.013953\n",
       "0   0.012745\n",
       "16  0.010115"
      ]
     },
     "execution_count": 35,
     "metadata": {},
     "output_type": "execute_result"
    }
   ],
   "source": [
    "feature_imp = pd.Series(rf.feature_importances_).sort_values(ascending=False)\n",
    "feature_imp\n",
    "topfeatures = pd.DataFrame(feature_imp)\n",
    "topfeatures.head(10)\n"
   ]
  },
  {
   "cell_type": "code",
   "execution_count": 36,
   "metadata": {},
   "outputs": [],
   "source": [
    "top10=df.iloc[:,[13,9,10,18,11,6,3,15,17,0]]"
   ]
  },
  {
   "cell_type": "code",
   "execution_count": 37,
   "metadata": {},
   "outputs": [
    {
     "data": {
      "text/html": [
       "<div>\n",
       "<style scoped>\n",
       "    .dataframe tbody tr th:only-of-type {\n",
       "        vertical-align: middle;\n",
       "    }\n",
       "\n",
       "    .dataframe tbody tr th {\n",
       "        vertical-align: top;\n",
       "    }\n",
       "\n",
       "    .dataframe thead th {\n",
       "        text-align: right;\n",
       "    }\n",
       "</style>\n",
       "<table border=\"1\" class=\"dataframe\">\n",
       "  <thead>\n",
       "    <tr style=\"text-align: right;\">\n",
       "      <th></th>\n",
       "      <th>Number of Open Complaints</th>\n",
       "      <th>Marital Status</th>\n",
       "      <th>Monthly Premium Auto</th>\n",
       "      <th>Sales Channel</th>\n",
       "      <th>Months Since Last Claim</th>\n",
       "      <th>Gender</th>\n",
       "      <th>Coverage</th>\n",
       "      <th>Policy Type</th>\n",
       "      <th>Claim Reason</th>\n",
       "      <th>State</th>\n",
       "    </tr>\n",
       "  </thead>\n",
       "  <tbody>\n",
       "    <tr>\n",
       "      <th>0</th>\n",
       "      <td>0</td>\n",
       "      <td>1</td>\n",
       "      <td>69</td>\n",
       "      <td>0</td>\n",
       "      <td>32</td>\n",
       "      <td>0</td>\n",
       "      <td>0</td>\n",
       "      <td>0</td>\n",
       "      <td>0</td>\n",
       "      <td>1</td>\n",
       "    </tr>\n",
       "    <tr>\n",
       "      <th>1</th>\n",
       "      <td>0</td>\n",
       "      <td>2</td>\n",
       "      <td>94</td>\n",
       "      <td>0</td>\n",
       "      <td>13</td>\n",
       "      <td>0</td>\n",
       "      <td>1</td>\n",
       "      <td>1</td>\n",
       "      <td>3</td>\n",
       "      <td>3</td>\n",
       "    </tr>\n",
       "    <tr>\n",
       "      <th>2</th>\n",
       "      <td>0</td>\n",
       "      <td>1</td>\n",
       "      <td>108</td>\n",
       "      <td>0</td>\n",
       "      <td>18</td>\n",
       "      <td>0</td>\n",
       "      <td>2</td>\n",
       "      <td>1</td>\n",
       "      <td>0</td>\n",
       "      <td>4</td>\n",
       "    </tr>\n",
       "    <tr>\n",
       "      <th>3</th>\n",
       "      <td>0</td>\n",
       "      <td>1</td>\n",
       "      <td>106</td>\n",
       "      <td>2</td>\n",
       "      <td>18</td>\n",
       "      <td>1</td>\n",
       "      <td>0</td>\n",
       "      <td>0</td>\n",
       "      <td>0</td>\n",
       "      <td>2</td>\n",
       "    </tr>\n",
       "    <tr>\n",
       "      <th>4</th>\n",
       "      <td>0</td>\n",
       "      <td>2</td>\n",
       "      <td>73</td>\n",
       "      <td>0</td>\n",
       "      <td>12</td>\n",
       "      <td>1</td>\n",
       "      <td>0</td>\n",
       "      <td>1</td>\n",
       "      <td>0</td>\n",
       "      <td>1</td>\n",
       "    </tr>\n",
       "  </tbody>\n",
       "</table>\n",
       "</div>"
      ],
      "text/plain": [
       "   Number of Open Complaints  Marital Status  Monthly Premium Auto  \\\n",
       "0                          0               1                    69   \n",
       "1                          0               2                    94   \n",
       "2                          0               1                   108   \n",
       "3                          0               1                   106   \n",
       "4                          0               2                    73   \n",
       "\n",
       "   Sales Channel  Months Since Last Claim  Gender  Coverage  Policy Type  \\\n",
       "0              0                       32       0         0            0   \n",
       "1              0                       13       0         1            1   \n",
       "2              0                       18       0         2            1   \n",
       "3              2                       18       1         0            0   \n",
       "4              0                       12       1         0            1   \n",
       "\n",
       "   Claim Reason  State  \n",
       "0             0      1  \n",
       "1             3      3  \n",
       "2             0      4  \n",
       "3             0      2  \n",
       "4             0      1  "
      ]
     },
     "execution_count": 37,
     "metadata": {},
     "output_type": "execute_result"
    }
   ],
   "source": [
    "top10.head()"
   ]
  },
  {
   "cell_type": "code",
   "execution_count": 38,
   "metadata": {},
   "outputs": [
    {
     "data": {
      "text/plain": [
       "(9134, 10)"
      ]
     },
     "execution_count": 38,
     "metadata": {},
     "output_type": "execute_result"
    }
   ],
   "source": [
    "top10.shape"
   ]
  },
  {
   "cell_type": "code",
   "execution_count": 39,
   "metadata": {},
   "outputs": [
    {
     "data": {
      "text/plain": [
       "(9134, 21)"
      ]
     },
     "execution_count": 39,
     "metadata": {},
     "output_type": "execute_result"
    }
   ],
   "source": [
    "x.shape"
   ]
  },
  {
   "cell_type": "code",
   "execution_count": 40,
   "metadata": {},
   "outputs": [],
   "source": [
    "x1=top10"
   ]
  },
  {
   "cell_type": "code",
   "execution_count": 41,
   "metadata": {},
   "outputs": [
    {
     "data": {
      "text/html": [
       "<div>\n",
       "<style scoped>\n",
       "    .dataframe tbody tr th:only-of-type {\n",
       "        vertical-align: middle;\n",
       "    }\n",
       "\n",
       "    .dataframe tbody tr th {\n",
       "        vertical-align: top;\n",
       "    }\n",
       "\n",
       "    .dataframe thead th {\n",
       "        text-align: right;\n",
       "    }\n",
       "</style>\n",
       "<table border=\"1\" class=\"dataframe\">\n",
       "  <thead>\n",
       "    <tr style=\"text-align: right;\">\n",
       "      <th></th>\n",
       "      <th>Number of Open Complaints</th>\n",
       "      <th>Marital Status</th>\n",
       "      <th>Monthly Premium Auto</th>\n",
       "      <th>Sales Channel</th>\n",
       "      <th>Months Since Last Claim</th>\n",
       "      <th>Gender</th>\n",
       "      <th>Coverage</th>\n",
       "      <th>Policy Type</th>\n",
       "      <th>Claim Reason</th>\n",
       "      <th>State</th>\n",
       "    </tr>\n",
       "  </thead>\n",
       "  <tbody>\n",
       "    <tr>\n",
       "      <th>0</th>\n",
       "      <td>0</td>\n",
       "      <td>1</td>\n",
       "      <td>69</td>\n",
       "      <td>0</td>\n",
       "      <td>32</td>\n",
       "      <td>0</td>\n",
       "      <td>0</td>\n",
       "      <td>0</td>\n",
       "      <td>0</td>\n",
       "      <td>1</td>\n",
       "    </tr>\n",
       "    <tr>\n",
       "      <th>1</th>\n",
       "      <td>0</td>\n",
       "      <td>2</td>\n",
       "      <td>94</td>\n",
       "      <td>0</td>\n",
       "      <td>13</td>\n",
       "      <td>0</td>\n",
       "      <td>1</td>\n",
       "      <td>1</td>\n",
       "      <td>3</td>\n",
       "      <td>3</td>\n",
       "    </tr>\n",
       "    <tr>\n",
       "      <th>2</th>\n",
       "      <td>0</td>\n",
       "      <td>1</td>\n",
       "      <td>108</td>\n",
       "      <td>0</td>\n",
       "      <td>18</td>\n",
       "      <td>0</td>\n",
       "      <td>2</td>\n",
       "      <td>1</td>\n",
       "      <td>0</td>\n",
       "      <td>4</td>\n",
       "    </tr>\n",
       "    <tr>\n",
       "      <th>3</th>\n",
       "      <td>0</td>\n",
       "      <td>1</td>\n",
       "      <td>106</td>\n",
       "      <td>2</td>\n",
       "      <td>18</td>\n",
       "      <td>1</td>\n",
       "      <td>0</td>\n",
       "      <td>0</td>\n",
       "      <td>0</td>\n",
       "      <td>2</td>\n",
       "    </tr>\n",
       "    <tr>\n",
       "      <th>4</th>\n",
       "      <td>0</td>\n",
       "      <td>2</td>\n",
       "      <td>73</td>\n",
       "      <td>0</td>\n",
       "      <td>12</td>\n",
       "      <td>1</td>\n",
       "      <td>0</td>\n",
       "      <td>1</td>\n",
       "      <td>0</td>\n",
       "      <td>1</td>\n",
       "    </tr>\n",
       "    <tr>\n",
       "      <th>...</th>\n",
       "      <td>...</td>\n",
       "      <td>...</td>\n",
       "      <td>...</td>\n",
       "      <td>...</td>\n",
       "      <td>...</td>\n",
       "      <td>...</td>\n",
       "      <td>...</td>\n",
       "      <td>...</td>\n",
       "      <td>...</td>\n",
       "      <td>...</td>\n",
       "    </tr>\n",
       "    <tr>\n",
       "      <th>9129</th>\n",
       "      <td>0</td>\n",
       "      <td>1</td>\n",
       "      <td>73</td>\n",
       "      <td>3</td>\n",
       "      <td>18</td>\n",
       "      <td>1</td>\n",
       "      <td>0</td>\n",
       "      <td>1</td>\n",
       "      <td>1</td>\n",
       "      <td>2</td>\n",
       "    </tr>\n",
       "    <tr>\n",
       "      <th>9130</th>\n",
       "      <td>0</td>\n",
       "      <td>0</td>\n",
       "      <td>79</td>\n",
       "      <td>1</td>\n",
       "      <td>14</td>\n",
       "      <td>0</td>\n",
       "      <td>1</td>\n",
       "      <td>0</td>\n",
       "      <td>0</td>\n",
       "      <td>2</td>\n",
       "    </tr>\n",
       "    <tr>\n",
       "      <th>9131</th>\n",
       "      <td>3</td>\n",
       "      <td>2</td>\n",
       "      <td>85</td>\n",
       "      <td>1</td>\n",
       "      <td>9</td>\n",
       "      <td>1</td>\n",
       "      <td>1</td>\n",
       "      <td>0</td>\n",
       "      <td>0</td>\n",
       "      <td>2</td>\n",
       "    </tr>\n",
       "    <tr>\n",
       "      <th>9132</th>\n",
       "      <td>0</td>\n",
       "      <td>1</td>\n",
       "      <td>96</td>\n",
       "      <td>1</td>\n",
       "      <td>34</td>\n",
       "      <td>1</td>\n",
       "      <td>1</td>\n",
       "      <td>1</td>\n",
       "      <td>3</td>\n",
       "      <td>2</td>\n",
       "    </tr>\n",
       "    <tr>\n",
       "      <th>9133</th>\n",
       "      <td>0</td>\n",
       "      <td>2</td>\n",
       "      <td>77</td>\n",
       "      <td>2</td>\n",
       "      <td>3</td>\n",
       "      <td>1</td>\n",
       "      <td>1</td>\n",
       "      <td>0</td>\n",
       "      <td>2</td>\n",
       "      <td>2</td>\n",
       "    </tr>\n",
       "  </tbody>\n",
       "</table>\n",
       "<p>9134 rows × 10 columns</p>\n",
       "</div>"
      ],
      "text/plain": [
       "      Number of Open Complaints  Marital Status  Monthly Premium Auto  \\\n",
       "0                             0               1                    69   \n",
       "1                             0               2                    94   \n",
       "2                             0               1                   108   \n",
       "3                             0               1                   106   \n",
       "4                             0               2                    73   \n",
       "...                         ...             ...                   ...   \n",
       "9129                          0               1                    73   \n",
       "9130                          0               0                    79   \n",
       "9131                          3               2                    85   \n",
       "9132                          0               1                    96   \n",
       "9133                          0               2                    77   \n",
       "\n",
       "      Sales Channel  Months Since Last Claim  Gender  Coverage  Policy Type  \\\n",
       "0                 0                       32       0         0            0   \n",
       "1                 0                       13       0         1            1   \n",
       "2                 0                       18       0         2            1   \n",
       "3                 2                       18       1         0            0   \n",
       "4                 0                       12       1         0            1   \n",
       "...             ...                      ...     ...       ...          ...   \n",
       "9129              3                       18       1         0            1   \n",
       "9130              1                       14       0         1            0   \n",
       "9131              1                        9       1         1            0   \n",
       "9132              1                       34       1         1            1   \n",
       "9133              2                        3       1         1            0   \n",
       "\n",
       "      Claim Reason  State  \n",
       "0                0      1  \n",
       "1                3      3  \n",
       "2                0      4  \n",
       "3                0      2  \n",
       "4                0      1  \n",
       "...            ...    ...  \n",
       "9129             1      2  \n",
       "9130             0      2  \n",
       "9131             0      2  \n",
       "9132             3      2  \n",
       "9133             2      2  \n",
       "\n",
       "[9134 rows x 10 columns]"
      ]
     },
     "execution_count": 41,
     "metadata": {},
     "output_type": "execute_result"
    }
   ],
   "source": [
    "x1"
   ]
  },
  {
   "cell_type": "code",
   "execution_count": 42,
   "metadata": {},
   "outputs": [],
   "source": [
    "x1=ss.fit_transform(x1)"
   ]
  },
  {
   "cell_type": "code",
   "execution_count": 43,
   "metadata": {},
   "outputs": [
    {
     "data": {
      "text/plain": [
       "(9134,)"
      ]
     },
     "execution_count": 43,
     "metadata": {},
     "output_type": "execute_result"
    }
   ],
   "source": [
    "y.shape"
   ]
  },
  {
   "cell_type": "code",
   "execution_count": 44,
   "metadata": {},
   "outputs": [
    {
     "name": "stdout",
     "output_type": "stream",
     "text": [
      "r2 score corresponding to  42  is  0.15480217647429728\n",
      "r2 score corresponding to  43  is  0.15134553545823604\n",
      "r2 score corresponding to  44  is  0.14228019517706259\n",
      "r2 score corresponding to  45  is  0.1566896374144151\n",
      "r2 score corresponding to  46  is  0.17644761683965915\n",
      "r2 score corresponding to  47  is  0.18462200342680568\n",
      "r2 score corresponding to  48  is  0.18515818389994954\n",
      "r2 score corresponding to  49  is  0.1696764814387075\n",
      "r2 score corresponding to  50  is  0.1759253276444065\n",
      "r2 score corresponding to  51  is  0.1273935627714622\n",
      "r2 score corresponding to  52  is  0.1576631618169705\n",
      "r2 score corresponding to  53  is  0.15724459308501804\n",
      "r2 score corresponding to  54  is  0.12718304629191823\n",
      "r2 score corresponding to  55  is  0.17156498387181907\n",
      "r2 score corresponding to  56  is  0.15244968857583785\n",
      "r2 score corresponding to  57  is  0.14594217244035468\n",
      "r2 score corresponding to  58  is  0.1609805770228926\n",
      "r2 score corresponding to  59  is  0.14110829553727933\n",
      "r2 score corresponding to  60  is  0.14847646296770511\n",
      "r2 score corresponding to  61  is  0.18118208834554506\n",
      "r2 score corresponding to  62  is  0.15947227360504113\n",
      "r2 score corresponding to  63  is  0.15212655712788414\n",
      "r2 score corresponding to  64  is  0.17949243866708042\n",
      "r2 score corresponding to  65  is  0.15495779825609057\n",
      "r2 score corresponding to  66  is  0.15843062682226317\n",
      "r2 score corresponding to  67  is  0.18531206538135025\n",
      "r2 score corresponding to  68  is  0.17226177920769825\n",
      "r2 score corresponding to  69  is  0.13385841432433254\n",
      "r2 score corresponding to  70  is  0.15931071188437584\n",
      "r2 score corresponding to  71  is  0.15889386170483255\n",
      "r2 score corresponding to  72  is  0.12789877330512334\n",
      "r2 score corresponding to  73  is  0.15940650443006943\n",
      "r2 score corresponding to  74  is  0.14137972972375878\n",
      "r2 score corresponding to  75  is  0.19072398602889074\n",
      "r2 score corresponding to  76  is  0.15277159921323613\n",
      "r2 score corresponding to  77  is  0.1779225867911297\n",
      "r2 score corresponding to  78  is  0.16646156714183113\n",
      "r2 score corresponding to  79  is  0.16090920512598728\n",
      "r2 score corresponding to  80  is  0.155364561334164\n",
      "r2 score corresponding to  81  is  0.1463791427659753\n",
      "r2 score corresponding to  82  is  0.18718404068140648\n",
      "r2 score corresponding to  83  is  0.16687103496200872\n",
      "r2 score corresponding to  84  is  0.1818134023848853\n",
      "r2 score corresponding to  85  is  0.18078410404370704\n",
      "r2 score corresponding to  86  is  0.1771004271386476\n",
      "r2 score corresponding to  87  is  0.20008614141298586\n",
      "r2 score corresponding to  88  is  0.17865805486347863\n",
      "r2 score corresponding to  89  is  0.15848352316821257\n",
      "r2 score corresponding to  90  is  0.16767611956633155\n",
      "r2 score corresponding to  91  is  0.13767166827191135\n",
      "r2 score corresponding to  92  is  0.15049218321718594\n",
      "r2 score corresponding to  93  is  0.15336794899410366\n",
      "r2 score corresponding to  94  is  0.12110691093884385\n",
      "r2 score corresponding to  95  is  0.1332963872947367\n",
      "r2 score corresponding to  96  is  0.1934964941054127\n",
      "r2 score corresponding to  97  is  0.1606870591933809\n",
      "r2 score corresponding to  98  is  0.14636294593740617\n",
      "r2 score corresponding to  99  is  0.16406853192846693\n",
      "max r2 score corresponding to  87  is  0.20008614141298586\n"
     ]
    },
    {
     "data": {
      "text/plain": [
       "87"
      ]
     },
     "execution_count": 44,
     "metadata": {},
     "output_type": "execute_result"
    }
   ],
   "source": [
    "max_r2_score(lr,x1,y)"
   ]
  },
  {
   "cell_type": "code",
   "execution_count": 45,
   "metadata": {},
   "outputs": [
    {
     "name": "stdout",
     "output_type": "stream",
     "text": [
      "r2 score corresponding to  42  is  0.6886608277761233\n",
      "r2 score corresponding to  43  is  0.7121626506637821\n",
      "r2 score corresponding to  44  is  0.6764287236294608\n",
      "r2 score corresponding to  45  is  0.7134982886804135\n",
      "r2 score corresponding to  46  is  0.6961354438205363\n",
      "r2 score corresponding to  47  is  0.7267911087503182\n",
      "r2 score corresponding to  48  is  0.7096598260974607\n",
      "r2 score corresponding to  49  is  0.7119227047971629\n",
      "r2 score corresponding to  50  is  0.6968942314299019\n",
      "r2 score corresponding to  51  is  0.6833270667248073\n",
      "r2 score corresponding to  52  is  0.6730082395419179\n",
      "r2 score corresponding to  53  is  0.6763311794031328\n",
      "r2 score corresponding to  54  is  0.688406429116569\n",
      "r2 score corresponding to  55  is  0.6947062079351657\n",
      "r2 score corresponding to  56  is  0.6881042970209874\n",
      "r2 score corresponding to  57  is  0.6986621174337828\n",
      "r2 score corresponding to  58  is  0.698031732369406\n",
      "r2 score corresponding to  59  is  0.7005406512902799\n",
      "r2 score corresponding to  60  is  0.68348293091903\n",
      "r2 score corresponding to  61  is  0.7193275300151746\n",
      "r2 score corresponding to  62  is  0.6902160587198436\n",
      "r2 score corresponding to  63  is  0.7024517025796237\n",
      "r2 score corresponding to  64  is  0.7054200133667803\n",
      "r2 score corresponding to  65  is  0.7012328577191212\n",
      "r2 score corresponding to  66  is  0.7136830586227689\n",
      "r2 score corresponding to  67  is  0.6823119273386831\n",
      "r2 score corresponding to  68  is  0.712097970701558\n",
      "r2 score corresponding to  69  is  0.6947555826032206\n",
      "r2 score corresponding to  70  is  0.7043909670762868\n",
      "r2 score corresponding to  71  is  0.6929403950641809\n",
      "r2 score corresponding to  72  is  0.6824710499551552\n",
      "r2 score corresponding to  73  is  0.678398060912936\n",
      "r2 score corresponding to  74  is  0.6534622325083761\n",
      "r2 score corresponding to  75  is  0.6977214428195382\n",
      "r2 score corresponding to  76  is  0.7152591252493725\n",
      "r2 score corresponding to  77  is  0.6856113393049001\n",
      "r2 score corresponding to  78  is  0.680566267816436\n",
      "r2 score corresponding to  79  is  0.6936984246531275\n",
      "r2 score corresponding to  80  is  0.6970847623302138\n",
      "r2 score corresponding to  81  is  0.7006202105504578\n",
      "r2 score corresponding to  82  is  0.6724978897823848\n",
      "r2 score corresponding to  83  is  0.7135413107923607\n",
      "r2 score corresponding to  84  is  0.6840916554517218\n",
      "r2 score corresponding to  85  is  0.705769718495253\n",
      "r2 score corresponding to  86  is  0.686772837353828\n",
      "r2 score corresponding to  87  is  0.7079481706335313\n",
      "r2 score corresponding to  88  is  0.7017563281016095\n",
      "r2 score corresponding to  89  is  0.6949988409138366\n",
      "r2 score corresponding to  90  is  0.6852352290151023\n",
      "r2 score corresponding to  91  is  0.6508475783870916\n",
      "r2 score corresponding to  92  is  0.6787775526435973\n",
      "r2 score corresponding to  93  is  0.70339541034185\n",
      "r2 score corresponding to  94  is  0.6865639279964295\n",
      "r2 score corresponding to  95  is  0.6916671314362737\n",
      "r2 score corresponding to  96  is  0.6923919713441785\n",
      "r2 score corresponding to  97  is  0.7224354620537582\n",
      "r2 score corresponding to  98  is  0.7026343115958094\n",
      "r2 score corresponding to  99  is  0.7061821829797604\n",
      "max r2 score corresponding to  47  is  0.7267911087503182\n"
     ]
    },
    {
     "data": {
      "text/plain": [
       "47"
      ]
     },
     "execution_count": 45,
     "metadata": {},
     "output_type": "execute_result"
    }
   ],
   "source": [
    "max_r2_score(rf,x1,y)"
   ]
  },
  {
   "cell_type": "code",
   "execution_count": 46,
   "metadata": {},
   "outputs": [
    {
     "data": {
      "text/plain": [
       "array([[-0.55068994, -0.40882171, -0.73289946, ..., -0.16963969,\n",
       "         1.49918077, -0.16668206],\n",
       "       [ 0.97332215, -0.40882171,  0.79199887, ...,  2.400737  ,\n",
       "        -0.91292371, -0.16668206],\n",
       "       [ 1.73532819, -0.40882171,  2.31689721, ...,  0.45573376,\n",
       "         1.49918077, -0.16668206],\n",
       "       ...,\n",
       "       [ 0.21131611, -0.40882171,  0.79199887, ...,  1.22793667,\n",
       "        -0.91292371, -0.16668206],\n",
       "       [ 0.21131611, -0.40882171,  0.79199887, ...,  0.88511256,\n",
       "        -0.91292371, -2.0278971 ],\n",
       "       [ 0.21131611, -0.40882171,  0.79199887, ..., -0.22200449,\n",
       "         1.49918077, -0.16668206]])"
      ]
     },
     "execution_count": 46,
     "metadata": {},
     "output_type": "execute_result"
    }
   ],
   "source": [
    "x1"
   ]
  },
  {
   "cell_type": "code",
   "execution_count": 47,
   "metadata": {},
   "outputs": [
    {
     "data": {
      "text/plain": [
       "array([[-0.55068994, -0.40882171, -0.73289946, ..., -0.16963969,\n",
       "         1.49918077, -0.16668206],\n",
       "       [ 0.97332215, -0.40882171,  0.79199887, ...,  2.400737  ,\n",
       "        -0.91292371, -0.16668206],\n",
       "       [ 1.73532819, -0.40882171,  2.31689721, ...,  0.45573376,\n",
       "         1.49918077, -0.16668206],\n",
       "       ...,\n",
       "       [ 0.21131611, -0.40882171,  0.79199887, ...,  1.22793667,\n",
       "        -0.91292371, -0.16668206],\n",
       "       [ 0.21131611, -0.40882171,  0.79199887, ...,  0.88511256,\n",
       "        -0.91292371, -2.0278971 ],\n",
       "       [ 0.21131611, -0.40882171,  0.79199887, ..., -0.22200449,\n",
       "         1.49918077, -0.16668206]])"
      ]
     },
     "execution_count": 47,
     "metadata": {},
     "output_type": "execute_result"
    }
   ],
   "source": [
    "x"
   ]
  },
  {
   "cell_type": "code",
   "execution_count": 50,
   "metadata": {},
   "outputs": [
    {
     "data": {
      "text/plain": [
       "{'kernel': 'linear'}"
      ]
     },
     "execution_count": 50,
     "metadata": {},
     "output_type": "execute_result"
    }
   ],
   "source": [
    "from sklearn.svm import SVR\n",
    "from sklearn.model_selection import GridSearchCV\n",
    "svr=SVR()\n",
    "\n",
    "parameters={\"kernel\":[\"linear\", \"poly\", \"rbf\"]}\n",
    "gsv = GridSearchCV(svr, parameters, cv=5,scoring=\"r2\")\n",
    "gsv.fit(x,y)\n",
    "gsv.best_params_"
   ]
  },
  {
   "cell_type": "code",
   "execution_count": 51,
   "metadata": {},
   "outputs": [
    {
     "name": "stdout",
     "output_type": "stream",
     "text": [
      "r2 score corresponding to  42  is  0.0691447201786678\n",
      "r2 score corresponding to  43  is  0.0638399944526451\n",
      "r2 score corresponding to  44  is  0.054073673867705896\n",
      "r2 score corresponding to  45  is  0.03924514313633887\n",
      "r2 score corresponding to  46  is  0.03291943053786317\n",
      "r2 score corresponding to  47  is  0.07195540092635933\n",
      "r2 score corresponding to  48  is  0.0863045664530726\n",
      "r2 score corresponding to  49  is  0.06271468975410599\n",
      "r2 score corresponding to  50  is  0.0894685186863392\n",
      "r2 score corresponding to  51  is  -0.003247073614628615\n",
      "r2 score corresponding to  52  is  0.051637899671886034\n",
      "r2 score corresponding to  53  is  0.006028728371125336\n",
      "r2 score corresponding to  54  is  0.032978394385433374\n",
      "r2 score corresponding to  55  is  0.06802766173585673\n",
      "r2 score corresponding to  56  is  0.069146081224022\n",
      "r2 score corresponding to  57  is  0.06019540710290727\n",
      "r2 score corresponding to  58  is  0.05556985804681669\n",
      "r2 score corresponding to  59  is  0.026810468377797658\n",
      "r2 score corresponding to  60  is  0.03390779128870802\n",
      "r2 score corresponding to  61  is  0.09696251188810934\n",
      "r2 score corresponding to  62  is  0.03265093576668732\n",
      "r2 score corresponding to  63  is  0.05825707751426401\n",
      "r2 score corresponding to  64  is  0.06290373451042786\n",
      "r2 score corresponding to  65  is  0.045195460378811836\n",
      "r2 score corresponding to  66  is  0.07257977512454872\n",
      "r2 score corresponding to  67  is  0.06146483991767271\n",
      "r2 score corresponding to  68  is  0.07342574576633343\n",
      "r2 score corresponding to  69  is  0.073614346263011\n",
      "r2 score corresponding to  70  is  0.05062253852941345\n",
      "r2 score corresponding to  71  is  0.04413817214592586\n",
      "r2 score corresponding to  72  is  0.022959200955898873\n",
      "r2 score corresponding to  73  is  0.0632586131275873\n",
      "r2 score corresponding to  74  is  0.06277149287284389\n",
      "r2 score corresponding to  75  is  0.07081196669564271\n",
      "r2 score corresponding to  76  is  0.049737899641523975\n",
      "r2 score corresponding to  77  is  0.047041923172174815\n",
      "r2 score corresponding to  78  is  0.05453716717128032\n",
      "r2 score corresponding to  79  is  0.0652391431099858\n",
      "r2 score corresponding to  80  is  0.025069066452387045\n",
      "r2 score corresponding to  81  is  0.02546778007526307\n",
      "r2 score corresponding to  82  is  0.07512300913701053\n",
      "r2 score corresponding to  83  is  0.04148443118677858\n",
      "r2 score corresponding to  84  is  0.06074232029651905\n",
      "r2 score corresponding to  85  is  0.09035574142299052\n",
      "r2 score corresponding to  86  is  0.08717172385439687\n",
      "r2 score corresponding to  87  is  0.12620802562955102\n",
      "r2 score corresponding to  88  is  0.06922358350485713\n",
      "r2 score corresponding to  89  is  0.04792394666037525\n",
      "r2 score corresponding to  90  is  0.11125164776012708\n",
      "r2 score corresponding to  91  is  0.03562961549624366\n",
      "r2 score corresponding to  92  is  0.058102872707364694\n",
      "r2 score corresponding to  93  is  0.04054637275673545\n",
      "r2 score corresponding to  94  is  0.03479492620232971\n",
      "r2 score corresponding to  95  is  0.039454483466754287\n",
      "r2 score corresponding to  96  is  0.09111561782462085\n",
      "r2 score corresponding to  97  is  0.08907480452606309\n",
      "r2 score corresponding to  98  is  0.03394188904224715\n",
      "r2 score corresponding to  99  is  0.05208722498322782\n",
      "max r2 score corresponding to  87  is  0.12620802562955102\n"
     ]
    },
    {
     "data": {
      "text/plain": [
       "87"
      ]
     },
     "execution_count": 51,
     "metadata": {},
     "output_type": "execute_result"
    }
   ],
   "source": [
    "svr =SVR(kernel='linear')\n",
    "max_r2_score(svr,x,y)"
   ]
  },
  {
   "cell_type": "code",
   "execution_count": 59,
   "metadata": {
    "scrolled": true
   },
   "outputs": [
    {
     "name": "stdout",
     "output_type": "stream",
     "text": [
      "r2 score corresponding to  42  is  0.6472137359565775\n",
      "r2 score corresponding to  43  is  0.6154631446355966\n",
      "r2 score corresponding to  44  is  0.6028046011506528\n",
      "r2 score corresponding to  45  is  0.6153890066985153\n",
      "r2 score corresponding to  46  is  0.6545459482368371\n",
      "r2 score corresponding to  47  is  0.675569852942344\n",
      "r2 score corresponding to  48  is  0.6664195917634972\n",
      "r2 score corresponding to  49  is  0.6293582935797404\n",
      "r2 score corresponding to  50  is  0.6434790781100974\n",
      "r2 score corresponding to  51  is  0.636960869221331\n",
      "r2 score corresponding to  52  is  0.6257235812108434\n",
      "r2 score corresponding to  53  is  0.6432319790286207\n",
      "r2 score corresponding to  54  is  0.6392675377807258\n",
      "r2 score corresponding to  55  is  0.5314568672268851\n",
      "r2 score corresponding to  56  is  0.6232155299649123\n",
      "r2 score corresponding to  57  is  0.656295615856622\n",
      "r2 score corresponding to  58  is  0.6613989429340003\n",
      "r2 score corresponding to  59  is  0.6661221505954965\n",
      "r2 score corresponding to  60  is  0.6702162427679121\n",
      "r2 score corresponding to  61  is  0.6433073664053545\n",
      "r2 score corresponding to  62  is  0.6497116891822059\n",
      "r2 score corresponding to  63  is  0.5430081496721211\n",
      "r2 score corresponding to  64  is  0.7037816740854752\n",
      "r2 score corresponding to  65  is  0.64364601538825\n",
      "r2 score corresponding to  66  is  0.6327731398629797\n",
      "r2 score corresponding to  67  is  0.5997747963068466\n",
      "r2 score corresponding to  68  is  0.6400478893360696\n",
      "r2 score corresponding to  69  is  0.6556291357544436\n",
      "r2 score corresponding to  70  is  0.650318356347779\n",
      "r2 score corresponding to  71  is  0.642364534534319\n",
      "r2 score corresponding to  72  is  0.5707126792833679\n",
      "r2 score corresponding to  73  is  0.6189821970660314\n",
      "r2 score corresponding to  74  is  0.6094371985601383\n",
      "r2 score corresponding to  75  is  0.663703132334228\n",
      "r2 score corresponding to  76  is  0.6618884258766925\n",
      "r2 score corresponding to  77  is  0.6154515152857891\n",
      "r2 score corresponding to  78  is  0.6525371252773775\n",
      "r2 score corresponding to  79  is  0.6509221256609989\n",
      "r2 score corresponding to  80  is  0.6888810158040731\n",
      "r2 score corresponding to  81  is  0.6749183180454401\n",
      "r2 score corresponding to  82  is  0.4837791761904904\n",
      "r2 score corresponding to  83  is  0.6711700035441972\n",
      "r2 score corresponding to  84  is  0.6584685746854062\n",
      "r2 score corresponding to  85  is  0.6749629838827513\n",
      "r2 score corresponding to  86  is  0.6474489765334135\n",
      "r2 score corresponding to  87  is  0.7084132670807723\n",
      "r2 score corresponding to  88  is  0.5770578424139782\n",
      "r2 score corresponding to  89  is  0.5993467496728982\n",
      "r2 score corresponding to  90  is  0.5588089975875354\n",
      "r2 score corresponding to  91  is  0.5652430444234876\n",
      "r2 score corresponding to  92  is  0.6375669601194258\n",
      "r2 score corresponding to  93  is  0.5648364177545111\n",
      "r2 score corresponding to  94  is  0.6205257447131522\n",
      "r2 score corresponding to  95  is  0.6122366821301121\n",
      "r2 score corresponding to  96  is  0.6597459784992903\n",
      "r2 score corresponding to  97  is  0.6681816595782302\n",
      "r2 score corresponding to  98  is  0.6004515279715277\n",
      "r2 score corresponding to  99  is  0.6230314222761979\n",
      "max r2 score corresponding to  87  is  0.7084132670807723\n"
     ]
    },
    {
     "data": {
      "text/plain": [
       "87"
      ]
     },
     "execution_count": 59,
     "metadata": {},
     "output_type": "execute_result"
    }
   ],
   "source": [
    "from sklearn.ensemble import BaggingRegressor\n",
    "bgr = BaggingRegressor(max_samples=0.5,max_features=0.8)\n",
    "max_r2_score(bgr,x,y)"
   ]
  },
  {
   "cell_type": "code",
   "execution_count": 62,
   "metadata": {},
   "outputs": [
    {
     "data": {
      "text/plain": [
       "{'criterion': 'mse', 'n_estimators': 200}"
      ]
     },
     "execution_count": 62,
     "metadata": {},
     "output_type": "execute_result"
    }
   ],
   "source": [
    "rf=RandomForestRegressor()\n",
    "parameters={\"n_estimators\":[100,200],\"criterion\":['mse','mae']}\n",
    "gsv = GridSearchCV(rf, parameters, cv=5,scoring=\"r2\")\n",
    "gsv.fit(x,y)\n",
    "gsv.best_params_"
   ]
  },
  {
   "cell_type": "code",
   "execution_count": 63,
   "metadata": {},
   "outputs": [
    {
     "name": "stdout",
     "output_type": "stream",
     "text": [
      "r2 score corresponding to  42  is  0.6881783289549598\n",
      "r2 score corresponding to  43  is  0.7171473239620536\n",
      "r2 score corresponding to  44  is  0.6750689573135413\n",
      "r2 score corresponding to  45  is  0.7130836824034043\n",
      "r2 score corresponding to  46  is  0.6950831186234439\n",
      "r2 score corresponding to  47  is  0.7236632596381762\n",
      "r2 score corresponding to  48  is  0.7141487901680172\n",
      "r2 score corresponding to  49  is  0.7199330588631878\n",
      "r2 score corresponding to  50  is  0.6950440241940307\n",
      "r2 score corresponding to  51  is  0.6944284473486877\n",
      "r2 score corresponding to  52  is  0.6736541921729398\n",
      "r2 score corresponding to  53  is  0.6728027285851763\n",
      "r2 score corresponding to  54  is  0.681881758313591\n",
      "r2 score corresponding to  55  is  0.6863814525895628\n",
      "r2 score corresponding to  56  is  0.688330393291289\n",
      "r2 score corresponding to  57  is  0.6983832527580166\n",
      "r2 score corresponding to  58  is  0.6967017153656616\n",
      "r2 score corresponding to  59  is  0.6994604212438299\n",
      "r2 score corresponding to  60  is  0.679381527721448\n",
      "r2 score corresponding to  61  is  0.7168630856981053\n",
      "r2 score corresponding to  62  is  0.6862065992391073\n",
      "r2 score corresponding to  63  is  0.7036523163119268\n",
      "r2 score corresponding to  64  is  0.7042938001385001\n",
      "r2 score corresponding to  65  is  0.7069457556297681\n",
      "r2 score corresponding to  66  is  0.7200333477551415\n",
      "r2 score corresponding to  67  is  0.6869076648256205\n",
      "r2 score corresponding to  68  is  0.7214514358807496\n",
      "r2 score corresponding to  69  is  0.6926899347091593\n",
      "r2 score corresponding to  70  is  0.7093260532865361\n",
      "r2 score corresponding to  71  is  0.690952214895847\n",
      "r2 score corresponding to  72  is  0.6858384425857462\n",
      "r2 score corresponding to  73  is  0.6835060702425821\n",
      "r2 score corresponding to  74  is  0.6510409974003899\n",
      "r2 score corresponding to  75  is  0.6918432186223691\n",
      "r2 score corresponding to  76  is  0.7086382774278028\n",
      "r2 score corresponding to  77  is  0.690288847072251\n",
      "r2 score corresponding to  78  is  0.6751400056272875\n",
      "r2 score corresponding to  79  is  0.6928472192401847\n",
      "r2 score corresponding to  80  is  0.7055830933598829\n",
      "r2 score corresponding to  81  is  0.6936715589379733\n",
      "r2 score corresponding to  82  is  0.6805781219358857\n",
      "r2 score corresponding to  83  is  0.7113068666342837\n",
      "r2 score corresponding to  84  is  0.6852081646870749\n",
      "r2 score corresponding to  85  is  0.7044581790848123\n",
      "r2 score corresponding to  86  is  0.6915474330560722\n",
      "r2 score corresponding to  87  is  0.7194377834905095\n",
      "r2 score corresponding to  88  is  0.6913420762858744\n",
      "r2 score corresponding to  89  is  0.6933106967527005\n",
      "r2 score corresponding to  90  is  0.6834314790270648\n",
      "r2 score corresponding to  91  is  0.6531146965896899\n",
      "r2 score corresponding to  92  is  0.673970748443848\n",
      "r2 score corresponding to  93  is  0.7045050224439322\n",
      "r2 score corresponding to  94  is  0.6847152265500052\n",
      "r2 score corresponding to  95  is  0.701102896318435\n",
      "r2 score corresponding to  96  is  0.6981814417897154\n",
      "r2 score corresponding to  97  is  0.7307400619922498\n",
      "r2 score corresponding to  98  is  0.7000808540256734\n",
      "r2 score corresponding to  99  is  0.7088040711555263\n",
      "max r2 score corresponding to  97  is  0.7307400619922498\n"
     ]
    },
    {
     "data": {
      "text/plain": [
       "97"
      ]
     },
     "execution_count": 63,
     "metadata": {},
     "output_type": "execute_result"
    }
   ],
   "source": [
    "rf=RandomForestRegressor(n_estimators=200)\n",
    "max_r2_score(rf,x,y)"
   ]
  },
  {
   "cell_type": "code",
   "execution_count": 65,
   "metadata": {},
   "outputs": [
    {
     "name": "stdout",
     "output_type": "stream",
     "text": [
      "R2 Score=  0.7337941429115273\n"
     ]
    }
   ],
   "source": [
    "rf=RandomForestRegressor(n_estimators=200)\n",
    "x_train, x_test, y_train, y_test = train_test_split(x, y,random_state = 97,test_size=0.20)\n",
    "rf.fit(x_train,y_train)\n",
    "y_pred = rf.predict(x_test)\n",
    "r2_scr=r2_score(y_test,y_pred)\n",
    "print('R2 Score= ', r2_scr)"
   ]
  },
  {
   "cell_type": "code",
   "execution_count": 67,
   "metadata": {},
   "outputs": [],
   "source": [
    "import joblib"
   ]
  },
  {
   "cell_type": "code",
   "execution_count": 68,
   "metadata": {},
   "outputs": [
    {
     "data": {
      "text/plain": [
       "['Auto_insur_RF.pkl']"
      ]
     },
     "execution_count": 68,
     "metadata": {},
     "output_type": "execute_result"
    }
   ],
   "source": [
    "joblib.dump(rf,\"Auto_insur_RF.pkl\")"
   ]
  },
  {
   "cell_type": "code",
   "execution_count": null,
   "metadata": {},
   "outputs": [],
   "source": []
  }
 ],
 "metadata": {
  "kernelspec": {
   "display_name": "Python 3",
   "language": "python",
   "name": "python3"
  },
  "language_info": {
   "codemirror_mode": {
    "name": "ipython",
    "version": 3
   },
   "file_extension": ".py",
   "mimetype": "text/x-python",
   "name": "python",
   "nbconvert_exporter": "python",
   "pygments_lexer": "ipython3",
   "version": "3.8.3"
  }
 },
 "nbformat": 4,
 "nbformat_minor": 4
}
