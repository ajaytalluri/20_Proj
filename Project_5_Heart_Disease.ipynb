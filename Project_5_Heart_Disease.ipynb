{
 "cells": [
  {
   "cell_type": "markdown",
   "metadata": {},
   "source": [
    "### About the Data"
   ]
  },
  {
   "cell_type": "raw",
   "metadata": {},
   "source": [
    "Only 14 attributes used:\n",
    "1. #3 (age)\n",
    "2. #4 (sex)\n",
    "3. #9 (cp)\n",
    "4. #10 (trestbps)\n",
    "5. #12 (chol)\n",
    "6. #16 (fbs)\n",
    "7. #19 (restecg)\n",
    "8. #32 (thalach)\n",
    "9. #38 (exang)\n",
    "10. #40 (oldpeak)\n",
    "11. #41 (slope)\n",
    "12. #44 (ca)\n",
    "13. #51 (thal)\n",
    "14. #58 (num) (the predicted attribute)\n",
    "\n",
    "Complete attribute documentation:\n",
    "1 id: patient identification number\n",
    "2 ccf: social security number (I replaced this with a dummy value of 0)\n",
    "3 age: age in years\n",
    "4 sex: sex (1 = male; 0 = female)\n",
    "5 painloc: chest pain location (1 = substernal; 0 = otherwise)\n",
    "6 painexer (1 = provoked by exertion; 0 = otherwise)\n",
    "7 relrest (1 = relieved after rest; 0 = otherwise)\n",
    "8 pncaden (sum of 5, 6, and 7)\n",
    "9 cp: chest pain type\n",
    "-- Value 1: typical angina\n",
    "-- Value 2: atypical angina\n",
    "-- Value 3: non-anginal pain\n",
    "-- Value 4: asymptomatic\n",
    "10 trestbps: resting blood pressure (in mm Hg on admission to the hospital)\n",
    "11 htn\n",
    "12 chol: serum cholestoral in mg/dl\n",
    "13 smoke: I believe this is 1 = yes; 0 = no (is or is not a smoker)\n",
    "14 cigs (cigarettes per day)\n",
    "15 years (number of years as a smoker)\n",
    "16 fbs: (fasting blood sugar > 120 mg/dl) (1 = true; 0 = false)\n",
    "17 dm (1 = history of diabetes; 0 = no such history)\n",
    "18 famhist: family history of coronary artery disease (1 = yes; 0 = no)\n",
    "19 restecg: resting electrocardiographic results\n",
    "-- Value 0: normal\n",
    "-- Value 1: having ST-T wave abnormality (T wave inversions and/or ST elevation or depression of > 0.05 mV)\n",
    "-- Value 2: showing probable or definite left ventricular hypertrophy by Estes' criteria\n",
    "20 ekgmo (month of exercise ECG reading)\n",
    "21 ekgday(day of exercise ECG reading)\n",
    "22 ekgyr (year of exercise ECG reading)\n",
    "23 dig (digitalis used furing exercise ECG: 1 = yes; 0 = no)\n",
    "24 prop (Beta blocker used during exercise ECG: 1 = yes; 0 = no)\n",
    "25 nitr (nitrates used during exercise ECG: 1 = yes; 0 = no)\n",
    "26 pro (calcium channel blocker used during exercise ECG: 1 = yes; 0 = no)\n",
    "27 diuretic (diuretic used used during exercise ECG: 1 = yes; 0 = no)\n",
    "28 proto: exercise protocol\n",
    "1 = Bruce\n",
    "2 = Kottus\n",
    "3 = McHenry\n",
    "4 = fast Balke\n",
    "5 = Balke\n",
    "6 = Noughton\n",
    "7 = bike 150 kpa min/min (Not sure if \"kpa min/min\" is what was written!)\n",
    "8 = bike 125 kpa min/min\n",
    "9 = bike 100 kpa min/min\n",
    "10 = bike 75 kpa min/min\n",
    "11 = bike 50 kpa min/min\n",
    "12 = arm ergometer\n",
    "29 thaldur: duration of exercise test in minutes\n",
    "30 thaltime: time when ST measure depression was noted\n",
    "31 met: mets achieved\n",
    "32 thalach: maximum heart rate achieved\n",
    "33 thalrest: resting heart rate\n",
    "34 tpeakbps: peak exercise blood pressure (first of 2 parts)\n",
    "35 tpeakbpd: peak exercise blood pressure (second of 2 parts)\n",
    "36 dummy\n",
    "37 trestbpd: resting blood pressure\n",
    "38 exang: exercise induced angina (1 = yes; 0 = no)\n",
    "39 xhypo: (1 = yes; 0 = no)\n",
    "40 oldpeak = ST depression induced by exercise relative to rest\n",
    "41 slope: the slope of the peak exercise ST segment\n",
    "-- Value 1: upsloping\n",
    "-- Value 2: flat\n",
    "-- Value 3: downsloping\n",
    "42 rldv5: height at rest\n",
    "43 rldv5e: height at peak exercise\n",
    "44 ca: number of major vessels (0-3) colored by flourosopy\n",
    "45 restckm: irrelevant\n",
    "46 exerckm: irrelevant\n",
    "47 restef: rest raidonuclid (sp?) ejection fraction\n",
    "48 restwm: rest wall (sp?) motion abnormality\n",
    "0 = none\n",
    "1 = mild or moderate\n",
    "2 = moderate or severe\n",
    "3 = akinesis or dyskmem (sp?)\n",
    "49 exeref: exercise radinalid (sp?) ejection fraction\n",
    "50 exerwm: exercise wall (sp?) motion\n",
    "51 thal: 3 = normal; 6 = fixed defect; 7 = reversable defect\n",
    "52 thalsev: not used\n",
    "53 thalpul: not used\n",
    "54 earlobe: not used\n",
    "55 cmo: month of cardiac cath (sp?) (perhaps \"call\")\n",
    "56 cday: day of cardiac cath (sp?)\n",
    "57 cyr: year of cardiac cath (sp?)\n",
    "58 num: diagnosis of heart disease (angiographic disease status)\n",
    "-- Value 0: < 50% diameter narrowing\n",
    "-- Value 1: > 50% diameter narrowing"
   ]
  },
  {
   "cell_type": "code",
   "execution_count": 1,
   "metadata": {},
   "outputs": [],
   "source": [
    "import numpy as np\n",
    "import pandas as pd\n",
    "import matplotlib.pyplot as plt\n",
    "import seaborn as sns\n",
    "import warnings\n",
    "warnings.filterwarnings('ignore')"
   ]
  },
  {
   "cell_type": "code",
   "execution_count": 2,
   "metadata": {},
   "outputs": [],
   "source": [
    "df=pd.read_csv(\"C:\\\\Pandasdata\\\\DT_files\\\\Heart_Disease.csv\")"
   ]
  },
  {
   "cell_type": "code",
   "execution_count": 3,
   "metadata": {},
   "outputs": [
    {
     "data": {
      "text/html": [
       "<div>\n",
       "<style scoped>\n",
       "    .dataframe tbody tr th:only-of-type {\n",
       "        vertical-align: middle;\n",
       "    }\n",
       "\n",
       "    .dataframe tbody tr th {\n",
       "        vertical-align: top;\n",
       "    }\n",
       "\n",
       "    .dataframe thead th {\n",
       "        text-align: right;\n",
       "    }\n",
       "</style>\n",
       "<table border=\"1\" class=\"dataframe\">\n",
       "  <thead>\n",
       "    <tr style=\"text-align: right;\">\n",
       "      <th></th>\n",
       "      <th>age</th>\n",
       "      <th>sex</th>\n",
       "      <th>cp</th>\n",
       "      <th>trestbps</th>\n",
       "      <th>chol</th>\n",
       "      <th>fbs</th>\n",
       "      <th>restecg</th>\n",
       "      <th>thalach</th>\n",
       "      <th>exang</th>\n",
       "      <th>oldpeak</th>\n",
       "      <th>slope</th>\n",
       "      <th>ca</th>\n",
       "      <th>thal</th>\n",
       "      <th>num</th>\n",
       "    </tr>\n",
       "  </thead>\n",
       "  <tbody>\n",
       "    <tr>\n",
       "      <th>0</th>\n",
       "      <td>63</td>\n",
       "      <td>1</td>\n",
       "      <td>4</td>\n",
       "      <td>140</td>\n",
       "      <td>260</td>\n",
       "      <td>0</td>\n",
       "      <td>1</td>\n",
       "      <td>112</td>\n",
       "      <td>1</td>\n",
       "      <td>3</td>\n",
       "      <td>2</td>\n",
       "      <td>?</td>\n",
       "      <td>?</td>\n",
       "      <td>2</td>\n",
       "    </tr>\n",
       "    <tr>\n",
       "      <th>1</th>\n",
       "      <td>44</td>\n",
       "      <td>1</td>\n",
       "      <td>4</td>\n",
       "      <td>130</td>\n",
       "      <td>209</td>\n",
       "      <td>0</td>\n",
       "      <td>1</td>\n",
       "      <td>127</td>\n",
       "      <td>0</td>\n",
       "      <td>0</td>\n",
       "      <td>?</td>\n",
       "      <td>?</td>\n",
       "      <td>?</td>\n",
       "      <td>0</td>\n",
       "    </tr>\n",
       "    <tr>\n",
       "      <th>2</th>\n",
       "      <td>60</td>\n",
       "      <td>1</td>\n",
       "      <td>4</td>\n",
       "      <td>132</td>\n",
       "      <td>218</td>\n",
       "      <td>0</td>\n",
       "      <td>1</td>\n",
       "      <td>140</td>\n",
       "      <td>1</td>\n",
       "      <td>1.5</td>\n",
       "      <td>3</td>\n",
       "      <td>?</td>\n",
       "      <td>?</td>\n",
       "      <td>2</td>\n",
       "    </tr>\n",
       "    <tr>\n",
       "      <th>3</th>\n",
       "      <td>55</td>\n",
       "      <td>1</td>\n",
       "      <td>4</td>\n",
       "      <td>142</td>\n",
       "      <td>228</td>\n",
       "      <td>0</td>\n",
       "      <td>1</td>\n",
       "      <td>149</td>\n",
       "      <td>1</td>\n",
       "      <td>2.5</td>\n",
       "      <td>1</td>\n",
       "      <td>?</td>\n",
       "      <td>?</td>\n",
       "      <td>1</td>\n",
       "    </tr>\n",
       "    <tr>\n",
       "      <th>4</th>\n",
       "      <td>66</td>\n",
       "      <td>1</td>\n",
       "      <td>3</td>\n",
       "      <td>110</td>\n",
       "      <td>213</td>\n",
       "      <td>1</td>\n",
       "      <td>2</td>\n",
       "      <td>99</td>\n",
       "      <td>1</td>\n",
       "      <td>1.3</td>\n",
       "      <td>2</td>\n",
       "      <td>?</td>\n",
       "      <td>?</td>\n",
       "      <td>0</td>\n",
       "    </tr>\n",
       "  </tbody>\n",
       "</table>\n",
       "</div>"
      ],
      "text/plain": [
       "   age  sex  cp trestbps chol fbs  restecg thalach exang oldpeak slope ca  \\\n",
       "0   63    1   4      140  260   0        1     112     1       3     2  ?   \n",
       "1   44    1   4      130  209   0        1     127     0       0     ?  ?   \n",
       "2   60    1   4      132  218   0        1     140     1     1.5     3  ?   \n",
       "3   55    1   4      142  228   0        1     149     1     2.5     1  ?   \n",
       "4   66    1   3      110  213   1        2      99     1     1.3     2  ?   \n",
       "\n",
       "  thal  num  \n",
       "0    ?    2  \n",
       "1    ?    0  \n",
       "2    ?    2  \n",
       "3    ?    1  \n",
       "4    ?    0  "
      ]
     },
     "execution_count": 3,
     "metadata": {},
     "output_type": "execute_result"
    }
   ],
   "source": [
    "df.head()"
   ]
  },
  {
   "cell_type": "code",
   "execution_count": 4,
   "metadata": {},
   "outputs": [],
   "source": [
    "df.columns=['age','sex','cp','trestbps','chol','fbs','restecg','thalach','exang','oldpeak','slope','ca','thal','num']"
   ]
  },
  {
   "cell_type": "code",
   "execution_count": 5,
   "metadata": {
    "scrolled": true
   },
   "outputs": [
    {
     "data": {
      "text/html": [
       "<div>\n",
       "<style scoped>\n",
       "    .dataframe tbody tr th:only-of-type {\n",
       "        vertical-align: middle;\n",
       "    }\n",
       "\n",
       "    .dataframe tbody tr th {\n",
       "        vertical-align: top;\n",
       "    }\n",
       "\n",
       "    .dataframe thead th {\n",
       "        text-align: right;\n",
       "    }\n",
       "</style>\n",
       "<table border=\"1\" class=\"dataframe\">\n",
       "  <thead>\n",
       "    <tr style=\"text-align: right;\">\n",
       "      <th></th>\n",
       "      <th>age</th>\n",
       "      <th>sex</th>\n",
       "      <th>cp</th>\n",
       "      <th>trestbps</th>\n",
       "      <th>chol</th>\n",
       "      <th>fbs</th>\n",
       "      <th>restecg</th>\n",
       "      <th>thalach</th>\n",
       "      <th>exang</th>\n",
       "      <th>oldpeak</th>\n",
       "      <th>slope</th>\n",
       "      <th>ca</th>\n",
       "      <th>thal</th>\n",
       "      <th>num</th>\n",
       "    </tr>\n",
       "  </thead>\n",
       "  <tbody>\n",
       "    <tr>\n",
       "      <th>0</th>\n",
       "      <td>63</td>\n",
       "      <td>1</td>\n",
       "      <td>4</td>\n",
       "      <td>140</td>\n",
       "      <td>260</td>\n",
       "      <td>0</td>\n",
       "      <td>1</td>\n",
       "      <td>112</td>\n",
       "      <td>1</td>\n",
       "      <td>3</td>\n",
       "      <td>2</td>\n",
       "      <td>?</td>\n",
       "      <td>?</td>\n",
       "      <td>2</td>\n",
       "    </tr>\n",
       "    <tr>\n",
       "      <th>1</th>\n",
       "      <td>44</td>\n",
       "      <td>1</td>\n",
       "      <td>4</td>\n",
       "      <td>130</td>\n",
       "      <td>209</td>\n",
       "      <td>0</td>\n",
       "      <td>1</td>\n",
       "      <td>127</td>\n",
       "      <td>0</td>\n",
       "      <td>0</td>\n",
       "      <td>?</td>\n",
       "      <td>?</td>\n",
       "      <td>?</td>\n",
       "      <td>0</td>\n",
       "    </tr>\n",
       "    <tr>\n",
       "      <th>2</th>\n",
       "      <td>60</td>\n",
       "      <td>1</td>\n",
       "      <td>4</td>\n",
       "      <td>132</td>\n",
       "      <td>218</td>\n",
       "      <td>0</td>\n",
       "      <td>1</td>\n",
       "      <td>140</td>\n",
       "      <td>1</td>\n",
       "      <td>1.5</td>\n",
       "      <td>3</td>\n",
       "      <td>?</td>\n",
       "      <td>?</td>\n",
       "      <td>2</td>\n",
       "    </tr>\n",
       "    <tr>\n",
       "      <th>3</th>\n",
       "      <td>55</td>\n",
       "      <td>1</td>\n",
       "      <td>4</td>\n",
       "      <td>142</td>\n",
       "      <td>228</td>\n",
       "      <td>0</td>\n",
       "      <td>1</td>\n",
       "      <td>149</td>\n",
       "      <td>1</td>\n",
       "      <td>2.5</td>\n",
       "      <td>1</td>\n",
       "      <td>?</td>\n",
       "      <td>?</td>\n",
       "      <td>1</td>\n",
       "    </tr>\n",
       "    <tr>\n",
       "      <th>4</th>\n",
       "      <td>66</td>\n",
       "      <td>1</td>\n",
       "      <td>3</td>\n",
       "      <td>110</td>\n",
       "      <td>213</td>\n",
       "      <td>1</td>\n",
       "      <td>2</td>\n",
       "      <td>99</td>\n",
       "      <td>1</td>\n",
       "      <td>1.3</td>\n",
       "      <td>2</td>\n",
       "      <td>?</td>\n",
       "      <td>?</td>\n",
       "      <td>0</td>\n",
       "    </tr>\n",
       "  </tbody>\n",
       "</table>\n",
       "</div>"
      ],
      "text/plain": [
       "   age  sex  cp trestbps chol fbs  restecg thalach exang oldpeak slope ca  \\\n",
       "0   63    1   4      140  260   0        1     112     1       3     2  ?   \n",
       "1   44    1   4      130  209   0        1     127     0       0     ?  ?   \n",
       "2   60    1   4      132  218   0        1     140     1     1.5     3  ?   \n",
       "3   55    1   4      142  228   0        1     149     1     2.5     1  ?   \n",
       "4   66    1   3      110  213   1        2      99     1     1.3     2  ?   \n",
       "\n",
       "  thal  num  \n",
       "0    ?    2  \n",
       "1    ?    0  \n",
       "2    ?    2  \n",
       "3    ?    1  \n",
       "4    ?    0  "
      ]
     },
     "execution_count": 5,
     "metadata": {},
     "output_type": "execute_result"
    }
   ],
   "source": [
    "df.head()"
   ]
  },
  {
   "cell_type": "code",
   "execution_count": 6,
   "metadata": {
    "scrolled": true
   },
   "outputs": [
    {
     "data": {
      "text/plain": [
       "age          int64\n",
       "sex          int64\n",
       "cp           int64\n",
       "trestbps    object\n",
       "chol        object\n",
       "fbs         object\n",
       "restecg      int64\n",
       "thalach     object\n",
       "exang       object\n",
       "oldpeak     object\n",
       "slope       object\n",
       "ca          object\n",
       "thal        object\n",
       "num          int64\n",
       "dtype: object"
      ]
     },
     "execution_count": 6,
     "metadata": {},
     "output_type": "execute_result"
    }
   ],
   "source": [
    "df.dtypes"
   ]
  },
  {
   "cell_type": "code",
   "execution_count": 7,
   "metadata": {},
   "outputs": [],
   "source": [
    "df['trestbps']=df['trestbps'].replace('?',np.nan)"
   ]
  },
  {
   "cell_type": "code",
   "execution_count": 8,
   "metadata": {},
   "outputs": [],
   "source": [
    "df['trestbps']=df['trestbps'].astype(float)"
   ]
  },
  {
   "cell_type": "code",
   "execution_count": 9,
   "metadata": {},
   "outputs": [
    {
     "data": {
      "text/plain": [
       "age           int64\n",
       "sex           int64\n",
       "cp            int64\n",
       "trestbps    float64\n",
       "chol         object\n",
       "fbs          object\n",
       "restecg       int64\n",
       "thalach      object\n",
       "exang        object\n",
       "oldpeak      object\n",
       "slope        object\n",
       "ca           object\n",
       "thal         object\n",
       "num           int64\n",
       "dtype: object"
      ]
     },
     "execution_count": 9,
     "metadata": {},
     "output_type": "execute_result"
    }
   ],
   "source": [
    "df.dtypes"
   ]
  },
  {
   "cell_type": "code",
   "execution_count": 10,
   "metadata": {
    "scrolled": true
   },
   "outputs": [
    {
     "data": {
      "text/plain": [
       "120.0    16\n",
       "130.0    15\n",
       "140.0    10\n",
       "110.0     9\n",
       "150.0     9\n",
       "160.0     8\n",
       "122.0     6\n",
       "142.0     5\n",
       "170.0     4\n",
       "136.0     4\n",
       "134.0     4\n",
       "124.0     4\n",
       "126.0     4\n",
       "128.0     4\n",
       "144.0     4\n",
       "158.0     3\n",
       "132.0     3\n",
       "152.0     2\n",
       "116.0     2\n",
       "154.0     2\n",
       "180.0     2\n",
       "125.0     2\n",
       "138.0     2\n",
       "155.0     2\n",
       "112.0     2\n",
       "104.0     2\n",
       "114.0     1\n",
       "172.0     1\n",
       "190.0     1\n",
       "100.0     1\n",
       "118.0     1\n",
       "156.0     1\n",
       "102.0     1\n",
       "96.0      1\n",
       "106.0     1\n",
       "135.0     1\n",
       "146.0     1\n",
       "178.0     1\n",
       "0.0       1\n",
       "127.0     1\n",
       "Name: trestbps, dtype: int64"
      ]
     },
     "execution_count": 10,
     "metadata": {},
     "output_type": "execute_result"
    }
   ],
   "source": [
    "df['trestbps'].value_counts()"
   ]
  },
  {
   "cell_type": "code",
   "execution_count": 11,
   "metadata": {},
   "outputs": [],
   "source": [
    "mean=df['trestbps'].mean()"
   ]
  },
  {
   "cell_type": "code",
   "execution_count": 12,
   "metadata": {},
   "outputs": [
    {
     "data": {
      "text/plain": [
       "133.76388888888889"
      ]
     },
     "execution_count": 12,
     "metadata": {},
     "output_type": "execute_result"
    }
   ],
   "source": [
    "mean"
   ]
  },
  {
   "cell_type": "code",
   "execution_count": 13,
   "metadata": {},
   "outputs": [],
   "source": [
    "df['trestbps']=df['trestbps'].replace(0,mean)"
   ]
  },
  {
   "cell_type": "code",
   "execution_count": 14,
   "metadata": {},
   "outputs": [],
   "source": [
    "df['trestbps']=df['trestbps'].replace(np.nan,mean)"
   ]
  },
  {
   "cell_type": "code",
   "execution_count": 15,
   "metadata": {},
   "outputs": [],
   "source": [
    "df['trestbps']=df['trestbps'].astype(int)"
   ]
  },
  {
   "cell_type": "code",
   "execution_count": 16,
   "metadata": {
    "scrolled": true
   },
   "outputs": [
    {
     "data": {
      "text/plain": [
       "age          int64\n",
       "sex          int64\n",
       "cp           int64\n",
       "trestbps     int32\n",
       "chol        object\n",
       "fbs         object\n",
       "restecg      int64\n",
       "thalach     object\n",
       "exang       object\n",
       "oldpeak     object\n",
       "slope       object\n",
       "ca          object\n",
       "thal        object\n",
       "num          int64\n",
       "dtype: object"
      ]
     },
     "execution_count": 16,
     "metadata": {},
     "output_type": "execute_result"
    }
   ],
   "source": [
    "df.dtypes"
   ]
  },
  {
   "cell_type": "code",
   "execution_count": 17,
   "metadata": {},
   "outputs": [],
   "source": [
    "mode_fbs=df['fbs'].mode()"
   ]
  },
  {
   "cell_type": "code",
   "execution_count": 18,
   "metadata": {},
   "outputs": [
    {
     "data": {
      "text/plain": [
       "0    0\n",
       "dtype: object"
      ]
     },
     "execution_count": 18,
     "metadata": {},
     "output_type": "execute_result"
    }
   ],
   "source": [
    "mode_fbs"
   ]
  },
  {
   "cell_type": "code",
   "execution_count": 19,
   "metadata": {},
   "outputs": [],
   "source": [
    "mode_exang=df['exang'].mode()"
   ]
  },
  {
   "cell_type": "code",
   "execution_count": 20,
   "metadata": {},
   "outputs": [
    {
     "data": {
      "text/plain": [
       "0    1\n",
       "dtype: object"
      ]
     },
     "execution_count": 20,
     "metadata": {},
     "output_type": "execute_result"
    }
   ],
   "source": [
    "mode_exang"
   ]
  },
  {
   "cell_type": "code",
   "execution_count": 21,
   "metadata": {},
   "outputs": [],
   "source": [
    "df['slope']=df['slope'].replace('?',np.nan)\n",
    "df['slope']=df['slope'].astype(float)\n",
    "mean_slope=df['slope'].mean()"
   ]
  },
  {
   "cell_type": "code",
   "execution_count": 22,
   "metadata": {},
   "outputs": [
    {
     "data": {
      "text/plain": [
       "2.13265306122449"
      ]
     },
     "execution_count": 22,
     "metadata": {},
     "output_type": "execute_result"
    }
   ],
   "source": [
    "mean_slope"
   ]
  },
  {
   "cell_type": "code",
   "execution_count": 23,
   "metadata": {},
   "outputs": [
    {
     "data": {
      "text/plain": [
       "?    166\n",
       "7     22\n",
       "6      8\n",
       "3      4\n",
       "Name: thal, dtype: int64"
      ]
     },
     "execution_count": 23,
     "metadata": {},
     "output_type": "execute_result"
    }
   ],
   "source": [
    "df['thal'].value_counts()"
   ]
  },
  {
   "cell_type": "code",
   "execution_count": 24,
   "metadata": {},
   "outputs": [],
   "source": [
    "df['thal']=df['thal'].replace('?',np.nan)\n",
    "df['thal']=df['thal'].astype(float)\n",
    "mean_thal=df['thal'].mean()"
   ]
  },
  {
   "cell_type": "code",
   "execution_count": 25,
   "metadata": {},
   "outputs": [
    {
     "data": {
      "text/plain": [
       "6.294117647058823"
      ]
     },
     "execution_count": 25,
     "metadata": {},
     "output_type": "execute_result"
    }
   ],
   "source": [
    "mean_thal"
   ]
  },
  {
   "cell_type": "code",
   "execution_count": 26,
   "metadata": {},
   "outputs": [],
   "source": [
    "df['chol']=df['chol'].replace('?',np.nan)\n",
    "df['fbs']=df['fbs'].replace('?',0)\n",
    "df['thalach']=df['thalach'].replace('?',np.nan)\n",
    "df['exang']=df['exang'].replace('?',1)\n",
    "df['oldpeak']=df['oldpeak'].replace('?',np.nan)\n",
    "df['slope']=df['slope'].replace('?',2)\n",
    "df['ca']=df['ca'].replace('?',np.nan)\n",
    "df['thal']=df['thal'].replace('?',7)\n"
   ]
  },
  {
   "cell_type": "code",
   "execution_count": 27,
   "metadata": {},
   "outputs": [],
   "source": [
    "df['chol']=df['chol'].astype(float)\n",
    "\n",
    "df['thalach']=df['thalach'].astype(float)\n",
    "\n",
    "df['oldpeak']=df['oldpeak'].astype(float)\n",
    "\n",
    "df['ca']=df['ca'].astype(float)\n"
   ]
  },
  {
   "cell_type": "code",
   "execution_count": 28,
   "metadata": {},
   "outputs": [],
   "source": [
    "df['chol']=df['chol'].replace(np.nan,df['chol'].mean())"
   ]
  },
  {
   "cell_type": "code",
   "execution_count": 29,
   "metadata": {},
   "outputs": [],
   "source": [
    "\n",
    "df['thalach']=df['thalach'].replace(np.nan,df['thalach'].mean())\n",
    "\n",
    "df['oldpeak']=df['oldpeak'].replace(np.nan,df['oldpeak'].mean())\n",
    "\n",
    "df['ca']=df['ca'].replace(np.nan,df['ca'].mean())\n",
    "df['slope']=df['slope'].replace(np.nan,2)\n",
    "df['thal']=df['thal'].replace(np.nan,7)"
   ]
  },
  {
   "cell_type": "code",
   "execution_count": 30,
   "metadata": {},
   "outputs": [
    {
     "data": {
      "text/plain": [
       "0      0\n",
       "1      0\n",
       "2      0\n",
       "3      0\n",
       "4      1\n",
       "      ..\n",
       "195    1\n",
       "196    0\n",
       "197    1\n",
       "198    1\n",
       "199    0\n",
       "Name: fbs, Length: 200, dtype: object"
      ]
     },
     "execution_count": 30,
     "metadata": {},
     "output_type": "execute_result"
    }
   ],
   "source": [
    "df['fbs']"
   ]
  },
  {
   "cell_type": "code",
   "execution_count": 31,
   "metadata": {},
   "outputs": [
    {
     "data": {
      "text/plain": [
       "2.0    155\n",
       "3.0     29\n",
       "1.0     16\n",
       "Name: slope, dtype: int64"
      ]
     },
     "execution_count": 31,
     "metadata": {},
     "output_type": "execute_result"
    }
   ],
   "source": [
    "df['slope'].value_counts()"
   ]
  },
  {
   "cell_type": "code",
   "execution_count": 32,
   "metadata": {},
   "outputs": [
    {
     "data": {
      "text/plain": [
       "7.0    188\n",
       "6.0      8\n",
       "3.0      4\n",
       "Name: thal, dtype: int64"
      ]
     },
     "execution_count": 32,
     "metadata": {},
     "output_type": "execute_result"
    }
   ],
   "source": [
    "df['thal'].value_counts()"
   ]
  },
  {
   "cell_type": "code",
   "execution_count": 33,
   "metadata": {},
   "outputs": [
    {
     "data": {
      "text/plain": [
       "array(['0', '1', 0], dtype=object)"
      ]
     },
     "execution_count": 33,
     "metadata": {},
     "output_type": "execute_result"
    }
   ],
   "source": [
    "df['fbs'].unique()"
   ]
  },
  {
   "cell_type": "code",
   "execution_count": 34,
   "metadata": {},
   "outputs": [
    {
     "data": {
      "text/plain": [
       "0      2.0\n",
       "1      2.0\n",
       "2      3.0\n",
       "3      1.0\n",
       "4      2.0\n",
       "      ... \n",
       "195    2.0\n",
       "196    2.0\n",
       "197    2.0\n",
       "198    2.0\n",
       "199    2.0\n",
       "Name: slope, Length: 200, dtype: float64"
      ]
     },
     "execution_count": 34,
     "metadata": {},
     "output_type": "execute_result"
    }
   ],
   "source": [
    "df['slope']"
   ]
  },
  {
   "cell_type": "code",
   "execution_count": 35,
   "metadata": {},
   "outputs": [],
   "source": [
    "df['chol']=df['chol'].astype(int)\n",
    "df['thalach']=df['thalach'].astype(int)\n",
    "df['fbs']=df['fbs'].astype(int)\n",
    "df['ca']=df['ca'].astype(int)\n",
    "df['slope']=df['slope'].astype(int)\n",
    "df['thal']=df['thal'].astype(int)\n",
    "df['exang']=df['exang'].astype(int)"
   ]
  },
  {
   "cell_type": "code",
   "execution_count": 36,
   "metadata": {},
   "outputs": [
    {
     "data": {
      "text/plain": [
       "age           int64\n",
       "sex           int64\n",
       "cp            int64\n",
       "trestbps      int32\n",
       "chol          int32\n",
       "fbs           int32\n",
       "restecg       int64\n",
       "thalach       int32\n",
       "exang         int32\n",
       "oldpeak     float64\n",
       "slope         int32\n",
       "ca            int32\n",
       "thal          int32\n",
       "num           int64\n",
       "dtype: object"
      ]
     },
     "execution_count": 36,
     "metadata": {},
     "output_type": "execute_result"
    }
   ],
   "source": [
    "df.dtypes"
   ]
  },
  {
   "cell_type": "code",
   "execution_count": 37,
   "metadata": {},
   "outputs": [
    {
     "data": {
      "text/html": [
       "<div>\n",
       "<style scoped>\n",
       "    .dataframe tbody tr th:only-of-type {\n",
       "        vertical-align: middle;\n",
       "    }\n",
       "\n",
       "    .dataframe tbody tr th {\n",
       "        vertical-align: top;\n",
       "    }\n",
       "\n",
       "    .dataframe thead th {\n",
       "        text-align: right;\n",
       "    }\n",
       "</style>\n",
       "<table border=\"1\" class=\"dataframe\">\n",
       "  <thead>\n",
       "    <tr style=\"text-align: right;\">\n",
       "      <th></th>\n",
       "      <th>age</th>\n",
       "      <th>sex</th>\n",
       "      <th>cp</th>\n",
       "      <th>trestbps</th>\n",
       "      <th>chol</th>\n",
       "      <th>fbs</th>\n",
       "      <th>restecg</th>\n",
       "      <th>thalach</th>\n",
       "      <th>exang</th>\n",
       "      <th>oldpeak</th>\n",
       "      <th>slope</th>\n",
       "      <th>ca</th>\n",
       "      <th>thal</th>\n",
       "      <th>num</th>\n",
       "    </tr>\n",
       "  </thead>\n",
       "  <tbody>\n",
       "    <tr>\n",
       "      <th>count</th>\n",
       "      <td>200.000000</td>\n",
       "      <td>200.000000</td>\n",
       "      <td>200.000000</td>\n",
       "      <td>200.000000</td>\n",
       "      <td>200.000000</td>\n",
       "      <td>200.000000</td>\n",
       "      <td>200.000000</td>\n",
       "      <td>200.000000</td>\n",
       "      <td>200.000000</td>\n",
       "      <td>200.000000</td>\n",
       "      <td>200.000000</td>\n",
       "      <td>200.0</td>\n",
       "      <td>200.000000</td>\n",
       "      <td>200.000000</td>\n",
       "    </tr>\n",
       "    <tr>\n",
       "      <th>mean</th>\n",
       "      <td>59.350000</td>\n",
       "      <td>0.970000</td>\n",
       "      <td>3.505000</td>\n",
       "      <td>134.215000</td>\n",
       "      <td>178.720000</td>\n",
       "      <td>0.340000</td>\n",
       "      <td>0.735000</td>\n",
       "      <td>122.585000</td>\n",
       "      <td>0.740000</td>\n",
       "      <td>1.320833</td>\n",
       "      <td>2.065000</td>\n",
       "      <td>0.0</td>\n",
       "      <td>6.880000</td>\n",
       "      <td>1.520000</td>\n",
       "    </tr>\n",
       "    <tr>\n",
       "      <th>std</th>\n",
       "      <td>7.811697</td>\n",
       "      <td>0.171015</td>\n",
       "      <td>0.795701</td>\n",
       "      <td>15.600824</td>\n",
       "      <td>112.011717</td>\n",
       "      <td>0.474898</td>\n",
       "      <td>0.683455</td>\n",
       "      <td>18.838984</td>\n",
       "      <td>0.439735</td>\n",
       "      <td>0.937755</td>\n",
       "      <td>0.471046</td>\n",
       "      <td>0.0</td>\n",
       "      <td>0.589353</td>\n",
       "      <td>1.219441</td>\n",
       "    </tr>\n",
       "    <tr>\n",
       "      <th>min</th>\n",
       "      <td>35.000000</td>\n",
       "      <td>0.000000</td>\n",
       "      <td>1.000000</td>\n",
       "      <td>96.000000</td>\n",
       "      <td>0.000000</td>\n",
       "      <td>0.000000</td>\n",
       "      <td>0.000000</td>\n",
       "      <td>69.000000</td>\n",
       "      <td>0.000000</td>\n",
       "      <td>-0.500000</td>\n",
       "      <td>1.000000</td>\n",
       "      <td>0.0</td>\n",
       "      <td>3.000000</td>\n",
       "      <td>0.000000</td>\n",
       "    </tr>\n",
       "    <tr>\n",
       "      <th>25%</th>\n",
       "      <td>55.000000</td>\n",
       "      <td>1.000000</td>\n",
       "      <td>3.000000</td>\n",
       "      <td>126.000000</td>\n",
       "      <td>129.250000</td>\n",
       "      <td>0.000000</td>\n",
       "      <td>0.000000</td>\n",
       "      <td>112.000000</td>\n",
       "      <td>0.000000</td>\n",
       "      <td>1.000000</td>\n",
       "      <td>2.000000</td>\n",
       "      <td>0.0</td>\n",
       "      <td>7.000000</td>\n",
       "      <td>0.000000</td>\n",
       "    </tr>\n",
       "    <tr>\n",
       "      <th>50%</th>\n",
       "      <td>60.000000</td>\n",
       "      <td>1.000000</td>\n",
       "      <td>4.000000</td>\n",
       "      <td>133.000000</td>\n",
       "      <td>214.000000</td>\n",
       "      <td>0.000000</td>\n",
       "      <td>1.000000</td>\n",
       "      <td>122.000000</td>\n",
       "      <td>1.000000</td>\n",
       "      <td>1.320833</td>\n",
       "      <td>2.000000</td>\n",
       "      <td>0.0</td>\n",
       "      <td>7.000000</td>\n",
       "      <td>1.000000</td>\n",
       "    </tr>\n",
       "    <tr>\n",
       "      <th>75%</th>\n",
       "      <td>64.000000</td>\n",
       "      <td>1.000000</td>\n",
       "      <td>4.000000</td>\n",
       "      <td>140.000000</td>\n",
       "      <td>254.500000</td>\n",
       "      <td>1.000000</td>\n",
       "      <td>1.000000</td>\n",
       "      <td>130.000000</td>\n",
       "      <td>1.000000</td>\n",
       "      <td>2.000000</td>\n",
       "      <td>2.000000</td>\n",
       "      <td>0.0</td>\n",
       "      <td>7.000000</td>\n",
       "      <td>3.000000</td>\n",
       "    </tr>\n",
       "    <tr>\n",
       "      <th>max</th>\n",
       "      <td>77.000000</td>\n",
       "      <td>1.000000</td>\n",
       "      <td>4.000000</td>\n",
       "      <td>190.000000</td>\n",
       "      <td>458.000000</td>\n",
       "      <td>1.000000</td>\n",
       "      <td>2.000000</td>\n",
       "      <td>180.000000</td>\n",
       "      <td>1.000000</td>\n",
       "      <td>4.000000</td>\n",
       "      <td>3.000000</td>\n",
       "      <td>0.0</td>\n",
       "      <td>7.000000</td>\n",
       "      <td>4.000000</td>\n",
       "    </tr>\n",
       "  </tbody>\n",
       "</table>\n",
       "</div>"
      ],
      "text/plain": [
       "              age         sex          cp    trestbps        chol         fbs  \\\n",
       "count  200.000000  200.000000  200.000000  200.000000  200.000000  200.000000   \n",
       "mean    59.350000    0.970000    3.505000  134.215000  178.720000    0.340000   \n",
       "std      7.811697    0.171015    0.795701   15.600824  112.011717    0.474898   \n",
       "min     35.000000    0.000000    1.000000   96.000000    0.000000    0.000000   \n",
       "25%     55.000000    1.000000    3.000000  126.000000  129.250000    0.000000   \n",
       "50%     60.000000    1.000000    4.000000  133.000000  214.000000    0.000000   \n",
       "75%     64.000000    1.000000    4.000000  140.000000  254.500000    1.000000   \n",
       "max     77.000000    1.000000    4.000000  190.000000  458.000000    1.000000   \n",
       "\n",
       "          restecg     thalach       exang     oldpeak       slope     ca  \\\n",
       "count  200.000000  200.000000  200.000000  200.000000  200.000000  200.0   \n",
       "mean     0.735000  122.585000    0.740000    1.320833    2.065000    0.0   \n",
       "std      0.683455   18.838984    0.439735    0.937755    0.471046    0.0   \n",
       "min      0.000000   69.000000    0.000000   -0.500000    1.000000    0.0   \n",
       "25%      0.000000  112.000000    0.000000    1.000000    2.000000    0.0   \n",
       "50%      1.000000  122.000000    1.000000    1.320833    2.000000    0.0   \n",
       "75%      1.000000  130.000000    1.000000    2.000000    2.000000    0.0   \n",
       "max      2.000000  180.000000    1.000000    4.000000    3.000000    0.0   \n",
       "\n",
       "             thal         num  \n",
       "count  200.000000  200.000000  \n",
       "mean     6.880000    1.520000  \n",
       "std      0.589353    1.219441  \n",
       "min      3.000000    0.000000  \n",
       "25%      7.000000    0.000000  \n",
       "50%      7.000000    1.000000  \n",
       "75%      7.000000    3.000000  \n",
       "max      7.000000    4.000000  "
      ]
     },
     "execution_count": 37,
     "metadata": {},
     "output_type": "execute_result"
    }
   ],
   "source": [
    "df.describe()"
   ]
  },
  {
   "cell_type": "code",
   "execution_count": 38,
   "metadata": {},
   "outputs": [
    {
     "data": {
      "text/plain": [
       "0    200\n",
       "Name: ca, dtype: int64"
      ]
     },
     "execution_count": 38,
     "metadata": {},
     "output_type": "execute_result"
    }
   ],
   "source": [
    "df['ca'].value_counts()"
   ]
  },
  {
   "cell_type": "code",
   "execution_count": 39,
   "metadata": {},
   "outputs": [
    {
     "data": {
      "text/plain": [
       "array([ True,  True,  True,  True,  True,  True,  True,  True,  True,\n",
       "        True,  True, False,  True,  True])"
      ]
     },
     "execution_count": 39,
     "metadata": {},
     "output_type": "execute_result"
    }
   ],
   "source": [
    "from sklearn.feature_selection import VarianceThreshold\n",
    "var_tresh=VarianceThreshold(threshold=0)\n",
    "var_tresh.fit(df)\n",
    "var_tresh.get_support()"
   ]
  },
  {
   "cell_type": "code",
   "execution_count": 40,
   "metadata": {},
   "outputs": [],
   "source": [
    "# Only ca is of no variance so let us drop it\n",
    "df.drop('ca',axis=1,inplace=True)"
   ]
  },
  {
   "cell_type": "code",
   "execution_count": 41,
   "metadata": {},
   "outputs": [
    {
     "data": {
      "text/html": [
       "<div>\n",
       "<style scoped>\n",
       "    .dataframe tbody tr th:only-of-type {\n",
       "        vertical-align: middle;\n",
       "    }\n",
       "\n",
       "    .dataframe tbody tr th {\n",
       "        vertical-align: top;\n",
       "    }\n",
       "\n",
       "    .dataframe thead th {\n",
       "        text-align: right;\n",
       "    }\n",
       "</style>\n",
       "<table border=\"1\" class=\"dataframe\">\n",
       "  <thead>\n",
       "    <tr style=\"text-align: right;\">\n",
       "      <th></th>\n",
       "      <th>age</th>\n",
       "      <th>sex</th>\n",
       "      <th>cp</th>\n",
       "      <th>trestbps</th>\n",
       "      <th>chol</th>\n",
       "      <th>fbs</th>\n",
       "      <th>restecg</th>\n",
       "      <th>thalach</th>\n",
       "      <th>exang</th>\n",
       "      <th>oldpeak</th>\n",
       "      <th>slope</th>\n",
       "      <th>thal</th>\n",
       "      <th>num</th>\n",
       "    </tr>\n",
       "  </thead>\n",
       "  <tbody>\n",
       "    <tr>\n",
       "      <th>0</th>\n",
       "      <td>63</td>\n",
       "      <td>1</td>\n",
       "      <td>4</td>\n",
       "      <td>140</td>\n",
       "      <td>260</td>\n",
       "      <td>0</td>\n",
       "      <td>1</td>\n",
       "      <td>112</td>\n",
       "      <td>1</td>\n",
       "      <td>3.0</td>\n",
       "      <td>2</td>\n",
       "      <td>7</td>\n",
       "      <td>2</td>\n",
       "    </tr>\n",
       "    <tr>\n",
       "      <th>1</th>\n",
       "      <td>44</td>\n",
       "      <td>1</td>\n",
       "      <td>4</td>\n",
       "      <td>130</td>\n",
       "      <td>209</td>\n",
       "      <td>0</td>\n",
       "      <td>1</td>\n",
       "      <td>127</td>\n",
       "      <td>0</td>\n",
       "      <td>0.0</td>\n",
       "      <td>2</td>\n",
       "      <td>7</td>\n",
       "      <td>0</td>\n",
       "    </tr>\n",
       "    <tr>\n",
       "      <th>2</th>\n",
       "      <td>60</td>\n",
       "      <td>1</td>\n",
       "      <td>4</td>\n",
       "      <td>132</td>\n",
       "      <td>218</td>\n",
       "      <td>0</td>\n",
       "      <td>1</td>\n",
       "      <td>140</td>\n",
       "      <td>1</td>\n",
       "      <td>1.5</td>\n",
       "      <td>3</td>\n",
       "      <td>7</td>\n",
       "      <td>2</td>\n",
       "    </tr>\n",
       "    <tr>\n",
       "      <th>3</th>\n",
       "      <td>55</td>\n",
       "      <td>1</td>\n",
       "      <td>4</td>\n",
       "      <td>142</td>\n",
       "      <td>228</td>\n",
       "      <td>0</td>\n",
       "      <td>1</td>\n",
       "      <td>149</td>\n",
       "      <td>1</td>\n",
       "      <td>2.5</td>\n",
       "      <td>1</td>\n",
       "      <td>7</td>\n",
       "      <td>1</td>\n",
       "    </tr>\n",
       "    <tr>\n",
       "      <th>4</th>\n",
       "      <td>66</td>\n",
       "      <td>1</td>\n",
       "      <td>3</td>\n",
       "      <td>110</td>\n",
       "      <td>213</td>\n",
       "      <td>1</td>\n",
       "      <td>2</td>\n",
       "      <td>99</td>\n",
       "      <td>1</td>\n",
       "      <td>1.3</td>\n",
       "      <td>2</td>\n",
       "      <td>7</td>\n",
       "      <td>0</td>\n",
       "    </tr>\n",
       "  </tbody>\n",
       "</table>\n",
       "</div>"
      ],
      "text/plain": [
       "   age  sex  cp  trestbps  chol  fbs  restecg  thalach  exang  oldpeak  slope  \\\n",
       "0   63    1   4       140   260    0        1      112      1      3.0      2   \n",
       "1   44    1   4       130   209    0        1      127      0      0.0      2   \n",
       "2   60    1   4       132   218    0        1      140      1      1.5      3   \n",
       "3   55    1   4       142   228    0        1      149      1      2.5      1   \n",
       "4   66    1   3       110   213    1        2       99      1      1.3      2   \n",
       "\n",
       "   thal  num  \n",
       "0     7    2  \n",
       "1     7    0  \n",
       "2     7    2  \n",
       "3     7    1  \n",
       "4     7    0  "
      ]
     },
     "execution_count": 41,
     "metadata": {},
     "output_type": "execute_result"
    }
   ],
   "source": [
    "df.head()"
   ]
  },
  {
   "cell_type": "code",
   "execution_count": 42,
   "metadata": {},
   "outputs": [],
   "source": [
    "df_corr=df.corr()"
   ]
  },
  {
   "cell_type": "code",
   "execution_count": 43,
   "metadata": {},
   "outputs": [
    {
     "data": {
      "text/plain": [
       "<matplotlib.axes._subplots.AxesSubplot at 0x26aa50721c0>"
      ]
     },
     "execution_count": 43,
     "metadata": {},
     "output_type": "execute_result"
    },
    {
     "data": {
      "image/png": "[encoded data removed]",
      "text/plain": [
       "<Figure size 720x720 with 2 Axes>"
      ]
     },
     "metadata": {
      "needs_background": "light"
     },
     "output_type": "display_data"
    }
   ],
   "source": [
    "plt.figure(figsize=(10,10))\n",
    "sns.heatmap(df_corr,cmap='YlGnBu',annot = True)"
   ]
  },
  {
   "cell_type": "code",
   "execution_count": 44,
   "metadata": {},
   "outputs": [],
   "source": [
    "# restECG is of low correlated with O/P (num)"
   ]
  },
  {
   "cell_type": "code",
   "execution_count": 45,
   "metadata": {
    "scrolled": true
   },
   "outputs": [
    {
     "data": {
      "text/plain": [
       "age           int64\n",
       "sex           int64\n",
       "cp            int64\n",
       "trestbps      int32\n",
       "chol          int32\n",
       "fbs           int32\n",
       "restecg       int64\n",
       "thalach       int32\n",
       "exang         int32\n",
       "oldpeak     float64\n",
       "slope         int32\n",
       "thal          int32\n",
       "num           int64\n",
       "dtype: object"
      ]
     },
     "execution_count": 45,
     "metadata": {},
     "output_type": "execute_result"
    }
   ],
   "source": [
    "df.dtypes"
   ]
  },
  {
   "cell_type": "code",
   "execution_count": 46,
   "metadata": {},
   "outputs": [
    {
     "data": {
      "text/plain": [
       "1    194\n",
       "0      6\n",
       "Name: sex, dtype: int64"
      ]
     },
     "execution_count": 46,
     "metadata": {},
     "output_type": "execute_result"
    }
   ],
   "source": [
    "df['sex'].value_counts()\n",
    "#Only 6 Females"
   ]
  },
  {
   "cell_type": "code",
   "execution_count": 47,
   "metadata": {},
   "outputs": [
    {
     "data": {
      "text/plain": [
       "<matplotlib.axes._subplots.AxesSubplot at 0x26aa554e070>"
      ]
     },
     "execution_count": 47,
     "metadata": {},
     "output_type": "execute_result"
    },
    {
     "data": {
      "image/png": "[encoded data removed]",
      "text/plain": [
       "<Figure size 432x288 with 1 Axes>"
      ]
     },
     "metadata": {
      "needs_background": "light"
     },
     "output_type": "display_data"
    }
   ],
   "source": [
    "sns.countplot('num',hue='sex',data=df)"
   ]
  },
  {
   "cell_type": "code",
   "execution_count": 48,
   "metadata": {},
   "outputs": [],
   "source": [
    "# Males have high chances of Heat Disease"
   ]
  },
  {
   "cell_type": "code",
   "execution_count": 49,
   "metadata": {
    "scrolled": true
   },
   "outputs": [
    {
     "data": {
      "text/plain": [
       "<matplotlib.axes._subplots.AxesSubplot at 0x26aa56f3a60>"
      ]
     },
     "execution_count": 49,
     "metadata": {},
     "output_type": "execute_result"
    },
    {
     "data": {
      "image/png": "[encoded data removed]",
      "text/plain": [
       "<Figure size 432x288 with 1 Axes>"
      ]
     },
     "metadata": {
      "needs_background": "light"
     },
     "output_type": "display_data"
    }
   ],
   "source": [
    "sns.countplot('cp', hue='fbs',data=df)"
   ]
  },
  {
   "cell_type": "code",
   "execution_count": 50,
   "metadata": {},
   "outputs": [],
   "source": [
    "#most are asymptomatic with fasting blood sugar >128 gm/dl (with diabetes)"
   ]
  },
  {
   "cell_type": "code",
   "execution_count": 51,
   "metadata": {},
   "outputs": [],
   "source": [
    "y=df['num']"
   ]
  },
  {
   "cell_type": "code",
   "execution_count": 52,
   "metadata": {},
   "outputs": [],
   "source": [
    "x=df.drop('num',axis=1)"
   ]
  },
  {
   "cell_type": "code",
   "execution_count": 53,
   "metadata": {
    "scrolled": true
   },
   "outputs": [
    {
     "data": {
      "text/html": [
       "<div>\n",
       "<style scoped>\n",
       "    .dataframe tbody tr th:only-of-type {\n",
       "        vertical-align: middle;\n",
       "    }\n",
       "\n",
       "    .dataframe tbody tr th {\n",
       "        vertical-align: top;\n",
       "    }\n",
       "\n",
       "    .dataframe thead th {\n",
       "        text-align: right;\n",
       "    }\n",
       "</style>\n",
       "<table border=\"1\" class=\"dataframe\">\n",
       "  <thead>\n",
       "    <tr style=\"text-align: right;\">\n",
       "      <th></th>\n",
       "      <th>age</th>\n",
       "      <th>sex</th>\n",
       "      <th>cp</th>\n",
       "      <th>trestbps</th>\n",
       "      <th>chol</th>\n",
       "      <th>fbs</th>\n",
       "      <th>restecg</th>\n",
       "      <th>thalach</th>\n",
       "      <th>exang</th>\n",
       "      <th>oldpeak</th>\n",
       "      <th>slope</th>\n",
       "      <th>thal</th>\n",
       "    </tr>\n",
       "  </thead>\n",
       "  <tbody>\n",
       "    <tr>\n",
       "      <th>0</th>\n",
       "      <td>63</td>\n",
       "      <td>1</td>\n",
       "      <td>4</td>\n",
       "      <td>140</td>\n",
       "      <td>260</td>\n",
       "      <td>0</td>\n",
       "      <td>1</td>\n",
       "      <td>112</td>\n",
       "      <td>1</td>\n",
       "      <td>3.0</td>\n",
       "      <td>2</td>\n",
       "      <td>7</td>\n",
       "    </tr>\n",
       "    <tr>\n",
       "      <th>1</th>\n",
       "      <td>44</td>\n",
       "      <td>1</td>\n",
       "      <td>4</td>\n",
       "      <td>130</td>\n",
       "      <td>209</td>\n",
       "      <td>0</td>\n",
       "      <td>1</td>\n",
       "      <td>127</td>\n",
       "      <td>0</td>\n",
       "      <td>0.0</td>\n",
       "      <td>2</td>\n",
       "      <td>7</td>\n",
       "    </tr>\n",
       "    <tr>\n",
       "      <th>2</th>\n",
       "      <td>60</td>\n",
       "      <td>1</td>\n",
       "      <td>4</td>\n",
       "      <td>132</td>\n",
       "      <td>218</td>\n",
       "      <td>0</td>\n",
       "      <td>1</td>\n",
       "      <td>140</td>\n",
       "      <td>1</td>\n",
       "      <td>1.5</td>\n",
       "      <td>3</td>\n",
       "      <td>7</td>\n",
       "    </tr>\n",
       "    <tr>\n",
       "      <th>3</th>\n",
       "      <td>55</td>\n",
       "      <td>1</td>\n",
       "      <td>4</td>\n",
       "      <td>142</td>\n",
       "      <td>228</td>\n",
       "      <td>0</td>\n",
       "      <td>1</td>\n",
       "      <td>149</td>\n",
       "      <td>1</td>\n",
       "      <td>2.5</td>\n",
       "      <td>1</td>\n",
       "      <td>7</td>\n",
       "    </tr>\n",
       "    <tr>\n",
       "      <th>4</th>\n",
       "      <td>66</td>\n",
       "      <td>1</td>\n",
       "      <td>3</td>\n",
       "      <td>110</td>\n",
       "      <td>213</td>\n",
       "      <td>1</td>\n",
       "      <td>2</td>\n",
       "      <td>99</td>\n",
       "      <td>1</td>\n",
       "      <td>1.3</td>\n",
       "      <td>2</td>\n",
       "      <td>7</td>\n",
       "    </tr>\n",
       "  </tbody>\n",
       "</table>\n",
       "</div>"
      ],
      "text/plain": [
       "   age  sex  cp  trestbps  chol  fbs  restecg  thalach  exang  oldpeak  slope  \\\n",
       "0   63    1   4       140   260    0        1      112      1      3.0      2   \n",
       "1   44    1   4       130   209    0        1      127      0      0.0      2   \n",
       "2   60    1   4       132   218    0        1      140      1      1.5      3   \n",
       "3   55    1   4       142   228    0        1      149      1      2.5      1   \n",
       "4   66    1   3       110   213    1        2       99      1      1.3      2   \n",
       "\n",
       "   thal  \n",
       "0     7  \n",
       "1     7  \n",
       "2     7  \n",
       "3     7  \n",
       "4     7  "
      ]
     },
     "execution_count": 53,
     "metadata": {},
     "output_type": "execute_result"
    }
   ],
   "source": [
    "x.head()"
   ]
  },
  {
   "cell_type": "code",
   "execution_count": 54,
   "metadata": {},
   "outputs": [],
   "source": [
    "from sklearn.preprocessing import StandardScaler\n",
    "ss=StandardScaler()\n",
    "x=ss.fit_transform(x)"
   ]
  },
  {
   "cell_type": "code",
   "execution_count": 55,
   "metadata": {},
   "outputs": [
    {
     "data": {
      "text/plain": [
       "array([[ 4.68420533e-01,  1.75863115e-01,  6.23653755e-01, ...,\n",
       "         1.79511750e+00, -1.38337018e-01,  2.04124145e-01],\n",
       "       [-1.96993293e+00,  1.75863115e-01,  6.23653755e-01, ...,\n",
       "        -1.41204031e+00, -1.38337018e-01,  2.04124145e-01],\n",
       "       [ 8.34173552e-02,  1.75863115e-01,  6.23653755e-01, ...,\n",
       "         1.91538592e-01,  1.98992480e+00,  2.04124145e-01],\n",
       "       ...,\n",
       "       [-5.58254608e-01,  1.75863115e-01,  6.23653755e-01, ...,\n",
       "        -1.41204031e+00, -1.38337018e-01, -1.49691040e+00],\n",
       "       [-1.73251430e-01,  1.75863115e-01,  6.23653755e-01, ...,\n",
       "         2.37377363e-16, -1.38337018e-01,  2.04124145e-01],\n",
       "       [ 3.40086140e-01,  1.75863115e-01, -1.89615940e+00, ...,\n",
       "        -1.41204031e+00, -1.38337018e-01,  2.04124145e-01]])"
      ]
     },
     "execution_count": 55,
     "metadata": {},
     "output_type": "execute_result"
    }
   ],
   "source": [
    "x"
   ]
  },
  {
   "cell_type": "code",
   "execution_count": 56,
   "metadata": {},
   "outputs": [
    {
     "data": {
      "text/plain": [
       "1    56\n",
       "0    51\n",
       "3    42\n",
       "2    41\n",
       "4    10\n",
       "Name: num, dtype: int64"
      ]
     },
     "execution_count": 56,
     "metadata": {},
     "output_type": "execute_result"
    }
   ],
   "source": [
    "y.value_counts()"
   ]
  },
  {
   "cell_type": "code",
   "execution_count": 57,
   "metadata": {},
   "outputs": [],
   "source": [
    "from sklearn.preprocessing import LabelEncoder\n",
    "le=LabelEncoder()\n",
    "y=le.fit_transform(y)"
   ]
  },
  {
   "cell_type": "code",
   "execution_count": 58,
   "metadata": {},
   "outputs": [],
   "source": [
    "from sklearn.model_selection import train_test_split\n",
    "from sklearn.metrics import roc_auc_score,accuracy_score,f1_score\n",
    "def max_f1_scr(algo,x,y):\n",
    "    max_f1_scr=0\n",
    "    for r_state in range(42,150):\n",
    "        x_train, x_test, y_train, y_test = train_test_split(x, y,random_state = r_state,test_size=0.20)\n",
    "        algo.fit(x_train,y_train)\n",
    "        y_pred = algo.predict(x_test)\n",
    "        f1scr=f1_score(y_test,y_pred,average='weighted')\n",
    "        print(\"f1 score corresponding to \",r_state,\" is \",f1scr)\n",
    "        if f1scr>max_f1_scr:\n",
    "            max_f1_scr=f1scr\n",
    "            final_r_state=r_state\n",
    "    print(\"max f1 score corresponding to \",final_r_state,\" is \",max_f1_scr)\n",
    "    print(\"Accuracy is=\",accuracy_score(y_test,y_pred))\n",
    "    return final_r_state"
   ]
  },
  {
   "cell_type": "code",
   "execution_count": 59,
   "metadata": {},
   "outputs": [
    {
     "name": "stdout",
     "output_type": "stream",
     "text": [
      "f1 score corresponding to  42  is  0.3734335839598998\n",
      "f1 score corresponding to  43  is  0.34094117647058825\n",
      "f1 score corresponding to  44  is  0.17382426654872477\n",
      "f1 score corresponding to  45  is  0.4060106951871657\n",
      "f1 score corresponding to  46  is  0.3611969309462916\n",
      "f1 score corresponding to  47  is  0.359562016930438\n",
      "f1 score corresponding to  48  is  0.23404092071611254\n",
      "f1 score corresponding to  49  is  0.18720619658119658\n",
      "f1 score corresponding to  50  is  0.2146969696969697\n",
      "f1 score corresponding to  51  is  0.2157563025210084\n",
      "f1 score corresponding to  52  is  0.2909280303030303\n",
      "f1 score corresponding to  53  is  0.3651393800707302\n",
      "f1 score corresponding to  54  is  0.1592251461988304\n",
      "f1 score corresponding to  55  is  0.177\n",
      "f1 score corresponding to  56  is  0.28355889724310773\n",
      "f1 score corresponding to  57  is  0.393515037593985\n",
      "f1 score corresponding to  58  is  0.2640323263692829\n",
      "f1 score corresponding to  59  is  0.41888235294117643\n",
      "f1 score corresponding to  60  is  0.29102564102564105\n",
      "f1 score corresponding to  61  is  0.3364035087719298\n",
      "f1 score corresponding to  62  is  0.2343013468013468\n",
      "f1 score corresponding to  63  is  0.12247474747474747\n",
      "f1 score corresponding to  64  is  0.2841578947368421\n",
      "f1 score corresponding to  65  is  0.3206501547987616\n",
      "f1 score corresponding to  66  is  0.1770879120879121\n",
      "f1 score corresponding to  67  is  0.4282579185520362\n",
      "f1 score corresponding to  68  is  0.2639784946236559\n",
      "f1 score corresponding to  69  is  0.17545289855072463\n",
      "f1 score corresponding to  70  is  0.34348776223776223\n",
      "f1 score corresponding to  71  is  0.3127777777777778\n",
      "f1 score corresponding to  72  is  0.28487745098039213\n",
      "f1 score corresponding to  73  is  0.3446859903381642\n",
      "f1 score corresponding to  74  is  0.3413183694530444\n",
      "f1 score corresponding to  75  is  0.2542163742690059\n",
      "f1 score corresponding to  76  is  0.4560814185814185\n",
      "f1 score corresponding to  77  is  0.3759868421052632\n",
      "f1 score corresponding to  78  is  0.3845959595959595\n",
      "f1 score corresponding to  79  is  0.25420168067226895\n",
      "f1 score corresponding to  80  is  0.23920965608465608\n",
      "f1 score corresponding to  81  is  0.27983453617320897\n",
      "f1 score corresponding to  82  is  0.34716117216117215\n",
      "f1 score corresponding to  83  is  0.205\n",
      "f1 score corresponding to  84  is  0.17679738562091502\n",
      "f1 score corresponding to  85  is  0.338804347826087\n",
      "f1 score corresponding to  86  is  0.1675324675324675\n",
      "f1 score corresponding to  87  is  0.40026223776223774\n",
      "f1 score corresponding to  88  is  0.30046498599439775\n",
      "f1 score corresponding to  89  is  0.3690684591914569\n",
      "f1 score corresponding to  90  is  0.3458333333333333\n",
      "f1 score corresponding to  91  is  0.3201785714285714\n",
      "f1 score corresponding to  92  is  0.23666666666666666\n",
      "f1 score corresponding to  93  is  0.33229166666666665\n",
      "f1 score corresponding to  94  is  0.2154220779220779\n",
      "f1 score corresponding to  95  is  0.3787698412698413\n",
      "f1 score corresponding to  96  is  0.3221113445378151\n",
      "f1 score corresponding to  97  is  0.306203007518797\n",
      "f1 score corresponding to  98  is  0.3682994541690194\n",
      "f1 score corresponding to  99  is  0.45008928571428575\n",
      "f1 score corresponding to  100  is  0.33345755693581774\n",
      "f1 score corresponding to  101  is  0.3951002506265664\n",
      "f1 score corresponding to  102  is  0.13964646464646463\n",
      "f1 score corresponding to  103  is  0.3077777777777778\n",
      "f1 score corresponding to  104  is  0.30214285714285716\n",
      "f1 score corresponding to  105  is  0.19358141858141859\n",
      "f1 score corresponding to  106  is  0.31558984359293957\n",
      "f1 score corresponding to  107  is  0.33800611153552323\n",
      "f1 score corresponding to  108  is  0.3002355487649605\n",
      "f1 score corresponding to  109  is  0.2677361853832442\n",
      "f1 score corresponding to  110  is  0.3527377354103697\n",
      "f1 score corresponding to  111  is  0.2466304347826087\n",
      "f1 score corresponding to  112  is  0.3640151515151515\n",
      "f1 score corresponding to  113  is  0.18349043965412254\n",
      "f1 score corresponding to  114  is  0.27946428571428567\n",
      "f1 score corresponding to  115  is  0.3067454642039883\n",
      "f1 score corresponding to  116  is  0.2657738095238095\n",
      "f1 score corresponding to  117  is  0.35225071225071225\n",
      "f1 score corresponding to  118  is  0.3333333333333333\n",
      "f1 score corresponding to  119  is  0.348\n",
      "f1 score corresponding to  120  is  0.2579166666666667\n",
      "f1 score corresponding to  121  is  0.4036467086834734\n",
      "f1 score corresponding to  122  is  0.15579124040920717\n",
      "f1 score corresponding to  123  is  0.2701890756302521\n",
      "f1 score corresponding to  124  is  0.2112490450725745\n",
      "f1 score corresponding to  125  is  0.2338888888888889\n",
      "f1 score corresponding to  126  is  0.37877702859800044\n",
      "f1 score corresponding to  127  is  0.2975\n",
      "f1 score corresponding to  128  is  0.24752100840336136\n",
      "f1 score corresponding to  129  is  0.40042857142857147\n",
      "f1 score corresponding to  130  is  0.3059757236227824\n",
      "f1 score corresponding to  131  is  0.2665349143610013\n",
      "f1 score corresponding to  132  is  0.2939947606572993\n",
      "f1 score corresponding to  133  is  0.3059386973180077\n",
      "f1 score corresponding to  134  is  0.19624999999999998\n",
      "f1 score corresponding to  135  is  0.4300113636363636\n",
      "f1 score corresponding to  136  is  0.20564649048025005\n",
      "f1 score corresponding to  137  is  0.32593305514425447\n",
      "f1 score corresponding to  138  is  0.23697244784201307\n",
      "f1 score corresponding to  139  is  0.13132832080200502\n",
      "f1 score corresponding to  140  is  0.2502727406752175\n",
      "f1 score corresponding to  141  is  0.28327231121281465\n",
      "f1 score corresponding to  142  is  0.3675724637681159\n",
      "f1 score corresponding to  143  is  0.26915266106442576\n",
      "f1 score corresponding to  144  is  0.31606066567703395\n",
      "f1 score corresponding to  145  is  0.26351449275362315\n",
      "f1 score corresponding to  146  is  0.2104166666666667\n",
      "f1 score corresponding to  147  is  0.25366692131398016\n",
      "f1 score corresponding to  148  is  0.2375\n",
      "f1 score corresponding to  149  is  0.23454106280193238\n",
      "max f1 score corresponding to  76  is  0.4560814185814185\n",
      "Accuracy is= 0.25\n"
     ]
    },
    {
     "data": {
      "text/plain": [
       "76"
      ]
     },
     "execution_count": 59,
     "metadata": {},
     "output_type": "execute_result"
    }
   ],
   "source": [
    "from sklearn.tree import DecisionTreeClassifier\n",
    "algo=DecisionTreeClassifier()\n",
    "max_f1_scr(algo,x,y)"
   ]
  },
  {
   "cell_type": "code",
   "execution_count": 63,
   "metadata": {},
   "outputs": [
    {
     "name": "stdout",
     "output_type": "stream",
     "text": [
      "f1 score corresponding to  42  is  0.2570588235294118\n",
      "f1 score corresponding to  43  is  0.32955746738641467\n",
      "f1 score corresponding to  44  is  0.35692982456140354\n",
      "f1 score corresponding to  45  is  0.2935854341736695\n",
      "f1 score corresponding to  46  is  0.42777777777777776\n",
      "f1 score corresponding to  47  is  0.3439473684210526\n",
      "f1 score corresponding to  48  is  0.22523604269293926\n",
      "f1 score corresponding to  49  is  0.4354166666666666\n",
      "f1 score corresponding to  50  is  0.22994047619047614\n",
      "f1 score corresponding to  51  is  0.26751782531194296\n",
      "f1 score corresponding to  52  is  0.4411858974358974\n",
      "f1 score corresponding to  53  is  0.3031346749226006\n",
      "f1 score corresponding to  54  is  0.26444935869084474\n",
      "f1 score corresponding to  55  is  0.2830665024630542\n",
      "f1 score corresponding to  56  is  0.33496058988049837\n",
      "f1 score corresponding to  57  is  0.3391188219992568\n",
      "f1 score corresponding to  58  is  0.3491071428571429\n",
      "f1 score corresponding to  59  is  0.3421717171717172\n",
      "f1 score corresponding to  60  is  0.3273325358851675\n",
      "f1 score corresponding to  61  is  0.3494372294372295\n",
      "f1 score corresponding to  62  is  0.25414580588493635\n",
      "f1 score corresponding to  63  is  0.24117647058823527\n",
      "f1 score corresponding to  64  is  0.2693452380952381\n",
      "f1 score corresponding to  65  is  0.30157959687371455\n",
      "f1 score corresponding to  66  is  0.2664242424242424\n",
      "f1 score corresponding to  67  is  0.3817867647058824\n",
      "f1 score corresponding to  68  is  0.31992063492063494\n",
      "f1 score corresponding to  69  is  0.27898550724637683\n",
      "f1 score corresponding to  70  is  0.3353260869565218\n",
      "f1 score corresponding to  71  is  0.4509772727272727\n",
      "f1 score corresponding to  72  is  0.2433048433048433\n",
      "f1 score corresponding to  73  is  0.30644736842105263\n",
      "f1 score corresponding to  74  is  0.41124223602484467\n",
      "f1 score corresponding to  75  is  0.28896987780619493\n",
      "f1 score corresponding to  76  is  0.4569252873563219\n",
      "f1 score corresponding to  77  is  0.34766167336499815\n",
      "f1 score corresponding to  78  is  0.4170108695652173\n",
      "f1 score corresponding to  79  is  0.219729788467111\n",
      "f1 score corresponding to  80  is  0.338515406162465\n",
      "f1 score corresponding to  81  is  0.3142408245349422\n",
      "f1 score corresponding to  82  is  0.331283422459893\n",
      "f1 score corresponding to  83  is  0.4420142653835728\n",
      "f1 score corresponding to  84  is  0.3394339095287237\n",
      "f1 score corresponding to  85  is  0.45576923076923076\n",
      "f1 score corresponding to  86  is  0.33479681727763566\n",
      "f1 score corresponding to  87  is  0.3275320512820513\n",
      "f1 score corresponding to  88  is  0.22210593619598867\n",
      "f1 score corresponding to  89  is  0.4529522081064731\n",
      "f1 score corresponding to  90  is  0.3372153209109731\n",
      "f1 score corresponding to  91  is  0.2788564004196996\n",
      "f1 score corresponding to  92  is  0.2665349143610013\n",
      "f1 score corresponding to  93  is  0.32643356643356636\n",
      "f1 score corresponding to  94  is  0.22297312882020526\n",
      "f1 score corresponding to  95  is  0.41026026604973975\n",
      "f1 score corresponding to  96  is  0.36946581196581196\n",
      "f1 score corresponding to  97  is  0.2923121976063152\n",
      "f1 score corresponding to  98  is  0.38355429292929294\n",
      "f1 score corresponding to  99  is  0.48166666666666674\n",
      "f1 score corresponding to  100  is  0.3326923076923077\n",
      "f1 score corresponding to  101  is  0.35721854770616385\n",
      "f1 score corresponding to  102  is  0.1962121212121212\n",
      "f1 score corresponding to  103  is  0.4014241486068112\n",
      "f1 score corresponding to  104  is  0.30914855072463765\n",
      "f1 score corresponding to  105  is  0.23809022556390977\n",
      "f1 score corresponding to  106  is  0.28717105263157894\n",
      "f1 score corresponding to  107  is  0.29350649350649344\n",
      "f1 score corresponding to  108  is  0.2898160173160173\n",
      "f1 score corresponding to  109  is  0.56247947454844\n",
      "f1 score corresponding to  110  is  0.40390368103763247\n",
      "f1 score corresponding to  111  is  0.3065584415584416\n",
      "f1 score corresponding to  112  is  0.3772095959595959\n",
      "f1 score corresponding to  113  is  0.20841970655539105\n",
      "f1 score corresponding to  114  is  0.34384920634920635\n",
      "f1 score corresponding to  115  is  0.35442982456140354\n",
      "f1 score corresponding to  116  is  0.3226090627638615\n",
      "f1 score corresponding to  117  is  0.3877175417175418\n",
      "f1 score corresponding to  118  is  0.23774509803921573\n",
      "f1 score corresponding to  119  is  0.3000741106719368\n",
      "f1 score corresponding to  120  is  0.26210717009916096\n",
      "f1 score corresponding to  121  is  0.3489932523616734\n",
      "f1 score corresponding to  122  is  0.2646122994652407\n",
      "f1 score corresponding to  123  is  0.3686080586080586\n",
      "f1 score corresponding to  124  is  0.34624332570556826\n",
      "f1 score corresponding to  125  is  0.36873577402989166\n",
      "f1 score corresponding to  126  is  0.3723000683526999\n",
      "f1 score corresponding to  127  is  0.34461538461538466\n",
      "f1 score corresponding to  128  is  0.27665598290598287\n",
      "f1 score corresponding to  129  is  0.31295833333333334\n",
      "f1 score corresponding to  130  is  0.2866147741147741\n",
      "f1 score corresponding to  131  is  0.2662663067926226\n",
      "f1 score corresponding to  132  is  0.3408730158730158\n",
      "f1 score corresponding to  133  is  0.35759502923976605\n",
      "f1 score corresponding to  134  is  0.3454331983805668\n",
      "f1 score corresponding to  135  is  0.40217948717948715\n",
      "f1 score corresponding to  136  is  0.28890299277605785\n",
      "f1 score corresponding to  137  is  0.273140756302521\n",
      "f1 score corresponding to  138  is  0.19509803921568625\n",
      "f1 score corresponding to  139  is  0.29358786993058095\n",
      "f1 score corresponding to  140  is  0.3028947368421052\n",
      "f1 score corresponding to  141  is  0.39753009975920195\n",
      "f1 score corresponding to  142  is  0.39198872785829303\n",
      "f1 score corresponding to  143  is  0.43822222222222224\n",
      "f1 score corresponding to  144  is  0.23848357524828115\n",
      "f1 score corresponding to  145  is  0.4722907618697093\n",
      "f1 score corresponding to  146  is  0.295078431372549\n",
      "f1 score corresponding to  147  is  0.21492929292929297\n",
      "f1 score corresponding to  148  is  0.2938636363636363\n",
      "f1 score corresponding to  149  is  0.24413157894736842\n",
      "max f1 score corresponding to  109  is  0.56247947454844\n",
      "Accuracy is= 0.3\n"
     ]
    },
    {
     "data": {
      "text/plain": [
       "109"
      ]
     },
     "execution_count": 63,
     "metadata": {},
     "output_type": "execute_result"
    }
   ],
   "source": [
    "from sklearn.model_selection import cross_val_score\n",
    "from sklearn.ensemble import RandomForestClassifier\n",
    "\n",
    "algo=RandomForestClassifier(n_estimators=100)\n",
    "max_f1_scr(algo,x,y)"
   ]
  },
  {
   "cell_type": "code",
   "execution_count": 64,
   "metadata": {},
   "outputs": [],
   "source": [
    "# f1 score is 56 here"
   ]
  },
  {
   "cell_type": "code",
   "execution_count": 84,
   "metadata": {},
   "outputs": [
    {
     "name": "stdout",
     "output_type": "stream",
     "text": [
      "f1 score corresponding to  42  is  0.2689434984520124\n",
      "f1 score corresponding to  43  is  0.3583985507246376\n",
      "f1 score corresponding to  44  is  0.30745970038733195\n",
      "f1 score corresponding to  45  is  0.36972963098282785\n",
      "f1 score corresponding to  46  is  0.4473291925465839\n",
      "f1 score corresponding to  47  is  0.23703703703703702\n",
      "f1 score corresponding to  48  is  0.23874999999999996\n",
      "f1 score corresponding to  49  is  0.2896093867146499\n",
      "f1 score corresponding to  50  is  0.2782222222222222\n",
      "f1 score corresponding to  51  is  0.2382894736842105\n",
      "f1 score corresponding to  52  is  0.341801335918983\n",
      "f1 score corresponding to  53  is  0.22166666666666668\n",
      "f1 score corresponding to  54  is  0.2951388888888889\n",
      "f1 score corresponding to  55  is  0.31999807987711215\n",
      "f1 score corresponding to  56  is  0.17948232323232322\n",
      "f1 score corresponding to  57  is  0.2974651702786378\n",
      "f1 score corresponding to  58  is  0.3898443223443223\n",
      "f1 score corresponding to  59  is  0.27481779160545045\n",
      "f1 score corresponding to  60  is  0.34060043156018394\n",
      "f1 score corresponding to  61  is  0.30963585434173674\n",
      "f1 score corresponding to  62  is  0.22864985256289608\n",
      "f1 score corresponding to  63  is  0.35924453513462806\n",
      "f1 score corresponding to  64  is  0.4144444444444444\n",
      "f1 score corresponding to  65  is  0.24875983061101029\n",
      "f1 score corresponding to  66  is  0.29\n",
      "f1 score corresponding to  67  is  0.5123200329082682\n",
      "f1 score corresponding to  68  is  0.3985714285714285\n",
      "f1 score corresponding to  69  is  0.3713942307692307\n",
      "f1 score corresponding to  70  is  0.31911027568922307\n",
      "f1 score corresponding to  71  is  0.415801348410044\n",
      "f1 score corresponding to  72  is  0.2767857142857143\n",
      "f1 score corresponding to  73  is  0.19759615384615384\n",
      "f1 score corresponding to  74  is  0.3778812974465149\n",
      "f1 score corresponding to  75  is  0.2971052631578947\n",
      "f1 score corresponding to  76  is  0.5549242424242424\n",
      "f1 score corresponding to  77  is  0.4107142857142857\n",
      "f1 score corresponding to  78  is  0.2585772239930455\n",
      "f1 score corresponding to  79  is  0.3513265243528402\n",
      "f1 score corresponding to  80  is  0.29355203619909503\n",
      "f1 score corresponding to  81  is  0.2528186274509804\n",
      "f1 score corresponding to  82  is  0.2515873015873016\n",
      "f1 score corresponding to  83  is  0.39490942028985504\n",
      "f1 score corresponding to  84  is  0.26609634238310703\n",
      "f1 score corresponding to  85  is  0.35302318295739343\n",
      "f1 score corresponding to  86  is  0.24992156862745096\n",
      "f1 score corresponding to  87  is  0.24961370873135583\n",
      "f1 score corresponding to  88  is  0.29024544534412955\n",
      "f1 score corresponding to  89  is  0.4496345029239766\n",
      "f1 score corresponding to  90  is  0.27749999999999997\n",
      "f1 score corresponding to  91  is  0.2607581699346405\n",
      "f1 score corresponding to  92  is  0.28970051687442994\n",
      "f1 score corresponding to  93  is  0.36718052738336715\n",
      "f1 score corresponding to  94  is  0.4470564668174962\n",
      "f1 score corresponding to  95  is  0.2160894660894661\n",
      "f1 score corresponding to  96  is  0.4877375565610859\n",
      "f1 score corresponding to  97  is  0.2585339026915114\n",
      "f1 score corresponding to  98  is  0.32657407407407407\n",
      "f1 score corresponding to  99  is  0.3292419283502874\n",
      "f1 score corresponding to  100  is  0.34315210932858\n",
      "f1 score corresponding to  101  is  0.3417494270435447\n",
      "f1 score corresponding to  102  is  0.1632258064516129\n",
      "f1 score corresponding to  103  is  0.3896491228070176\n",
      "f1 score corresponding to  104  is  0.23665281329923277\n",
      "f1 score corresponding to  105  is  0.33000416765896645\n",
      "f1 score corresponding to  106  is  0.3054861111111111\n",
      "f1 score corresponding to  107  is  0.30518575851393187\n",
      "f1 score corresponding to  108  is  0.34375\n",
      "f1 score corresponding to  109  is  0.40025000000000005\n",
      "f1 score corresponding to  110  is  0.3813464803447826\n",
      "f1 score corresponding to  111  is  0.260200983227299\n",
      "f1 score corresponding to  112  is  0.3919580419580419\n",
      "f1 score corresponding to  113  is  0.2923487073641872\n",
      "f1 score corresponding to  114  is  0.2861491935483871\n",
      "f1 score corresponding to  115  is  0.35917293233082703\n",
      "f1 score corresponding to  116  is  0.27602484472049693\n",
      "f1 score corresponding to  117  is  0.4574358974358975\n",
      "f1 score corresponding to  118  is  0.33931488801054016\n",
      "f1 score corresponding to  119  is  0.36892339544513464\n",
      "f1 score corresponding to  120  is  0.17462538699690403\n",
      "f1 score corresponding to  121  is  0.36347637163199775\n",
      "f1 score corresponding to  122  is  0.19730263157894737\n",
      "f1 score corresponding to  123  is  0.28753758575390453\n",
      "f1 score corresponding to  124  is  0.27788235294117647\n",
      "f1 score corresponding to  125  is  0.20236203352308663\n",
      "f1 score corresponding to  126  is  0.28538461538461535\n",
      "f1 score corresponding to  127  is  0.2767857142857143\n",
      "f1 score corresponding to  128  is  0.29870614035087717\n",
      "f1 score corresponding to  129  is  0.2658986175115207\n",
      "f1 score corresponding to  130  is  0.2957941176470588\n",
      "f1 score corresponding to  131  is  0.3065126050420168\n",
      "f1 score corresponding to  132  is  0.28408613445378156\n",
      "f1 score corresponding to  133  is  0.3524336384439359\n",
      "f1 score corresponding to  134  is  0.20138224348750663\n",
      "f1 score corresponding to  135  is  0.37076330532212887\n",
      "f1 score corresponding to  136  is  0.19916666666666666\n",
      "f1 score corresponding to  137  is  0.303056884635832\n",
      "f1 score corresponding to  138  is  0.27709803921568626\n",
      "f1 score corresponding to  139  is  0.3144334975369458\n",
      "f1 score corresponding to  140  is  0.2011111111111111\n",
      "f1 score corresponding to  141  is  0.30970765345765344\n",
      "f1 score corresponding to  142  is  0.24179894179894182\n",
      "f1 score corresponding to  143  is  0.42035296574770253\n",
      "f1 score corresponding to  144  is  0.16350762527233118\n",
      "f1 score corresponding to  145  is  0.3625330225330225\n",
      "f1 score corresponding to  146  is  0.4196428571428571\n",
      "f1 score corresponding to  147  is  0.23626984126984127\n",
      "f1 score corresponding to  148  is  0.240910176779742\n",
      "f1 score corresponding to  149  is  0.2316666666666667\n",
      "max f1 score corresponding to  76  is  0.5549242424242424\n",
      "Accuracy is= 0.275\n"
     ]
    },
    {
     "data": {
      "text/plain": [
       "76"
      ]
     },
     "execution_count": 84,
     "metadata": {},
     "output_type": "execute_result"
    }
   ],
   "source": [
    "from sklearn.svm import SVC\n",
    "algo = SVC(kernel='poly', C=10)\n",
    "max_f1_scr(algo,x,y)"
   ]
  },
  {
   "cell_type": "code",
   "execution_count": 87,
   "metadata": {},
   "outputs": [
    {
     "data": {
      "text/plain": [
       "{'C': 1, 'kernel': 'rbf'}"
      ]
     },
     "execution_count": 87,
     "metadata": {},
     "output_type": "execute_result"
    }
   ],
   "source": [
    "svc=SVC()\n",
    "parameters={\"kernel\":[\"linear\", \"poly\", \"rbf\"],\"C\":[0.001,0.01,0.1,1,10]}\n",
    "gsv = GridSearchCV(svc, parameters, cv=5,scoring=None)\n",
    "gsv.fit(x,y)\n",
    "gsv.best_params_"
   ]
  },
  {
   "cell_type": "code",
   "execution_count": 89,
   "metadata": {},
   "outputs": [
    {
     "name": "stdout",
     "output_type": "stream",
     "text": [
      "f1 score corresponding to  42  is  0.36426955397543637\n",
      "f1 score corresponding to  43  is  0.3513417065390749\n",
      "f1 score corresponding to  44  is  0.3044254658385093\n",
      "f1 score corresponding to  45  is  0.29712341197822145\n",
      "f1 score corresponding to  46  is  0.344017094017094\n",
      "f1 score corresponding to  47  is  0.2773517786561265\n",
      "f1 score corresponding to  48  is  0.3308333333333333\n",
      "f1 score corresponding to  49  is  0.3946969696969697\n",
      "f1 score corresponding to  50  is  0.2828042328042328\n",
      "f1 score corresponding to  51  is  0.3174342105263158\n",
      "f1 score corresponding to  52  is  0.44861111111111107\n",
      "f1 score corresponding to  53  is  0.39909356725146206\n",
      "f1 score corresponding to  54  is  0.30613344988344987\n",
      "f1 score corresponding to  55  is  0.43285714285714283\n",
      "f1 score corresponding to  56  is  0.23895833333333333\n",
      "f1 score corresponding to  57  is  0.31703477443609024\n",
      "f1 score corresponding to  58  is  0.3977564102564103\n",
      "f1 score corresponding to  59  is  0.36592261904761914\n",
      "f1 score corresponding to  60  is  0.3425737946264262\n",
      "f1 score corresponding to  61  is  0.460222816399287\n",
      "f1 score corresponding to  62  is  0.19457671957671954\n",
      "f1 score corresponding to  63  is  0.27587121212121213\n",
      "f1 score corresponding to  64  is  0.3019271051529116\n",
      "f1 score corresponding to  65  is  0.23602272727272727\n",
      "f1 score corresponding to  66  is  0.2754679802955665\n",
      "f1 score corresponding to  67  is  0.46490909090909094\n",
      "f1 score corresponding to  68  is  0.37752373813093454\n",
      "f1 score corresponding to  69  is  0.24345238095238092\n",
      "f1 score corresponding to  70  is  0.21417821309125656\n",
      "f1 score corresponding to  71  is  0.5134029304029305\n",
      "f1 score corresponding to  72  is  0.24144796380090497\n",
      "f1 score corresponding to  73  is  0.39739052423548993\n",
      "f1 score corresponding to  74  is  0.3136091359620771\n",
      "f1 score corresponding to  75  is  0.31\n",
      "f1 score corresponding to  76  is  0.5064765694076039\n",
      "f1 score corresponding to  77  is  0.495266290726817\n",
      "f1 score corresponding to  78  is  0.38151638466481047\n",
      "f1 score corresponding to  79  is  0.18718766613503457\n",
      "f1 score corresponding to  80  is  0.2908161886422756\n",
      "f1 score corresponding to  81  is  0.23009049773755655\n",
      "f1 score corresponding to  82  is  0.24907407407407406\n",
      "f1 score corresponding to  83  is  0.41311712184873955\n",
      "f1 score corresponding to  84  is  0.28909056422643375\n",
      "f1 score corresponding to  85  is  0.3415319865319865\n",
      "f1 score corresponding to  86  is  0.3612137862137862\n",
      "f1 score corresponding to  87  is  0.2522157190635451\n",
      "f1 score corresponding to  88  is  0.24214285714285716\n",
      "f1 score corresponding to  89  is  0.37823529411764706\n",
      "f1 score corresponding to  90  is  0.26666666666666666\n",
      "f1 score corresponding to  91  is  0.39304785793916225\n",
      "f1 score corresponding to  92  is  0.2791093117408907\n",
      "f1 score corresponding to  93  is  0.377841628959276\n",
      "f1 score corresponding to  94  is  0.31369047619047624\n",
      "f1 score corresponding to  95  is  0.40923529411764703\n",
      "f1 score corresponding to  96  is  0.3290126753042354\n",
      "f1 score corresponding to  97  is  0.28279720279720283\n",
      "f1 score corresponding to  98  is  0.2836052561954317\n",
      "f1 score corresponding to  99  is  0.3932405956112853\n",
      "f1 score corresponding to  100  is  0.40738095238095234\n",
      "f1 score corresponding to  101  is  0.32722169135212614\n",
      "f1 score corresponding to  102  is  0.21411111111111109\n",
      "f1 score corresponding to  103  is  0.3527371941559585\n",
      "f1 score corresponding to  104  is  0.2746503496503496\n",
      "f1 score corresponding to  105  is  0.23294314381270903\n",
      "f1 score corresponding to  106  is  0.3279369237573572\n",
      "f1 score corresponding to  107  is  0.35352941176470587\n",
      "f1 score corresponding to  108  is  0.2860779220779221\n",
      "f1 score corresponding to  109  is  0.4014074074074075\n",
      "f1 score corresponding to  110  is  0.36754135338345867\n",
      "f1 score corresponding to  111  is  0.2868103448275862\n",
      "f1 score corresponding to  112  is  0.3502314814814815\n",
      "f1 score corresponding to  113  is  0.21840776182881444\n",
      "f1 score corresponding to  114  is  0.3934926470588235\n",
      "f1 score corresponding to  115  is  0.33797979797979794\n",
      "f1 score corresponding to  116  is  0.2402972027972028\n",
      "f1 score corresponding to  117  is  0.31256720430107526\n",
      "f1 score corresponding to  118  is  0.284\n",
      "f1 score corresponding to  119  is  0.2826417004048583\n",
      "f1 score corresponding to  120  is  0.2600455684666211\n",
      "f1 score corresponding to  121  is  0.36799450549450546\n",
      "f1 score corresponding to  122  is  0.22680119416187527\n",
      "f1 score corresponding to  123  is  0.39226190476190476\n",
      "f1 score corresponding to  124  is  0.2733805668016195\n",
      "f1 score corresponding to  125  is  0.40214285714285714\n",
      "f1 score corresponding to  126  is  0.3997360248447205\n",
      "f1 score corresponding to  127  is  0.316130831643002\n",
      "f1 score corresponding to  128  is  0.4270106553787768\n",
      "f1 score corresponding to  129  is  0.2833333333333333\n",
      "f1 score corresponding to  130  is  0.3284080298786181\n",
      "f1 score corresponding to  131  is  0.2903636363636363\n",
      "f1 score corresponding to  132  is  0.3233006535947712\n",
      "f1 score corresponding to  133  is  0.4234807692307692\n",
      "f1 score corresponding to  134  is  0.2479699488491048\n",
      "f1 score corresponding to  135  is  0.35384899414311183\n",
      "f1 score corresponding to  136  is  0.3552795031055901\n",
      "f1 score corresponding to  137  is  0.29331521739130434\n",
      "f1 score corresponding to  138  is  0.28190789473684214\n",
      "f1 score corresponding to  139  is  0.2773076923076923\n",
      "f1 score corresponding to  140  is  0.25561145510835914\n",
      "f1 score corresponding to  141  is  0.3192622685746625\n",
      "f1 score corresponding to  142  is  0.33048076923076924\n",
      "f1 score corresponding to  143  is  0.4615799071618037\n",
      "f1 score corresponding to  144  is  0.382057267351385\n",
      "f1 score corresponding to  145  is  0.3766726654364105\n",
      "f1 score corresponding to  146  is  0.37256181318681314\n",
      "f1 score corresponding to  147  is  0.34378947368421053\n",
      "f1 score corresponding to  148  is  0.345062656641604\n",
      "f1 score corresponding to  149  is  0.18714721586575134\n",
      "max f1 score corresponding to  71  is  0.5134029304029305\n",
      "Accuracy is= 0.25\n"
     ]
    },
    {
     "data": {
      "text/plain": [
       "71"
      ]
     },
     "execution_count": 89,
     "metadata": {},
     "output_type": "execute_result"
    }
   ],
   "source": [
    "algo = SVC(kernel='rbf', C=1)\n",
    "max_f1_scr(algo,x,y)"
   ]
  },
  {
   "cell_type": "code",
   "execution_count": 93,
   "metadata": {},
   "outputs": [
    {
     "name": "stdout",
     "output_type": "stream",
     "text": [
      "f1 score corresponding to  42  is  0.14399999999999996\n",
      "f1 score corresponding to  43  is  0.2687521367521367\n",
      "f1 score corresponding to  44  is  0.13\n",
      "f1 score corresponding to  45  is  0.1301033591731266\n",
      "f1 score corresponding to  46  is  0.07659574468085106\n",
      "f1 score corresponding to  47  is  0.084375\n",
      "f1 score corresponding to  48  is  0.17660427807486628\n",
      "f1 score corresponding to  49  is  0.18846153846153846\n",
      "f1 score corresponding to  50  is  0.10232558139534884\n",
      "f1 score corresponding to  51  is  0.1338768115942029\n",
      "f1 score corresponding to  52  is  0.2905844155844156\n",
      "f1 score corresponding to  53  is  0.07111111111111111\n",
      "f1 score corresponding to  54  is  0.11499999999999999\n",
      "f1 score corresponding to  55  is  0.14399999999999996\n",
      "f1 score corresponding to  56  is  0.10949579831932774\n",
      "f1 score corresponding to  57  is  0.34586236933797904\n",
      "f1 score corresponding to  58  is  0.16960335621662853\n",
      "f1 score corresponding to  59  is  0.10999999999999996\n",
      "f1 score corresponding to  60  is  0.28421052631578947\n",
      "f1 score corresponding to  61  is  0.06808510638297872\n",
      "f1 score corresponding to  62  is  0.10253623188405799\n",
      "f1 score corresponding to  63  is  0.07111111111111111\n",
      "f1 score corresponding to  64  is  0.11077441077441078\n",
      "f1 score corresponding to  65  is  0.023255813953488372\n",
      "f1 score corresponding to  66  is  0.15\n",
      "f1 score corresponding to  67  is  0.11224489795918366\n",
      "f1 score corresponding to  68  is  0.2131793478260869\n",
      "f1 score corresponding to  69  is  0.09749034749034746\n",
      "f1 score corresponding to  70  is  0.11793522267206477\n",
      "f1 score corresponding to  71  is  0.16899999999999998\n",
      "f1 score corresponding to  72  is  0.14787414965986395\n",
      "f1 score corresponding to  73  is  0.12\n",
      "f1 score corresponding to  74  is  0.22641509433962265\n",
      "f1 score corresponding to  75  is  0.06666666666666668\n",
      "f1 score corresponding to  76  is  0.17222222222222222\n",
      "f1 score corresponding to  77  is  0.12100000000000002\n",
      "f1 score corresponding to  78  is  0.16787500000000002\n",
      "f1 score corresponding to  79  is  0.06956521739130435\n",
      "f1 score corresponding to  80  is  0.02777777777777778\n",
      "f1 score corresponding to  81  is  0.11458333333333334\n",
      "f1 score corresponding to  82  is  0.06666666666666668\n",
      "f1 score corresponding to  83  is  0.23125000000000004\n",
      "f1 score corresponding to  84  is  0.03414634146341464\n",
      "f1 score corresponding to  85  is  0.09375\n",
      "f1 score corresponding to  86  is  0.20164512338425383\n",
      "f1 score corresponding to  87  is  0.1988226863226863\n",
      "f1 score corresponding to  88  is  0.16027777777777777\n",
      "f1 score corresponding to  89  is  0.12346938775510204\n",
      "f1 score corresponding to  90  is  0.14285714285714285\n",
      "f1 score corresponding to  91  is  0.15885093167701864\n",
      "f1 score corresponding to  92  is  0.05212765957446808\n",
      "f1 score corresponding to  93  is  0.16153846153846155\n",
      "f1 score corresponding to  94  is  0.23630221130221124\n",
      "f1 score corresponding to  95  is  0.13666666666666666\n",
      "f1 score corresponding to  96  is  0.1880514705882353\n",
      "f1 score corresponding to  97  is  0.10253623188405799\n",
      "f1 score corresponding to  98  is  0.14305555555555555\n",
      "f1 score corresponding to  99  is  0.2041666666666667\n",
      "f1 score corresponding to  100  is  0.10204081632653059\n",
      "f1 score corresponding to  101  is  0.0988095238095238\n",
      "f1 score corresponding to  102  is  0.16346938775510203\n",
      "f1 score corresponding to  103  is  0.1526470588235294\n",
      "f1 score corresponding to  104  is  0.132\n",
      "f1 score corresponding to  105  is  0.11988372093023256\n",
      "f1 score corresponding to  106  is  0.1470408163265306\n",
      "f1 score corresponding to  107  is  0.1925170068027211\n",
      "f1 score corresponding to  108  is  0.17809523809523808\n",
      "f1 score corresponding to  109  is  0.18774999999999997\n",
      "f1 score corresponding to  110  is  0.2\n",
      "f1 score corresponding to  111  is  0.17307692307692307\n",
      "f1 score corresponding to  112  is  0.1483695652173913\n",
      "f1 score corresponding to  113  is  0.1075091575091575\n",
      "f1 score corresponding to  114  is  0.1\n",
      "f1 score corresponding to  115  is  0.20543478260869566\n",
      "f1 score corresponding to  116  is  0.08333333333333333\n",
      "f1 score corresponding to  117  is  0.2604166666666667\n",
      "f1 score corresponding to  118  is  0.1315217391304348\n",
      "f1 score corresponding to  119  is  0.047727272727272736\n",
      "f1 score corresponding to  120  is  0.05957446808510638\n",
      "f1 score corresponding to  121  is  0.2351527149321267\n",
      "f1 score corresponding to  122  is  0.08265306122448979\n",
      "f1 score corresponding to  123  is  0.16493055555555552\n",
      "f1 score corresponding to  124  is  0.084375\n",
      "f1 score corresponding to  125  is  0.13818181818181818\n",
      "f1 score corresponding to  126  is  0.07029411764705881\n",
      "f1 score corresponding to  127  is  0.1\n",
      "f1 score corresponding to  128  is  0.08863636363636365\n",
      "f1 score corresponding to  129  is  0.02777777777777778\n",
      "f1 score corresponding to  130  is  0.042424242424242434\n",
      "f1 score corresponding to  131  is  0.125974025974026\n",
      "f1 score corresponding to  132  is  0.12100000000000002\n",
      "f1 score corresponding to  133  is  0.14649758454106276\n",
      "f1 score corresponding to  134  is  0.15294117647058822\n",
      "f1 score corresponding to  135  is  0.14464285714285713\n",
      "f1 score corresponding to  136  is  0.10999999999999996\n",
      "f1 score corresponding to  137  is  0.11496010638297874\n",
      "f1 score corresponding to  138  is  0.12100000000000002\n",
      "f1 score corresponding to  139  is  0.12100000000000002\n",
      "f1 score corresponding to  140  is  0.11862745098039218\n",
      "f1 score corresponding to  141  is  0.24123588829471182\n",
      "f1 score corresponding to  142  is  0.292\n",
      "f1 score corresponding to  143  is  0.1459183673469388\n",
      "f1 score corresponding to  144  is  0.1268170426065163\n",
      "f1 score corresponding to  145  is  0.25532212885154065\n",
      "f1 score corresponding to  146  is  0.084375\n",
      "f1 score corresponding to  147  is  0.1411764705882353\n",
      "f1 score corresponding to  148  is  0.1411764705882353\n",
      "f1 score corresponding to  149  is  0.1457908163265306\n",
      "max f1 score corresponding to  57  is  0.34586236933797904\n",
      "Accuracy is= 0.275\n"
     ]
    },
    {
     "data": {
      "text/plain": [
       "57"
      ]
     },
     "execution_count": 93,
     "metadata": {},
     "output_type": "execute_result"
    }
   ],
   "source": [
    "from sklearn.ensemble import AdaBoostClassifier \n",
    "svc = SVC(kernel='poly', C=10)\n",
    "algo=AdaBoostClassifier(base_estimator=svc,algorithm='SAMME')\n",
    "max_f1_scr(algo,x,y)"
   ]
  },
  {
   "cell_type": "code",
   "execution_count": 99,
   "metadata": {},
   "outputs": [
    {
     "data": {
      "text/plain": [
       "{'n_neighbors': 10}"
      ]
     },
     "execution_count": 99,
     "metadata": {},
     "output_type": "execute_result"
    }
   ],
   "source": [
    "from sklearn.neighbors import KNeighborsClassifier\n",
    "knn=KNeighborsClassifier()\n",
    "neighbors={\"n_neighbors\":range(1,30)}\n",
    "gsv = GridSearchCV(knn, neighbors, cv=5,scoring=None)\n",
    "gsv.fit(x,y)\n",
    "gsv.best_params_"
   ]
  },
  {
   "cell_type": "code",
   "execution_count": 100,
   "metadata": {},
   "outputs": [
    {
     "name": "stdout",
     "output_type": "stream",
     "text": [
      "f1 score corresponding to  42  is  0.3135776397515528\n",
      "f1 score corresponding to  43  is  0.4011217948717949\n",
      "f1 score corresponding to  44  is  0.3806347957243098\n",
      "f1 score corresponding to  45  is  0.3879691564474173\n",
      "f1 score corresponding to  46  is  0.4826153846153846\n",
      "f1 score corresponding to  47  is  0.3793725296442688\n",
      "f1 score corresponding to  48  is  0.24329922027290446\n",
      "f1 score corresponding to  49  is  0.5798303973013492\n",
      "f1 score corresponding to  50  is  0.18382783882783882\n",
      "f1 score corresponding to  51  is  0.32179580330155777\n",
      "f1 score corresponding to  52  is  0.41641157252570304\n",
      "f1 score corresponding to  53  is  0.31605311355311355\n",
      "f1 score corresponding to  54  is  0.3608617131062951\n",
      "f1 score corresponding to  55  is  0.35873015873015873\n",
      "f1 score corresponding to  56  is  0.3179542920847268\n",
      "f1 score corresponding to  57  is  0.3508928571428571\n",
      "f1 score corresponding to  58  is  0.4693205128205128\n",
      "f1 score corresponding to  59  is  0.33068836405529956\n",
      "f1 score corresponding to  60  is  0.39454545454545453\n",
      "f1 score corresponding to  61  is  0.38130252100840334\n",
      "f1 score corresponding to  62  is  0.2822727272727273\n",
      "f1 score corresponding to  63  is  0.28381530749951805\n",
      "f1 score corresponding to  64  is  0.31855477855477854\n",
      "f1 score corresponding to  65  is  0.30041394335511984\n",
      "f1 score corresponding to  66  is  0.35972222222222217\n",
      "f1 score corresponding to  67  is  0.47432937181663837\n",
      "f1 score corresponding to  68  is  0.4075320512820513\n",
      "f1 score corresponding to  69  is  0.30919117647058825\n",
      "f1 score corresponding to  70  is  0.20254083484573507\n",
      "f1 score corresponding to  71  is  0.40487012987012977\n",
      "f1 score corresponding to  72  is  0.27475\n",
      "f1 score corresponding to  73  is  0.2749483065953654\n",
      "f1 score corresponding to  74  is  0.3791666666666667\n",
      "f1 score corresponding to  75  is  0.29770624303232995\n",
      "f1 score corresponding to  76  is  0.4977661227661228\n",
      "f1 score corresponding to  77  is  0.3508810068649886\n",
      "f1 score corresponding to  78  is  0.40964285714285714\n",
      "f1 score corresponding to  79  is  0.3123716153127918\n",
      "f1 score corresponding to  80  is  0.3519492337164751\n",
      "f1 score corresponding to  81  is  0.4069616977225673\n",
      "f1 score corresponding to  82  is  0.3524083546462063\n",
      "f1 score corresponding to  83  is  0.32333333333333336\n",
      "f1 score corresponding to  84  is  0.2594444444444444\n",
      "f1 score corresponding to  85  is  0.34487179487179487\n",
      "f1 score corresponding to  86  is  0.3316993464052288\n",
      "f1 score corresponding to  87  is  0.2560079365079365\n",
      "f1 score corresponding to  88  is  0.21405228758169934\n",
      "f1 score corresponding to  89  is  0.35855158730158726\n",
      "f1 score corresponding to  90  is  0.3182857142857142\n",
      "f1 score corresponding to  91  is  0.37384259259259256\n",
      "f1 score corresponding to  92  is  0.2882505175983437\n",
      "f1 score corresponding to  93  is  0.32483974358974355\n",
      "f1 score corresponding to  94  is  0.32764976958525344\n",
      "f1 score corresponding to  95  is  0.40512820512820513\n",
      "f1 score corresponding to  96  is  0.49933040105674376\n",
      "f1 score corresponding to  97  is  0.24575569358178054\n",
      "f1 score corresponding to  98  is  0.36278985507246375\n",
      "f1 score corresponding to  99  is  0.43296957671957664\n",
      "f1 score corresponding to  100  is  0.382578947368421\n",
      "f1 score corresponding to  101  is  0.3350681801956165\n",
      "f1 score corresponding to  102  is  0.17383021390374329\n",
      "f1 score corresponding to  103  is  0.3576896845694799\n",
      "f1 score corresponding to  104  is  0.3165551839464883\n",
      "f1 score corresponding to  105  is  0.34285714285714286\n",
      "f1 score corresponding to  106  is  0.3123567608861727\n",
      "f1 score corresponding to  107  is  0.37857142857142856\n",
      "f1 score corresponding to  108  is  0.3616257309941521\n",
      "f1 score corresponding to  109  is  0.4199028122415219\n",
      "f1 score corresponding to  110  is  0.398547077922078\n",
      "f1 score corresponding to  111  is  0.298076923076923\n",
      "f1 score corresponding to  112  is  0.40339671222024165\n",
      "f1 score corresponding to  113  is  0.25601604278074863\n",
      "f1 score corresponding to  114  is  0.4336111111111111\n",
      "f1 score corresponding to  115  is  0.3255860805860806\n",
      "f1 score corresponding to  116  is  0.2953272814142379\n",
      "f1 score corresponding to  117  is  0.45179487179487177\n",
      "f1 score corresponding to  118  is  0.3408333333333333\n",
      "f1 score corresponding to  119  is  0.4\n",
      "f1 score corresponding to  120  is  0.3022988505747127\n",
      "f1 score corresponding to  121  is  0.43544565217391307\n",
      "f1 score corresponding to  122  is  0.2714949494949495\n",
      "f1 score corresponding to  123  is  0.43668449197860965\n",
      "f1 score corresponding to  124  is  0.3453442028985507\n",
      "f1 score corresponding to  125  is  0.3031060606060606\n",
      "f1 score corresponding to  126  is  0.34015810276679836\n",
      "f1 score corresponding to  127  is  0.3419565217391304\n",
      "f1 score corresponding to  128  is  0.3577339901477833\n",
      "f1 score corresponding to  129  is  0.2519607843137255\n",
      "f1 score corresponding to  130  is  0.3235483405483406\n",
      "f1 score corresponding to  131  is  0.3619894598155468\n",
      "f1 score corresponding to  132  is  0.4285128205128205\n",
      "f1 score corresponding to  133  is  0.4300265251989389\n",
      "f1 score corresponding to  134  is  0.37737274220032846\n",
      "f1 score corresponding to  135  is  0.29047827172827173\n",
      "f1 score corresponding to  136  is  0.3769565217391304\n",
      "f1 score corresponding to  137  is  0.41547619047619044\n",
      "f1 score corresponding to  138  is  0.18842490842490842\n",
      "f1 score corresponding to  139  is  0.3206366459627329\n",
      "f1 score corresponding to  140  is  0.27592261904761906\n",
      "f1 score corresponding to  141  is  0.3191620879120879\n",
      "f1 score corresponding to  142  is  0.41832010582010587\n",
      "f1 score corresponding to  143  is  0.44521596051007817\n",
      "f1 score corresponding to  144  is  0.28514285714285714\n",
      "f1 score corresponding to  145  is  0.3283150183150183\n",
      "f1 score corresponding to  146  is  0.38732205294705296\n",
      "f1 score corresponding to  147  is  0.41320397249809016\n",
      "f1 score corresponding to  148  is  0.3\n",
      "f1 score corresponding to  149  is  0.3308488612836439\n",
      "max f1 score corresponding to  49  is  0.5798303973013492\n",
      "Accuracy is= 0.35\n"
     ]
    },
    {
     "data": {
      "text/plain": [
       "49"
      ]
     },
     "execution_count": 100,
     "metadata": {},
     "output_type": "execute_result"
    }
   ],
   "source": [
    "algo=KNeighborsClassifier(n_neighbors=10)\n",
    "max_f1_scr(algo,x,y)"
   ]
  },
  {
   "cell_type": "code",
   "execution_count": 101,
   "metadata": {},
   "outputs": [],
   "source": [
    "# KNN is giving us high f1 score. so we will finalize it. More accurate data is required to improve the accuracy"
   ]
  },
  {
   "cell_type": "code",
   "execution_count": 102,
   "metadata": {},
   "outputs": [],
   "source": [
    "import joblib"
   ]
  },
  {
   "cell_type": "code",
   "execution_count": 103,
   "metadata": {},
   "outputs": [
    {
     "data": {
      "text/plain": [
       "['Heart_Disease_KNN.pkl']"
      ]
     },
     "execution_count": 103,
     "metadata": {},
     "output_type": "execute_result"
    }
   ],
   "source": [
    "joblib.dump(algo,'Heart_Disease_KNN.pkl')"
   ]
  },
  {
   "cell_type": "code",
   "execution_count": null,
   "metadata": {},
   "outputs": [],
   "source": []
  }
 ],
 "metadata": {
  "kernelspec": {
   "display_name": "Python 3",
   "language": "python",
   "name": "python3"
  },
  "language_info": {
   "codemirror_mode": {
    "name": "ipython",
    "version": 3
   },
   "file_extension": ".py",
   "mimetype": "text/x-python",
   "name": "python",
   "nbconvert_exporter": "python",
   "pygments_lexer": "ipython3",
   "version": "3.8.3"
  }
 },
 "nbformat": 4,
 "nbformat_minor": 4
}
