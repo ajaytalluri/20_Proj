{
 "cells": [
  {
   "cell_type": "code",
   "execution_count": 1,
   "metadata": {},
   "outputs": [],
   "source": [
    "import numpy as np\n",
    "import pandas as pd\n",
    "import matplotlib.pyplot as plt\n",
    "import seaborn as sns\n",
    "import warnings\n",
    "warnings.filterwarnings('ignore')"
   ]
  },
  {
   "cell_type": "code",
   "execution_count": 2,
   "metadata": {},
   "outputs": [],
   "source": [
    "df=pd.read_csv(\"C:\\\\Pandasdata\\\\DT_files\\\\telecom.csv\")"
   ]
  },
  {
   "cell_type": "code",
   "execution_count": 3,
   "metadata": {},
   "outputs": [
    {
     "data": {
      "text/html": [
       "<div>\n",
       "<style scoped>\n",
       "    .dataframe tbody tr th:only-of-type {\n",
       "        vertical-align: middle;\n",
       "    }\n",
       "\n",
       "    .dataframe tbody tr th {\n",
       "        vertical-align: top;\n",
       "    }\n",
       "\n",
       "    .dataframe thead th {\n",
       "        text-align: right;\n",
       "    }\n",
       "</style>\n",
       "<table border=\"1\" class=\"dataframe\">\n",
       "  <thead>\n",
       "    <tr style=\"text-align: right;\">\n",
       "      <th></th>\n",
       "      <th>state</th>\n",
       "      <th>account length</th>\n",
       "      <th>area code</th>\n",
       "      <th>phone number</th>\n",
       "      <th>international plan</th>\n",
       "      <th>voice mail plan</th>\n",
       "      <th>number vmail messages</th>\n",
       "      <th>total day minutes</th>\n",
       "      <th>total day calls</th>\n",
       "      <th>total day charge</th>\n",
       "      <th>...</th>\n",
       "      <th>total eve calls</th>\n",
       "      <th>total eve charge</th>\n",
       "      <th>total night minutes</th>\n",
       "      <th>total night calls</th>\n",
       "      <th>total night charge</th>\n",
       "      <th>total intl minutes</th>\n",
       "      <th>total intl calls</th>\n",
       "      <th>total intl charge</th>\n",
       "      <th>customer service calls</th>\n",
       "      <th>churn</th>\n",
       "    </tr>\n",
       "  </thead>\n",
       "  <tbody>\n",
       "    <tr>\n",
       "      <th>0</th>\n",
       "      <td>KS</td>\n",
       "      <td>128</td>\n",
       "      <td>415</td>\n",
       "      <td>382-4657</td>\n",
       "      <td>no</td>\n",
       "      <td>yes</td>\n",
       "      <td>25</td>\n",
       "      <td>265.1</td>\n",
       "      <td>110</td>\n",
       "      <td>45.07</td>\n",
       "      <td>...</td>\n",
       "      <td>99</td>\n",
       "      <td>16.78</td>\n",
       "      <td>244.7</td>\n",
       "      <td>91</td>\n",
       "      <td>11.01</td>\n",
       "      <td>10.0</td>\n",
       "      <td>3</td>\n",
       "      <td>2.70</td>\n",
       "      <td>1</td>\n",
       "      <td>False</td>\n",
       "    </tr>\n",
       "    <tr>\n",
       "      <th>1</th>\n",
       "      <td>OH</td>\n",
       "      <td>107</td>\n",
       "      <td>415</td>\n",
       "      <td>371-7191</td>\n",
       "      <td>no</td>\n",
       "      <td>yes</td>\n",
       "      <td>26</td>\n",
       "      <td>161.6</td>\n",
       "      <td>123</td>\n",
       "      <td>27.47</td>\n",
       "      <td>...</td>\n",
       "      <td>103</td>\n",
       "      <td>16.62</td>\n",
       "      <td>254.4</td>\n",
       "      <td>103</td>\n",
       "      <td>11.45</td>\n",
       "      <td>13.7</td>\n",
       "      <td>3</td>\n",
       "      <td>3.70</td>\n",
       "      <td>1</td>\n",
       "      <td>False</td>\n",
       "    </tr>\n",
       "    <tr>\n",
       "      <th>2</th>\n",
       "      <td>NJ</td>\n",
       "      <td>137</td>\n",
       "      <td>415</td>\n",
       "      <td>358-1921</td>\n",
       "      <td>no</td>\n",
       "      <td>no</td>\n",
       "      <td>0</td>\n",
       "      <td>243.4</td>\n",
       "      <td>114</td>\n",
       "      <td>41.38</td>\n",
       "      <td>...</td>\n",
       "      <td>110</td>\n",
       "      <td>10.30</td>\n",
       "      <td>162.6</td>\n",
       "      <td>104</td>\n",
       "      <td>7.32</td>\n",
       "      <td>12.2</td>\n",
       "      <td>5</td>\n",
       "      <td>3.29</td>\n",
       "      <td>0</td>\n",
       "      <td>False</td>\n",
       "    </tr>\n",
       "    <tr>\n",
       "      <th>3</th>\n",
       "      <td>OH</td>\n",
       "      <td>84</td>\n",
       "      <td>408</td>\n",
       "      <td>375-9999</td>\n",
       "      <td>yes</td>\n",
       "      <td>no</td>\n",
       "      <td>0</td>\n",
       "      <td>299.4</td>\n",
       "      <td>71</td>\n",
       "      <td>50.90</td>\n",
       "      <td>...</td>\n",
       "      <td>88</td>\n",
       "      <td>5.26</td>\n",
       "      <td>196.9</td>\n",
       "      <td>89</td>\n",
       "      <td>8.86</td>\n",
       "      <td>6.6</td>\n",
       "      <td>7</td>\n",
       "      <td>1.78</td>\n",
       "      <td>2</td>\n",
       "      <td>False</td>\n",
       "    </tr>\n",
       "    <tr>\n",
       "      <th>4</th>\n",
       "      <td>OK</td>\n",
       "      <td>75</td>\n",
       "      <td>415</td>\n",
       "      <td>330-6626</td>\n",
       "      <td>yes</td>\n",
       "      <td>no</td>\n",
       "      <td>0</td>\n",
       "      <td>166.7</td>\n",
       "      <td>113</td>\n",
       "      <td>28.34</td>\n",
       "      <td>...</td>\n",
       "      <td>122</td>\n",
       "      <td>12.61</td>\n",
       "      <td>186.9</td>\n",
       "      <td>121</td>\n",
       "      <td>8.41</td>\n",
       "      <td>10.1</td>\n",
       "      <td>3</td>\n",
       "      <td>2.73</td>\n",
       "      <td>3</td>\n",
       "      <td>False</td>\n",
       "    </tr>\n",
       "    <tr>\n",
       "      <th>...</th>\n",
       "      <td>...</td>\n",
       "      <td>...</td>\n",
       "      <td>...</td>\n",
       "      <td>...</td>\n",
       "      <td>...</td>\n",
       "      <td>...</td>\n",
       "      <td>...</td>\n",
       "      <td>...</td>\n",
       "      <td>...</td>\n",
       "      <td>...</td>\n",
       "      <td>...</td>\n",
       "      <td>...</td>\n",
       "      <td>...</td>\n",
       "      <td>...</td>\n",
       "      <td>...</td>\n",
       "      <td>...</td>\n",
       "      <td>...</td>\n",
       "      <td>...</td>\n",
       "      <td>...</td>\n",
       "      <td>...</td>\n",
       "      <td>...</td>\n",
       "    </tr>\n",
       "    <tr>\n",
       "      <th>3328</th>\n",
       "      <td>AZ</td>\n",
       "      <td>192</td>\n",
       "      <td>415</td>\n",
       "      <td>414-4276</td>\n",
       "      <td>no</td>\n",
       "      <td>yes</td>\n",
       "      <td>36</td>\n",
       "      <td>156.2</td>\n",
       "      <td>77</td>\n",
       "      <td>26.55</td>\n",
       "      <td>...</td>\n",
       "      <td>126</td>\n",
       "      <td>18.32</td>\n",
       "      <td>279.1</td>\n",
       "      <td>83</td>\n",
       "      <td>12.56</td>\n",
       "      <td>9.9</td>\n",
       "      <td>6</td>\n",
       "      <td>2.67</td>\n",
       "      <td>2</td>\n",
       "      <td>False</td>\n",
       "    </tr>\n",
       "    <tr>\n",
       "      <th>3329</th>\n",
       "      <td>WV</td>\n",
       "      <td>68</td>\n",
       "      <td>415</td>\n",
       "      <td>370-3271</td>\n",
       "      <td>no</td>\n",
       "      <td>no</td>\n",
       "      <td>0</td>\n",
       "      <td>231.1</td>\n",
       "      <td>57</td>\n",
       "      <td>39.29</td>\n",
       "      <td>...</td>\n",
       "      <td>55</td>\n",
       "      <td>13.04</td>\n",
       "      <td>191.3</td>\n",
       "      <td>123</td>\n",
       "      <td>8.61</td>\n",
       "      <td>9.6</td>\n",
       "      <td>4</td>\n",
       "      <td>2.59</td>\n",
       "      <td>3</td>\n",
       "      <td>False</td>\n",
       "    </tr>\n",
       "    <tr>\n",
       "      <th>3330</th>\n",
       "      <td>RI</td>\n",
       "      <td>28</td>\n",
       "      <td>510</td>\n",
       "      <td>328-8230</td>\n",
       "      <td>no</td>\n",
       "      <td>no</td>\n",
       "      <td>0</td>\n",
       "      <td>180.8</td>\n",
       "      <td>109</td>\n",
       "      <td>30.74</td>\n",
       "      <td>...</td>\n",
       "      <td>58</td>\n",
       "      <td>24.55</td>\n",
       "      <td>191.9</td>\n",
       "      <td>91</td>\n",
       "      <td>8.64</td>\n",
       "      <td>14.1</td>\n",
       "      <td>6</td>\n",
       "      <td>3.81</td>\n",
       "      <td>2</td>\n",
       "      <td>False</td>\n",
       "    </tr>\n",
       "    <tr>\n",
       "      <th>3331</th>\n",
       "      <td>CT</td>\n",
       "      <td>184</td>\n",
       "      <td>510</td>\n",
       "      <td>364-6381</td>\n",
       "      <td>yes</td>\n",
       "      <td>no</td>\n",
       "      <td>0</td>\n",
       "      <td>213.8</td>\n",
       "      <td>105</td>\n",
       "      <td>36.35</td>\n",
       "      <td>...</td>\n",
       "      <td>84</td>\n",
       "      <td>13.57</td>\n",
       "      <td>139.2</td>\n",
       "      <td>137</td>\n",
       "      <td>6.26</td>\n",
       "      <td>5.0</td>\n",
       "      <td>10</td>\n",
       "      <td>1.35</td>\n",
       "      <td>2</td>\n",
       "      <td>False</td>\n",
       "    </tr>\n",
       "    <tr>\n",
       "      <th>3332</th>\n",
       "      <td>TN</td>\n",
       "      <td>74</td>\n",
       "      <td>415</td>\n",
       "      <td>400-4344</td>\n",
       "      <td>no</td>\n",
       "      <td>yes</td>\n",
       "      <td>25</td>\n",
       "      <td>234.4</td>\n",
       "      <td>113</td>\n",
       "      <td>39.85</td>\n",
       "      <td>...</td>\n",
       "      <td>82</td>\n",
       "      <td>22.60</td>\n",
       "      <td>241.4</td>\n",
       "      <td>77</td>\n",
       "      <td>10.86</td>\n",
       "      <td>13.7</td>\n",
       "      <td>4</td>\n",
       "      <td>3.70</td>\n",
       "      <td>0</td>\n",
       "      <td>False</td>\n",
       "    </tr>\n",
       "  </tbody>\n",
       "</table>\n",
       "<p>3333 rows × 21 columns</p>\n",
       "</div>"
      ],
      "text/plain": [
       "     state  account length  area code phone number international plan  \\\n",
       "0       KS             128        415     382-4657                 no   \n",
       "1       OH             107        415     371-7191                 no   \n",
       "2       NJ             137        415     358-1921                 no   \n",
       "3       OH              84        408     375-9999                yes   \n",
       "4       OK              75        415     330-6626                yes   \n",
       "...    ...             ...        ...          ...                ...   \n",
       "3328    AZ             192        415     414-4276                 no   \n",
       "3329    WV              68        415     370-3271                 no   \n",
       "3330    RI              28        510     328-8230                 no   \n",
       "3331    CT             184        510     364-6381                yes   \n",
       "3332    TN              74        415     400-4344                 no   \n",
       "\n",
       "     voice mail plan  number vmail messages  total day minutes  \\\n",
       "0                yes                     25              265.1   \n",
       "1                yes                     26              161.6   \n",
       "2                 no                      0              243.4   \n",
       "3                 no                      0              299.4   \n",
       "4                 no                      0              166.7   \n",
       "...              ...                    ...                ...   \n",
       "3328             yes                     36              156.2   \n",
       "3329              no                      0              231.1   \n",
       "3330              no                      0              180.8   \n",
       "3331              no                      0              213.8   \n",
       "3332             yes                     25              234.4   \n",
       "\n",
       "      total day calls  total day charge  ...  total eve calls  \\\n",
       "0                 110             45.07  ...               99   \n",
       "1                 123             27.47  ...              103   \n",
       "2                 114             41.38  ...              110   \n",
       "3                  71             50.90  ...               88   \n",
       "4                 113             28.34  ...              122   \n",
       "...               ...               ...  ...              ...   \n",
       "3328               77             26.55  ...              126   \n",
       "3329               57             39.29  ...               55   \n",
       "3330              109             30.74  ...               58   \n",
       "3331              105             36.35  ...               84   \n",
       "3332              113             39.85  ...               82   \n",
       "\n",
       "      total eve charge  total night minutes  total night calls  \\\n",
       "0                16.78                244.7                 91   \n",
       "1                16.62                254.4                103   \n",
       "2                10.30                162.6                104   \n",
       "3                 5.26                196.9                 89   \n",
       "4                12.61                186.9                121   \n",
       "...                ...                  ...                ...   \n",
       "3328             18.32                279.1                 83   \n",
       "3329             13.04                191.3                123   \n",
       "3330             24.55                191.9                 91   \n",
       "3331             13.57                139.2                137   \n",
       "3332             22.60                241.4                 77   \n",
       "\n",
       "      total night charge  total intl minutes  total intl calls  \\\n",
       "0                  11.01                10.0                 3   \n",
       "1                  11.45                13.7                 3   \n",
       "2                   7.32                12.2                 5   \n",
       "3                   8.86                 6.6                 7   \n",
       "4                   8.41                10.1                 3   \n",
       "...                  ...                 ...               ...   \n",
       "3328               12.56                 9.9                 6   \n",
       "3329                8.61                 9.6                 4   \n",
       "3330                8.64                14.1                 6   \n",
       "3331                6.26                 5.0                10   \n",
       "3332               10.86                13.7                 4   \n",
       "\n",
       "      total intl charge  customer service calls  churn  \n",
       "0                  2.70                       1  False  \n",
       "1                  3.70                       1  False  \n",
       "2                  3.29                       0  False  \n",
       "3                  1.78                       2  False  \n",
       "4                  2.73                       3  False  \n",
       "...                 ...                     ...    ...  \n",
       "3328               2.67                       2  False  \n",
       "3329               2.59                       3  False  \n",
       "3330               3.81                       2  False  \n",
       "3331               1.35                       2  False  \n",
       "3332               3.70                       0  False  \n",
       "\n",
       "[3333 rows x 21 columns]"
      ]
     },
     "execution_count": 3,
     "metadata": {},
     "output_type": "execute_result"
    }
   ],
   "source": [
    "df"
   ]
  },
  {
   "cell_type": "code",
   "execution_count": 4,
   "metadata": {},
   "outputs": [
    {
     "data": {
      "text/plain": [
       "state                     0\n",
       "account length            0\n",
       "area code                 0\n",
       "phone number              0\n",
       "international plan        0\n",
       "voice mail plan           0\n",
       "number vmail messages     0\n",
       "total day minutes         0\n",
       "total day calls           0\n",
       "total day charge          0\n",
       "total eve minutes         0\n",
       "total eve calls           0\n",
       "total eve charge          0\n",
       "total night minutes       0\n",
       "total night calls         0\n",
       "total night charge        0\n",
       "total intl minutes        0\n",
       "total intl calls          0\n",
       "total intl charge         0\n",
       "customer service calls    0\n",
       "churn                     0\n",
       "dtype: int64"
      ]
     },
     "execution_count": 4,
     "metadata": {},
     "output_type": "execute_result"
    }
   ],
   "source": [
    "df.isnull().sum()"
   ]
  },
  {
   "cell_type": "code",
   "execution_count": 5,
   "metadata": {},
   "outputs": [
    {
     "data": {
      "text/plain": [
       "state                      object\n",
       "account length              int64\n",
       "area code                   int64\n",
       "phone number               object\n",
       "international plan         object\n",
       "voice mail plan            object\n",
       "number vmail messages       int64\n",
       "total day minutes         float64\n",
       "total day calls             int64\n",
       "total day charge          float64\n",
       "total eve minutes         float64\n",
       "total eve calls             int64\n",
       "total eve charge          float64\n",
       "total night minutes       float64\n",
       "total night calls           int64\n",
       "total night charge        float64\n",
       "total intl minutes        float64\n",
       "total intl calls            int64\n",
       "total intl charge         float64\n",
       "customer service calls      int64\n",
       "churn                        bool\n",
       "dtype: object"
      ]
     },
     "execution_count": 5,
     "metadata": {},
     "output_type": "execute_result"
    }
   ],
   "source": [
    "df.dtypes"
   ]
  },
  {
   "cell_type": "code",
   "execution_count": 6,
   "metadata": {},
   "outputs": [
    {
     "data": {
      "text/plain": [
       "WV    106\n",
       "MN     84\n",
       "NY     83\n",
       "AL     80\n",
       "OR     78\n",
       "WI     78\n",
       "OH     78\n",
       "WY     77\n",
       "VA     77\n",
       "CT     74\n",
       "VT     73\n",
       "ID     73\n",
       "MI     73\n",
       "UT     72\n",
       "TX     72\n",
       "IN     71\n",
       "MD     70\n",
       "KS     70\n",
       "NJ     68\n",
       "MT     68\n",
       "NC     68\n",
       "WA     66\n",
       "CO     66\n",
       "NV     66\n",
       "RI     65\n",
       "MA     65\n",
       "MS     65\n",
       "AZ     64\n",
       "MO     63\n",
       "FL     63\n",
       "ME     62\n",
       "ND     62\n",
       "NM     62\n",
       "DE     61\n",
       "NE     61\n",
       "OK     61\n",
       "SC     60\n",
       "SD     60\n",
       "KY     59\n",
       "IL     58\n",
       "NH     56\n",
       "AR     55\n",
       "DC     54\n",
       "GA     54\n",
       "TN     53\n",
       "HI     53\n",
       "AK     52\n",
       "LA     51\n",
       "PA     45\n",
       "IA     44\n",
       "CA     34\n",
       "Name: state, dtype: int64"
      ]
     },
     "execution_count": 6,
     "metadata": {},
     "output_type": "execute_result"
    }
   ],
   "source": [
    "df['state'].value_counts()"
   ]
  },
  {
   "cell_type": "code",
   "execution_count": 14,
   "metadata": {},
   "outputs": [],
   "source": [
    "#average total day cost in 3 areas\n",
    "view1=df.groupby(['area code']).agg({'total day charge':'mean'})\n",
    "#average total evening charges in 3 areas\n",
    "view2=df.groupby(['area code']).agg({'total eve charge':'mean'})\n",
    "#average total night charges in 3 areas\n",
    "view3=df.groupby(['area code']).agg({'total night charge':'mean'})\n",
    "#average total intl charges in 3 areas\n",
    "view4=df.groupby(['area code']).agg({'total intl charge':'mean'})"
   ]
  },
  {
   "cell_type": "code",
   "execution_count": 15,
   "metadata": {},
   "outputs": [
    {
     "data": {
      "text/html": [
       "<div>\n",
       "<style scoped>\n",
       "    .dataframe tbody tr th:only-of-type {\n",
       "        vertical-align: middle;\n",
       "    }\n",
       "\n",
       "    .dataframe tbody tr th {\n",
       "        vertical-align: top;\n",
       "    }\n",
       "\n",
       "    .dataframe thead th {\n",
       "        text-align: right;\n",
       "    }\n",
       "</style>\n",
       "<table border=\"1\" class=\"dataframe\">\n",
       "  <thead>\n",
       "    <tr style=\"text-align: right;\">\n",
       "      <th></th>\n",
       "      <th>total day charge</th>\n",
       "    </tr>\n",
       "    <tr>\n",
       "      <th>area code</th>\n",
       "      <th></th>\n",
       "    </tr>\n",
       "  </thead>\n",
       "  <tbody>\n",
       "    <tr>\n",
       "      <th>408</th>\n",
       "      <td>30.120274</td>\n",
       "    </tr>\n",
       "    <tr>\n",
       "      <th>415</th>\n",
       "      <td>30.871335</td>\n",
       "    </tr>\n",
       "    <tr>\n",
       "      <th>510</th>\n",
       "      <td>30.394429</td>\n",
       "    </tr>\n",
       "  </tbody>\n",
       "</table>\n",
       "</div>"
      ],
      "text/plain": [
       "           total day charge\n",
       "area code                  \n",
       "408               30.120274\n",
       "415               30.871335\n",
       "510               30.394429"
      ]
     },
     "execution_count": 15,
     "metadata": {},
     "output_type": "execute_result"
    }
   ],
   "source": [
    "view1"
   ]
  },
  {
   "cell_type": "code",
   "execution_count": 16,
   "metadata": {},
   "outputs": [
    {
     "data": {
      "text/html": [
       "<div>\n",
       "<style scoped>\n",
       "    .dataframe tbody tr th:only-of-type {\n",
       "        vertical-align: middle;\n",
       "    }\n",
       "\n",
       "    .dataframe tbody tr th {\n",
       "        vertical-align: top;\n",
       "    }\n",
       "\n",
       "    .dataframe thead th {\n",
       "        text-align: right;\n",
       "    }\n",
       "</style>\n",
       "<table border=\"1\" class=\"dataframe\">\n",
       "  <thead>\n",
       "    <tr style=\"text-align: right;\">\n",
       "      <th></th>\n",
       "      <th>total eve charge</th>\n",
       "    </tr>\n",
       "    <tr>\n",
       "      <th>area code</th>\n",
       "      <th></th>\n",
       "    </tr>\n",
       "  </thead>\n",
       "  <tbody>\n",
       "    <tr>\n",
       "      <th>408</th>\n",
       "      <td>17.109308</td>\n",
       "    </tr>\n",
       "    <tr>\n",
       "      <th>415</th>\n",
       "      <td>17.055571</td>\n",
       "    </tr>\n",
       "    <tr>\n",
       "      <th>510</th>\n",
       "      <td>17.112940</td>\n",
       "    </tr>\n",
       "  </tbody>\n",
       "</table>\n",
       "</div>"
      ],
      "text/plain": [
       "           total eve charge\n",
       "area code                  \n",
       "408               17.109308\n",
       "415               17.055571\n",
       "510               17.112940"
      ]
     },
     "execution_count": 16,
     "metadata": {},
     "output_type": "execute_result"
    }
   ],
   "source": [
    "view2"
   ]
  },
  {
   "cell_type": "code",
   "execution_count": 17,
   "metadata": {},
   "outputs": [
    {
     "data": {
      "text/html": [
       "<div>\n",
       "<style scoped>\n",
       "    .dataframe tbody tr th:only-of-type {\n",
       "        vertical-align: middle;\n",
       "    }\n",
       "\n",
       "    .dataframe tbody tr th {\n",
       "        vertical-align: top;\n",
       "    }\n",
       "\n",
       "    .dataframe thead th {\n",
       "        text-align: right;\n",
       "    }\n",
       "</style>\n",
       "<table border=\"1\" class=\"dataframe\">\n",
       "  <thead>\n",
       "    <tr style=\"text-align: right;\">\n",
       "      <th></th>\n",
       "      <th>total night charge</th>\n",
       "    </tr>\n",
       "    <tr>\n",
       "      <th>area code</th>\n",
       "      <th></th>\n",
       "    </tr>\n",
       "  </thead>\n",
       "  <tbody>\n",
       "    <tr>\n",
       "      <th>408</th>\n",
       "      <td>8.964785</td>\n",
       "    </tr>\n",
       "    <tr>\n",
       "      <th>415</th>\n",
       "      <td>9.091795</td>\n",
       "    </tr>\n",
       "    <tr>\n",
       "      <th>510</th>\n",
       "      <td>9.010310</td>\n",
       "    </tr>\n",
       "  </tbody>\n",
       "</table>\n",
       "</div>"
      ],
      "text/plain": [
       "           total night charge\n",
       "area code                    \n",
       "408                  8.964785\n",
       "415                  9.091795\n",
       "510                  9.010310"
      ]
     },
     "execution_count": 17,
     "metadata": {},
     "output_type": "execute_result"
    }
   ],
   "source": [
    "view3"
   ]
  },
  {
   "cell_type": "code",
   "execution_count": 18,
   "metadata": {},
   "outputs": [
    {
     "data": {
      "text/html": [
       "<div>\n",
       "<style scoped>\n",
       "    .dataframe tbody tr th:only-of-type {\n",
       "        vertical-align: middle;\n",
       "    }\n",
       "\n",
       "    .dataframe tbody tr th {\n",
       "        vertical-align: top;\n",
       "    }\n",
       "\n",
       "    .dataframe thead th {\n",
       "        text-align: right;\n",
       "    }\n",
       "</style>\n",
       "<table border=\"1\" class=\"dataframe\">\n",
       "  <thead>\n",
       "    <tr style=\"text-align: right;\">\n",
       "      <th></th>\n",
       "      <th>total intl charge</th>\n",
       "    </tr>\n",
       "    <tr>\n",
       "      <th>area code</th>\n",
       "      <th></th>\n",
       "    </tr>\n",
       "  </thead>\n",
       "  <tbody>\n",
       "    <tr>\n",
       "      <th>408</th>\n",
       "      <td>2.734737</td>\n",
       "    </tr>\n",
       "    <tr>\n",
       "      <th>415</th>\n",
       "      <td>2.793257</td>\n",
       "    </tr>\n",
       "    <tr>\n",
       "      <th>510</th>\n",
       "      <td>2.737857</td>\n",
       "    </tr>\n",
       "  </tbody>\n",
       "</table>\n",
       "</div>"
      ],
      "text/plain": [
       "           total intl charge\n",
       "area code                   \n",
       "408                 2.734737\n",
       "415                 2.793257\n",
       "510                 2.737857"
      ]
     },
     "execution_count": 18,
     "metadata": {},
     "output_type": "execute_result"
    }
   ],
   "source": [
    "view4"
   ]
  },
  {
   "cell_type": "code",
   "execution_count": 20,
   "metadata": {},
   "outputs": [
    {
     "data": {
      "text/plain": [
       "<bound method IndexOpsMixin.value_counts of 0       128\n",
       "1       107\n",
       "2       137\n",
       "3        84\n",
       "4        75\n",
       "       ... \n",
       "3328    192\n",
       "3329     68\n",
       "3330     28\n",
       "3331    184\n",
       "3332     74\n",
       "Name: account length, Length: 3333, dtype: int64>"
      ]
     },
     "execution_count": 20,
     "metadata": {},
     "output_type": "execute_result"
    }
   ],
   "source": [
    "df['account length'].value_counts"
   ]
  },
  {
   "cell_type": "code",
   "execution_count": 21,
   "metadata": {},
   "outputs": [
    {
     "data": {
      "text/html": [
       "<div>\n",
       "<style scoped>\n",
       "    .dataframe tbody tr th:only-of-type {\n",
       "        vertical-align: middle;\n",
       "    }\n",
       "\n",
       "    .dataframe tbody tr th {\n",
       "        vertical-align: top;\n",
       "    }\n",
       "\n",
       "    .dataframe thead th {\n",
       "        text-align: right;\n",
       "    }\n",
       "</style>\n",
       "<table border=\"1\" class=\"dataframe\">\n",
       "  <thead>\n",
       "    <tr style=\"text-align: right;\">\n",
       "      <th></th>\n",
       "      <th>state</th>\n",
       "      <th>account length</th>\n",
       "      <th>area code</th>\n",
       "      <th>phone number</th>\n",
       "      <th>international plan</th>\n",
       "      <th>voice mail plan</th>\n",
       "      <th>number vmail messages</th>\n",
       "      <th>total day minutes</th>\n",
       "      <th>total day calls</th>\n",
       "      <th>total day charge</th>\n",
       "      <th>...</th>\n",
       "      <th>total eve calls</th>\n",
       "      <th>total eve charge</th>\n",
       "      <th>total night minutes</th>\n",
       "      <th>total night calls</th>\n",
       "      <th>total night charge</th>\n",
       "      <th>total intl minutes</th>\n",
       "      <th>total intl calls</th>\n",
       "      <th>total intl charge</th>\n",
       "      <th>customer service calls</th>\n",
       "      <th>churn</th>\n",
       "    </tr>\n",
       "  </thead>\n",
       "  <tbody>\n",
       "    <tr>\n",
       "      <th>0</th>\n",
       "      <td>KS</td>\n",
       "      <td>128</td>\n",
       "      <td>415</td>\n",
       "      <td>382-4657</td>\n",
       "      <td>no</td>\n",
       "      <td>yes</td>\n",
       "      <td>25</td>\n",
       "      <td>265.1</td>\n",
       "      <td>110</td>\n",
       "      <td>45.07</td>\n",
       "      <td>...</td>\n",
       "      <td>99</td>\n",
       "      <td>16.78</td>\n",
       "      <td>244.7</td>\n",
       "      <td>91</td>\n",
       "      <td>11.01</td>\n",
       "      <td>10.0</td>\n",
       "      <td>3</td>\n",
       "      <td>2.70</td>\n",
       "      <td>1</td>\n",
       "      <td>False</td>\n",
       "    </tr>\n",
       "    <tr>\n",
       "      <th>1</th>\n",
       "      <td>OH</td>\n",
       "      <td>107</td>\n",
       "      <td>415</td>\n",
       "      <td>371-7191</td>\n",
       "      <td>no</td>\n",
       "      <td>yes</td>\n",
       "      <td>26</td>\n",
       "      <td>161.6</td>\n",
       "      <td>123</td>\n",
       "      <td>27.47</td>\n",
       "      <td>...</td>\n",
       "      <td>103</td>\n",
       "      <td>16.62</td>\n",
       "      <td>254.4</td>\n",
       "      <td>103</td>\n",
       "      <td>11.45</td>\n",
       "      <td>13.7</td>\n",
       "      <td>3</td>\n",
       "      <td>3.70</td>\n",
       "      <td>1</td>\n",
       "      <td>False</td>\n",
       "    </tr>\n",
       "    <tr>\n",
       "      <th>2</th>\n",
       "      <td>NJ</td>\n",
       "      <td>137</td>\n",
       "      <td>415</td>\n",
       "      <td>358-1921</td>\n",
       "      <td>no</td>\n",
       "      <td>no</td>\n",
       "      <td>0</td>\n",
       "      <td>243.4</td>\n",
       "      <td>114</td>\n",
       "      <td>41.38</td>\n",
       "      <td>...</td>\n",
       "      <td>110</td>\n",
       "      <td>10.30</td>\n",
       "      <td>162.6</td>\n",
       "      <td>104</td>\n",
       "      <td>7.32</td>\n",
       "      <td>12.2</td>\n",
       "      <td>5</td>\n",
       "      <td>3.29</td>\n",
       "      <td>0</td>\n",
       "      <td>False</td>\n",
       "    </tr>\n",
       "    <tr>\n",
       "      <th>3</th>\n",
       "      <td>OH</td>\n",
       "      <td>84</td>\n",
       "      <td>408</td>\n",
       "      <td>375-9999</td>\n",
       "      <td>yes</td>\n",
       "      <td>no</td>\n",
       "      <td>0</td>\n",
       "      <td>299.4</td>\n",
       "      <td>71</td>\n",
       "      <td>50.90</td>\n",
       "      <td>...</td>\n",
       "      <td>88</td>\n",
       "      <td>5.26</td>\n",
       "      <td>196.9</td>\n",
       "      <td>89</td>\n",
       "      <td>8.86</td>\n",
       "      <td>6.6</td>\n",
       "      <td>7</td>\n",
       "      <td>1.78</td>\n",
       "      <td>2</td>\n",
       "      <td>False</td>\n",
       "    </tr>\n",
       "    <tr>\n",
       "      <th>4</th>\n",
       "      <td>OK</td>\n",
       "      <td>75</td>\n",
       "      <td>415</td>\n",
       "      <td>330-6626</td>\n",
       "      <td>yes</td>\n",
       "      <td>no</td>\n",
       "      <td>0</td>\n",
       "      <td>166.7</td>\n",
       "      <td>113</td>\n",
       "      <td>28.34</td>\n",
       "      <td>...</td>\n",
       "      <td>122</td>\n",
       "      <td>12.61</td>\n",
       "      <td>186.9</td>\n",
       "      <td>121</td>\n",
       "      <td>8.41</td>\n",
       "      <td>10.1</td>\n",
       "      <td>3</td>\n",
       "      <td>2.73</td>\n",
       "      <td>3</td>\n",
       "      <td>False</td>\n",
       "    </tr>\n",
       "    <tr>\n",
       "      <th>...</th>\n",
       "      <td>...</td>\n",
       "      <td>...</td>\n",
       "      <td>...</td>\n",
       "      <td>...</td>\n",
       "      <td>...</td>\n",
       "      <td>...</td>\n",
       "      <td>...</td>\n",
       "      <td>...</td>\n",
       "      <td>...</td>\n",
       "      <td>...</td>\n",
       "      <td>...</td>\n",
       "      <td>...</td>\n",
       "      <td>...</td>\n",
       "      <td>...</td>\n",
       "      <td>...</td>\n",
       "      <td>...</td>\n",
       "      <td>...</td>\n",
       "      <td>...</td>\n",
       "      <td>...</td>\n",
       "      <td>...</td>\n",
       "      <td>...</td>\n",
       "    </tr>\n",
       "    <tr>\n",
       "      <th>3328</th>\n",
       "      <td>AZ</td>\n",
       "      <td>192</td>\n",
       "      <td>415</td>\n",
       "      <td>414-4276</td>\n",
       "      <td>no</td>\n",
       "      <td>yes</td>\n",
       "      <td>36</td>\n",
       "      <td>156.2</td>\n",
       "      <td>77</td>\n",
       "      <td>26.55</td>\n",
       "      <td>...</td>\n",
       "      <td>126</td>\n",
       "      <td>18.32</td>\n",
       "      <td>279.1</td>\n",
       "      <td>83</td>\n",
       "      <td>12.56</td>\n",
       "      <td>9.9</td>\n",
       "      <td>6</td>\n",
       "      <td>2.67</td>\n",
       "      <td>2</td>\n",
       "      <td>False</td>\n",
       "    </tr>\n",
       "    <tr>\n",
       "      <th>3329</th>\n",
       "      <td>WV</td>\n",
       "      <td>68</td>\n",
       "      <td>415</td>\n",
       "      <td>370-3271</td>\n",
       "      <td>no</td>\n",
       "      <td>no</td>\n",
       "      <td>0</td>\n",
       "      <td>231.1</td>\n",
       "      <td>57</td>\n",
       "      <td>39.29</td>\n",
       "      <td>...</td>\n",
       "      <td>55</td>\n",
       "      <td>13.04</td>\n",
       "      <td>191.3</td>\n",
       "      <td>123</td>\n",
       "      <td>8.61</td>\n",
       "      <td>9.6</td>\n",
       "      <td>4</td>\n",
       "      <td>2.59</td>\n",
       "      <td>3</td>\n",
       "      <td>False</td>\n",
       "    </tr>\n",
       "    <tr>\n",
       "      <th>3330</th>\n",
       "      <td>RI</td>\n",
       "      <td>28</td>\n",
       "      <td>510</td>\n",
       "      <td>328-8230</td>\n",
       "      <td>no</td>\n",
       "      <td>no</td>\n",
       "      <td>0</td>\n",
       "      <td>180.8</td>\n",
       "      <td>109</td>\n",
       "      <td>30.74</td>\n",
       "      <td>...</td>\n",
       "      <td>58</td>\n",
       "      <td>24.55</td>\n",
       "      <td>191.9</td>\n",
       "      <td>91</td>\n",
       "      <td>8.64</td>\n",
       "      <td>14.1</td>\n",
       "      <td>6</td>\n",
       "      <td>3.81</td>\n",
       "      <td>2</td>\n",
       "      <td>False</td>\n",
       "    </tr>\n",
       "    <tr>\n",
       "      <th>3331</th>\n",
       "      <td>CT</td>\n",
       "      <td>184</td>\n",
       "      <td>510</td>\n",
       "      <td>364-6381</td>\n",
       "      <td>yes</td>\n",
       "      <td>no</td>\n",
       "      <td>0</td>\n",
       "      <td>213.8</td>\n",
       "      <td>105</td>\n",
       "      <td>36.35</td>\n",
       "      <td>...</td>\n",
       "      <td>84</td>\n",
       "      <td>13.57</td>\n",
       "      <td>139.2</td>\n",
       "      <td>137</td>\n",
       "      <td>6.26</td>\n",
       "      <td>5.0</td>\n",
       "      <td>10</td>\n",
       "      <td>1.35</td>\n",
       "      <td>2</td>\n",
       "      <td>False</td>\n",
       "    </tr>\n",
       "    <tr>\n",
       "      <th>3332</th>\n",
       "      <td>TN</td>\n",
       "      <td>74</td>\n",
       "      <td>415</td>\n",
       "      <td>400-4344</td>\n",
       "      <td>no</td>\n",
       "      <td>yes</td>\n",
       "      <td>25</td>\n",
       "      <td>234.4</td>\n",
       "      <td>113</td>\n",
       "      <td>39.85</td>\n",
       "      <td>...</td>\n",
       "      <td>82</td>\n",
       "      <td>22.60</td>\n",
       "      <td>241.4</td>\n",
       "      <td>77</td>\n",
       "      <td>10.86</td>\n",
       "      <td>13.7</td>\n",
       "      <td>4</td>\n",
       "      <td>3.70</td>\n",
       "      <td>0</td>\n",
       "      <td>False</td>\n",
       "    </tr>\n",
       "  </tbody>\n",
       "</table>\n",
       "<p>3333 rows × 21 columns</p>\n",
       "</div>"
      ],
      "text/plain": [
       "     state  account length  area code phone number international plan  \\\n",
       "0       KS             128        415     382-4657                 no   \n",
       "1       OH             107        415     371-7191                 no   \n",
       "2       NJ             137        415     358-1921                 no   \n",
       "3       OH              84        408     375-9999                yes   \n",
       "4       OK              75        415     330-6626                yes   \n",
       "...    ...             ...        ...          ...                ...   \n",
       "3328    AZ             192        415     414-4276                 no   \n",
       "3329    WV              68        415     370-3271                 no   \n",
       "3330    RI              28        510     328-8230                 no   \n",
       "3331    CT             184        510     364-6381                yes   \n",
       "3332    TN              74        415     400-4344                 no   \n",
       "\n",
       "     voice mail plan  number vmail messages  total day minutes  \\\n",
       "0                yes                     25              265.1   \n",
       "1                yes                     26              161.6   \n",
       "2                 no                      0              243.4   \n",
       "3                 no                      0              299.4   \n",
       "4                 no                      0              166.7   \n",
       "...              ...                    ...                ...   \n",
       "3328             yes                     36              156.2   \n",
       "3329              no                      0              231.1   \n",
       "3330              no                      0              180.8   \n",
       "3331              no                      0              213.8   \n",
       "3332             yes                     25              234.4   \n",
       "\n",
       "      total day calls  total day charge  ...  total eve calls  \\\n",
       "0                 110             45.07  ...               99   \n",
       "1                 123             27.47  ...              103   \n",
       "2                 114             41.38  ...              110   \n",
       "3                  71             50.90  ...               88   \n",
       "4                 113             28.34  ...              122   \n",
       "...               ...               ...  ...              ...   \n",
       "3328               77             26.55  ...              126   \n",
       "3329               57             39.29  ...               55   \n",
       "3330              109             30.74  ...               58   \n",
       "3331              105             36.35  ...               84   \n",
       "3332              113             39.85  ...               82   \n",
       "\n",
       "      total eve charge  total night minutes  total night calls  \\\n",
       "0                16.78                244.7                 91   \n",
       "1                16.62                254.4                103   \n",
       "2                10.30                162.6                104   \n",
       "3                 5.26                196.9                 89   \n",
       "4                12.61                186.9                121   \n",
       "...                ...                  ...                ...   \n",
       "3328             18.32                279.1                 83   \n",
       "3329             13.04                191.3                123   \n",
       "3330             24.55                191.9                 91   \n",
       "3331             13.57                139.2                137   \n",
       "3332             22.60                241.4                 77   \n",
       "\n",
       "      total night charge  total intl minutes  total intl calls  \\\n",
       "0                  11.01                10.0                 3   \n",
       "1                  11.45                13.7                 3   \n",
       "2                   7.32                12.2                 5   \n",
       "3                   8.86                 6.6                 7   \n",
       "4                   8.41                10.1                 3   \n",
       "...                  ...                 ...               ...   \n",
       "3328               12.56                 9.9                 6   \n",
       "3329                8.61                 9.6                 4   \n",
       "3330                8.64                14.1                 6   \n",
       "3331                6.26                 5.0                10   \n",
       "3332               10.86                13.7                 4   \n",
       "\n",
       "      total intl charge  customer service calls  churn  \n",
       "0                  2.70                       1  False  \n",
       "1                  3.70                       1  False  \n",
       "2                  3.29                       0  False  \n",
       "3                  1.78                       2  False  \n",
       "4                  2.73                       3  False  \n",
       "...                 ...                     ...    ...  \n",
       "3328               2.67                       2  False  \n",
       "3329               2.59                       3  False  \n",
       "3330               3.81                       2  False  \n",
       "3331               1.35                       2  False  \n",
       "3332               3.70                       0  False  \n",
       "\n",
       "[3333 rows x 21 columns]"
      ]
     },
     "execution_count": 21,
     "metadata": {},
     "output_type": "execute_result"
    }
   ],
   "source": [
    "df"
   ]
  },
  {
   "cell_type": "code",
   "execution_count": 23,
   "metadata": {},
   "outputs": [
    {
     "name": "stdout",
     "output_type": "stream",
     "text": [
      "WV    106\n",
      "MN     84\n",
      "NY     83\n",
      "AL     80\n",
      "OR     78\n",
      "WI     78\n",
      "OH     78\n",
      "WY     77\n",
      "VA     77\n",
      "CT     74\n",
      "VT     73\n",
      "ID     73\n",
      "MI     73\n",
      "UT     72\n",
      "TX     72\n",
      "IN     71\n",
      "MD     70\n",
      "KS     70\n",
      "NJ     68\n",
      "MT     68\n",
      "NC     68\n",
      "WA     66\n",
      "CO     66\n",
      "NV     66\n",
      "RI     65\n",
      "MA     65\n",
      "MS     65\n",
      "AZ     64\n",
      "MO     63\n",
      "FL     63\n",
      "ME     62\n",
      "ND     62\n",
      "NM     62\n",
      "DE     61\n",
      "NE     61\n",
      "OK     61\n",
      "SC     60\n",
      "SD     60\n",
      "KY     59\n",
      "IL     58\n",
      "NH     56\n",
      "AR     55\n",
      "DC     54\n",
      "GA     54\n",
      "TN     53\n",
      "HI     53\n",
      "AK     52\n",
      "LA     51\n",
      "PA     45\n",
      "IA     44\n",
      "CA     34\n",
      "Name: state, dtype: int64\n",
      "\n",
      "383-9255    1\n",
      "408-5601    1\n",
      "347-3406    1\n",
      "334-5223    1\n",
      "353-6870    1\n",
      "           ..\n",
      "417-8617    1\n",
      "360-5779    1\n",
      "386-3717    1\n",
      "365-7784    1\n",
      "400-6999    1\n",
      "Name: phone number, Length: 3333, dtype: int64\n",
      "\n",
      "no     3010\n",
      "yes     323\n",
      "Name: international plan, dtype: int64\n",
      "\n",
      "no     2411\n",
      "yes     922\n",
      "Name: voice mail plan, dtype: int64\n",
      "\n"
     ]
    }
   ],
   "source": [
    "for cols in df.columns:\n",
    "    if df[cols].dtype=='object':\n",
    "        print(df[cols].value_counts())\n",
    "        print()"
   ]
  },
  {
   "cell_type": "code",
   "execution_count": 24,
   "metadata": {},
   "outputs": [],
   "source": [
    "# phone number doesnt have any influence on churn. so let us remove it"
   ]
  },
  {
   "cell_type": "code",
   "execution_count": 25,
   "metadata": {},
   "outputs": [],
   "source": [
    "df.drop('phone number',axis=1,inplace=True)"
   ]
  },
  {
   "cell_type": "code",
   "execution_count": 28,
   "metadata": {},
   "outputs": [
    {
     "data": {
      "text/plain": [
       "<matplotlib.axes._subplots.AxesSubplot at 0x206d81145b0>"
      ]
     },
     "execution_count": 28,
     "metadata": {},
     "output_type": "execute_result"
    },
    {
     "data": {
      "image/png": "[encoded data removed]",
      "text/plain": [
       "<Figure size 432x288 with 1 Axes>"
      ]
     },
     "metadata": {
      "needs_background": "light"
     },
     "output_type": "display_data"
    }
   ],
   "source": [
    "sns.countplot(x='churn',data=df)"
   ]
  },
  {
   "cell_type": "code",
   "execution_count": 29,
   "metadata": {},
   "outputs": [],
   "source": [
    "# This is an imbalanced set we have to balance it by SMOTE "
   ]
  },
  {
   "cell_type": "code",
   "execution_count": 30,
   "metadata": {},
   "outputs": [
    {
     "data": {
      "text/plain": [
       "<matplotlib.axes._subplots.AxesSubplot at 0x206d814bac0>"
      ]
     },
     "execution_count": 30,
     "metadata": {},
     "output_type": "execute_result"
    },
    {
     "data": {
      "image/png": "[encoded data removed]",
      "text/plain": [
       "<Figure size 2160x720 with 1 Axes>"
      ]
     },
     "metadata": {
      "needs_background": "light"
     },
     "output_type": "display_data"
    }
   ],
   "source": [
    "df.groupby([\"state\", \"churn\"]).size().unstack().plot(kind='bar', stacked=True, figsize=(30,10))"
   ]
  },
  {
   "cell_type": "code",
   "execution_count": 34,
   "metadata": {},
   "outputs": [
    {
     "data": {
      "text/plain": [
       "<matplotlib.axes._subplots.AxesSubplot at 0x206d88e0760>"
      ]
     },
     "execution_count": 34,
     "metadata": {},
     "output_type": "execute_result"
    },
    {
     "data": {
      "image/png": "[encoded data removed]",
      "text/plain": [
       "<Figure size 432x288 with 1 Axes>"
      ]
     },
     "metadata": {
      "needs_background": "light"
     },
     "output_type": "display_data"
    }
   ],
   "source": [
    "df.groupby([\"area code\", \"churn\"]).size().unstack().plot(kind='bar', stacked=False)"
   ]
  },
  {
   "cell_type": "code",
   "execution_count": 35,
   "metadata": {},
   "outputs": [
    {
     "data": {
      "text/plain": [
       "<matplotlib.axes._subplots.AxesSubplot at 0x206d9b3d820>"
      ]
     },
     "execution_count": 35,
     "metadata": {},
     "output_type": "execute_result"
    },
    {
     "data": {
      "image/png": "[encoded data removed]",
      "text/plain": [
       "<Figure size 432x288 with 1 Axes>"
      ]
     },
     "metadata": {
      "needs_background": "light"
     },
     "output_type": "display_data"
    }
   ],
   "source": [
    "df.groupby([\"international plan\", \"churn\"]).size().unstack().plot(kind='bar') "
   ]
  },
  {
   "cell_type": "code",
   "execution_count": 36,
   "metadata": {},
   "outputs": [
    {
     "data": {
      "text/plain": [
       "<matplotlib.axes._subplots.AxesSubplot at 0x206d9b855b0>"
      ]
     },
     "execution_count": 36,
     "metadata": {},
     "output_type": "execute_result"
    },
    {
     "data": {
      "image/png": "[encoded data removed]",
      "text/plain": [
       "<Figure size 432x288 with 1 Axes>"
      ]
     },
     "metadata": {
      "needs_background": "light"
     },
     "output_type": "display_data"
    }
   ],
   "source": [
    "df.groupby([\"voice mail plan\", \"churn\"]).size().unstack().plot(kind='bar') "
   ]
  },
  {
   "cell_type": "code",
   "execution_count": 37,
   "metadata": {},
   "outputs": [
    {
     "data": {
      "text/plain": [
       "state                      object\n",
       "account length              int64\n",
       "area code                   int64\n",
       "international plan         object\n",
       "voice mail plan            object\n",
       "number vmail messages       int64\n",
       "total day minutes         float64\n",
       "total day calls             int64\n",
       "total day charge          float64\n",
       "total eve minutes         float64\n",
       "total eve calls             int64\n",
       "total eve charge          float64\n",
       "total night minutes       float64\n",
       "total night calls           int64\n",
       "total night charge        float64\n",
       "total intl minutes        float64\n",
       "total intl calls            int64\n",
       "total intl charge         float64\n",
       "customer service calls      int64\n",
       "churn                        bool\n",
       "dtype: object"
      ]
     },
     "execution_count": 37,
     "metadata": {},
     "output_type": "execute_result"
    }
   ],
   "source": [
    "df.dtypes"
   ]
  },
  {
   "cell_type": "code",
   "execution_count": 38,
   "metadata": {},
   "outputs": [],
   "source": [
    "from sklearn.preprocessing import LabelEncoder\n",
    "le=LabelEncoder()\n",
    "df['state'] = le.fit_transform(df['state'])\n",
    "df['international plan'] = le.fit_transform(df['international plan'])\n",
    "df['voice mail plan'] = le.fit_transform(df['voice mail plan'])"
   ]
  },
  {
   "cell_type": "code",
   "execution_count": 39,
   "metadata": {},
   "outputs": [
    {
     "data": {
      "text/plain": [
       "state                       int32\n",
       "account length              int64\n",
       "area code                   int64\n",
       "international plan          int32\n",
       "voice mail plan             int32\n",
       "number vmail messages       int64\n",
       "total day minutes         float64\n",
       "total day calls             int64\n",
       "total day charge          float64\n",
       "total eve minutes         float64\n",
       "total eve calls             int64\n",
       "total eve charge          float64\n",
       "total night minutes       float64\n",
       "total night calls           int64\n",
       "total night charge        float64\n",
       "total intl minutes        float64\n",
       "total intl calls            int64\n",
       "total intl charge         float64\n",
       "customer service calls      int64\n",
       "churn                        bool\n",
       "dtype: object"
      ]
     },
     "execution_count": 39,
     "metadata": {},
     "output_type": "execute_result"
    }
   ],
   "source": [
    "df.dtypes"
   ]
  },
  {
   "cell_type": "code",
   "execution_count": 40,
   "metadata": {},
   "outputs": [],
   "source": [
    "x=df.drop('churn',axis=1)\n",
    "y=df['churn']"
   ]
  },
  {
   "cell_type": "code",
   "execution_count": 41,
   "metadata": {},
   "outputs": [
    {
     "data": {
      "text/plain": [
       "((3333, 19), (3333,))"
      ]
     },
     "execution_count": 41,
     "metadata": {},
     "output_type": "execute_result"
    }
   ],
   "source": [
    "x.shape,y.shape"
   ]
  },
  {
   "cell_type": "code",
   "execution_count": 42,
   "metadata": {},
   "outputs": [],
   "source": [
    "from sklearn.preprocessing import StandardScaler\n",
    "ss= StandardScaler()\n",
    "x=ss.fit_transform(x)"
   ]
  },
  {
   "cell_type": "code",
   "execution_count": 43,
   "metadata": {},
   "outputs": [
    {
     "data": {
      "text/plain": [
       "array([[-0.6786493 ,  0.67648946, -0.52360328, ..., -0.60119509,\n",
       "        -0.0856905 , -0.42793202],\n",
       "       [ 0.6031696 ,  0.14906505, -0.52360328, ..., -0.60119509,\n",
       "         1.2411686 , -0.42793202],\n",
       "       [ 0.33331299,  0.9025285 , -0.52360328, ...,  0.21153386,\n",
       "         0.69715637, -1.1882185 ],\n",
       "       ...,\n",
       "       [ 0.87302621, -1.83505538,  1.71881732, ...,  0.61789834,\n",
       "         1.3871231 ,  0.33235445],\n",
       "       [-1.35329082,  2.08295458,  1.71881732, ...,  2.24335625,\n",
       "        -1.87695028,  0.33235445],\n",
       "       [ 1.07541867, -0.67974475, -0.52360328, ..., -0.19483061,\n",
       "         1.2411686 , -1.1882185 ]])"
      ]
     },
     "execution_count": 43,
     "metadata": {},
     "output_type": "execute_result"
    }
   ],
   "source": [
    "x"
   ]
  },
  {
   "cell_type": "code",
   "execution_count": 46,
   "metadata": {},
   "outputs": [],
   "source": [
    "y=le.fit_transform(y)"
   ]
  },
  {
   "cell_type": "code",
   "execution_count": 50,
   "metadata": {},
   "outputs": [
    {
     "data": {
      "text/plain": [
       "array([0, 0, 0, ..., 0, 0, 0], dtype=int64)"
      ]
     },
     "execution_count": 50,
     "metadata": {},
     "output_type": "execute_result"
    }
   ],
   "source": [
    "y"
   ]
  },
  {
   "cell_type": "code",
   "execution_count": 51,
   "metadata": {},
   "outputs": [],
   "source": [
    "from sklearn.model_selection import train_test_split\n",
    "from sklearn.metrics import roc_auc_score,accuracy_score,f1_score\n",
    "def max_auc_roc_score(algo,x,y):\n",
    "    max_auc_roc_score=0\n",
    "    for r_state in range(42,100):\n",
    "        x_train, x_test, y_train, y_test = train_test_split(x, y,random_state = r_state,test_size=0.20)\n",
    "        algo.fit(x_train,y_train)\n",
    "        y_pred = algo.predict(x_test)\n",
    "        aucroc_scr=roc_auc_score(y_test,y_pred)\n",
    "        print(\"auc roc score corresponding to \",r_state,\" is \",aucroc_scr)\n",
    "        if aucroc_scr>max_auc_roc_score:\n",
    "            max_auc_roc_score=aucroc_scr\n",
    "            final_r_state=r_state\n",
    "    print(\"max auc roc score corresponding to \",final_r_state,\" is \",max_auc_roc_score)\n",
    "    print(\"Accuracy is=\",accuracy_score(y_test,y_pred))\n",
    "    print(\"F1 Score= \",f1_score(y_test,y_pred))\n",
    "    return final_r_state"
   ]
  },
  {
   "cell_type": "markdown",
   "metadata": {},
   "source": [
    "### Logistic Regression"
   ]
  },
  {
   "cell_type": "code",
   "execution_count": 52,
   "metadata": {},
   "outputs": [
    {
     "name": "stdout",
     "output_type": "stream",
     "text": [
      "auc roc score corresponding to  42  is  0.5735577091278031\n",
      "auc roc score corresponding to  43  is  0.6002191042009016\n",
      "auc roc score corresponding to  44  is  0.552685995385486\n",
      "auc roc score corresponding to  45  is  0.5825174825174825\n",
      "auc roc score corresponding to  46  is  0.6022930998540754\n",
      "auc roc score corresponding to  47  is  0.5898779207651336\n",
      "auc roc score corresponding to  48  is  0.599366974136372\n",
      "auc roc score corresponding to  49  is  0.5887706043956044\n",
      "auc roc score corresponding to  50  is  0.5800793730871422\n",
      "auc roc score corresponding to  51  is  0.6026959882223041\n",
      "auc roc score corresponding to  52  is  0.5854966525481623\n",
      "auc roc score corresponding to  53  is  0.6102695040306053\n",
      "auc roc score corresponding to  54  is  0.5780707610146861\n",
      "auc roc score corresponding to  55  is  0.5881380972746005\n",
      "auc roc score corresponding to  56  is  0.5808473433615641\n",
      "auc roc score corresponding to  57  is  0.5977292353587691\n",
      "auc roc score corresponding to  58  is  0.571797329566475\n",
      "auc roc score corresponding to  59  is  0.5649425287356322\n",
      "auc roc score corresponding to  60  is  0.5725866023871544\n",
      "auc roc score corresponding to  61  is  0.5615921236684481\n",
      "auc roc score corresponding to  62  is  0.5810947510396763\n",
      "auc roc score corresponding to  63  is  0.5676205373573795\n",
      "auc roc score corresponding to  64  is  0.597363315696649\n",
      "auc roc score corresponding to  65  is  0.5990468724211916\n",
      "auc roc score corresponding to  66  is  0.5919291593752026\n",
      "auc roc score corresponding to  67  is  0.5961463223787168\n",
      "auc roc score corresponding to  68  is  0.6014554275318374\n",
      "auc roc score corresponding to  69  is  0.6008078289383796\n",
      "auc roc score corresponding to  70  is  0.5847701149425288\n",
      "auc roc score corresponding to  71  is  0.5606644144144145\n",
      "auc roc score corresponding to  72  is  0.5847372774367681\n",
      "auc roc score corresponding to  73  is  0.6072283718009107\n",
      "auc roc score corresponding to  74  is  0.5735361552028219\n",
      "auc roc score corresponding to  75  is  0.6213787774160664\n",
      "auc roc score corresponding to  76  is  0.600287356321839\n",
      "auc roc score corresponding to  77  is  0.6213161881154031\n",
      "auc roc score corresponding to  78  is  0.5911965954606141\n",
      "auc roc score corresponding to  79  is  0.5855489238560319\n",
      "auc roc score corresponding to  80  is  0.5810869565217391\n",
      "auc roc score corresponding to  81  is  0.6083110814419226\n",
      "auc roc score corresponding to  82  is  0.561540076269111\n",
      "auc roc score corresponding to  83  is  0.5835455831817262\n",
      "auc roc score corresponding to  84  is  0.6126369174930326\n",
      "auc roc score corresponding to  85  is  0.566559042141728\n",
      "auc roc score corresponding to  86  is  0.6125471031559113\n",
      "auc roc score corresponding to  87  is  0.5891606292278749\n",
      "auc roc score corresponding to  88  is  0.582753169878586\n",
      "auc roc score corresponding to  89  is  0.6222833482368493\n",
      "auc roc score corresponding to  90  is  0.6011261628855883\n",
      "auc roc score corresponding to  91  is  0.5666330782893839\n",
      "auc roc score corresponding to  92  is  0.5781609195402299\n",
      "auc roc score corresponding to  93  is  0.5831608811748998\n",
      "auc roc score corresponding to  94  is  0.5760216947524317\n",
      "auc roc score corresponding to  95  is  0.6065121592949241\n",
      "auc roc score corresponding to  96  is  0.6248267206174367\n",
      "auc roc score corresponding to  97  is  0.5907095126473778\n",
      "auc roc score corresponding to  98  is  0.5780361887465106\n",
      "auc roc score corresponding to  99  is  0.5949216314898922\n",
      "max auc roc score corresponding to  96  is  0.6248267206174367\n",
      "Accuracy is= 0.881559220389805\n",
      "F1 Score=  0.3008849557522124\n"
     ]
    },
    {
     "data": {
      "text/plain": [
       "96"
      ]
     },
     "execution_count": 52,
     "metadata": {},
     "output_type": "execute_result"
    }
   ],
   "source": [
    "from sklearn.linear_model import LogisticRegression\n",
    "lg_algo = LogisticRegression()\n",
    "max_auc_roc_score(lg_algo,x,y)"
   ]
  },
  {
   "cell_type": "code",
   "execution_count": 53,
   "metadata": {},
   "outputs": [
    {
     "data": {
      "text/plain": [
       "0.8159429824561404"
      ]
     },
     "execution_count": 53,
     "metadata": {},
     "output_type": "execute_result"
    }
   ],
   "source": [
    "from sklearn.model_selection import cross_val_score\n",
    "cross_val_score(lg_algo,x,y,cv=5,scoring=\"roc_auc\").mean()"
   ]
  },
  {
   "cell_type": "markdown",
   "metadata": {},
   "source": [
    "### Decision Tree"
   ]
  },
  {
   "cell_type": "code",
   "execution_count": 56,
   "metadata": {},
   "outputs": [
    {
     "name": "stdout",
     "output_type": "stream",
     "text": [
      "auc roc score corresponding to  42  is  0.8488524647517757\n",
      "auc roc score corresponding to  43  is  0.8507457969915306\n",
      "auc roc score corresponding to  44  is  0.7955139088415828\n",
      "auc roc score corresponding to  45  is  0.8132223040117776\n",
      "auc roc score corresponding to  46  is  0.8499583072753805\n",
      "auc roc score corresponding to  47  is  0.8106897087982583\n",
      "auc roc score corresponding to  48  is  0.8455869054078495\n",
      "auc roc score corresponding to  49  is  0.8299374236874237\n",
      "auc roc score corresponding to  50  is  0.8373608448525207\n",
      "auc roc score corresponding to  51  is  0.8667832167832168\n",
      "auc roc score corresponding to  52  is  0.825420139363301\n",
      "auc roc score corresponding to  53  is  0.8330458395955732\n",
      "auc roc score corresponding to  54  is  0.8225801068090787\n",
      "auc roc score corresponding to  55  is  0.8694646397884996\n",
      "auc roc score corresponding to  56  is  0.8545590527956853\n",
      "auc roc score corresponding to  57  is  0.7910484377453288\n",
      "auc roc score corresponding to  58  is  0.8438603571788922\n",
      "auc roc score corresponding to  59  is  0.8250000000000001\n",
      "auc roc score corresponding to  60  is  0.8392169822324171\n",
      "auc roc score corresponding to  61  is  0.8156450629460924\n",
      "auc roc score corresponding to  62  is  0.8689539545165037\n",
      "auc roc score corresponding to  63  is  0.844838056680162\n",
      "auc roc score corresponding to  64  is  0.7903174603174604\n",
      "auc roc score corresponding to  65  is  0.8108392474005611\n",
      "auc roc score corresponding to  66  is  0.839685008749757\n",
      "auc roc score corresponding to  67  is  0.8234190496514441\n",
      "auc roc score corresponding to  68  is  0.8070749949464321\n",
      "auc roc score corresponding to  69  is  0.8300143462221615\n",
      "auc roc score corresponding to  70  is  0.828735632183908\n",
      "auc roc score corresponding to  71  is  0.8179504504504505\n",
      "auc roc score corresponding to  72  is  0.8211549344826085\n",
      "auc roc score corresponding to  73  is  0.8224112890563668\n",
      "auc roc score corresponding to  74  is  0.8541358024691358\n",
      "auc roc score corresponding to  75  is  0.8327085594028477\n",
      "auc roc score corresponding to  76  is  0.8373563218390805\n",
      "auc roc score corresponding to  77  is  0.8052743923431799\n",
      "auc roc score corresponding to  78  is  0.8029956608811748\n",
      "auc roc score corresponding to  79  is  0.8019352504973773\n",
      "auc roc score corresponding to  80  is  0.837391304347826\n",
      "auc roc score corresponding to  81  is  0.804305740987984\n",
      "auc roc score corresponding to  82  is  0.8118986810341813\n",
      "auc roc score corresponding to  83  is  0.816393774004447\n",
      "auc roc score corresponding to  84  is  0.8270788774385897\n",
      "auc roc score corresponding to  85  is  0.8443816634715637\n",
      "auc roc score corresponding to  86  is  0.8692298634008478\n",
      "auc roc score corresponding to  87  is  0.8421826842252731\n",
      "auc roc score corresponding to  88  is  0.8184929203242188\n",
      "auc roc score corresponding to  89  is  0.8098246568951442\n",
      "auc roc score corresponding to  90  is  0.8148767749306349\n",
      "auc roc score corresponding to  91  is  0.84887792048094\n",
      "auc roc score corresponding to  92  is  0.7928160919540229\n",
      "auc roc score corresponding to  93  is  0.8601718958611482\n",
      "auc roc score corresponding to  94  is  0.7383921066325101\n",
      "auc roc score corresponding to  95  is  0.8313203851803493\n",
      "auc roc score corresponding to  96  is  0.8706961147952493\n",
      "auc roc score corresponding to  97  is  0.8209162789070427\n",
      "auc roc score corresponding to  98  is  0.7957992802609893\n",
      "auc roc score corresponding to  99  is  0.86700730252026\n",
      "max auc roc score corresponding to  96  is  0.8706961147952493\n",
      "Accuracy is= 0.9370314842578711\n",
      "F1 Score=  0.7374999999999999\n"
     ]
    },
    {
     "data": {
      "text/plain": [
       "96"
      ]
     },
     "execution_count": 56,
     "metadata": {},
     "output_type": "execute_result"
    }
   ],
   "source": [
    "from sklearn.tree import DecisionTreeClassifier\n",
    "dt_algo=DecisionTreeClassifier()\n",
    "max_auc_roc_score(dt_algo,x,y)"
   ]
  },
  {
   "cell_type": "code",
   "execution_count": 57,
   "metadata": {},
   "outputs": [
    {
     "data": {
      "text/plain": [
       "0.8360231280520889"
      ]
     },
     "execution_count": 57,
     "metadata": {},
     "output_type": "execute_result"
    }
   ],
   "source": [
    "cross_val_score(dt_algo,x,y,cv=5,scoring=\"roc_auc\").mean()"
   ]
  },
  {
   "cell_type": "markdown",
   "metadata": {},
   "source": [
    "### Random Forest"
   ]
  },
  {
   "cell_type": "code",
   "execution_count": 58,
   "metadata": {},
   "outputs": [
    {
     "data": {
      "text/plain": [
       "{'criterion': 'gini', 'n_estimators': 500}"
      ]
     },
     "execution_count": 58,
     "metadata": {},
     "output_type": "execute_result"
    }
   ],
   "source": [
    "from sklearn.ensemble import RandomForestClassifier\n",
    "from sklearn.model_selection import GridSearchCV\n",
    "parameters={\"n_estimators\":[10,100,500],'criterion' : (\"gini\", \"entropy\")}\n",
    "rf=RandomForestClassifier()\n",
    "gsv = GridSearchCV(rf, parameters, cv=5,scoring=\"roc_auc\")\n",
    "gsv.fit(x,y)\n",
    "gsv.best_params_"
   ]
  },
  {
   "cell_type": "code",
   "execution_count": 59,
   "metadata": {},
   "outputs": [
    {
     "name": "stdout",
     "output_type": "stream",
     "text": [
      "auc roc score corresponding to  42  is  0.8479515796102578\n",
      "auc roc score corresponding to  43  is  0.8793030800994395\n",
      "auc roc score corresponding to  44  is  0.8265421618562535\n",
      "auc roc score corresponding to  45  is  0.8614096429885904\n",
      "auc roc score corresponding to  46  is  0.8615801542630812\n",
      "auc roc score corresponding to  47  is  0.8383713696979123\n",
      "auc roc score corresponding to  48  is  0.8504069451980467\n",
      "auc roc score corresponding to  49  is  0.8493303571428572\n",
      "auc roc score corresponding to  50  is  0.8794016749066693\n",
      "auc roc score corresponding to  51  is  0.881588148693412\n",
      "auc roc score corresponding to  52  is  0.868416108758027\n",
      "auc roc score corresponding to  53  is  0.8573917201803525\n",
      "auc roc score corresponding to  54  is  0.8544559412550067\n",
      "auc roc score corresponding to  55  is  0.8859103456319738\n",
      "auc roc score corresponding to  56  is  0.8775965954578012\n",
      "auc roc score corresponding to  57  is  0.8545003140210393\n",
      "auc roc score corresponding to  58  is  0.8616856691218512\n",
      "auc roc score corresponding to  59  is  0.846264367816092\n",
      "auc roc score corresponding to  60  is  0.8841802418257455\n",
      "auc roc score corresponding to  61  is  0.8152774290735626\n",
      "auc roc score corresponding to  62  is  0.8809992132179386\n",
      "auc roc score corresponding to  63  is  0.8526499815973501\n",
      "auc roc score corresponding to  64  is  0.8555908289241623\n",
      "auc roc score corresponding to  65  is  0.8468600429113715\n",
      "auc roc score corresponding to  66  is  0.8657722470672111\n",
      "auc roc score corresponding to  67  is  0.882958102148243\n",
      "auc roc score corresponding to  68  is  0.8503638568829595\n",
      "auc roc score corresponding to  69  is  0.8705595026642984\n",
      "auc roc score corresponding to  70  is  0.8724137931034482\n",
      "auc roc score corresponding to  71  is  0.9024436936936937\n",
      "auc roc score corresponding to  72  is  0.8513342910626442\n",
      "auc roc score corresponding to  73  is  0.857090987596169\n",
      "auc roc score corresponding to  74  is  0.8747089947089948\n",
      "auc roc score corresponding to  75  is  0.8358653118937227\n",
      "auc roc score corresponding to  76  is  0.8586206896551724\n",
      "auc roc score corresponding to  77  is  0.8305188321972045\n",
      "auc roc score corresponding to  78  is  0.8244242323097463\n",
      "auc roc score corresponding to  79  is  0.8383432808826189\n",
      "auc roc score corresponding to  80  is  0.888695652173913\n",
      "auc roc score corresponding to  81  is  0.8422229639519359\n",
      "auc roc score corresponding to  82  is  0.8520186824336143\n",
      "auc roc score corresponding to  83  is  0.8327167980594299\n",
      "auc roc score corresponding to  84  is  0.8387452200401841\n",
      "auc roc score corresponding to  85  is  0.8307099855379544\n",
      "auc roc score corresponding to  86  is  0.9113184958392212\n",
      "auc roc score corresponding to  87  is  0.8520694071968938\n",
      "auc roc score corresponding to  88  is  0.8171896545925402\n",
      "auc roc score corresponding to  89  is  0.832316006376113\n",
      "auc roc score corresponding to  90  is  0.8318753060225232\n",
      "auc roc score corresponding to  91  is  0.878919592840552\n",
      "auc roc score corresponding to  92  is  0.8488505747126437\n",
      "auc roc score corresponding to  93  is  0.843115821094793\n",
      "auc roc score corresponding to  94  is  0.7764880118480567\n",
      "auc roc score corresponding to  95  is  0.8636934878407051\n",
      "auc roc score corresponding to  96  is  0.9104941740661647\n",
      "auc roc score corresponding to  97  is  0.8479515796102578\n",
      "auc roc score corresponding to  98  is  0.8437090101906972\n",
      "auc roc score corresponding to  99  is  0.8796976578502091\n",
      "max auc roc score corresponding to  86  is  0.9113184958392212\n",
      "Accuracy is= 0.95952023988006\n",
      "F1 Score=  0.8137931034482757\n"
     ]
    },
    {
     "data": {
      "text/plain": [
       "86"
      ]
     },
     "execution_count": 59,
     "metadata": {},
     "output_type": "execute_result"
    }
   ],
   "source": [
    "rf_algo =RandomForestClassifier(n_estimators=500,criterion='gini')\n",
    "max_auc_roc_score(rf_algo,x,y)"
   ]
  },
  {
   "cell_type": "code",
   "execution_count": 60,
   "metadata": {},
   "outputs": [
    {
     "data": {
      "text/plain": [
       "0.9143432733465968"
      ]
     },
     "execution_count": 60,
     "metadata": {},
     "output_type": "execute_result"
    }
   ],
   "source": [
    "cross_val_score(rf_algo,x,y,cv=5,scoring=\"roc_auc\").mean()"
   ]
  },
  {
   "cell_type": "markdown",
   "metadata": {},
   "source": [
    "### KNN"
   ]
  },
  {
   "cell_type": "code",
   "execution_count": 61,
   "metadata": {},
   "outputs": [
    {
     "data": {
      "text/plain": [
       "{'n_neighbors': 25}"
      ]
     },
     "execution_count": 61,
     "metadata": {},
     "output_type": "execute_result"
    }
   ],
   "source": [
    "from sklearn.model_selection import GridSearchCV\n",
    "from sklearn.neighbors import KNeighborsClassifier\n",
    "knn=KNeighborsClassifier()\n",
    "neighbors={\"n_neighbors\":range(1,30)}\n",
    "gsv = GridSearchCV(knn, neighbors, cv=5,scoring=\"roc_auc\")\n",
    "gsv.fit(x,y)\n",
    "gsv.best_params_"
   ]
  },
  {
   "cell_type": "code",
   "execution_count": 62,
   "metadata": {},
   "outputs": [
    {
     "name": "stdout",
     "output_type": "stream",
     "text": [
      "auc roc score corresponding to  42  is  0.5693069306930694\n",
      "auc roc score corresponding to  43  is  0.5925925925925926\n",
      "auc roc score corresponding to  44  is  0.576074180488442\n",
      "auc roc score corresponding to  45  is  0.5517574530732425\n",
      "auc roc score corresponding to  46  is  0.5914634146341463\n",
      "auc roc score corresponding to  47  is  0.5769215815870299\n",
      "auc roc score corresponding to  48  is  0.5824742268041238\n",
      "auc roc score corresponding to  49  is  0.5641979548229549\n",
      "auc roc score corresponding to  50  is  0.5707547169811321\n",
      "auc roc score corresponding to  51  is  0.571935958778064\n",
      "auc roc score corresponding to  52  is  0.5480769230769231\n",
      "auc roc score corresponding to  53  is  0.5625\n",
      "auc roc score corresponding to  54  is  0.5467289719626168\n",
      "auc roc score corresponding to  55  is  0.6002585436025039\n",
      "auc roc score corresponding to  56  is  0.566194749926263\n",
      "auc roc score corresponding to  57  is  0.5616364421416234\n",
      "auc roc score corresponding to  58  is  0.5368445834594558\n",
      "auc roc score corresponding to  59  is  0.5597701149425287\n",
      "auc roc score corresponding to  60  is  0.5730337078651685\n",
      "auc roc score corresponding to  61  is  0.5561224489795918\n",
      "auc roc score corresponding to  62  is  0.5520212805814694\n",
      "auc roc score corresponding to  63  is  0.5649245491350754\n",
      "auc roc score corresponding to  64  is  0.565\n",
      "auc roc score corresponding to  65  is  0.5654088958574023\n",
      "auc roc score corresponding to  66  is  0.5531547734785145\n",
      "auc roc score corresponding to  67  is  0.5909090909090909\n",
      "auc roc score corresponding to  68  is  0.5520820699413787\n",
      "auc roc score corresponding to  69  is  0.5511084164503347\n",
      "auc roc score corresponding to  70  is  0.5836206896551724\n",
      "auc roc score corresponding to  71  is  0.5649774774774775\n",
      "auc roc score corresponding to  72  is  0.5376126420269034\n",
      "auc roc score corresponding to  73  is  0.5625\n",
      "auc roc score corresponding to  74  is  0.575\n",
      "auc roc score corresponding to  75  is  0.5349051330110814\n",
      "auc roc score corresponding to  76  is  0.5623563218390805\n",
      "auc roc score corresponding to  77  is  0.550738483784342\n",
      "auc roc score corresponding to  78  is  0.5636348464619493\n",
      "auc roc score corresponding to  79  is  0.5721649484536082\n",
      "auc roc score corresponding to  80  is  0.5743478260869564\n",
      "auc roc score corresponding to  81  is  0.5514018691588785\n",
      "auc roc score corresponding to  82  is  0.5495049504950495\n",
      "auc roc score corresponding to  83  is  0.5453406104709926\n",
      "auc roc score corresponding to  84  is  0.5720720720720721\n",
      "auc roc score corresponding to  85  is  0.579297413648135\n",
      "auc roc score corresponding to  86  is  0.5940002355157795\n",
      "auc roc score corresponding to  87  is  0.597976624104391\n",
      "auc roc score corresponding to  88  is  0.5651464702519087\n",
      "auc roc score corresponding to  89  is  0.5609327009058745\n",
      "auc roc score corresponding to  90  is  0.5590909090909091\n",
      "auc roc score corresponding to  91  is  0.5463007241426425\n",
      "auc roc score corresponding to  92  is  0.5574712643678161\n",
      "auc roc score corresponding to  93  is  0.5607476635514018\n",
      "auc roc score corresponding to  94  is  0.5514649961974143\n",
      "auc roc score corresponding to  95  is  0.6\n",
      "auc roc score corresponding to  96  is  0.5690213929789066\n",
      "auc roc score corresponding to  97  is  0.5535720533184061\n",
      "auc roc score corresponding to  98  is  0.5518867924528302\n",
      "auc roc score corresponding to  99  is  0.5681383026093152\n",
      "max auc roc score corresponding to  55  is  0.6002585436025039\n",
      "Accuracy is= 0.8950524737631185\n",
      "F1 Score=  0.23913043478260868\n"
     ]
    },
    {
     "data": {
      "text/plain": [
       "55"
      ]
     },
     "execution_count": 62,
     "metadata": {},
     "output_type": "execute_result"
    }
   ],
   "source": [
    "knn_algo=KNeighborsClassifier(n_neighbors=25)\n",
    "max_auc_roc_score(knn_algo,x,y)"
   ]
  },
  {
   "cell_type": "markdown",
   "metadata": {},
   "source": [
    "### SVC"
   ]
  },
  {
   "cell_type": "code",
   "execution_count": 63,
   "metadata": {},
   "outputs": [
    {
     "data": {
      "text/plain": [
       "{'C': 1, 'kernel': 'rbf'}"
      ]
     },
     "execution_count": 63,
     "metadata": {},
     "output_type": "execute_result"
    }
   ],
   "source": [
    "from sklearn.svm import SVC\n",
    "svc=SVC()\n",
    "parameters={\"kernel\":[\"linear\", \"poly\", \"rbf\"],\"C\":[0.001,0.01,0.1,1,10]}\n",
    "gsv = GridSearchCV(svc, parameters, cv=5,scoring=\"roc_auc\")\n",
    "gsv.fit(x,y)\n",
    "gsv.best_params_"
   ]
  },
  {
   "cell_type": "code",
   "execution_count": 64,
   "metadata": {},
   "outputs": [
    {
     "name": "stdout",
     "output_type": "stream",
     "text": [
      "auc roc score corresponding to  42  is  0.7827117517405452\n",
      "auc roc score corresponding to  43  is  0.7850040028652087\n",
      "auc roc score corresponding to  44  is  0.7038983936267467\n",
      "auc roc score corresponding to  45  is  0.7245859403754142\n",
      "auc roc score corresponding to  46  is  0.7543881592662081\n",
      "auc roc score corresponding to  47  is  0.7636075580265154\n",
      "auc roc score corresponding to  48  is  0.754223186833062\n",
      "auc roc score corresponding to  49  is  0.7585279304029304\n",
      "auc roc score corresponding to  50  is  0.7567601654727071\n",
      "auc roc score corresponding to  51  is  0.7526683842473316\n",
      "auc roc score corresponding to  52  is  0.7332798196474928\n",
      "auc roc score corresponding to  53  is  0.7735175570433119\n",
      "auc roc score corresponding to  54  is  0.739419225634179\n",
      "auc roc score corresponding to  55  is  0.7731134092764668\n",
      "auc roc score corresponding to  56  is  0.7437007542240762\n",
      "auc roc score corresponding to  57  is  0.7448186528497409\n",
      "auc roc score corresponding to  58  is  0.7514125718898195\n",
      "auc roc score corresponding to  59  is  0.7112068965517242\n",
      "auc roc score corresponding to  60  is  0.7476186773453599\n",
      "auc roc score corresponding to  61  is  0.7141153473691761\n",
      "auc roc score corresponding to  62  is  0.7448484507886554\n",
      "auc roc score corresponding to  63  is  0.7272083179977917\n",
      "auc roc score corresponding to  64  is  0.697063492063492\n",
      "auc roc score corresponding to  65  is  0.7642350222809045\n",
      "auc roc score corresponding to  66  is  0.729745932983343\n",
      "auc roc score corresponding to  67  is  0.738903115663679\n",
      "auc roc score corresponding to  68  is  0.7284212654133819\n",
      "auc roc score corresponding to  69  is  0.759094480120235\n",
      "auc roc score corresponding to  70  is  0.7181034482758621\n",
      "auc roc score corresponding to  71  is  0.7632882882882882\n",
      "auc roc score corresponding to  72  is  0.7320861085716773\n",
      "auc roc score corresponding to  73  is  0.7059094834353902\n",
      "auc roc score corresponding to  74  is  0.7438271604938271\n",
      "auc roc score corresponding to  75  is  0.7478132912433001\n",
      "auc roc score corresponding to  76  is  0.7272988505747127\n",
      "auc roc score corresponding to  77  is  0.7422536665978103\n",
      "auc roc score corresponding to  78  is  0.7358477970627504\n",
      "auc roc score corresponding to  79  is  0.7387592693072889\n",
      "auc roc score corresponding to  80  is  0.7547826086956522\n",
      "auc roc score corresponding to  81  is  0.7320677570093459\n",
      "auc roc score corresponding to  82  is  0.6990868698177238\n",
      "auc roc score corresponding to  83  is  0.7242571255306246\n",
      "auc roc score corresponding to  84  is  0.7495544105256335\n",
      "auc roc score corresponding to  85  is  0.7322839942151819\n",
      "auc roc score corresponding to  86  is  0.7649552520018841\n",
      "auc roc score corresponding to  87  is  0.7439759036144579\n",
      "auc roc score corresponding to  88  is  0.7343271785558134\n",
      "auc roc score corresponding to  89  is  0.7264394852455193\n",
      "auc roc score corresponding to  90  is  0.7282846417496328\n",
      "auc roc score corresponding to  91  is  0.7354232135537642\n",
      "auc roc score corresponding to  92  is  0.7551724137931034\n",
      "auc roc score corresponding to  93  is  0.7516522029372497\n",
      "auc roc score corresponding to  94  is  0.7073710122883561\n",
      "auc roc score corresponding to  95  is  0.7654888199771503\n",
      "auc roc score corresponding to  96  is  0.776085571915627\n",
      "auc roc score corresponding to  97  is  0.7629097715425254\n",
      "auc roc score corresponding to  98  is  0.7446524064171123\n",
      "auc roc score corresponding to  99  is  0.7538516341615459\n",
      "max auc roc score corresponding to  43  is  0.7850040028652087\n",
      "Accuracy is= 0.9295352323838081\n",
      "F1 Score=  0.6299212598425197\n"
     ]
    },
    {
     "data": {
      "text/plain": [
       "43"
      ]
     },
     "execution_count": 64,
     "metadata": {},
     "output_type": "execute_result"
    }
   ],
   "source": [
    "svc_algo=SVC(kernel='rbf',C=1)\n",
    "max_auc_roc_score(svc_algo,x,y)"
   ]
  },
  {
   "cell_type": "markdown",
   "metadata": {},
   "source": [
    "### Bagging"
   ]
  },
  {
   "cell_type": "code",
   "execution_count": 66,
   "metadata": {},
   "outputs": [
    {
     "name": "stdout",
     "output_type": "stream",
     "text": [
      "auc roc score corresponding to  42  is  0.5724906412902774\n",
      "auc roc score corresponding to  43  is  0.6719862638520204\n",
      "auc roc score corresponding to  44  is  0.6136868225153455\n",
      "auc roc score corresponding to  45  is  0.7131670960618329\n",
      "auc roc score corresponding to  46  is  0.7213362518240567\n",
      "auc roc score corresponding to  47  is  0.6305062011585864\n",
      "auc roc score corresponding to  48  is  0.6365436787845903\n",
      "auc roc score corresponding to  49  is  0.7244066697191697\n",
      "auc roc score corresponding to  50  is  0.6889398984293545\n",
      "auc roc score corresponding to  51  is  0.6289565697460434\n",
      "auc roc score corresponding to  52  is  0.6349825795873753\n",
      "auc roc score corresponding to  53  is  0.6843147971034294\n",
      "auc roc score corresponding to  54  is  0.62994826435247\n",
      "auc roc score corresponding to  55  is  0.5272248357373353\n",
      "auc roc score corresponding to  56  is  0.6464416635065098\n",
      "auc roc score corresponding to  57  is  0.6565002355157795\n",
      "auc roc score corresponding to  58  is  0.5595382235226853\n",
      "auc roc score corresponding to  59  is  0.5968390804597702\n",
      "auc roc score corresponding to  60  is  0.700079701411298\n",
      "auc roc score corresponding to  61  is  0.6690757146443814\n",
      "auc roc score corresponding to  62  is  0.6595481623018995\n",
      "auc roc score corresponding to  63  is  0.6693135811556864\n",
      "auc roc score corresponding to  64  is  0.6073544973544973\n",
      "auc roc score corresponding to  65  is  0.6170572701765967\n",
      "auc roc score corresponding to  66  is  0.6378410784885605\n",
      "auc roc score corresponding to  67  is  0.6758873950775359\n",
      "auc roc score corresponding to  68  is  0.6100464928239338\n",
      "auc roc score corresponding to  69  is  0.7206329416586965\n",
      "auc roc score corresponding to  70  is  0.6189655172413794\n",
      "auc roc score corresponding to  71  is  0.6574662162162163\n",
      "auc roc score corresponding to  72  is  0.6222628531626834\n",
      "auc roc score corresponding to  73  is  0.5996820536975978\n",
      "auc roc score corresponding to  74  is  0.6591181657848325\n",
      "auc roc score corresponding to  75  is  0.630339350892769\n",
      "auc roc score corresponding to  76  is  0.682183908045977\n",
      "auc roc score corresponding to  77  is  0.6381171245610411\n",
      "auc roc score corresponding to  78  is  0.6459612817089453\n",
      "auc roc score corresponding to  79  is  0.6639627419063121\n",
      "auc roc score corresponding to  80  is  0.6821739130434782\n",
      "auc roc score corresponding to  81  is  0.6664385847797063\n",
      "auc roc score corresponding to  82  is  0.6449812825805549\n",
      "auc roc score corresponding to  83  is  0.5965635738831615\n",
      "auc roc score corresponding to  84  is  0.7360489986389266\n",
      "auc roc score corresponding to  85  is  0.615250731510443\n",
      "auc roc score corresponding to  86  is  0.6434094834353902\n",
      "auc roc score corresponding to  87  is  0.7166273065684665\n",
      "auc roc score corresponding to  88  is  0.7113728853462483\n",
      "auc roc score corresponding to  89  is  0.5898876404494382\n",
      "auc roc score corresponding to  90  is  0.6636934878407051\n",
      "auc roc score corresponding to  91  is  0.6013287334335291\n",
      "auc roc score corresponding to  92  is  0.6278735632183908\n",
      "auc roc score corresponding to  93  is  0.678671562082777\n",
      "auc roc score corresponding to  94  is  0.6261858063483169\n",
      "auc roc score corresponding to  95  is  0.591863881181655\n",
      "auc roc score corresponding to  96  is  0.6604192424412724\n",
      "auc roc score corresponding to  97  is  0.6287128712871287\n",
      "auc roc score corresponding to  98  is  0.5801886792452831\n",
      "auc roc score corresponding to  99  is  0.609304034197168\n",
      "max auc roc score corresponding to  84  is  0.7360489986389266\n",
      "Accuracy is= 0.9070464767616192\n",
      "F1 Score=  0.3541666666666667\n"
     ]
    },
    {
     "data": {
      "text/plain": [
       "84"
      ]
     },
     "execution_count": 66,
     "metadata": {},
     "output_type": "execute_result"
    }
   ],
   "source": [
    "from sklearn.ensemble import BaggingClassifier\n",
    "bg_algo = BaggingClassifier(max_samples=0.5,max_features=0.5)\n",
    "max_auc_roc_score(bg_algo,x,y)"
   ]
  },
  {
   "cell_type": "markdown",
   "metadata": {},
   "source": [
    "### Gradient Boosting"
   ]
  },
  {
   "cell_type": "code",
   "execution_count": 67,
   "metadata": {},
   "outputs": [
    {
     "name": "stdout",
     "output_type": "stream",
     "text": [
      "auc roc score corresponding to  42  is  0.8295665255571495\n",
      "auc roc score corresponding to  43  is  0.8537584797539292\n",
      "auc roc score corresponding to  44  is  0.818434112576727\n",
      "auc roc score corresponding to  45  is  0.8552723592197277\n",
      "auc roc score corresponding to  46  is  0.8502397331665624\n",
      "auc roc score corresponding to  47  is  0.837506317794798\n",
      "auc roc score corresponding to  48  is  0.8349430276722735\n",
      "auc roc score corresponding to  49  is  0.8163633241758241\n",
      "auc roc score corresponding to  50  is  0.8729021625802981\n",
      "auc roc score corresponding to  51  is  0.8798398969451601\n",
      "auc roc score corresponding to  52  is  0.8071714031971581\n",
      "auc roc score corresponding to  53  is  0.8237378740265062\n",
      "auc roc score corresponding to  54  is  0.8386515353805073\n",
      "auc roc score corresponding to  55  is  0.8625733836165002\n",
      "auc roc score corresponding to  56  is  0.8652509164454556\n",
      "auc roc score corresponding to  57  is  0.8243641073951955\n",
      "auc roc score corresponding to  58  is  0.8466434601284767\n",
      "auc roc score corresponding to  59  is  0.8158045977011494\n",
      "auc roc score corresponding to  60  is  0.8431242953228879\n",
      "auc roc score corresponding to  61  is  0.8092966536350921\n",
      "auc roc score corresponding to  62  is  0.79671986812034\n",
      "auc roc score corresponding to  63  is  0.8482793522267206\n",
      "auc roc score corresponding to  64  is  0.8314726631393298\n",
      "auc roc score corresponding to  65  is  0.8296439181383066\n",
      "auc roc score corresponding to  66  is  0.8315347721822541\n",
      "auc roc score corresponding to  67  is  0.882958102148243\n",
      "auc roc score corresponding to  68  is  0.8671518091772792\n",
      "auc roc score corresponding to  69  is  0.8639756114223255\n",
      "auc roc score corresponding to  70  is  0.8379310344827586\n",
      "auc roc score corresponding to  71  is  0.8491103603603603\n",
      "auc roc score corresponding to  72  is  0.8513342910626442\n",
      "auc roc score corresponding to  73  is  0.8457273512325327\n",
      "auc roc score corresponding to  74  is  0.8455908289241623\n",
      "auc roc score corresponding to  75  is  0.8221038440038143\n",
      "auc roc score corresponding to  76  is  0.8617816091954024\n",
      "auc roc score corresponding to  77  is  0.8141826757556979\n",
      "auc roc score corresponding to  78  is  0.8170727636849132\n",
      "auc roc score corresponding to  79  is  0.8314342557424489\n",
      "auc roc score corresponding to  80  is  0.8597826086956523\n",
      "auc roc score corresponding to  81  is  0.8488901869158879\n",
      "auc roc score corresponding to  82  is  0.8368173389777139\n",
      "auc roc score corresponding to  83  is  0.8033050333535476\n",
      "auc roc score corresponding to  84  is  0.8288369304556354\n",
      "auc roc score corresponding to  85  is  0.8230585544680994\n",
      "auc roc score corresponding to  86  is  0.8601821322028576\n",
      "auc roc score corresponding to  87  is  0.8503482368010248\n",
      "auc roc score corresponding to  88  is  0.8048212423906098\n",
      "auc roc score corresponding to  89  is  0.8249679250417945\n",
      "auc roc score corresponding to  90  is  0.8173412763179371\n",
      "auc roc score corresponding to  91  is  0.886758778521656\n",
      "auc roc score corresponding to  92  is  0.870977011494253\n",
      "auc roc score corresponding to  93  is  0.8284128838451269\n",
      "auc roc score corresponding to  94  is  0.7523716126966337\n",
      "auc roc score corresponding to  95  is  0.8528072466133507\n",
      "auc roc score corresponding to  96  is  0.879257052939193\n",
      "auc roc score corresponding to  97  is  0.8520186824336143\n",
      "auc roc score corresponding to  98  is  0.8257323512595433\n",
      "auc roc score corresponding to  99  is  0.8476489446967673\n",
      "max auc roc score corresponding to  91  is  0.886758778521656\n",
      "Accuracy is= 0.9535232383808095\n",
      "F1 Score=  0.776978417266187\n"
     ]
    },
    {
     "data": {
      "text/plain": [
       "91"
      ]
     },
     "execution_count": 67,
     "metadata": {},
     "output_type": "execute_result"
    }
   ],
   "source": [
    "from sklearn.ensemble import GradientBoostingClassifier\n",
    "gb_algo= GradientBoostingClassifier(n_estimators=200,learning_rate=.02)\n",
    "max_auc_roc_score(gb_algo,x,y)"
   ]
  },
  {
   "cell_type": "code",
   "execution_count": 68,
   "metadata": {},
   "outputs": [
    {
     "data": {
      "text/plain": [
       "GradientBoostingClassifier(learning_rate=0.02, n_estimators=200)"
      ]
     },
     "execution_count": 68,
     "metadata": {},
     "output_type": "execute_result"
    }
   ],
   "source": [
    "gb_algo.fit(x,y)"
   ]
  },
  {
   "cell_type": "code",
   "execution_count": 73,
   "metadata": {},
   "outputs": [],
   "source": [
    "t=df.drop('churn',axis=1)"
   ]
  },
  {
   "cell_type": "code",
   "execution_count": 74,
   "metadata": {},
   "outputs": [
    {
     "name": "stdout",
     "output_type": "stream",
     "text": [
      "[3.26000204e-04 1.66051068e-04 2.42642771e-04 1.00282357e-01\n",
      " 3.80702366e-02 5.59269140e-02 1.41342531e-01 1.18881375e-03\n",
      " 1.48516026e-01 7.41158134e-02 0.00000000e+00 6.05932631e-02\n",
      " 1.04643191e-02 0.00000000e+00 2.00784029e-03 4.00749058e-02\n",
      " 9.47605364e-02 5.95487633e-02 1.72372986e-01]\n"
     ]
    },
    {
     "data": {
      "text/plain": [
       "<matplotlib.axes._subplots.AxesSubplot at 0x206d9463cd0>"
      ]
     },
     "execution_count": 74,
     "metadata": {},
     "output_type": "execute_result"
    },
    {
     "data": {
      "image/png": "[encoded data removed]",
      "text/plain": [
       "<Figure size 720x720 with 1 Axes>"
      ]
     },
     "metadata": {
      "needs_background": "light"
     },
     "output_type": "display_data"
    }
   ],
   "source": [
    "feature_importance = gb_algo.feature_importances_\n",
    "print (gb_algo.feature_importances_)\n",
    "feat_importances = pd.Series(gb_algo.feature_importances_, index=t.columns)\n",
    "feat_importances = feat_importances.nlargest(20)\n",
    "feat_importances.plot(kind='barh' , figsize=(10,10))"
   ]
  },
  {
   "cell_type": "code",
   "execution_count": 75,
   "metadata": {},
   "outputs": [],
   "source": [
    "# as shown above, we can remove total night calls, total eve calls, account length and area code to improve the scores"
   ]
  },
  {
   "cell_type": "code",
   "execution_count": 77,
   "metadata": {},
   "outputs": [
    {
     "name": "stdout",
     "output_type": "stream",
     "text": [
      " AUC-ROC Score =  0.9178638718794159\n",
      " Accuracy score=  0.974512743628186\n",
      "F1 Score =  0.896969696969697\n"
     ]
    },
    {
     "data": {
      "text/html": [
       "<div>\n",
       "<style scoped>\n",
       "    .dataframe tbody tr th:only-of-type {\n",
       "        vertical-align: middle;\n",
       "    }\n",
       "\n",
       "    .dataframe tbody tr th {\n",
       "        vertical-align: top;\n",
       "    }\n",
       "\n",
       "    .dataframe thead th {\n",
       "        text-align: right;\n",
       "    }\n",
       "</style>\n",
       "<table border=\"1\" class=\"dataframe\">\n",
       "  <thead>\n",
       "    <tr style=\"text-align: right;\">\n",
       "      <th>col_0</th>\n",
       "      <th>0</th>\n",
       "      <th>1</th>\n",
       "    </tr>\n",
       "    <tr>\n",
       "      <th>row_0</th>\n",
       "      <th></th>\n",
       "      <th></th>\n",
       "    </tr>\n",
       "  </thead>\n",
       "  <tbody>\n",
       "    <tr>\n",
       "      <th>0</th>\n",
       "      <td>576</td>\n",
       "      <td>3</td>\n",
       "    </tr>\n",
       "    <tr>\n",
       "      <th>1</th>\n",
       "      <td>14</td>\n",
       "      <td>74</td>\n",
       "    </tr>\n",
       "  </tbody>\n",
       "</table>\n",
       "</div>"
      ],
      "text/plain": [
       "col_0    0   1\n",
       "row_0         \n",
       "0      576   3\n",
       "1       14  74"
      ]
     },
     "execution_count": 77,
     "metadata": {},
     "output_type": "execute_result"
    }
   ],
   "source": [
    "# Random forest is givig the high accuracy\n",
    "x_train, x_test, y_train, y_test = train_test_split(x, y,random_state = 86,test_size=0.20)\n",
    "rf=RandomForestClassifier(n_estimators=500,criterion='gini')\n",
    "rf.fit(x_train,y_train)\n",
    "y_pred=rf.predict(x_test)\n",
    "\n",
    "print(\" AUC-ROC Score = \", roc_auc_score(y_test,y_pred))\n",
    "print(\" Accuracy score= \", accuracy_score(y_test,y_pred))\n",
    "print(\"F1 Score = \", f1_score(y_test,y_pred))\n",
    "pd.crosstab(y_test,y_pred)"
   ]
  },
  {
   "cell_type": "code",
   "execution_count": 78,
   "metadata": {},
   "outputs": [],
   "source": [
    "# let us SMOTE and check the accuracy\n",
    "from imblearn.over_sampling import SMOTE\n",
    "smote=SMOTE()"
   ]
  },
  {
   "cell_type": "code",
   "execution_count": 79,
   "metadata": {},
   "outputs": [],
   "source": [
    "x_train_smote,y_train_smote=smote.fit_sample(x_train,y_train)"
   ]
  },
  {
   "cell_type": "code",
   "execution_count": 80,
   "metadata": {},
   "outputs": [
    {
     "name": "stdout",
     "output_type": "stream",
     "text": [
      "Accuracy Score =  0.9535232383808095\n"
     ]
    }
   ],
   "source": [
    "rf.fit(x_train_smote,y_train_smote)\n",
    "y_pred=rf.predict(x_test)\n",
    "print('Accuracy Score = ', accuracy_score(y_test,y_pred))"
   ]
  },
  {
   "cell_type": "code",
   "execution_count": 81,
   "metadata": {},
   "outputs": [
    {
     "data": {
      "text/html": [
       "<div>\n",
       "<style scoped>\n",
       "    .dataframe tbody tr th:only-of-type {\n",
       "        vertical-align: middle;\n",
       "    }\n",
       "\n",
       "    .dataframe tbody tr th {\n",
       "        vertical-align: top;\n",
       "    }\n",
       "\n",
       "    .dataframe thead th {\n",
       "        text-align: right;\n",
       "    }\n",
       "</style>\n",
       "<table border=\"1\" class=\"dataframe\">\n",
       "  <thead>\n",
       "    <tr style=\"text-align: right;\">\n",
       "      <th>col_0</th>\n",
       "      <th>0</th>\n",
       "      <th>1</th>\n",
       "    </tr>\n",
       "    <tr>\n",
       "      <th>row_0</th>\n",
       "      <th></th>\n",
       "      <th></th>\n",
       "    </tr>\n",
       "  </thead>\n",
       "  <tbody>\n",
       "    <tr>\n",
       "      <th>0</th>\n",
       "      <td>562</td>\n",
       "      <td>17</td>\n",
       "    </tr>\n",
       "    <tr>\n",
       "      <th>1</th>\n",
       "      <td>14</td>\n",
       "      <td>74</td>\n",
       "    </tr>\n",
       "  </tbody>\n",
       "</table>\n",
       "</div>"
      ],
      "text/plain": [
       "col_0    0   1\n",
       "row_0         \n",
       "0      562  17\n",
       "1       14  74"
      ]
     },
     "execution_count": 81,
     "metadata": {},
     "output_type": "execute_result"
    }
   ],
   "source": [
    "pd.crosstab(y_test,y_pred)"
   ]
  },
  {
   "cell_type": "code",
   "execution_count": 82,
   "metadata": {},
   "outputs": [
    {
     "name": "stdout",
     "output_type": "stream",
     "text": [
      " AUC-ROC Score =  0.9065002355157796\n",
      " Accuracy score=  0.9715142428785607\n",
      "F1 Score =  0.8834355828220859\n"
     ]
    },
    {
     "data": {
      "text/html": [
       "<div>\n",
       "<style scoped>\n",
       "    .dataframe tbody tr th:only-of-type {\n",
       "        vertical-align: middle;\n",
       "    }\n",
       "\n",
       "    .dataframe tbody tr th {\n",
       "        vertical-align: top;\n",
       "    }\n",
       "\n",
       "    .dataframe thead th {\n",
       "        text-align: right;\n",
       "    }\n",
       "</style>\n",
       "<table border=\"1\" class=\"dataframe\">\n",
       "  <thead>\n",
       "    <tr style=\"text-align: right;\">\n",
       "      <th>col_0</th>\n",
       "      <th>0</th>\n",
       "      <th>1</th>\n",
       "    </tr>\n",
       "    <tr>\n",
       "      <th>row_0</th>\n",
       "      <th></th>\n",
       "      <th></th>\n",
       "    </tr>\n",
       "  </thead>\n",
       "  <tbody>\n",
       "    <tr>\n",
       "      <th>0</th>\n",
       "      <td>576</td>\n",
       "      <td>3</td>\n",
       "    </tr>\n",
       "    <tr>\n",
       "      <th>1</th>\n",
       "      <td>16</td>\n",
       "      <td>72</td>\n",
       "    </tr>\n",
       "  </tbody>\n",
       "</table>\n",
       "</div>"
      ],
      "text/plain": [
       "col_0    0   1\n",
       "row_0         \n",
       "0      576   3\n",
       "1       16  72"
      ]
     },
     "execution_count": 82,
     "metadata": {},
     "output_type": "execute_result"
    }
   ],
   "source": [
    "# error increased. So let us save the previous model only\n",
    "rf.fit(x_train,y_train)\n",
    "y_pred=rf.predict(x_test)\n",
    "\n",
    "print(\" AUC-ROC Score = \", roc_auc_score(y_test,y_pred))\n",
    "print(\" Accuracy score= \", accuracy_score(y_test,y_pred))\n",
    "print(\"F1 Score = \", f1_score(y_test,y_pred))\n",
    "pd.crosstab(y_test,y_pred)"
   ]
  },
  {
   "cell_type": "code",
   "execution_count": 83,
   "metadata": {},
   "outputs": [
    {
     "data": {
      "text/plain": [
       "['Telecom_Churn.pkl']"
      ]
     },
     "execution_count": 83,
     "metadata": {},
     "output_type": "execute_result"
    }
   ],
   "source": [
    "import joblib\n",
    "joblib.dump(rf,'Telecom_Churn.pkl')"
   ]
  },
  {
   "cell_type": "code",
   "execution_count": null,
   "metadata": {},
   "outputs": [],
   "source": []
  }
 ],
 "metadata": {
  "kernelspec": {
   "display_name": "Python 3",
   "language": "python",
   "name": "python3"
  },
  "language_info": {
   "codemirror_mode": {
    "name": "ipython",
    "version": 3
   },
   "file_extension": ".py",
   "mimetype": "text/x-python",
   "name": "python",
   "nbconvert_exporter": "python",
   "pygments_lexer": "ipython3",
   "version": "3.8.3"
  }
 },
 "nbformat": 4,
 "nbformat_minor": 4
}
