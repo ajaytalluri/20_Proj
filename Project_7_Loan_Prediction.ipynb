{
 "cells": [
  {
   "cell_type": "code",
   "execution_count": 1,
   "metadata": {},
   "outputs": [],
   "source": [
    "import numpy as np\n",
    "import pandas as pd\n",
    "import matplotlib.pyplot as plt\n",
    "import seaborn as sns\n",
    "import warnings\n",
    "warnings.filterwarnings('ignore')"
   ]
  },
  {
   "cell_type": "code",
   "execution_count": 2,
   "metadata": {},
   "outputs": [],
   "source": [
    "df=pd.read_csv(\"C:\\\\Pandasdata\\\\DT_files\\\\loan_prediction.csv\")"
   ]
  },
  {
   "cell_type": "code",
   "execution_count": 3,
   "metadata": {},
   "outputs": [
    {
     "data": {
      "text/html": [
       "<div>\n",
       "<style scoped>\n",
       "    .dataframe tbody tr th:only-of-type {\n",
       "        vertical-align: middle;\n",
       "    }\n",
       "\n",
       "    .dataframe tbody tr th {\n",
       "        vertical-align: top;\n",
       "    }\n",
       "\n",
       "    .dataframe thead th {\n",
       "        text-align: right;\n",
       "    }\n",
       "</style>\n",
       "<table border=\"1\" class=\"dataframe\">\n",
       "  <thead>\n",
       "    <tr style=\"text-align: right;\">\n",
       "      <th></th>\n",
       "      <th>Loan_ID</th>\n",
       "      <th>Gender</th>\n",
       "      <th>Married</th>\n",
       "      <th>Dependents</th>\n",
       "      <th>Education</th>\n",
       "      <th>Self_Employed</th>\n",
       "      <th>ApplicantIncome</th>\n",
       "      <th>CoapplicantIncome</th>\n",
       "      <th>LoanAmount</th>\n",
       "      <th>Loan_Amount_Term</th>\n",
       "      <th>Credit_History</th>\n",
       "      <th>Property_Area</th>\n",
       "      <th>Loan_Status</th>\n",
       "    </tr>\n",
       "  </thead>\n",
       "  <tbody>\n",
       "    <tr>\n",
       "      <th>0</th>\n",
       "      <td>LP001002</td>\n",
       "      <td>Male</td>\n",
       "      <td>No</td>\n",
       "      <td>0</td>\n",
       "      <td>Graduate</td>\n",
       "      <td>No</td>\n",
       "      <td>5849</td>\n",
       "      <td>0.0</td>\n",
       "      <td>NaN</td>\n",
       "      <td>360.0</td>\n",
       "      <td>1.0</td>\n",
       "      <td>Urban</td>\n",
       "      <td>Y</td>\n",
       "    </tr>\n",
       "    <tr>\n",
       "      <th>1</th>\n",
       "      <td>LP001003</td>\n",
       "      <td>Male</td>\n",
       "      <td>Yes</td>\n",
       "      <td>1</td>\n",
       "      <td>Graduate</td>\n",
       "      <td>No</td>\n",
       "      <td>4583</td>\n",
       "      <td>1508.0</td>\n",
       "      <td>128.0</td>\n",
       "      <td>360.0</td>\n",
       "      <td>1.0</td>\n",
       "      <td>Rural</td>\n",
       "      <td>N</td>\n",
       "    </tr>\n",
       "    <tr>\n",
       "      <th>2</th>\n",
       "      <td>LP001005</td>\n",
       "      <td>Male</td>\n",
       "      <td>Yes</td>\n",
       "      <td>0</td>\n",
       "      <td>Graduate</td>\n",
       "      <td>Yes</td>\n",
       "      <td>3000</td>\n",
       "      <td>0.0</td>\n",
       "      <td>66.0</td>\n",
       "      <td>360.0</td>\n",
       "      <td>1.0</td>\n",
       "      <td>Urban</td>\n",
       "      <td>Y</td>\n",
       "    </tr>\n",
       "    <tr>\n",
       "      <th>3</th>\n",
       "      <td>LP001006</td>\n",
       "      <td>Male</td>\n",
       "      <td>Yes</td>\n",
       "      <td>0</td>\n",
       "      <td>Not Graduate</td>\n",
       "      <td>No</td>\n",
       "      <td>2583</td>\n",
       "      <td>2358.0</td>\n",
       "      <td>120.0</td>\n",
       "      <td>360.0</td>\n",
       "      <td>1.0</td>\n",
       "      <td>Urban</td>\n",
       "      <td>Y</td>\n",
       "    </tr>\n",
       "    <tr>\n",
       "      <th>4</th>\n",
       "      <td>LP001008</td>\n",
       "      <td>Male</td>\n",
       "      <td>No</td>\n",
       "      <td>0</td>\n",
       "      <td>Graduate</td>\n",
       "      <td>No</td>\n",
       "      <td>6000</td>\n",
       "      <td>0.0</td>\n",
       "      <td>141.0</td>\n",
       "      <td>360.0</td>\n",
       "      <td>1.0</td>\n",
       "      <td>Urban</td>\n",
       "      <td>Y</td>\n",
       "    </tr>\n",
       "  </tbody>\n",
       "</table>\n",
       "</div>"
      ],
      "text/plain": [
       "    Loan_ID Gender Married Dependents     Education Self_Employed  \\\n",
       "0  LP001002   Male      No          0      Graduate            No   \n",
       "1  LP001003   Male     Yes          1      Graduate            No   \n",
       "2  LP001005   Male     Yes          0      Graduate           Yes   \n",
       "3  LP001006   Male     Yes          0  Not Graduate            No   \n",
       "4  LP001008   Male      No          0      Graduate            No   \n",
       "\n",
       "   ApplicantIncome  CoapplicantIncome  LoanAmount  Loan_Amount_Term  \\\n",
       "0             5849                0.0         NaN             360.0   \n",
       "1             4583             1508.0       128.0             360.0   \n",
       "2             3000                0.0        66.0             360.0   \n",
       "3             2583             2358.0       120.0             360.0   \n",
       "4             6000                0.0       141.0             360.0   \n",
       "\n",
       "   Credit_History Property_Area Loan_Status  \n",
       "0             1.0         Urban           Y  \n",
       "1             1.0         Rural           N  \n",
       "2             1.0         Urban           Y  \n",
       "3             1.0         Urban           Y  \n",
       "4             1.0         Urban           Y  "
      ]
     },
     "execution_count": 3,
     "metadata": {},
     "output_type": "execute_result"
    }
   ],
   "source": [
    "df.head()"
   ]
  },
  {
   "cell_type": "code",
   "execution_count": 4,
   "metadata": {},
   "outputs": [
    {
     "data": {
      "text/plain": [
       "Loan_ID               0\n",
       "Gender               13\n",
       "Married               3\n",
       "Dependents           15\n",
       "Education             0\n",
       "Self_Employed        32\n",
       "ApplicantIncome       0\n",
       "CoapplicantIncome     0\n",
       "LoanAmount           22\n",
       "Loan_Amount_Term     14\n",
       "Credit_History       50\n",
       "Property_Area         0\n",
       "Loan_Status           0\n",
       "dtype: int64"
      ]
     },
     "execution_count": 4,
     "metadata": {},
     "output_type": "execute_result"
    }
   ],
   "source": [
    "df.isnull().sum()"
   ]
  },
  {
   "cell_type": "code",
   "execution_count": 5,
   "metadata": {},
   "outputs": [],
   "source": [
    "# There were few outliers in the data"
   ]
  },
  {
   "cell_type": "code",
   "execution_count": 6,
   "metadata": {},
   "outputs": [],
   "source": [
    "# Let us remove the loan ID as it doesnt have any influence here"
   ]
  },
  {
   "cell_type": "code",
   "execution_count": 7,
   "metadata": {},
   "outputs": [],
   "source": [
    "df.drop('Loan_ID',axis=1,inplace=True)"
   ]
  },
  {
   "cell_type": "code",
   "execution_count": 8,
   "metadata": {},
   "outputs": [
    {
     "data": {
      "text/plain": [
       "Gender                object\n",
       "Married               object\n",
       "Dependents            object\n",
       "Education             object\n",
       "Self_Employed         object\n",
       "ApplicantIncome        int64\n",
       "CoapplicantIncome    float64\n",
       "LoanAmount           float64\n",
       "Loan_Amount_Term     float64\n",
       "Credit_History       float64\n",
       "Property_Area         object\n",
       "Loan_Status           object\n",
       "dtype: object"
      ]
     },
     "execution_count": 8,
     "metadata": {},
     "output_type": "execute_result"
    }
   ],
   "source": [
    "df.dtypes"
   ]
  },
  {
   "cell_type": "code",
   "execution_count": 9,
   "metadata": {},
   "outputs": [
    {
     "name": "stdout",
     "output_type": "stream",
     "text": [
      "Column Name is Gender and  no of Unique values are 2\n",
      "\n",
      "Column Name is Married and  no of Unique values are 2\n",
      "\n",
      "Column Name is Dependents and  no of Unique values are 4\n",
      "\n",
      "Column Name is Education and  no of Unique values are 2\n",
      "\n",
      "Column Name is Self_Employed and  no of Unique values are 2\n",
      "\n",
      "Column Name is Property_Area and  no of Unique values are 3\n",
      "\n",
      "Column Name is Loan_Status and  no of Unique values are 2\n",
      "\n"
     ]
    }
   ],
   "source": [
    "for cols in df.columns:\n",
    "    if df[cols].dtypes =='object':\n",
    "        print(\"Column Name is {} and  no of Unique values are {}\".format(cols, len(df[cols].value_counts())))\n",
    "        print()"
   ]
  },
  {
   "cell_type": "code",
   "execution_count": 10,
   "metadata": {
    "scrolled": true
   },
   "outputs": [
    {
     "name": "stdout",
     "output_type": "stream",
     "text": [
      "Male      489\n",
      "Female    112\n",
      "Name: Gender, dtype: int64\n",
      "\n",
      "Yes    398\n",
      "No     213\n",
      "Name: Married, dtype: int64\n",
      "\n",
      "0     345\n",
      "1     102\n",
      "2     101\n",
      "3+     51\n",
      "Name: Dependents, dtype: int64\n",
      "\n",
      "Graduate        480\n",
      "Not Graduate    134\n",
      "Name: Education, dtype: int64\n",
      "\n",
      "No     500\n",
      "Yes     82\n",
      "Name: Self_Employed, dtype: int64\n",
      "\n",
      "Semiurban    233\n",
      "Urban        202\n",
      "Rural        179\n",
      "Name: Property_Area, dtype: int64\n",
      "\n",
      "Y    422\n",
      "N    192\n",
      "Name: Loan_Status, dtype: int64\n",
      "\n"
     ]
    }
   ],
   "source": [
    "for col in df.columns:\n",
    "    if df[col].dtype==\"object\":\n",
    "        print(df[col].value_counts())\n",
    "        print()"
   ]
  },
  {
   "cell_type": "code",
   "execution_count": 11,
   "metadata": {},
   "outputs": [],
   "source": [
    "# Filling the missing values with Mode"
   ]
  },
  {
   "cell_type": "code",
   "execution_count": 12,
   "metadata": {},
   "outputs": [
    {
     "data": {
      "text/plain": [
       "0    Male\n",
       "dtype: object"
      ]
     },
     "execution_count": 12,
     "metadata": {},
     "output_type": "execute_result"
    }
   ],
   "source": [
    "df['Gender'].mode()"
   ]
  },
  {
   "cell_type": "code",
   "execution_count": 13,
   "metadata": {},
   "outputs": [],
   "source": [
    "df['Gender']=df['Gender'].fillna('Male')"
   ]
  },
  {
   "cell_type": "code",
   "execution_count": 14,
   "metadata": {},
   "outputs": [
    {
     "data": {
      "text/plain": [
       "0    Yes\n",
       "dtype: object"
      ]
     },
     "execution_count": 14,
     "metadata": {},
     "output_type": "execute_result"
    }
   ],
   "source": [
    "df['Married'].mode()"
   ]
  },
  {
   "cell_type": "code",
   "execution_count": 15,
   "metadata": {},
   "outputs": [],
   "source": [
    "df['Married']=df['Married'].fillna('Yes')"
   ]
  },
  {
   "cell_type": "code",
   "execution_count": 16,
   "metadata": {},
   "outputs": [
    {
     "data": {
      "text/plain": [
       "0    0\n",
       "dtype: object"
      ]
     },
     "execution_count": 16,
     "metadata": {},
     "output_type": "execute_result"
    }
   ],
   "source": [
    "df['Dependents'].mode()"
   ]
  },
  {
   "cell_type": "code",
   "execution_count": 17,
   "metadata": {},
   "outputs": [],
   "source": [
    "df['Dependents']=df['Dependents'].fillna('0')"
   ]
  },
  {
   "cell_type": "code",
   "execution_count": 18,
   "metadata": {},
   "outputs": [
    {
     "data": {
      "text/plain": [
       "0    No\n",
       "dtype: object"
      ]
     },
     "execution_count": 18,
     "metadata": {},
     "output_type": "execute_result"
    }
   ],
   "source": [
    "df['Self_Employed'].mode()"
   ]
  },
  {
   "cell_type": "code",
   "execution_count": 19,
   "metadata": {},
   "outputs": [],
   "source": [
    "df['Self_Employed']=df['Self_Employed'].fillna('No')"
   ]
  },
  {
   "cell_type": "code",
   "execution_count": 20,
   "metadata": {},
   "outputs": [
    {
     "data": {
      "text/plain": [
       "0    120.0\n",
       "dtype: float64"
      ]
     },
     "execution_count": 20,
     "metadata": {},
     "output_type": "execute_result"
    }
   ],
   "source": [
    "df['LoanAmount'].mode()"
   ]
  },
  {
   "cell_type": "code",
   "execution_count": 21,
   "metadata": {},
   "outputs": [],
   "source": [
    "df['LoanAmount']=df['LoanAmount'].fillna(120)"
   ]
  },
  {
   "cell_type": "code",
   "execution_count": 22,
   "metadata": {},
   "outputs": [
    {
     "data": {
      "text/plain": [
       "0    360.0\n",
       "dtype: float64"
      ]
     },
     "execution_count": 22,
     "metadata": {},
     "output_type": "execute_result"
    }
   ],
   "source": [
    "df['Loan_Amount_Term'].mode()"
   ]
  },
  {
   "cell_type": "code",
   "execution_count": 23,
   "metadata": {},
   "outputs": [],
   "source": [
    "df['Loan_Amount_Term']=df['Loan_Amount_Term'].fillna(360.0)"
   ]
  },
  {
   "cell_type": "code",
   "execution_count": 24,
   "metadata": {},
   "outputs": [
    {
     "data": {
      "text/plain": [
       "0    1.0\n",
       "dtype: float64"
      ]
     },
     "execution_count": 24,
     "metadata": {},
     "output_type": "execute_result"
    }
   ],
   "source": [
    "df['Credit_History'].mode()"
   ]
  },
  {
   "cell_type": "code",
   "execution_count": 25,
   "metadata": {},
   "outputs": [],
   "source": [
    "df['Credit_History']=df['Credit_History'].fillna(1.0)"
   ]
  },
  {
   "cell_type": "code",
   "execution_count": 26,
   "metadata": {},
   "outputs": [
    {
     "data": {
      "text/plain": [
       "Gender               0\n",
       "Married              0\n",
       "Dependents           0\n",
       "Education            0\n",
       "Self_Employed        0\n",
       "ApplicantIncome      0\n",
       "CoapplicantIncome    0\n",
       "LoanAmount           0\n",
       "Loan_Amount_Term     0\n",
       "Credit_History       0\n",
       "Property_Area        0\n",
       "Loan_Status          0\n",
       "dtype: int64"
      ]
     },
     "execution_count": 26,
     "metadata": {},
     "output_type": "execute_result"
    }
   ],
   "source": [
    "df.isnull().sum()"
   ]
  },
  {
   "cell_type": "code",
   "execution_count": 27,
   "metadata": {},
   "outputs": [
    {
     "data": {
      "text/plain": [
       "Index(['Gender', 'Married', 'Dependents', 'Education', 'Self_Employed',\n",
       "       'Property_Area', 'Loan_Status'],\n",
       "      dtype='object')"
      ]
     },
     "execution_count": 27,
     "metadata": {},
     "output_type": "execute_result"
    }
   ],
   "source": [
    "categorical=df.select_dtypes(include=['object']).keys()\n",
    "categorical"
   ]
  },
  {
   "cell_type": "code",
   "execution_count": 28,
   "metadata": {},
   "outputs": [
    {
     "data": {
      "text/plain": [
       "Index(['ApplicantIncome', 'CoapplicantIncome', 'LoanAmount',\n",
       "       'Loan_Amount_Term', 'Credit_History'],\n",
       "      dtype='object')"
      ]
     },
     "execution_count": 28,
     "metadata": {},
     "output_type": "execute_result"
    }
   ],
   "source": [
    "numerical=df.select_dtypes(include=['int64','float64']).keys()\n",
    "numerical"
   ]
  },
  {
   "cell_type": "markdown",
   "metadata": {},
   "source": [
    "### Plotting Categorical Data"
   ]
  },
  {
   "cell_type": "code",
   "execution_count": 29,
   "metadata": {},
   "outputs": [
    {
     "data": {
      "text/plain": [
       "<matplotlib.axes._subplots.AxesSubplot at 0x27e22f26e80>"
      ]
     },
     "execution_count": 29,
     "metadata": {},
     "output_type": "execute_result"
    },
    {
     "data": {
      "image/png": "[encoded data removed]",
      "text/plain": [
       "<Figure size 1080x360 with 1 Axes>"
      ]
     },
     "metadata": {
      "needs_background": "light"
     },
     "output_type": "display_data"
    }
   ],
   "source": [
    "plt.figure(figsize=(15,5))\n",
    "sns.countplot('Gender', hue='Loan_Status',data=df)"
   ]
  },
  {
   "cell_type": "code",
   "execution_count": 30,
   "metadata": {},
   "outputs": [],
   "source": [
    "# More acceptance rate in both male and female"
   ]
  },
  {
   "cell_type": "code",
   "execution_count": 31,
   "metadata": {},
   "outputs": [
    {
     "data": {
      "text/plain": [
       "<matplotlib.axes._subplots.AxesSubplot at 0x27e23686a60>"
      ]
     },
     "execution_count": 31,
     "metadata": {},
     "output_type": "execute_result"
    },
    {
     "data": {
      "image/png": "[encoded data removed]",
      "text/plain": [
       "<Figure size 1080x360 with 1 Axes>"
      ]
     },
     "metadata": {
      "needs_background": "light"
     },
     "output_type": "display_data"
    }
   ],
   "source": [
    "plt.figure(figsize=(15,5))\n",
    "sns.countplot('Married', hue='Loan_Status',data=df)"
   ]
  },
  {
   "cell_type": "code",
   "execution_count": 32,
   "metadata": {},
   "outputs": [
    {
     "data": {
      "text/plain": [
       "<matplotlib.axes._subplots.AxesSubplot at 0x27e239bfaf0>"
      ]
     },
     "execution_count": 32,
     "metadata": {},
     "output_type": "execute_result"
    },
    {
     "data": {
      "image/png": "[encoded data removed]",
      "text/plain": [
       "<Figure size 1080x360 with 1 Axes>"
      ]
     },
     "metadata": {
      "needs_background": "light"
     },
     "output_type": "display_data"
    }
   ],
   "source": [
    "plt.figure(figsize=(15,5))\n",
    "sns.countplot('Dependents', hue='Loan_Status',data=df)"
   ]
  },
  {
   "cell_type": "code",
   "execution_count": 33,
   "metadata": {},
   "outputs": [],
   "source": [
    "# If there are no dependants, Loan can be given easily"
   ]
  },
  {
   "cell_type": "code",
   "execution_count": 34,
   "metadata": {},
   "outputs": [
    {
     "data": {
      "text/plain": [
       "<matplotlib.axes._subplots.AxesSubplot at 0x27e23a147c0>"
      ]
     },
     "execution_count": 34,
     "metadata": {},
     "output_type": "execute_result"
    },
    {
     "data": {
      "image/png": "[encoded data removed]",
      "text/plain": [
       "<Figure size 1080x360 with 1 Axes>"
      ]
     },
     "metadata": {
      "needs_background": "light"
     },
     "output_type": "display_data"
    }
   ],
   "source": [
    "plt.figure(figsize=(15,5))\n",
    "sns.countplot('Education', hue='Loan_Status',data=df)"
   ]
  },
  {
   "cell_type": "code",
   "execution_count": 35,
   "metadata": {},
   "outputs": [],
   "source": [
    "# Graduate gets loan easily"
   ]
  },
  {
   "cell_type": "code",
   "execution_count": 36,
   "metadata": {},
   "outputs": [
    {
     "data": {
      "text/plain": [
       "<matplotlib.axes._subplots.AxesSubplot at 0x27e23a687f0>"
      ]
     },
     "execution_count": 36,
     "metadata": {},
     "output_type": "execute_result"
    },
    {
     "data": {
      "image/png": "[encoded data removed]",
      "text/plain": [
       "<Figure size 1080x360 with 1 Axes>"
      ]
     },
     "metadata": {
      "needs_background": "light"
     },
     "output_type": "display_data"
    }
   ],
   "source": [
    "plt.figure(figsize=(15,5))\n",
    "sns.countplot('Self_Employed', hue='Loan_Status',data=df)"
   ]
  },
  {
   "cell_type": "code",
   "execution_count": 37,
   "metadata": {},
   "outputs": [],
   "source": [
    "# Rate of loan approval is high for a non self-employed as there is low uncertainity in continuous stream of income"
   ]
  },
  {
   "cell_type": "code",
   "execution_count": 38,
   "metadata": {},
   "outputs": [
    {
     "data": {
      "text/plain": [
       "<matplotlib.axes._subplots.AxesSubplot at 0x27e23ac9b80>"
      ]
     },
     "execution_count": 38,
     "metadata": {},
     "output_type": "execute_result"
    },
    {
     "data": {
      "image/png": "[encoded data removed]",
      "text/plain": [
       "<Figure size 1080x360 with 1 Axes>"
      ]
     },
     "metadata": {
      "needs_background": "light"
     },
     "output_type": "display_data"
    }
   ],
   "source": [
    "plt.figure(figsize=(15,5))\n",
    "sns.countplot('Property_Area', hue='Loan_Status',data=df)"
   ]
  },
  {
   "cell_type": "code",
   "execution_count": 39,
   "metadata": {},
   "outputs": [],
   "source": [
    "# Semi Urban and Urban approval rate is high than Rural"
   ]
  },
  {
   "cell_type": "code",
   "execution_count": 40,
   "metadata": {},
   "outputs": [],
   "source": [
    "def conv_loan_status(x):\n",
    "    if x=='Y':\n",
    "        return 1\n",
    "    if x=='N':\n",
    "        return 0"
   ]
  },
  {
   "cell_type": "code",
   "execution_count": 41,
   "metadata": {},
   "outputs": [],
   "source": [
    "df['Loan_Status']=df['Loan_Status'].apply(conv_loan_status)"
   ]
  },
  {
   "cell_type": "code",
   "execution_count": 42,
   "metadata": {},
   "outputs": [
    {
     "data": {
      "text/plain": [
       "0      1\n",
       "1      0\n",
       "2      1\n",
       "3      1\n",
       "4      1\n",
       "      ..\n",
       "609    1\n",
       "610    1\n",
       "611    1\n",
       "612    1\n",
       "613    0\n",
       "Name: Loan_Status, Length: 614, dtype: int64"
      ]
     },
     "execution_count": 42,
     "metadata": {},
     "output_type": "execute_result"
    }
   ],
   "source": [
    "df['Loan_Status']"
   ]
  },
  {
   "cell_type": "markdown",
   "metadata": {},
   "source": [
    "### Plotting Numerical Data"
   ]
  },
  {
   "cell_type": "code",
   "execution_count": 43,
   "metadata": {},
   "outputs": [
    {
     "data": {
      "text/plain": [
       "Index(['ApplicantIncome', 'CoapplicantIncome', 'LoanAmount',\n",
       "       'Loan_Amount_Term', 'Credit_History'],\n",
       "      dtype='object')"
      ]
     },
     "execution_count": 43,
     "metadata": {},
     "output_type": "execute_result"
    }
   ],
   "source": [
    "numerical"
   ]
  },
  {
   "cell_type": "code",
   "execution_count": 44,
   "metadata": {},
   "outputs": [
    {
     "data": {
      "text/plain": [
       "<matplotlib.axes._subplots.AxesSubplot at 0x27e23b49310>"
      ]
     },
     "execution_count": 44,
     "metadata": {},
     "output_type": "execute_result"
    },
    {
     "data": {
      "image/png": "[encoded data removed]",
      "text/plain": [
       "<Figure size 432x288 with 1 Axes>"
      ]
     },
     "metadata": {
      "needs_background": "light"
     },
     "output_type": "display_data"
    }
   ],
   "source": [
    "sns.boxplot(y=\"LoanAmount\",x=\"Loan_Status\",data=df)"
   ]
  },
  {
   "cell_type": "code",
   "execution_count": 45,
   "metadata": {},
   "outputs": [
    {
     "data": {
      "text/plain": [
       "<matplotlib.axes._subplots.AxesSubplot at 0x27e23cb7850>"
      ]
     },
     "execution_count": 45,
     "metadata": {},
     "output_type": "execute_result"
    },
    {
     "data": {
      "image/png": "[encoded data removed]",
      "text/plain": [
       "<Figure size 432x288 with 1 Axes>"
      ]
     },
     "metadata": {
      "needs_background": "light"
     },
     "output_type": "display_data"
    }
   ],
   "source": [
    "sns.boxplot(y=\"ApplicantIncome\",x=\"Loan_Status\",data=df)"
   ]
  },
  {
   "cell_type": "code",
   "execution_count": 46,
   "metadata": {
    "scrolled": true
   },
   "outputs": [
    {
     "data": {
      "text/html": [
       "<div>\n",
       "<style scoped>\n",
       "    .dataframe tbody tr th:only-of-type {\n",
       "        vertical-align: middle;\n",
       "    }\n",
       "\n",
       "    .dataframe tbody tr th {\n",
       "        vertical-align: top;\n",
       "    }\n",
       "\n",
       "    .dataframe thead th {\n",
       "        text-align: right;\n",
       "    }\n",
       "</style>\n",
       "<table border=\"1\" class=\"dataframe\">\n",
       "  <thead>\n",
       "    <tr style=\"text-align: right;\">\n",
       "      <th></th>\n",
       "      <th>Gender</th>\n",
       "      <th>Married</th>\n",
       "      <th>Dependents</th>\n",
       "      <th>Education</th>\n",
       "      <th>Self_Employed</th>\n",
       "      <th>ApplicantIncome</th>\n",
       "      <th>CoapplicantIncome</th>\n",
       "      <th>LoanAmount</th>\n",
       "      <th>Loan_Amount_Term</th>\n",
       "      <th>Credit_History</th>\n",
       "      <th>Property_Area</th>\n",
       "      <th>Loan_Status</th>\n",
       "    </tr>\n",
       "  </thead>\n",
       "  <tbody>\n",
       "    <tr>\n",
       "      <th>0</th>\n",
       "      <td>Male</td>\n",
       "      <td>No</td>\n",
       "      <td>0</td>\n",
       "      <td>Graduate</td>\n",
       "      <td>No</td>\n",
       "      <td>5849</td>\n",
       "      <td>0.0</td>\n",
       "      <td>120.0</td>\n",
       "      <td>360.0</td>\n",
       "      <td>1.0</td>\n",
       "      <td>Urban</td>\n",
       "      <td>1</td>\n",
       "    </tr>\n",
       "    <tr>\n",
       "      <th>1</th>\n",
       "      <td>Male</td>\n",
       "      <td>Yes</td>\n",
       "      <td>1</td>\n",
       "      <td>Graduate</td>\n",
       "      <td>No</td>\n",
       "      <td>4583</td>\n",
       "      <td>1508.0</td>\n",
       "      <td>128.0</td>\n",
       "      <td>360.0</td>\n",
       "      <td>1.0</td>\n",
       "      <td>Rural</td>\n",
       "      <td>0</td>\n",
       "    </tr>\n",
       "    <tr>\n",
       "      <th>2</th>\n",
       "      <td>Male</td>\n",
       "      <td>Yes</td>\n",
       "      <td>0</td>\n",
       "      <td>Graduate</td>\n",
       "      <td>Yes</td>\n",
       "      <td>3000</td>\n",
       "      <td>0.0</td>\n",
       "      <td>66.0</td>\n",
       "      <td>360.0</td>\n",
       "      <td>1.0</td>\n",
       "      <td>Urban</td>\n",
       "      <td>1</td>\n",
       "    </tr>\n",
       "    <tr>\n",
       "      <th>3</th>\n",
       "      <td>Male</td>\n",
       "      <td>Yes</td>\n",
       "      <td>0</td>\n",
       "      <td>Not Graduate</td>\n",
       "      <td>No</td>\n",
       "      <td>2583</td>\n",
       "      <td>2358.0</td>\n",
       "      <td>120.0</td>\n",
       "      <td>360.0</td>\n",
       "      <td>1.0</td>\n",
       "      <td>Urban</td>\n",
       "      <td>1</td>\n",
       "    </tr>\n",
       "    <tr>\n",
       "      <th>4</th>\n",
       "      <td>Male</td>\n",
       "      <td>No</td>\n",
       "      <td>0</td>\n",
       "      <td>Graduate</td>\n",
       "      <td>No</td>\n",
       "      <td>6000</td>\n",
       "      <td>0.0</td>\n",
       "      <td>141.0</td>\n",
       "      <td>360.0</td>\n",
       "      <td>1.0</td>\n",
       "      <td>Urban</td>\n",
       "      <td>1</td>\n",
       "    </tr>\n",
       "  </tbody>\n",
       "</table>\n",
       "</div>"
      ],
      "text/plain": [
       "  Gender Married Dependents     Education Self_Employed  ApplicantIncome  \\\n",
       "0   Male      No          0      Graduate            No             5849   \n",
       "1   Male     Yes          1      Graduate            No             4583   \n",
       "2   Male     Yes          0      Graduate           Yes             3000   \n",
       "3   Male     Yes          0  Not Graduate            No             2583   \n",
       "4   Male      No          0      Graduate            No             6000   \n",
       "\n",
       "   CoapplicantIncome  LoanAmount  Loan_Amount_Term  Credit_History  \\\n",
       "0                0.0       120.0             360.0             1.0   \n",
       "1             1508.0       128.0             360.0             1.0   \n",
       "2                0.0        66.0             360.0             1.0   \n",
       "3             2358.0       120.0             360.0             1.0   \n",
       "4                0.0       141.0             360.0             1.0   \n",
       "\n",
       "  Property_Area  Loan_Status  \n",
       "0         Urban            1  \n",
       "1         Rural            0  \n",
       "2         Urban            1  \n",
       "3         Urban            1  \n",
       "4         Urban            1  "
      ]
     },
     "execution_count": 46,
     "metadata": {},
     "output_type": "execute_result"
    }
   ],
   "source": [
    "df.head()"
   ]
  },
  {
   "cell_type": "code",
   "execution_count": 47,
   "metadata": {},
   "outputs": [],
   "source": [
    "df['Dependents']=df['Dependents'].replace('3+',3)"
   ]
  },
  {
   "cell_type": "code",
   "execution_count": 48,
   "metadata": {},
   "outputs": [],
   "source": [
    "from sklearn.preprocessing import LabelEncoder\n",
    "le=LabelEncoder()\n",
    "df.loc[:,['Gender','Married','Education','Self_Employed','Property_Area']]=df.loc[:,['Gender','Married','Education','Self_Employed','Property_Area']].apply(le.fit_transform)"
   ]
  },
  {
   "cell_type": "code",
   "execution_count": 49,
   "metadata": {},
   "outputs": [
    {
     "data": {
      "text/plain": [
       "0    360\n",
       "1    102\n",
       "2    101\n",
       "3     51\n",
       "Name: Dependents, dtype: int64"
      ]
     },
     "execution_count": 49,
     "metadata": {},
     "output_type": "execute_result"
    }
   ],
   "source": [
    "df['Dependents'].value_counts()"
   ]
  },
  {
   "cell_type": "code",
   "execution_count": 50,
   "metadata": {},
   "outputs": [],
   "source": [
    "df_corr=df.corr()"
   ]
  },
  {
   "cell_type": "code",
   "execution_count": 51,
   "metadata": {},
   "outputs": [
    {
     "data": {
      "text/plain": [
       "<matplotlib.axes._subplots.AxesSubplot at 0x27e24305b80>"
      ]
     },
     "execution_count": 51,
     "metadata": {},
     "output_type": "execute_result"
    },
    {
     "data": {
      "image/png": "[encoded data removed]",
      "text/plain": [
       "<Figure size 1080x864 with 2 Axes>"
      ]
     },
     "metadata": {
      "needs_background": "light"
     },
     "output_type": "display_data"
    }
   ],
   "source": [
    "plt.figure(figsize=(15,12))\n",
    "sns.heatmap(df_corr,annot=True)"
   ]
  },
  {
   "cell_type": "code",
   "execution_count": 52,
   "metadata": {},
   "outputs": [],
   "source": [
    "x=df.drop('Loan_Status',axis=1)\n",
    "y=df['Loan_Status']"
   ]
  },
  {
   "cell_type": "code",
   "execution_count": 53,
   "metadata": {},
   "outputs": [
    {
     "name": "stdout",
     "output_type": "stream",
     "text": [
      "(614, 11)\n",
      "(614,)\n"
     ]
    }
   ],
   "source": [
    "print(x.shape)\n",
    "print(y.shape)"
   ]
  },
  {
   "cell_type": "code",
   "execution_count": 54,
   "metadata": {},
   "outputs": [
    {
     "data": {
      "text/plain": [
       "Gender                 int32\n",
       "Married                int32\n",
       "Dependents            object\n",
       "Education              int32\n",
       "Self_Employed          int32\n",
       "ApplicantIncome        int64\n",
       "CoapplicantIncome    float64\n",
       "LoanAmount           float64\n",
       "Loan_Amount_Term     float64\n",
       "Credit_History       float64\n",
       "Property_Area          int32\n",
       "dtype: object"
      ]
     },
     "execution_count": 54,
     "metadata": {},
     "output_type": "execute_result"
    }
   ],
   "source": [
    "x.dtypes"
   ]
  },
  {
   "cell_type": "code",
   "execution_count": 55,
   "metadata": {
    "scrolled": true
   },
   "outputs": [
    {
     "data": {
      "text/plain": [
       "Gender               0\n",
       "Married              0\n",
       "Dependents           0\n",
       "Education            0\n",
       "Self_Employed        0\n",
       "ApplicantIncome      0\n",
       "CoapplicantIncome    0\n",
       "LoanAmount           0\n",
       "Loan_Amount_Term     0\n",
       "Credit_History       0\n",
       "Property_Area        0\n",
       "dtype: int64"
      ]
     },
     "execution_count": 55,
     "metadata": {},
     "output_type": "execute_result"
    }
   ],
   "source": [
    "x.isnull().sum()"
   ]
  },
  {
   "cell_type": "code",
   "execution_count": 56,
   "metadata": {},
   "outputs": [
    {
     "data": {
      "text/plain": [
       "0    360\n",
       "1    102\n",
       "2    101\n",
       "3     51\n",
       "Name: Dependents, dtype: int64"
      ]
     },
     "execution_count": 56,
     "metadata": {},
     "output_type": "execute_result"
    }
   ],
   "source": [
    "x['Dependents'].value_counts()"
   ]
  },
  {
   "cell_type": "code",
   "execution_count": 57,
   "metadata": {},
   "outputs": [],
   "source": [
    "from sklearn.preprocessing import StandardScaler\n",
    "ss= StandardScaler()\n",
    "x=ss.fit_transform(x)"
   ]
  },
  {
   "cell_type": "code",
   "execution_count": 58,
   "metadata": {},
   "outputs": [
    {
     "data": {
      "text/plain": [
       "array([[ 0.47234264, -1.37208932, -0.73780632, ...,  0.2732313 ,\n",
       "         0.41173269,  1.22329839],\n",
       "       [ 0.47234264,  0.72881553,  0.25346957, ...,  0.2732313 ,\n",
       "         0.41173269, -1.31851281],\n",
       "       [ 0.47234264,  0.72881553, -0.73780632, ...,  0.2732313 ,\n",
       "         0.41173269,  1.22329839],\n",
       "       ...,\n",
       "       [ 0.47234264,  0.72881553,  0.25346957, ...,  0.2732313 ,\n",
       "         0.41173269,  1.22329839],\n",
       "       [ 0.47234264,  0.72881553,  1.24474546, ...,  0.2732313 ,\n",
       "         0.41173269,  1.22329839],\n",
       "       [-2.11710719, -1.37208932, -0.73780632, ...,  0.2732313 ,\n",
       "        -2.42876026, -0.04760721]])"
      ]
     },
     "execution_count": 58,
     "metadata": {},
     "output_type": "execute_result"
    }
   ],
   "source": [
    "x"
   ]
  },
  {
   "cell_type": "code",
   "execution_count": 59,
   "metadata": {},
   "outputs": [],
   "source": [
    "from sklearn.model_selection import train_test_split\n",
    "from sklearn.metrics import roc_auc_score,accuracy_score,f1_score\n",
    "def max_auc_roc_score(algo,x,y):\n",
    "    max_auc_roc_score=0\n",
    "    for r_state in range(42,100):\n",
    "        x_train, x_test, y_train, y_test = train_test_split(x, y,random_state = r_state,test_size=0.20)\n",
    "        algo.fit(x_train,y_train)\n",
    "        y_pred = algo.predict(x_test)\n",
    "        aucroc_scr=roc_auc_score(y_test,y_pred)\n",
    "        print(\"auc roc score corresponding to \",r_state,\" is \",aucroc_scr)\n",
    "        if aucroc_scr>max_auc_roc_score:\n",
    "            max_auc_roc_score=aucroc_scr\n",
    "            final_r_state=r_state\n",
    "    print(\"max auc roc score corresponding to \",final_r_state,\" is \",max_auc_roc_score)\n",
    "    print(\"Accuracy is=\",accuracy_score(y_test,y_pred))\n",
    "    print(\"F1 Score= \",f1_score(y_test,y_pred))\n",
    "    return final_r_state"
   ]
  },
  {
   "cell_type": "markdown",
   "metadata": {},
   "source": [
    "### Logistic Regression"
   ]
  },
  {
   "cell_type": "code",
   "execution_count": 60,
   "metadata": {},
   "outputs": [
    {
     "name": "stdout",
     "output_type": "stream",
     "text": [
      "auc roc score corresponding to  42  is  0.7030523255813954\n",
      "auc roc score corresponding to  43  is  0.7119195046439628\n",
      "auc roc score corresponding to  44  is  0.7178914835164836\n",
      "auc roc score corresponding to  45  is  0.6888888888888889\n",
      "auc roc score corresponding to  46  is  0.7240581625908791\n",
      "auc roc score corresponding to  47  is  0.6968887492143305\n",
      "auc roc score corresponding to  48  is  0.6158076681332495\n",
      "auc roc score corresponding to  49  is  0.6943181818181818\n",
      "auc roc score corresponding to  50  is  0.7084302325581395\n",
      "auc roc score corresponding to  51  is  0.7222222222222222\n",
      "auc roc score corresponding to  52  is  0.7316849816849818\n",
      "auc roc score corresponding to  53  is  0.7044042913608131\n",
      "auc roc score corresponding to  54  is  0.7228896103896105\n",
      "auc roc score corresponding to  55  is  0.6456804065499717\n",
      "auc roc score corresponding to  56  is  0.6838709677419355\n",
      "auc roc score corresponding to  57  is  0.7023809523809523\n",
      "auc roc score corresponding to  58  is  0.711996336996337\n",
      "auc roc score corresponding to  59  is  0.6800324675324676\n",
      "auc roc score corresponding to  60  is  0.7191950464396285\n",
      "auc roc score corresponding to  61  is  0.6618279569892473\n",
      "auc roc score corresponding to  62  is  0.7380952380952381\n",
      "auc roc score corresponding to  63  is  0.7857142857142857\n",
      "auc roc score corresponding to  64  is  0.7051282051282051\n",
      "auc roc score corresponding to  65  is  0.6818181818181819\n",
      "auc roc score corresponding to  66  is  0.7086038961038962\n",
      "auc roc score corresponding to  67  is  0.7225806451612904\n",
      "auc roc score corresponding to  68  is  0.6686688311688311\n",
      "auc roc score corresponding to  69  is  0.7814759036144577\n",
      "auc roc score corresponding to  70  is  0.725609756097561\n",
      "auc roc score corresponding to  71  is  0.6216475095785441\n",
      "auc roc score corresponding to  72  is  0.7443820224719101\n",
      "auc roc score corresponding to  73  is  0.7162162162162162\n",
      "auc roc score corresponding to  74  is  0.7249440089585666\n",
      "auc roc score corresponding to  75  is  0.6662257495590829\n",
      "auc roc score corresponding to  76  is  0.7129120879120879\n",
      "auc roc score corresponding to  77  is  0.7254518072289157\n",
      "auc roc score corresponding to  78  is  0.6890284203569068\n",
      "auc roc score corresponding to  79  is  0.6829268292682926\n",
      "auc roc score corresponding to  80  is  0.7142857142857143\n",
      "auc roc score corresponding to  81  is  0.7106060606060607\n",
      "auc roc score corresponding to  82  is  0.7382352941176471\n",
      "auc roc score corresponding to  83  is  0.6498532648569333\n",
      "auc roc score corresponding to  84  is  0.6890243902439024\n",
      "auc roc score corresponding to  85  is  0.7138447971781304\n",
      "auc roc score corresponding to  86  is  0.6713675213675214\n",
      "auc roc score corresponding to  87  is  0.7188644688644689\n",
      "auc roc score corresponding to  88  is  0.6890243902439024\n",
      "auc roc score corresponding to  89  is  0.7188644688644689\n",
      "auc roc score corresponding to  90  is  0.6768292682926829\n",
      "auc roc score corresponding to  91  is  0.670157967032967\n",
      "auc roc score corresponding to  92  is  0.676171654432524\n",
      "auc roc score corresponding to  93  is  0.6890243902439024\n",
      "auc roc score corresponding to  94  is  0.7121212121212122\n",
      "auc roc score corresponding to  95  is  0.7102463605823068\n",
      "auc roc score corresponding to  96  is  0.6805235903337168\n",
      "auc roc score corresponding to  97  is  0.7217171717171718\n",
      "auc roc score corresponding to  98  is  0.7181018227529855\n",
      "auc roc score corresponding to  99  is  0.6524390243902438\n",
      "max auc roc score corresponding to  63  is  0.7857142857142857\n",
      "Accuracy is= 0.7560975609756098\n",
      "F1 Score=  0.8404255319148936\n"
     ]
    },
    {
     "data": {
      "text/plain": [
       "63"
      ]
     },
     "execution_count": 60,
     "metadata": {},
     "output_type": "execute_result"
    }
   ],
   "source": [
    "from sklearn.linear_model import LogisticRegression\n",
    "lg_algo = LogisticRegression()\n",
    "max_auc_roc_score(lg_algo,x,y)"
   ]
  },
  {
   "cell_type": "code",
   "execution_count": 61,
   "metadata": {},
   "outputs": [
    {
     "data": {
      "text/plain": [
       "0.7242367230292927"
      ]
     },
     "execution_count": 61,
     "metadata": {},
     "output_type": "execute_result"
    }
   ],
   "source": [
    "from sklearn.model_selection import cross_val_score\n",
    "cross_val_score(lg_algo,x,y,cv=5,scoring=\"roc_auc\").mean()"
   ]
  },
  {
   "cell_type": "markdown",
   "metadata": {},
   "source": [
    "### Decision Tree"
   ]
  },
  {
   "cell_type": "code",
   "execution_count": 62,
   "metadata": {},
   "outputs": [
    {
     "name": "stdout",
     "output_type": "stream",
     "text": [
      "auc roc score corresponding to  42  is  0.6799418604651163\n",
      "auc roc score corresponding to  43  is  0.6880804953560371\n",
      "auc roc score corresponding to  44  is  0.6447458791208791\n",
      "auc roc score corresponding to  45  is  0.638888888888889\n",
      "auc roc score corresponding to  46  is  0.6459021810971579\n",
      "auc roc score corresponding to  47  is  0.6945317410433689\n",
      "auc roc score corresponding to  48  is  0.5961659333752357\n",
      "auc roc score corresponding to  49  is  0.660551948051948\n",
      "auc roc score corresponding to  50  is  0.7049418604651164\n",
      "auc roc score corresponding to  51  is  0.6245210727969349\n",
      "auc roc score corresponding to  52  is  0.6767399267399268\n",
      "auc roc score corresponding to  53  is  0.704686617730096\n",
      "auc roc score corresponding to  54  is  0.6693181818181818\n",
      "auc roc score corresponding to  55  is  0.6070016939582157\n",
      "auc roc score corresponding to  56  is  0.6263440860215054\n",
      "auc roc score corresponding to  57  is  0.6565255731922399\n",
      "auc roc score corresponding to  58  is  0.6433150183150182\n",
      "auc roc score corresponding to  59  is  0.6464285714285716\n",
      "auc roc score corresponding to  60  is  0.7085139318885448\n",
      "auc roc score corresponding to  61  is  0.6424731182795699\n",
      "auc roc score corresponding to  62  is  0.7160493827160493\n",
      "auc roc score corresponding to  63  is  0.7147727272727272\n",
      "auc roc score corresponding to  64  is  0.6501831501831502\n",
      "auc roc score corresponding to  65  is  0.7131760644418872\n",
      "auc roc score corresponding to  66  is  0.6691558441558442\n",
      "auc roc score corresponding to  67  is  0.7037634408602149\n",
      "auc roc score corresponding to  68  is  0.6577922077922078\n",
      "auc roc score corresponding to  69  is  0.6489457831325302\n",
      "auc roc score corresponding to  70  is  0.6829268292682926\n",
      "auc roc score corresponding to  71  is  0.6384099616858238\n",
      "auc roc score corresponding to  72  is  0.5801387970918704\n",
      "auc roc score corresponding to  73  is  0.5845380263984915\n",
      "auc roc score corresponding to  74  is  0.6753919372900336\n",
      "auc roc score corresponding to  75  is  0.6274250440917107\n",
      "auc roc score corresponding to  76  is  0.674908424908425\n",
      "auc roc score corresponding to  77  is  0.6054216867469879\n",
      "auc roc score corresponding to  78  is  0.6683740912095175\n",
      "auc roc score corresponding to  79  is  0.6707317073170731\n",
      "auc roc score corresponding to  80  is  0.6441798941798942\n",
      "auc roc score corresponding to  81  is  0.7222222222222223\n",
      "auc roc score corresponding to  82  is  0.6804953560371517\n",
      "auc roc score corresponding to  83  is  0.6271093176815847\n",
      "auc roc score corresponding to  84  is  0.6463414634146342\n",
      "auc roc score corresponding to  85  is  0.6635802469135803\n",
      "auc roc score corresponding to  86  is  0.6564102564102564\n",
      "auc roc score corresponding to  87  is  0.6314102564102564\n",
      "auc roc score corresponding to  88  is  0.6280487804878049\n",
      "auc roc score corresponding to  89  is  0.7252747252747253\n",
      "auc roc score corresponding to  90  is  0.6890243902439024\n",
      "auc roc score corresponding to  91  is  0.6337568681318682\n",
      "auc roc score corresponding to  92  is  0.6459627329192547\n",
      "auc roc score corresponding to  93  is  0.5853658536585366\n",
      "auc roc score corresponding to  94  is  0.6171717171717171\n",
      "auc roc score corresponding to  95  is  0.6105823068309071\n",
      "auc roc score corresponding to  96  is  0.7107307249712312\n",
      "auc roc score corresponding to  97  is  0.6671717171717171\n",
      "auc roc score corresponding to  98  is  0.6132935260842238\n",
      "auc roc score corresponding to  99  is  0.7134146341463413\n",
      "max auc roc score corresponding to  89  is  0.7252747252747253\n",
      "Accuracy is= 0.7479674796747967\n",
      "F1 Score=  0.812121212121212\n"
     ]
    },
    {
     "data": {
      "text/plain": [
       "89"
      ]
     },
     "execution_count": 62,
     "metadata": {},
     "output_type": "execute_result"
    }
   ],
   "source": [
    "from sklearn.tree import DecisionTreeClassifier\n",
    "dt_algo=DecisionTreeClassifier()\n",
    "max_auc_roc_score(dt_algo,x,y)"
   ]
  },
  {
   "cell_type": "code",
   "execution_count": 63,
   "metadata": {},
   "outputs": [
    {
     "data": {
      "text/plain": [
       "0.6668913233309517"
      ]
     },
     "execution_count": 63,
     "metadata": {},
     "output_type": "execute_result"
    }
   ],
   "source": [
    "cross_val_score(dt_algo,x,y,cv=5,scoring=\"roc_auc\").mean()"
   ]
  },
  {
   "cell_type": "markdown",
   "metadata": {},
   "source": [
    "### Random Forest "
   ]
  },
  {
   "cell_type": "code",
   "execution_count": 64,
   "metadata": {},
   "outputs": [
    {
     "data": {
      "text/plain": [
       "{'criterion': 'gini', 'n_estimators': 100}"
      ]
     },
     "execution_count": 64,
     "metadata": {},
     "output_type": "execute_result"
    }
   ],
   "source": [
    "from sklearn.ensemble import RandomForestClassifier\n",
    "from sklearn.model_selection import GridSearchCV\n",
    "parameters={\"n_estimators\":[10,100,500],'criterion' : (\"gini\", \"entropy\")}\n",
    "rf=RandomForestClassifier()\n",
    "gsv = GridSearchCV(rf, parameters, cv=5,scoring=\"roc_auc\")\n",
    "gsv.fit(x,y)\n",
    "gsv.best_params_"
   ]
  },
  {
   "cell_type": "code",
   "execution_count": 65,
   "metadata": {},
   "outputs": [
    {
     "name": "stdout",
     "output_type": "stream",
     "text": [
      "auc roc score corresponding to  42  is  0.6905523255813952\n",
      "auc roc score corresponding to  43  is  0.6825077399380803\n",
      "auc roc score corresponding to  44  is  0.7115384615384616\n",
      "auc roc score corresponding to  45  is  0.6935897435897436\n",
      "auc roc score corresponding to  46  is  0.7015862524785195\n",
      "auc roc score corresponding to  47  is  0.7006599622878692\n",
      "auc roc score corresponding to  48  is  0.6176932746700189\n",
      "auc roc score corresponding to  49  is  0.6915584415584416\n",
      "auc roc score corresponding to  50  is  0.7013081395348837\n",
      "auc roc score corresponding to  51  is  0.7442528735632183\n",
      "auc roc score corresponding to  52  is  0.7206959706959707\n",
      "auc roc score corresponding to  53  is  0.7087803500846979\n",
      "auc roc score corresponding to  54  is  0.7116883116883117\n",
      "auc roc score corresponding to  55  is  0.6305759457933371\n",
      "auc roc score corresponding to  56  is  0.6682795698924732\n",
      "auc roc score corresponding to  57  is  0.7134038800705467\n",
      "auc roc score corresponding to  58  is  0.706043956043956\n",
      "auc roc score corresponding to  59  is  0.6858766233766235\n",
      "auc roc score corresponding to  60  is  0.7147058823529412\n",
      "auc roc score corresponding to  61  is  0.6849462365591398\n",
      "auc roc score corresponding to  62  is  0.7372134038800705\n",
      "auc roc score corresponding to  63  is  0.7686688311688312\n",
      "auc roc score corresponding to  64  is  0.6822344322344323\n",
      "auc roc score corresponding to  65  is  0.6628308400460299\n",
      "auc roc score corresponding to  66  is  0.6915584415584416\n",
      "auc roc score corresponding to  67  is  0.7344086021505376\n",
      "auc roc score corresponding to  68  is  0.7115259740259741\n",
      "auc roc score corresponding to  69  is  0.7819277108433735\n",
      "auc roc score corresponding to  70  is  0.725609756097561\n",
      "auc roc score corresponding to  71  is  0.6182950191570881\n",
      "auc roc score corresponding to  72  is  0.7015862524785195\n",
      "auc roc score corresponding to  73  is  0.7181018227529855\n",
      "auc roc score corresponding to  74  is  0.7183650615901456\n",
      "auc roc score corresponding to  75  is  0.6538800705467371\n",
      "auc roc score corresponding to  76  is  0.700091575091575\n",
      "auc roc score corresponding to  77  is  0.7082831325301204\n",
      "auc roc score corresponding to  78  is  0.6531725049570389\n",
      "auc roc score corresponding to  79  is  0.7012195121951219\n",
      "auc roc score corresponding to  80  is  0.7195767195767195\n",
      "auc roc score corresponding to  81  is  0.7186868686868687\n",
      "auc roc score corresponding to  82  is  0.7410216718266254\n",
      "auc roc score corresponding to  83  is  0.6458180484225972\n",
      "auc roc score corresponding to  84  is  0.6951219512195121\n",
      "auc roc score corresponding to  85  is  0.7314814814814814\n",
      "auc roc score corresponding to  86  is  0.6696581196581197\n",
      "auc roc score corresponding to  87  is  0.6968864468864469\n",
      "auc roc score corresponding to  88  is  0.6890243902439024\n",
      "auc roc score corresponding to  89  is  0.701007326007326\n",
      "auc roc score corresponding to  90  is  0.6768292682926829\n",
      "auc roc score corresponding to  91  is  0.6849244505494505\n",
      "auc roc score corresponding to  92  is  0.6696781479390175\n",
      "auc roc score corresponding to  93  is  0.6646341463414634\n",
      "auc roc score corresponding to  94  is  0.7146464646464646\n",
      "auc roc score corresponding to  95  is  0.7052071668533034\n",
      "auc roc score corresponding to  96  is  0.677934407364787\n",
      "auc roc score corresponding to  97  is  0.740909090909091\n",
      "auc roc score corresponding to  98  is  0.7141734758013828\n",
      "auc roc score corresponding to  99  is  0.6585365853658536\n",
      "max auc roc score corresponding to  69  is  0.7819277108433735\n",
      "Accuracy is= 0.7560975609756098\n",
      "F1 Score=  0.8387096774193549\n"
     ]
    },
    {
     "data": {
      "text/plain": [
       "69"
      ]
     },
     "execution_count": 65,
     "metadata": {},
     "output_type": "execute_result"
    }
   ],
   "source": [
    "rf_algo =RandomForestClassifier(n_estimators=500,criterion='gini')\n",
    "max_auc_roc_score(rf_algo,x,y)"
   ]
  },
  {
   "cell_type": "code",
   "execution_count": 66,
   "metadata": {},
   "outputs": [
    {
     "data": {
      "text/plain": [
       "0.7703183108601065"
      ]
     },
     "execution_count": 66,
     "metadata": {},
     "output_type": "execute_result"
    }
   ],
   "source": [
    "cross_val_score(rf_algo,x,y,cv=5,scoring=\"roc_auc\").mean()"
   ]
  },
  {
   "cell_type": "markdown",
   "metadata": {},
   "source": [
    "### KNN "
   ]
  },
  {
   "cell_type": "code",
   "execution_count": 67,
   "metadata": {},
   "outputs": [
    {
     "data": {
      "text/plain": [
       "{'n_neighbors': 25}"
      ]
     },
     "execution_count": 67,
     "metadata": {},
     "output_type": "execute_result"
    }
   ],
   "source": [
    "from sklearn.model_selection import GridSearchCV\n",
    "from sklearn.neighbors import KNeighborsClassifier\n",
    "knn=KNeighborsClassifier()\n",
    "neighbors={\"n_neighbors\":range(1,30)}\n",
    "gsv = GridSearchCV(knn, neighbors, cv=5,scoring=\"roc_auc\")\n",
    "gsv.fit(x,y)\n",
    "gsv.best_params_"
   ]
  },
  {
   "cell_type": "code",
   "execution_count": 68,
   "metadata": {},
   "outputs": [
    {
     "name": "stdout",
     "output_type": "stream",
     "text": [
      "auc roc score corresponding to  42  is  0.6976744186046512\n",
      "auc roc score corresponding to  43  is  0.6987616099071208\n",
      "auc roc score corresponding to  44  is  0.7022664835164836\n",
      "auc roc score corresponding to  45  is  0.6777777777777778\n",
      "auc roc score corresponding to  46  is  0.7002643754130866\n",
      "auc roc score corresponding to  47  is  0.6698617221873036\n",
      "auc roc score corresponding to  48  is  0.602294154619736\n",
      "auc roc score corresponding to  49  is  0.6943181818181818\n",
      "auc roc score corresponding to  50  is  0.6851744186046512\n",
      "auc roc score corresponding to  51  is  0.6944444444444444\n",
      "auc roc score corresponding to  52  is  0.7376373626373627\n",
      "auc roc score corresponding to  53  is  0.6782891022021457\n",
      "auc roc score corresponding to  54  is  0.7285714285714286\n",
      "auc roc score corresponding to  55  is  0.6348108413325805\n",
      "auc roc score corresponding to  56  is  0.6946236559139785\n",
      "auc roc score corresponding to  57  is  0.6666666666666667\n",
      "auc roc score corresponding to  58  is  0.6991758241758241\n",
      "auc roc score corresponding to  59  is  0.6800324675324676\n",
      "auc roc score corresponding to  60  is  0.6987616099071208\n",
      "auc roc score corresponding to  61  is  0.6618279569892473\n",
      "auc roc score corresponding to  62  is  0.7261904761904762\n",
      "auc roc score corresponding to  63  is  0.7571428571428571\n",
      "auc roc score corresponding to  64  is  0.7051282051282051\n",
      "auc roc score corresponding to  65  is  0.6818181818181819\n",
      "auc roc score corresponding to  66  is  0.7142857142857143\n",
      "auc roc score corresponding to  67  is  0.7225806451612904\n",
      "auc roc score corresponding to  68  is  0.6743506493506494\n",
      "auc roc score corresponding to  69  is  0.7439759036144578\n",
      "auc roc score corresponding to  70  is  0.6890243902439024\n",
      "auc roc score corresponding to  71  is  0.6135057471264368\n",
      "auc roc score corresponding to  72  is  0.7296761401189689\n",
      "auc roc score corresponding to  73  is  0.6756756756756757\n",
      "auc roc score corresponding to  74  is  0.7061870100783874\n",
      "auc roc score corresponding to  75  is  0.654320987654321\n",
      "auc roc score corresponding to  76  is  0.6932234432234432\n",
      "auc roc score corresponding to  77  is  0.7064759036144579\n",
      "auc roc score corresponding to  78  is  0.6743225380039657\n",
      "auc roc score corresponding to  79  is  0.6890243902439024\n",
      "auc roc score corresponding to  80  is  0.6785714285714286\n",
      "auc roc score corresponding to  81  is  0.7161616161616162\n",
      "auc roc score corresponding to  82  is  0.7382352941176471\n",
      "auc roc score corresponding to  83  is  0.6498532648569333\n",
      "auc roc score corresponding to  84  is  0.6768292682926829\n",
      "auc roc score corresponding to  85  is  0.7138447971781304\n",
      "auc roc score corresponding to  86  is  0.6491452991452992\n",
      "auc roc score corresponding to  87  is  0.6923076923076923\n",
      "auc roc score corresponding to  88  is  0.6890243902439024\n",
      "auc roc score corresponding to  89  is  0.711996336996337\n",
      "auc roc score corresponding to  90  is  0.6768292682926829\n",
      "auc roc score corresponding to  91  is  0.6811469780219781\n",
      "auc roc score corresponding to  92  is  0.6609260304912479\n",
      "auc roc score corresponding to  93  is  0.6707317073170731\n",
      "auc roc score corresponding to  94  is  0.696969696969697\n",
      "auc roc score corresponding to  95  is  0.7061870100783874\n",
      "auc roc score corresponding to  96  is  0.6691599539700805\n",
      "auc roc score corresponding to  97  is  0.6611111111111112\n",
      "auc roc score corresponding to  98  is  0.6968887492143305\n",
      "auc roc score corresponding to  99  is  0.6219512195121951\n",
      "max auc roc score corresponding to  63  is  0.7571428571428571\n",
      "Accuracy is= 0.7398373983739838\n",
      "F1 Score=  0.8333333333333334\n"
     ]
    },
    {
     "data": {
      "text/plain": [
       "63"
      ]
     },
     "execution_count": 68,
     "metadata": {},
     "output_type": "execute_result"
    }
   ],
   "source": [
    "from sklearn.neighbors import KNeighborsClassifier\n",
    "knn_algo=KNeighborsClassifier(n_neighbors=25)\n",
    "max_auc_roc_score(knn_algo,x,y)"
   ]
  },
  {
   "cell_type": "markdown",
   "metadata": {},
   "source": [
    "### SVC"
   ]
  },
  {
   "cell_type": "code",
   "execution_count": 69,
   "metadata": {},
   "outputs": [
    {
     "data": {
      "text/plain": [
       "{'C': 0.01, 'kernel': 'rbf'}"
      ]
     },
     "execution_count": 69,
     "metadata": {},
     "output_type": "execute_result"
    }
   ],
   "source": [
    "from sklearn.svm import SVC\n",
    "svc=SVC()\n",
    "parameters={\"kernel\":[\"linear\", \"poly\", \"rbf\"],\"C\":[0.001,0.01,0.1,1,10]}\n",
    "gsv = GridSearchCV(svc, parameters, cv=5,scoring=\"roc_auc\")\n",
    "gsv.fit(x,y)\n",
    "gsv.best_params_"
   ]
  },
  {
   "cell_type": "code",
   "execution_count": 70,
   "metadata": {},
   "outputs": [
    {
     "name": "stdout",
     "output_type": "stream",
     "text": [
      "auc roc score corresponding to  42  is  0.5\n",
      "auc roc score corresponding to  43  is  0.5\n",
      "auc roc score corresponding to  44  is  0.5\n",
      "auc roc score corresponding to  45  is  0.5\n",
      "auc roc score corresponding to  46  is  0.5\n",
      "auc roc score corresponding to  47  is  0.5\n",
      "auc roc score corresponding to  48  is  0.5\n",
      "auc roc score corresponding to  49  is  0.5\n",
      "auc roc score corresponding to  50  is  0.5\n",
      "auc roc score corresponding to  51  is  0.5\n",
      "auc roc score corresponding to  52  is  0.5\n",
      "auc roc score corresponding to  53  is  0.5\n",
      "auc roc score corresponding to  54  is  0.5\n",
      "auc roc score corresponding to  55  is  0.5\n",
      "auc roc score corresponding to  56  is  0.5\n",
      "auc roc score corresponding to  57  is  0.5\n",
      "auc roc score corresponding to  58  is  0.5\n",
      "auc roc score corresponding to  59  is  0.5\n",
      "auc roc score corresponding to  60  is  0.5\n",
      "auc roc score corresponding to  61  is  0.5\n",
      "auc roc score corresponding to  62  is  0.5\n",
      "auc roc score corresponding to  63  is  0.5\n",
      "auc roc score corresponding to  64  is  0.5\n",
      "auc roc score corresponding to  65  is  0.5\n",
      "auc roc score corresponding to  66  is  0.5\n",
      "auc roc score corresponding to  67  is  0.5\n",
      "auc roc score corresponding to  68  is  0.5\n",
      "auc roc score corresponding to  69  is  0.5\n",
      "auc roc score corresponding to  70  is  0.5\n",
      "auc roc score corresponding to  71  is  0.5\n",
      "auc roc score corresponding to  72  is  0.5\n",
      "auc roc score corresponding to  73  is  0.5\n",
      "auc roc score corresponding to  74  is  0.5\n",
      "auc roc score corresponding to  75  is  0.5\n",
      "auc roc score corresponding to  76  is  0.5\n",
      "auc roc score corresponding to  77  is  0.5\n",
      "auc roc score corresponding to  78  is  0.5\n",
      "auc roc score corresponding to  79  is  0.5\n",
      "auc roc score corresponding to  80  is  0.5\n",
      "auc roc score corresponding to  81  is  0.5\n",
      "auc roc score corresponding to  82  is  0.5\n",
      "auc roc score corresponding to  83  is  0.5\n",
      "auc roc score corresponding to  84  is  0.5\n",
      "auc roc score corresponding to  85  is  0.5\n",
      "auc roc score corresponding to  86  is  0.5\n",
      "auc roc score corresponding to  87  is  0.5\n",
      "auc roc score corresponding to  88  is  0.5\n",
      "auc roc score corresponding to  89  is  0.5\n",
      "auc roc score corresponding to  90  is  0.5\n",
      "auc roc score corresponding to  91  is  0.5\n",
      "auc roc score corresponding to  92  is  0.5\n",
      "auc roc score corresponding to  93  is  0.5\n",
      "auc roc score corresponding to  94  is  0.5\n",
      "auc roc score corresponding to  95  is  0.5\n",
      "auc roc score corresponding to  96  is  0.5\n",
      "auc roc score corresponding to  97  is  0.5\n",
      "auc roc score corresponding to  98  is  0.5\n",
      "auc roc score corresponding to  99  is  0.5\n",
      "max auc roc score corresponding to  42  is  0.5\n",
      "Accuracy is= 0.6666666666666666\n",
      "F1 Score=  0.8\n"
     ]
    },
    {
     "data": {
      "text/plain": [
       "42"
      ]
     },
     "execution_count": 70,
     "metadata": {},
     "output_type": "execute_result"
    }
   ],
   "source": [
    "svc_algo=SVC(kernel='rbf',C=0.01)\n",
    "max_auc_roc_score(svc_algo,x,y)"
   ]
  },
  {
   "cell_type": "markdown",
   "metadata": {},
   "source": [
    "### Bagging"
   ]
  },
  {
   "cell_type": "code",
   "execution_count": 71,
   "metadata": {},
   "outputs": [],
   "source": [
    "from sklearn.ensemble import BaggingClassifier\n",
    "bg_algo = BaggingClassifier(max_samples=0.5,max_features=0.5)"
   ]
  },
  {
   "cell_type": "code",
   "execution_count": 72,
   "metadata": {},
   "outputs": [
    {
     "name": "stdout",
     "output_type": "stream",
     "text": [
      "auc roc score corresponding to  42  is  0.6136627906976744\n",
      "auc roc score corresponding to  43  is  0.6136222910216718\n",
      "auc roc score corresponding to  44  is  0.5113324175824177\n",
      "auc roc score corresponding to  45  is  0.6235042735042735\n",
      "auc roc score corresponding to  46  is  0.6721744877726371\n",
      "auc roc score corresponding to  47  is  0.6503771213073539\n",
      "auc roc score corresponding to  48  is  0.6176932746700189\n",
      "auc roc score corresponding to  49  is  0.6402597402597403\n",
      "auc roc score corresponding to  50  is  0.7013081395348837\n",
      "auc roc score corresponding to  51  is  0.6853448275862069\n",
      "auc roc score corresponding to  52  is  0.7234432234432235\n",
      "auc roc score corresponding to  53  is  0.6631846414455109\n",
      "auc roc score corresponding to  54  is  0.5693181818181818\n",
      "auc roc score corresponding to  55  is  0.6002258610954263\n",
      "auc roc score corresponding to  56  is  0.6086021505376344\n",
      "auc roc score corresponding to  57  is  0.6710758377425045\n",
      "auc roc score corresponding to  58  is  0.6378205128205128\n",
      "auc roc score corresponding to  59  is  0.6030844155844155\n",
      "auc roc score corresponding to  60  is  0.7147058823529412\n",
      "auc roc score corresponding to  61  is  0.6188172043010753\n",
      "auc roc score corresponding to  62  is  0.6953262786596119\n",
      "auc roc score corresponding to  63  is  0.7400974025974025\n",
      "auc roc score corresponding to  64  is  0.6634615384615383\n",
      "auc roc score corresponding to  65  is  0.5553797468354431\n",
      "auc roc score corresponding to  66  is  0.5774350649350649\n",
      "auc roc score corresponding to  67  is  0.6752688172043011\n",
      "auc roc score corresponding to  68  is  0.6487012987012988\n",
      "auc roc score corresponding to  69  is  0.7453313253012047\n",
      "auc roc score corresponding to  70  is  0.646341463414634\n",
      "auc roc score corresponding to  71  is  0.5684865900383141\n",
      "auc roc score corresponding to  72  is  0.7491738268341045\n",
      "auc roc score corresponding to  73  is  0.6659333752357008\n",
      "auc roc score corresponding to  74  is  0.653555431131019\n",
      "auc roc score corresponding to  75  is  0.6234567901234568\n",
      "auc roc score corresponding to  76  is  0.6790293040293041\n",
      "auc roc score corresponding to  77  is  0.5466867469879518\n",
      "auc roc score corresponding to  78  is  0.5964970257766027\n",
      "auc roc score corresponding to  79  is  0.5853658536585366\n",
      "auc roc score corresponding to  80  is  0.5277777777777777\n",
      "auc roc score corresponding to  81  is  0.6383838383838384\n",
      "auc roc score corresponding to  82  is  0.6679566563467492\n",
      "auc roc score corresponding to  83  is  0.5581438004402055\n",
      "auc roc score corresponding to  84  is  0.5060975609756098\n",
      "auc roc score corresponding to  85  is  0.6344797178130511\n",
      "auc roc score corresponding to  86  is  0.5709401709401709\n",
      "auc roc score corresponding to  87  is  0.6524725274725275\n",
      "auc roc score corresponding to  88  is  0.6829268292682926\n",
      "auc roc score corresponding to  89  is  0.7037545787545787\n",
      "auc roc score corresponding to  90  is  0.5304878048780488\n",
      "auc roc score corresponding to  91  is  0.6510989010989011\n",
      "auc roc score corresponding to  92  is  0.6435629587803501\n",
      "auc roc score corresponding to  93  is  0.6402439024390243\n",
      "auc roc score corresponding to  94  is  0.5313131313131313\n",
      "auc roc score corresponding to  95  is  0.6185610302351623\n",
      "auc roc score corresponding to  96  is  0.5466052934407364\n",
      "auc roc score corresponding to  97  is  0.7712121212121211\n",
      "auc roc score corresponding to  98  is  0.6312067881835324\n",
      "auc roc score corresponding to  99  is  0.6280487804878049\n",
      "max auc roc score corresponding to  97  is  0.7712121212121211\n",
      "Accuracy is= 0.7073170731707317\n",
      "F1 Score=  0.797752808988764\n"
     ]
    },
    {
     "data": {
      "text/plain": [
       "97"
      ]
     },
     "execution_count": 72,
     "metadata": {},
     "output_type": "execute_result"
    }
   ],
   "source": [
    "max_auc_roc_score(bg_algo,x,y)"
   ]
  },
  {
   "cell_type": "markdown",
   "metadata": {},
   "source": [
    "### Gradient Boosting"
   ]
  },
  {
   "cell_type": "code",
   "execution_count": 73,
   "metadata": {},
   "outputs": [
    {
     "name": "stdout",
     "output_type": "stream",
     "text": [
      "auc roc score corresponding to  42  is  0.7021802325581395\n",
      "auc roc score corresponding to  43  is  0.6928792569659443\n",
      "auc roc score corresponding to  44  is  0.7225274725274725\n",
      "auc roc score corresponding to  45  is  0.6824786324786325\n",
      "auc roc score corresponding to  46  is  0.7184401850627893\n",
      "auc roc score corresponding to  47  is  0.6852608422375864\n",
      "auc roc score corresponding to  48  is  0.6099937146448774\n",
      "auc roc score corresponding to  49  is  0.6886363636363637\n",
      "auc roc score corresponding to  50  is  0.7021802325581395\n",
      "auc roc score corresponding to  51  is  0.710727969348659\n",
      "auc roc score corresponding to  52  is  0.7197802197802198\n",
      "auc roc score corresponding to  53  is  0.7044042913608131\n",
      "auc roc score corresponding to  54  is  0.7172077922077922\n",
      "auc roc score corresponding to  55  is  0.6326933935629588\n",
      "auc roc score corresponding to  56  is  0.6731182795698925\n",
      "auc roc score corresponding to  57  is  0.6843033509700176\n",
      "auc roc score corresponding to  58  is  0.711996336996337\n",
      "auc roc score corresponding to  59  is  0.6829545454545455\n",
      "auc roc score corresponding to  60  is  0.7264705882352941\n",
      "auc roc score corresponding to  61  is  0.6510752688172043\n",
      "auc roc score corresponding to  62  is  0.7257495590828924\n",
      "auc roc score corresponding to  63  is  0.7743506493506493\n",
      "auc roc score corresponding to  64  is  0.6872710622710623\n",
      "auc roc score corresponding to  65  is  0.6577963176064442\n",
      "auc roc score corresponding to  66  is  0.6972402597402598\n",
      "auc roc score corresponding to  67  is  0.7172043010752689\n",
      "auc roc score corresponding to  68  is  0.6772727272727272\n",
      "auc roc score corresponding to  69  is  0.7754518072289157\n",
      "auc roc score corresponding to  70  is  0.7012195121951219\n",
      "auc roc score corresponding to  71  is  0.6159003831417624\n",
      "auc roc score corresponding to  72  is  0.7184401850627893\n",
      "auc roc score corresponding to  73  is  0.704588309239472\n",
      "auc roc score corresponding to  74  is  0.7249440089585666\n",
      "auc roc score corresponding to  75  is  0.6424162257495591\n",
      "auc roc score corresponding to  76  is  0.700091575091575\n",
      "auc roc score corresponding to  77  is  0.7069277108433735\n",
      "auc roc score corresponding to  78  is  0.6700264375413086\n",
      "auc roc score corresponding to  79  is  0.7012195121951219\n",
      "auc roc score corresponding to  80  is  0.6838624338624337\n",
      "auc roc score corresponding to  81  is  0.693939393939394\n",
      "auc roc score corresponding to  82  is  0.7088235294117646\n",
      "auc roc score corresponding to  83  is  0.6445341159207629\n",
      "auc roc score corresponding to  84  is  0.6829268292682926\n",
      "auc roc score corresponding to  85  is  0.7019400352733687\n",
      "auc roc score corresponding to  86  is  0.6713675213675214\n",
      "auc roc score corresponding to  87  is  0.6891025641025641\n",
      "auc roc score corresponding to  88  is  0.6585365853658536\n",
      "auc roc score corresponding to  89  is  0.7326007326007324\n",
      "auc roc score corresponding to  90  is  0.6646341463414633\n",
      "auc roc score corresponding to  91  is  0.6802884615384616\n",
      "auc roc score corresponding to  92  is  0.6717955957086392\n",
      "auc roc score corresponding to  93  is  0.6829268292682926\n",
      "auc roc score corresponding to  94  is  0.7050505050505051\n",
      "auc roc score corresponding to  95  is  0.7036674132138858\n",
      "auc roc score corresponding to  96  is  0.6855581127733026\n",
      "auc roc score corresponding to  97  is  0.7010101010101011\n",
      "auc roc score corresponding to  98  is  0.7122878692646135\n",
      "auc roc score corresponding to  99  is  0.646341463414634\n",
      "max auc roc score corresponding to  69  is  0.7754518072289157\n",
      "Accuracy is= 0.7479674796747967\n",
      "F1 Score=  0.8342245989304812\n"
     ]
    },
    {
     "data": {
      "text/plain": [
       "69"
      ]
     },
     "execution_count": 73,
     "metadata": {},
     "output_type": "execute_result"
    }
   ],
   "source": [
    "from sklearn.ensemble import GradientBoostingClassifier\n",
    "gb_algo= GradientBoostingClassifier(n_estimators=200,learning_rate=.02)\n",
    "max_auc_roc_score(gb_algo,x,y)"
   ]
  },
  {
   "cell_type": "markdown",
   "metadata": {},
   "source": [
    "### Gaussian Naive Bayes"
   ]
  },
  {
   "cell_type": "code",
   "execution_count": 74,
   "metadata": {},
   "outputs": [
    {
     "name": "stdout",
     "output_type": "stream",
     "text": [
      "auc roc score corresponding to  42  is  0.6968023255813953\n",
      "auc roc score corresponding to  43  is  0.7074303405572755\n",
      "auc roc score corresponding to  44  is  0.706043956043956\n",
      "auc roc score corresponding to  45  is  0.7222222222222222\n",
      "auc roc score corresponding to  46  is  0.7128222075346993\n",
      "auc roc score corresponding to  47  is  0.7122878692646135\n",
      "auc roc score corresponding to  48  is  0.6099937146448774\n",
      "auc roc score corresponding to  49  is  0.6829545454545455\n",
      "auc roc score corresponding to  50  is  0.6843023255813954\n",
      "auc roc score corresponding to  51  is  0.7246168582375478\n",
      "auc roc score corresponding to  52  is  0.7316849816849818\n",
      "auc roc score corresponding to  53  is  0.7044042913608131\n",
      "auc roc score corresponding to  54  is  0.7058441558441559\n",
      "auc roc score corresponding to  55  is  0.6456804065499717\n",
      "auc roc score corresponding to  56  is  0.7005376344086022\n",
      "auc roc score corresponding to  57  is  0.7138447971781304\n",
      "auc roc score corresponding to  58  is  0.7188644688644689\n",
      "auc roc score corresponding to  59  is  0.7172077922077922\n",
      "auc roc score corresponding to  60  is  0.7060371517027864\n",
      "auc roc score corresponding to  61  is  0.6790322580645162\n",
      "auc roc score corresponding to  62  is  0.7253086419753086\n",
      "auc roc score corresponding to  63  is  0.7772727272727272\n",
      "auc roc score corresponding to  64  is  0.711996336996337\n",
      "auc roc score corresponding to  65  is  0.6741944764096663\n",
      "auc roc score corresponding to  66  is  0.714448051948052\n",
      "auc roc score corresponding to  67  is  0.7010752688172044\n",
      "auc roc score corresponding to  68  is  0.6659090909090909\n",
      "auc roc score corresponding to  69  is  0.7694277108433735\n",
      "auc roc score corresponding to  70  is  0.7073170731707317\n",
      "auc roc score corresponding to  71  is  0.6297892720306513\n",
      "auc roc score corresponding to  72  is  0.7478519497686715\n",
      "auc roc score corresponding to  73  is  0.6987743557510999\n",
      "auc roc score corresponding to  74  is  0.7077267637178051\n",
      "auc roc score corresponding to  75  is  0.6419753086419753\n",
      "auc roc score corresponding to  76  is  0.7257326007326008\n",
      "auc roc score corresponding to  77  is  0.7319277108433735\n",
      "auc roc score corresponding to  78  is  0.7015862524785195\n",
      "auc roc score corresponding to  79  is  0.6768292682926829\n",
      "auc roc score corresponding to  80  is  0.7138447971781304\n",
      "auc roc score corresponding to  81  is  0.7257575757575758\n",
      "auc roc score corresponding to  82  is  0.7088235294117646\n",
      "auc roc score corresponding to  83  is  0.6511371973587674\n",
      "auc roc score corresponding to  84  is  0.6829268292682926\n",
      "auc roc score corresponding to  85  is  0.7138447971781304\n",
      "auc roc score corresponding to  86  is  0.6760683760683761\n",
      "auc roc score corresponding to  87  is  0.6968864468864469\n",
      "auc roc score corresponding to  88  is  0.6524390243902438\n",
      "auc roc score corresponding to  89  is  0.701007326007326\n",
      "auc roc score corresponding to  90  is  0.6524390243902438\n",
      "auc roc score corresponding to  91  is  0.674793956043956\n",
      "auc roc score corresponding to  92  is  0.6826651609260305\n",
      "auc roc score corresponding to  93  is  0.6646341463414634\n",
      "auc roc score corresponding to  94  is  0.7368686868686869\n",
      "auc roc score corresponding to  95  is  0.6970884658454646\n",
      "auc roc score corresponding to  96  is  0.7082853855005754\n",
      "auc roc score corresponding to  97  is  0.7050505050505051\n",
      "auc roc score corresponding to  98  is  0.7276869893148963\n",
      "auc roc score corresponding to  99  is  0.646341463414634\n",
      "max auc roc score corresponding to  63  is  0.7772727272727272\n",
      "Accuracy is= 0.7560975609756098\n",
      "F1 Score=  0.8421052631578947\n"
     ]
    },
    {
     "data": {
      "text/plain": [
       "63"
      ]
     },
     "execution_count": 74,
     "metadata": {},
     "output_type": "execute_result"
    }
   ],
   "source": [
    "from sklearn.naive_bayes import GaussianNB\n",
    "gnb_algo=GaussianNB()\n",
    "max_auc_roc_score(gnb_algo,x,y)"
   ]
  },
  {
   "cell_type": "markdown",
   "metadata": {},
   "source": [
    "### Bernouli Naive Bayes"
   ]
  },
  {
   "cell_type": "code",
   "execution_count": 75,
   "metadata": {},
   "outputs": [
    {
     "name": "stdout",
     "output_type": "stream",
     "text": [
      "auc roc score corresponding to  42  is  0.7030523255813954\n",
      "auc roc score corresponding to  43  is  0.7046439628482972\n",
      "auc roc score corresponding to  44  is  0.707760989010989\n",
      "auc roc score corresponding to  45  is  0.6888888888888889\n",
      "auc roc score corresponding to  46  is  0.7093522802379378\n",
      "auc roc score corresponding to  47  is  0.6968887492143305\n",
      "auc roc score corresponding to  48  is  0.6158076681332495\n",
      "auc roc score corresponding to  49  is  0.6943181818181818\n",
      "auc roc score corresponding to  50  is  0.7084302325581395\n",
      "auc roc score corresponding to  51  is  0.7222222222222222\n",
      "auc roc score corresponding to  52  is  0.7316849816849818\n",
      "auc roc score corresponding to  53  is  0.7044042913608131\n",
      "auc roc score corresponding to  54  is  0.7228896103896105\n",
      "auc roc score corresponding to  55  is  0.6456804065499717\n",
      "auc roc score corresponding to  56  is  0.689247311827957\n",
      "auc roc score corresponding to  57  is  0.7023809523809523\n",
      "auc roc score corresponding to  58  is  0.6991758241758241\n",
      "auc roc score corresponding to  59  is  0.6800324675324676\n",
      "auc roc score corresponding to  60  is  0.7191950464396285\n",
      "auc roc score corresponding to  61  is  0.6618279569892473\n",
      "auc roc score corresponding to  62  is  0.7261904761904762\n",
      "auc roc score corresponding to  63  is  0.7857142857142857\n",
      "auc roc score corresponding to  64  is  0.7051282051282051\n",
      "auc roc score corresponding to  65  is  0.6818181818181819\n",
      "auc roc score corresponding to  66  is  0.7086038961038962\n",
      "auc roc score corresponding to  67  is  0.7225806451612904\n",
      "auc roc score corresponding to  68  is  0.6686688311688311\n",
      "auc roc score corresponding to  69  is  0.7564759036144577\n",
      "auc roc score corresponding to  70  is  0.7134146341463414\n",
      "auc roc score corresponding to  71  is  0.6135057471264368\n",
      "auc roc score corresponding to  72  is  0.7296761401189689\n",
      "auc roc score corresponding to  73  is  0.7162162162162162\n",
      "auc roc score corresponding to  74  is  0.7208846584546473\n",
      "auc roc score corresponding to  75  is  0.6662257495590829\n",
      "auc roc score corresponding to  76  is  0.700091575091575\n",
      "auc roc score corresponding to  77  is  0.7254518072289157\n",
      "auc roc score corresponding to  78  is  0.6890284203569068\n",
      "auc roc score corresponding to  79  is  0.6890243902439024\n",
      "auc roc score corresponding to  80  is  0.7023809523809523\n",
      "auc roc score corresponding to  81  is  0.7106060606060607\n",
      "auc roc score corresponding to  82  is  0.7382352941176471\n",
      "auc roc score corresponding to  83  is  0.6498532648569333\n",
      "auc roc score corresponding to  84  is  0.6890243902439024\n",
      "auc roc score corresponding to  85  is  0.7138447971781304\n",
      "auc roc score corresponding to  86  is  0.6713675213675214\n",
      "auc roc score corresponding to  87  is  0.7248168498168499\n",
      "auc roc score corresponding to  88  is  0.6890243902439024\n",
      "auc roc score corresponding to  89  is  0.7248168498168499\n",
      "auc roc score corresponding to  90  is  0.6768292682926829\n",
      "auc roc score corresponding to  91  is  0.6756524725274725\n",
      "auc roc score corresponding to  92  is  0.6717955957086392\n",
      "auc roc score corresponding to  93  is  0.6829268292682926\n",
      "auc roc score corresponding to  94  is  0.7121212121212122\n",
      "auc roc score corresponding to  95  is  0.7102463605823068\n",
      "auc roc score corresponding to  96  is  0.6805235903337168\n",
      "auc roc score corresponding to  97  is  0.6914141414141415\n",
      "auc roc score corresponding to  98  is  0.7239157762413576\n",
      "auc roc score corresponding to  99  is  0.6402439024390243\n",
      "max auc roc score corresponding to  63  is  0.7857142857142857\n",
      "Accuracy is= 0.7479674796747967\n",
      "F1 Score=  0.8359788359788359\n"
     ]
    },
    {
     "data": {
      "text/plain": [
       "63"
      ]
     },
     "execution_count": 75,
     "metadata": {},
     "output_type": "execute_result"
    }
   ],
   "source": [
    "from sklearn.naive_bayes import BernoulliNB\n",
    "bn_algo=BernoulliNB()\n",
    "max_auc_roc_score(bn_algo,x,y)"
   ]
  },
  {
   "cell_type": "code",
   "execution_count": 77,
   "metadata": {},
   "outputs": [],
   "source": [
    "#Bernouli Naive Bayes is giving hig AUC Roc Score, Hence we finalize it"
   ]
  },
  {
   "cell_type": "code",
   "execution_count": 78,
   "metadata": {},
   "outputs": [
    {
     "name": "stdout",
     "output_type": "stream",
     "text": [
      "auc roc score =  0.7857142857142857\n",
      "Accuracy is= 0.8780487804878049\n",
      "F1 Score=  0.9214659685863874\n"
     ]
    }
   ],
   "source": [
    "bn=BernoulliNB()\n",
    "x_train, x_test, y_train, y_test = train_test_split(x, y,random_state =63,test_size=0.20)\n",
    "bn.fit(x_train,y_train)\n",
    "y_pred = bn.predict(x_test)\n",
    "print(\"auc roc score = \",roc_auc_score(y_test,y_pred))\n",
    "print(\"Accuracy is=\",accuracy_score(y_test,y_pred))\n",
    "print(\"F1 Score= \",f1_score(y_test,y_pred))"
   ]
  },
  {
   "cell_type": "code",
   "execution_count": 79,
   "metadata": {},
   "outputs": [],
   "source": [
    "import joblib"
   ]
  },
  {
   "cell_type": "code",
   "execution_count": 80,
   "metadata": {},
   "outputs": [
    {
     "data": {
      "text/plain": [
       "['Loan_prediction_BNB.pkl']"
      ]
     },
     "execution_count": 80,
     "metadata": {},
     "output_type": "execute_result"
    }
   ],
   "source": [
    "joblib.dump(bn,'Loan_prediction_BNB.pkl')"
   ]
  },
  {
   "cell_type": "code",
   "execution_count": null,
   "metadata": {},
   "outputs": [],
   "source": []
  }
 ],
 "metadata": {
  "kernelspec": {
   "display_name": "Python 3",
   "language": "python",
   "name": "python3"
  },
  "language_info": {
   "codemirror_mode": {
    "name": "ipython",
    "version": 3
   },
   "file_extension": ".py",
   "mimetype": "text/x-python",
   "name": "python",
   "nbconvert_exporter": "python",
   "pygments_lexer": "ipython3",
   "version": "3.8.3"
  }
 },
 "nbformat": 4,
 "nbformat_minor": 4
}
