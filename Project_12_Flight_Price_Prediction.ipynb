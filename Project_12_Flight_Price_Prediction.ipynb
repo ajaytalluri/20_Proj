{
 "cells": [
  {
   "cell_type": "code",
   "execution_count": 1,
   "metadata": {},
   "outputs": [],
   "source": [
    "import numpy as np\n",
    "import pandas as pd\n",
    "import matplotlib.pyplot as plt\n",
    "import seaborn as sns\n",
    "import warnings\n",
    "warnings.filterwarnings('ignore')"
   ]
  },
  {
   "cell_type": "code",
   "execution_count": 2,
   "metadata": {},
   "outputs": [],
   "source": [
    "df_train=pd.read_excel(\"C:\\\\Pandasdata\\\\DT_files\\\\flight_train.xlsx\",parse_dates=[\"Date_of_Journey\",\"Dep_Time\",\"Arrival_Time\"])"
   ]
  },
  {
   "cell_type": "code",
   "execution_count": 3,
   "metadata": {},
   "outputs": [],
   "source": [
    "df_test=pd.read_excel(\"C:\\\\Pandasdata\\\\DT_files\\\\flight_test.xlsx\",parse_dates=[\"Date_of_Journey\",\"Dep_Time\",\"Arrival_Time\"])"
   ]
  },
  {
   "cell_type": "code",
   "execution_count": 4,
   "metadata": {},
   "outputs": [
    {
     "data": {
      "text/html": [
       "<div>\n",
       "<style scoped>\n",
       "    .dataframe tbody tr th:only-of-type {\n",
       "        vertical-align: middle;\n",
       "    }\n",
       "\n",
       "    .dataframe tbody tr th {\n",
       "        vertical-align: top;\n",
       "    }\n",
       "\n",
       "    .dataframe thead th {\n",
       "        text-align: right;\n",
       "    }\n",
       "</style>\n",
       "<table border=\"1\" class=\"dataframe\">\n",
       "  <thead>\n",
       "    <tr style=\"text-align: right;\">\n",
       "      <th></th>\n",
       "      <th>Airline</th>\n",
       "      <th>Date_of_Journey</th>\n",
       "      <th>Source</th>\n",
       "      <th>Destination</th>\n",
       "      <th>Route</th>\n",
       "      <th>Dep_Time</th>\n",
       "      <th>Arrival_Time</th>\n",
       "      <th>Duration</th>\n",
       "      <th>Total_Stops</th>\n",
       "      <th>Additional_Info</th>\n",
       "      <th>Price</th>\n",
       "    </tr>\n",
       "  </thead>\n",
       "  <tbody>\n",
       "    <tr>\n",
       "      <th>0</th>\n",
       "      <td>IndiGo</td>\n",
       "      <td>2019-03-24</td>\n",
       "      <td>Banglore</td>\n",
       "      <td>New Delhi</td>\n",
       "      <td>BLR → DEL</td>\n",
       "      <td>2020-10-13 22:20:00</td>\n",
       "      <td>2020-03-22 01:10:00</td>\n",
       "      <td>2h 50m</td>\n",
       "      <td>non-stop</td>\n",
       "      <td>No info</td>\n",
       "      <td>3897</td>\n",
       "    </tr>\n",
       "    <tr>\n",
       "      <th>1</th>\n",
       "      <td>Air India</td>\n",
       "      <td>2019-01-05</td>\n",
       "      <td>Kolkata</td>\n",
       "      <td>Banglore</td>\n",
       "      <td>CCU → IXR → BBI → BLR</td>\n",
       "      <td>2020-10-13 05:50:00</td>\n",
       "      <td>2020-10-13 13:15:00</td>\n",
       "      <td>7h 25m</td>\n",
       "      <td>2 stops</td>\n",
       "      <td>No info</td>\n",
       "      <td>7662</td>\n",
       "    </tr>\n",
       "    <tr>\n",
       "      <th>2</th>\n",
       "      <td>Jet Airways</td>\n",
       "      <td>2019-09-06</td>\n",
       "      <td>Delhi</td>\n",
       "      <td>Cochin</td>\n",
       "      <td>DEL → LKO → BOM → COK</td>\n",
       "      <td>2020-10-13 09:25:00</td>\n",
       "      <td>2020-06-10 04:25:00</td>\n",
       "      <td>19h</td>\n",
       "      <td>2 stops</td>\n",
       "      <td>No info</td>\n",
       "      <td>13882</td>\n",
       "    </tr>\n",
       "    <tr>\n",
       "      <th>3</th>\n",
       "      <td>IndiGo</td>\n",
       "      <td>2019-12-05</td>\n",
       "      <td>Kolkata</td>\n",
       "      <td>Banglore</td>\n",
       "      <td>CCU → NAG → BLR</td>\n",
       "      <td>2020-10-13 18:05:00</td>\n",
       "      <td>2020-10-13 23:30:00</td>\n",
       "      <td>5h 25m</td>\n",
       "      <td>1 stop</td>\n",
       "      <td>No info</td>\n",
       "      <td>6218</td>\n",
       "    </tr>\n",
       "    <tr>\n",
       "      <th>4</th>\n",
       "      <td>IndiGo</td>\n",
       "      <td>2019-01-03</td>\n",
       "      <td>Banglore</td>\n",
       "      <td>New Delhi</td>\n",
       "      <td>BLR → NAG → DEL</td>\n",
       "      <td>2020-10-13 16:50:00</td>\n",
       "      <td>2020-10-13 21:35:00</td>\n",
       "      <td>4h 45m</td>\n",
       "      <td>1 stop</td>\n",
       "      <td>No info</td>\n",
       "      <td>13302</td>\n",
       "    </tr>\n",
       "  </tbody>\n",
       "</table>\n",
       "</div>"
      ],
      "text/plain": [
       "       Airline Date_of_Journey    Source Destination                  Route  \\\n",
       "0       IndiGo      2019-03-24  Banglore   New Delhi              BLR → DEL   \n",
       "1    Air India      2019-01-05   Kolkata    Banglore  CCU → IXR → BBI → BLR   \n",
       "2  Jet Airways      2019-09-06     Delhi      Cochin  DEL → LKO → BOM → COK   \n",
       "3       IndiGo      2019-12-05   Kolkata    Banglore        CCU → NAG → BLR   \n",
       "4       IndiGo      2019-01-03  Banglore   New Delhi        BLR → NAG → DEL   \n",
       "\n",
       "             Dep_Time        Arrival_Time Duration Total_Stops  \\\n",
       "0 2020-10-13 22:20:00 2020-03-22 01:10:00   2h 50m    non-stop   \n",
       "1 2020-10-13 05:50:00 2020-10-13 13:15:00   7h 25m     2 stops   \n",
       "2 2020-10-13 09:25:00 2020-06-10 04:25:00      19h     2 stops   \n",
       "3 2020-10-13 18:05:00 2020-10-13 23:30:00   5h 25m      1 stop   \n",
       "4 2020-10-13 16:50:00 2020-10-13 21:35:00   4h 45m      1 stop   \n",
       "\n",
       "  Additional_Info  Price  \n",
       "0         No info   3897  \n",
       "1         No info   7662  \n",
       "2         No info  13882  \n",
       "3         No info   6218  \n",
       "4         No info  13302  "
      ]
     },
     "execution_count": 4,
     "metadata": {},
     "output_type": "execute_result"
    }
   ],
   "source": [
    "df_train.head()"
   ]
  },
  {
   "cell_type": "code",
   "execution_count": 5,
   "metadata": {},
   "outputs": [
    {
     "data": {
      "text/html": [
       "<div>\n",
       "<style scoped>\n",
       "    .dataframe tbody tr th:only-of-type {\n",
       "        vertical-align: middle;\n",
       "    }\n",
       "\n",
       "    .dataframe tbody tr th {\n",
       "        vertical-align: top;\n",
       "    }\n",
       "\n",
       "    .dataframe thead th {\n",
       "        text-align: right;\n",
       "    }\n",
       "</style>\n",
       "<table border=\"1\" class=\"dataframe\">\n",
       "  <thead>\n",
       "    <tr style=\"text-align: right;\">\n",
       "      <th></th>\n",
       "      <th>Airline</th>\n",
       "      <th>Date_of_Journey</th>\n",
       "      <th>Source</th>\n",
       "      <th>Destination</th>\n",
       "      <th>Route</th>\n",
       "      <th>Dep_Time</th>\n",
       "      <th>Arrival_Time</th>\n",
       "      <th>Duration</th>\n",
       "      <th>Total_Stops</th>\n",
       "      <th>Additional_Info</th>\n",
       "    </tr>\n",
       "  </thead>\n",
       "  <tbody>\n",
       "    <tr>\n",
       "      <th>0</th>\n",
       "      <td>Jet Airways</td>\n",
       "      <td>2019-06-06</td>\n",
       "      <td>Delhi</td>\n",
       "      <td>Cochin</td>\n",
       "      <td>DEL → BOM → COK</td>\n",
       "      <td>2020-10-13 17:30:00</td>\n",
       "      <td>2020-06-07 04:25:00</td>\n",
       "      <td>10h 55m</td>\n",
       "      <td>1 stop</td>\n",
       "      <td>No info</td>\n",
       "    </tr>\n",
       "    <tr>\n",
       "      <th>1</th>\n",
       "      <td>IndiGo</td>\n",
       "      <td>2019-12-05</td>\n",
       "      <td>Kolkata</td>\n",
       "      <td>Banglore</td>\n",
       "      <td>CCU → MAA → BLR</td>\n",
       "      <td>2020-10-13 06:20:00</td>\n",
       "      <td>2020-10-13 10:20:00</td>\n",
       "      <td>4h</td>\n",
       "      <td>1 stop</td>\n",
       "      <td>No info</td>\n",
       "    </tr>\n",
       "    <tr>\n",
       "      <th>2</th>\n",
       "      <td>Jet Airways</td>\n",
       "      <td>2019-05-21</td>\n",
       "      <td>Delhi</td>\n",
       "      <td>Cochin</td>\n",
       "      <td>DEL → BOM → COK</td>\n",
       "      <td>2020-10-13 19:15:00</td>\n",
       "      <td>2020-05-22 19:00:00</td>\n",
       "      <td>23h 45m</td>\n",
       "      <td>1 stop</td>\n",
       "      <td>In-flight meal not included</td>\n",
       "    </tr>\n",
       "    <tr>\n",
       "      <th>3</th>\n",
       "      <td>Multiple carriers</td>\n",
       "      <td>2019-05-21</td>\n",
       "      <td>Delhi</td>\n",
       "      <td>Cochin</td>\n",
       "      <td>DEL → BOM → COK</td>\n",
       "      <td>2020-10-13 08:00:00</td>\n",
       "      <td>2020-10-13 21:00:00</td>\n",
       "      <td>13h</td>\n",
       "      <td>1 stop</td>\n",
       "      <td>No info</td>\n",
       "    </tr>\n",
       "    <tr>\n",
       "      <th>4</th>\n",
       "      <td>Air Asia</td>\n",
       "      <td>2019-06-24</td>\n",
       "      <td>Banglore</td>\n",
       "      <td>Delhi</td>\n",
       "      <td>BLR → DEL</td>\n",
       "      <td>2020-10-13 23:55:00</td>\n",
       "      <td>2020-06-25 02:45:00</td>\n",
       "      <td>2h 50m</td>\n",
       "      <td>non-stop</td>\n",
       "      <td>No info</td>\n",
       "    </tr>\n",
       "  </tbody>\n",
       "</table>\n",
       "</div>"
      ],
      "text/plain": [
       "             Airline Date_of_Journey    Source Destination            Route  \\\n",
       "0        Jet Airways      2019-06-06     Delhi      Cochin  DEL → BOM → COK   \n",
       "1             IndiGo      2019-12-05   Kolkata    Banglore  CCU → MAA → BLR   \n",
       "2        Jet Airways      2019-05-21     Delhi      Cochin  DEL → BOM → COK   \n",
       "3  Multiple carriers      2019-05-21     Delhi      Cochin  DEL → BOM → COK   \n",
       "4           Air Asia      2019-06-24  Banglore       Delhi        BLR → DEL   \n",
       "\n",
       "             Dep_Time        Arrival_Time Duration Total_Stops  \\\n",
       "0 2020-10-13 17:30:00 2020-06-07 04:25:00  10h 55m      1 stop   \n",
       "1 2020-10-13 06:20:00 2020-10-13 10:20:00       4h      1 stop   \n",
       "2 2020-10-13 19:15:00 2020-05-22 19:00:00  23h 45m      1 stop   \n",
       "3 2020-10-13 08:00:00 2020-10-13 21:00:00      13h      1 stop   \n",
       "4 2020-10-13 23:55:00 2020-06-25 02:45:00   2h 50m    non-stop   \n",
       "\n",
       "               Additional_Info  \n",
       "0                      No info  \n",
       "1                      No info  \n",
       "2  In-flight meal not included  \n",
       "3                      No info  \n",
       "4                      No info  "
      ]
     },
     "execution_count": 5,
     "metadata": {},
     "output_type": "execute_result"
    }
   ],
   "source": [
    "df_test.head()"
   ]
  },
  {
   "cell_type": "code",
   "execution_count": 6,
   "metadata": {},
   "outputs": [
    {
     "data": {
      "text/plain": [
       "Airline                    object\n",
       "Date_of_Journey    datetime64[ns]\n",
       "Source                     object\n",
       "Destination                object\n",
       "Route                      object\n",
       "Dep_Time           datetime64[ns]\n",
       "Arrival_Time       datetime64[ns]\n",
       "Duration                   object\n",
       "Total_Stops                object\n",
       "Additional_Info            object\n",
       "Price                       int64\n",
       "dtype: object"
      ]
     },
     "execution_count": 6,
     "metadata": {},
     "output_type": "execute_result"
    }
   ],
   "source": [
    "df_train.dtypes"
   ]
  },
  {
   "cell_type": "code",
   "execution_count": 7,
   "metadata": {},
   "outputs": [
    {
     "data": {
      "text/html": [
       "<div>\n",
       "<style scoped>\n",
       "    .dataframe tbody tr th:only-of-type {\n",
       "        vertical-align: middle;\n",
       "    }\n",
       "\n",
       "    .dataframe tbody tr th {\n",
       "        vertical-align: top;\n",
       "    }\n",
       "\n",
       "    .dataframe thead th {\n",
       "        text-align: right;\n",
       "    }\n",
       "</style>\n",
       "<table border=\"1\" class=\"dataframe\">\n",
       "  <thead>\n",
       "    <tr style=\"text-align: right;\">\n",
       "      <th></th>\n",
       "      <th>Airline</th>\n",
       "      <th>Date_of_Journey</th>\n",
       "      <th>Source</th>\n",
       "      <th>Destination</th>\n",
       "      <th>Route</th>\n",
       "      <th>Dep_Time</th>\n",
       "      <th>Arrival_Time</th>\n",
       "      <th>Duration</th>\n",
       "      <th>Total_Stops</th>\n",
       "      <th>Additional_Info</th>\n",
       "      <th>Price</th>\n",
       "    </tr>\n",
       "  </thead>\n",
       "  <tbody>\n",
       "    <tr>\n",
       "      <th>0</th>\n",
       "      <td>IndiGo</td>\n",
       "      <td>2019-03-24</td>\n",
       "      <td>Banglore</td>\n",
       "      <td>New Delhi</td>\n",
       "      <td>BLR → DEL</td>\n",
       "      <td>2020-10-13 22:20:00</td>\n",
       "      <td>2020-03-22 01:10:00</td>\n",
       "      <td>2h 50m</td>\n",
       "      <td>non-stop</td>\n",
       "      <td>No info</td>\n",
       "      <td>3897.0</td>\n",
       "    </tr>\n",
       "    <tr>\n",
       "      <th>1</th>\n",
       "      <td>Air India</td>\n",
       "      <td>2019-01-05</td>\n",
       "      <td>Kolkata</td>\n",
       "      <td>Banglore</td>\n",
       "      <td>CCU → IXR → BBI → BLR</td>\n",
       "      <td>2020-10-13 05:50:00</td>\n",
       "      <td>2020-10-13 13:15:00</td>\n",
       "      <td>7h 25m</td>\n",
       "      <td>2 stops</td>\n",
       "      <td>No info</td>\n",
       "      <td>7662.0</td>\n",
       "    </tr>\n",
       "    <tr>\n",
       "      <th>2</th>\n",
       "      <td>Jet Airways</td>\n",
       "      <td>2019-09-06</td>\n",
       "      <td>Delhi</td>\n",
       "      <td>Cochin</td>\n",
       "      <td>DEL → LKO → BOM → COK</td>\n",
       "      <td>2020-10-13 09:25:00</td>\n",
       "      <td>2020-06-10 04:25:00</td>\n",
       "      <td>19h</td>\n",
       "      <td>2 stops</td>\n",
       "      <td>No info</td>\n",
       "      <td>13882.0</td>\n",
       "    </tr>\n",
       "    <tr>\n",
       "      <th>3</th>\n",
       "      <td>IndiGo</td>\n",
       "      <td>2019-12-05</td>\n",
       "      <td>Kolkata</td>\n",
       "      <td>Banglore</td>\n",
       "      <td>CCU → NAG → BLR</td>\n",
       "      <td>2020-10-13 18:05:00</td>\n",
       "      <td>2020-10-13 23:30:00</td>\n",
       "      <td>5h 25m</td>\n",
       "      <td>1 stop</td>\n",
       "      <td>No info</td>\n",
       "      <td>6218.0</td>\n",
       "    </tr>\n",
       "    <tr>\n",
       "      <th>4</th>\n",
       "      <td>IndiGo</td>\n",
       "      <td>2019-01-03</td>\n",
       "      <td>Banglore</td>\n",
       "      <td>New Delhi</td>\n",
       "      <td>BLR → NAG → DEL</td>\n",
       "      <td>2020-10-13 16:50:00</td>\n",
       "      <td>2020-10-13 21:35:00</td>\n",
       "      <td>4h 45m</td>\n",
       "      <td>1 stop</td>\n",
       "      <td>No info</td>\n",
       "      <td>13302.0</td>\n",
       "    </tr>\n",
       "  </tbody>\n",
       "</table>\n",
       "</div>"
      ],
      "text/plain": [
       "       Airline Date_of_Journey    Source Destination                  Route  \\\n",
       "0       IndiGo      2019-03-24  Banglore   New Delhi              BLR → DEL   \n",
       "1    Air India      2019-01-05   Kolkata    Banglore  CCU → IXR → BBI → BLR   \n",
       "2  Jet Airways      2019-09-06     Delhi      Cochin  DEL → LKO → BOM → COK   \n",
       "3       IndiGo      2019-12-05   Kolkata    Banglore        CCU → NAG → BLR   \n",
       "4       IndiGo      2019-01-03  Banglore   New Delhi        BLR → NAG → DEL   \n",
       "\n",
       "             Dep_Time        Arrival_Time Duration Total_Stops  \\\n",
       "0 2020-10-13 22:20:00 2020-03-22 01:10:00   2h 50m    non-stop   \n",
       "1 2020-10-13 05:50:00 2020-10-13 13:15:00   7h 25m     2 stops   \n",
       "2 2020-10-13 09:25:00 2020-06-10 04:25:00      19h     2 stops   \n",
       "3 2020-10-13 18:05:00 2020-10-13 23:30:00   5h 25m      1 stop   \n",
       "4 2020-10-13 16:50:00 2020-10-13 21:35:00   4h 45m      1 stop   \n",
       "\n",
       "  Additional_Info    Price  \n",
       "0         No info   3897.0  \n",
       "1         No info   7662.0  \n",
       "2         No info  13882.0  \n",
       "3         No info   6218.0  \n",
       "4         No info  13302.0  "
      ]
     },
     "execution_count": 7,
     "metadata": {},
     "output_type": "execute_result"
    }
   ],
   "source": [
    "df=pd.concat([df_train,df_test],ignore_index=True)\n",
    "df.head()"
   ]
  },
  {
   "cell_type": "code",
   "execution_count": 8,
   "metadata": {},
   "outputs": [
    {
     "data": {
      "text/plain": [
       "(13354, 11)"
      ]
     },
     "execution_count": 8,
     "metadata": {},
     "output_type": "execute_result"
    }
   ],
   "source": [
    "df.shape"
   ]
  },
  {
   "cell_type": "code",
   "execution_count": 9,
   "metadata": {},
   "outputs": [
    {
     "data": {
      "text/plain": [
       "(10683, 11)"
      ]
     },
     "execution_count": 9,
     "metadata": {},
     "output_type": "execute_result"
    }
   ],
   "source": [
    "df_train.shape"
   ]
  },
  {
   "cell_type": "code",
   "execution_count": 10,
   "metadata": {},
   "outputs": [
    {
     "data": {
      "text/plain": [
       "(2671, 10)"
      ]
     },
     "execution_count": 10,
     "metadata": {},
     "output_type": "execute_result"
    }
   ],
   "source": [
    "df_test.shape"
   ]
  },
  {
   "cell_type": "code",
   "execution_count": 11,
   "metadata": {},
   "outputs": [],
   "source": [
    "# Weekday might also effect price. Say sunday has huge demand as it is weekoff and people usually travel on weekoffs.\n",
    "df['Weekday'] = df['Date_of_Journey'].dt.day_name()"
   ]
  },
  {
   "cell_type": "code",
   "execution_count": 12,
   "metadata": {},
   "outputs": [
    {
     "data": {
      "text/html": [
       "<div>\n",
       "<style scoped>\n",
       "    .dataframe tbody tr th:only-of-type {\n",
       "        vertical-align: middle;\n",
       "    }\n",
       "\n",
       "    .dataframe tbody tr th {\n",
       "        vertical-align: top;\n",
       "    }\n",
       "\n",
       "    .dataframe thead th {\n",
       "        text-align: right;\n",
       "    }\n",
       "</style>\n",
       "<table border=\"1\" class=\"dataframe\">\n",
       "  <thead>\n",
       "    <tr style=\"text-align: right;\">\n",
       "      <th></th>\n",
       "      <th>Airline</th>\n",
       "      <th>Date_of_Journey</th>\n",
       "      <th>Source</th>\n",
       "      <th>Destination</th>\n",
       "      <th>Route</th>\n",
       "      <th>Dep_Time</th>\n",
       "      <th>Arrival_Time</th>\n",
       "      <th>Duration</th>\n",
       "      <th>Total_Stops</th>\n",
       "      <th>Additional_Info</th>\n",
       "      <th>Price</th>\n",
       "      <th>Weekday</th>\n",
       "    </tr>\n",
       "  </thead>\n",
       "  <tbody>\n",
       "    <tr>\n",
       "      <th>0</th>\n",
       "      <td>IndiGo</td>\n",
       "      <td>2019-03-24</td>\n",
       "      <td>Banglore</td>\n",
       "      <td>New Delhi</td>\n",
       "      <td>BLR → DEL</td>\n",
       "      <td>2020-10-13 22:20:00</td>\n",
       "      <td>2020-03-22 01:10:00</td>\n",
       "      <td>2h 50m</td>\n",
       "      <td>non-stop</td>\n",
       "      <td>No info</td>\n",
       "      <td>3897.0</td>\n",
       "      <td>Sunday</td>\n",
       "    </tr>\n",
       "    <tr>\n",
       "      <th>1</th>\n",
       "      <td>Air India</td>\n",
       "      <td>2019-01-05</td>\n",
       "      <td>Kolkata</td>\n",
       "      <td>Banglore</td>\n",
       "      <td>CCU → IXR → BBI → BLR</td>\n",
       "      <td>2020-10-13 05:50:00</td>\n",
       "      <td>2020-10-13 13:15:00</td>\n",
       "      <td>7h 25m</td>\n",
       "      <td>2 stops</td>\n",
       "      <td>No info</td>\n",
       "      <td>7662.0</td>\n",
       "      <td>Saturday</td>\n",
       "    </tr>\n",
       "    <tr>\n",
       "      <th>2</th>\n",
       "      <td>Jet Airways</td>\n",
       "      <td>2019-09-06</td>\n",
       "      <td>Delhi</td>\n",
       "      <td>Cochin</td>\n",
       "      <td>DEL → LKO → BOM → COK</td>\n",
       "      <td>2020-10-13 09:25:00</td>\n",
       "      <td>2020-06-10 04:25:00</td>\n",
       "      <td>19h</td>\n",
       "      <td>2 stops</td>\n",
       "      <td>No info</td>\n",
       "      <td>13882.0</td>\n",
       "      <td>Friday</td>\n",
       "    </tr>\n",
       "    <tr>\n",
       "      <th>3</th>\n",
       "      <td>IndiGo</td>\n",
       "      <td>2019-12-05</td>\n",
       "      <td>Kolkata</td>\n",
       "      <td>Banglore</td>\n",
       "      <td>CCU → NAG → BLR</td>\n",
       "      <td>2020-10-13 18:05:00</td>\n",
       "      <td>2020-10-13 23:30:00</td>\n",
       "      <td>5h 25m</td>\n",
       "      <td>1 stop</td>\n",
       "      <td>No info</td>\n",
       "      <td>6218.0</td>\n",
       "      <td>Thursday</td>\n",
       "    </tr>\n",
       "    <tr>\n",
       "      <th>4</th>\n",
       "      <td>IndiGo</td>\n",
       "      <td>2019-01-03</td>\n",
       "      <td>Banglore</td>\n",
       "      <td>New Delhi</td>\n",
       "      <td>BLR → NAG → DEL</td>\n",
       "      <td>2020-10-13 16:50:00</td>\n",
       "      <td>2020-10-13 21:35:00</td>\n",
       "      <td>4h 45m</td>\n",
       "      <td>1 stop</td>\n",
       "      <td>No info</td>\n",
       "      <td>13302.0</td>\n",
       "      <td>Thursday</td>\n",
       "    </tr>\n",
       "  </tbody>\n",
       "</table>\n",
       "</div>"
      ],
      "text/plain": [
       "       Airline Date_of_Journey    Source Destination                  Route  \\\n",
       "0       IndiGo      2019-03-24  Banglore   New Delhi              BLR → DEL   \n",
       "1    Air India      2019-01-05   Kolkata    Banglore  CCU → IXR → BBI → BLR   \n",
       "2  Jet Airways      2019-09-06     Delhi      Cochin  DEL → LKO → BOM → COK   \n",
       "3       IndiGo      2019-12-05   Kolkata    Banglore        CCU → NAG → BLR   \n",
       "4       IndiGo      2019-01-03  Banglore   New Delhi        BLR → NAG → DEL   \n",
       "\n",
       "             Dep_Time        Arrival_Time Duration Total_Stops  \\\n",
       "0 2020-10-13 22:20:00 2020-03-22 01:10:00   2h 50m    non-stop   \n",
       "1 2020-10-13 05:50:00 2020-10-13 13:15:00   7h 25m     2 stops   \n",
       "2 2020-10-13 09:25:00 2020-06-10 04:25:00      19h     2 stops   \n",
       "3 2020-10-13 18:05:00 2020-10-13 23:30:00   5h 25m      1 stop   \n",
       "4 2020-10-13 16:50:00 2020-10-13 21:35:00   4h 45m      1 stop   \n",
       "\n",
       "  Additional_Info    Price   Weekday  \n",
       "0         No info   3897.0    Sunday  \n",
       "1         No info   7662.0  Saturday  \n",
       "2         No info  13882.0    Friday  \n",
       "3         No info   6218.0  Thursday  \n",
       "4         No info  13302.0  Thursday  "
      ]
     },
     "execution_count": 12,
     "metadata": {},
     "output_type": "execute_result"
    }
   ],
   "source": [
    "df.head()"
   ]
  },
  {
   "cell_type": "code",
   "execution_count": 13,
   "metadata": {},
   "outputs": [
    {
     "data": {
      "text/plain": [
       "Airline               0\n",
       "Date_of_Journey       0\n",
       "Source                0\n",
       "Destination           0\n",
       "Route                 1\n",
       "Dep_Time              0\n",
       "Arrival_Time          0\n",
       "Duration              0\n",
       "Total_Stops           1\n",
       "Additional_Info       0\n",
       "Price              2671\n",
       "Weekday               0\n",
       "dtype: int64"
      ]
     },
     "execution_count": 13,
     "metadata": {},
     "output_type": "execute_result"
    }
   ],
   "source": [
    "# Let us check missing values \n",
    "df.isnull().sum()"
   ]
  },
  {
   "cell_type": "code",
   "execution_count": 23,
   "metadata": {},
   "outputs": [],
   "source": [
    "# Converting the duration time to float\n",
    "dur_time=(df['Arrival_Time']-df['Dep_Time'])\n",
    "dur_list=list()\n",
    "for i in range(len(dur_time)):\n",
    "    dur=dur_time.iloc[i].seconds/3600\n",
    "    dur_list.append(dur)\n",
    "df[\"Duration\"]=dur_list"
   ]
  },
  {
   "cell_type": "code",
   "execution_count": 24,
   "metadata": {},
   "outputs": [
    {
     "data": {
      "text/plain": [
       "Airline                    object\n",
       "Date_of_Journey    datetime64[ns]\n",
       "Source                     object\n",
       "Destination                object\n",
       "Route                      object\n",
       "Dep_Time           datetime64[ns]\n",
       "Arrival_Time       datetime64[ns]\n",
       "Duration                  float64\n",
       "Total_Stops                object\n",
       "Additional_Info            object\n",
       "Price                     float64\n",
       "Weekday                    object\n",
       "dtype: object"
      ]
     },
     "execution_count": 24,
     "metadata": {},
     "output_type": "execute_result"
    }
   ],
   "source": [
    "df.dtypes"
   ]
  },
  {
   "cell_type": "code",
   "execution_count": 25,
   "metadata": {},
   "outputs": [],
   "source": [
    "# Departure time and duration gives us the value of arrival. so we remove arrival time \n",
    "df.drop('Arrival_Time',axis=1,inplace=True)"
   ]
  },
  {
   "cell_type": "code",
   "execution_count": 26,
   "metadata": {},
   "outputs": [
    {
     "data": {
      "text/html": [
       "<div>\n",
       "<style scoped>\n",
       "    .dataframe tbody tr th:only-of-type {\n",
       "        vertical-align: middle;\n",
       "    }\n",
       "\n",
       "    .dataframe tbody tr th {\n",
       "        vertical-align: top;\n",
       "    }\n",
       "\n",
       "    .dataframe thead th {\n",
       "        text-align: right;\n",
       "    }\n",
       "</style>\n",
       "<table border=\"1\" class=\"dataframe\">\n",
       "  <thead>\n",
       "    <tr style=\"text-align: right;\">\n",
       "      <th></th>\n",
       "      <th>Airline</th>\n",
       "      <th>Date_of_Journey</th>\n",
       "      <th>Source</th>\n",
       "      <th>Destination</th>\n",
       "      <th>Route</th>\n",
       "      <th>Dep_Time</th>\n",
       "      <th>Duration</th>\n",
       "      <th>Total_Stops</th>\n",
       "      <th>Additional_Info</th>\n",
       "      <th>Price</th>\n",
       "      <th>Weekday</th>\n",
       "    </tr>\n",
       "  </thead>\n",
       "  <tbody>\n",
       "    <tr>\n",
       "      <th>0</th>\n",
       "      <td>IndiGo</td>\n",
       "      <td>2019-03-24</td>\n",
       "      <td>Banglore</td>\n",
       "      <td>New Delhi</td>\n",
       "      <td>BLR → DEL</td>\n",
       "      <td>2020-10-13 22:20:00</td>\n",
       "      <td>2.833333</td>\n",
       "      <td>non-stop</td>\n",
       "      <td>No info</td>\n",
       "      <td>3897.0</td>\n",
       "      <td>Sunday</td>\n",
       "    </tr>\n",
       "    <tr>\n",
       "      <th>1</th>\n",
       "      <td>Air India</td>\n",
       "      <td>2019-01-05</td>\n",
       "      <td>Kolkata</td>\n",
       "      <td>Banglore</td>\n",
       "      <td>CCU → IXR → BBI → BLR</td>\n",
       "      <td>2020-10-13 05:50:00</td>\n",
       "      <td>7.416667</td>\n",
       "      <td>2 stops</td>\n",
       "      <td>No info</td>\n",
       "      <td>7662.0</td>\n",
       "      <td>Saturday</td>\n",
       "    </tr>\n",
       "    <tr>\n",
       "      <th>2</th>\n",
       "      <td>Jet Airways</td>\n",
       "      <td>2019-09-06</td>\n",
       "      <td>Delhi</td>\n",
       "      <td>Cochin</td>\n",
       "      <td>DEL → LKO → BOM → COK</td>\n",
       "      <td>2020-10-13 09:25:00</td>\n",
       "      <td>19.000000</td>\n",
       "      <td>2 stops</td>\n",
       "      <td>No info</td>\n",
       "      <td>13882.0</td>\n",
       "      <td>Friday</td>\n",
       "    </tr>\n",
       "    <tr>\n",
       "      <th>3</th>\n",
       "      <td>IndiGo</td>\n",
       "      <td>2019-12-05</td>\n",
       "      <td>Kolkata</td>\n",
       "      <td>Banglore</td>\n",
       "      <td>CCU → NAG → BLR</td>\n",
       "      <td>2020-10-13 18:05:00</td>\n",
       "      <td>5.416667</td>\n",
       "      <td>1 stop</td>\n",
       "      <td>No info</td>\n",
       "      <td>6218.0</td>\n",
       "      <td>Thursday</td>\n",
       "    </tr>\n",
       "    <tr>\n",
       "      <th>4</th>\n",
       "      <td>IndiGo</td>\n",
       "      <td>2019-01-03</td>\n",
       "      <td>Banglore</td>\n",
       "      <td>New Delhi</td>\n",
       "      <td>BLR → NAG → DEL</td>\n",
       "      <td>2020-10-13 16:50:00</td>\n",
       "      <td>4.750000</td>\n",
       "      <td>1 stop</td>\n",
       "      <td>No info</td>\n",
       "      <td>13302.0</td>\n",
       "      <td>Thursday</td>\n",
       "    </tr>\n",
       "  </tbody>\n",
       "</table>\n",
       "</div>"
      ],
      "text/plain": [
       "       Airline Date_of_Journey    Source Destination                  Route  \\\n",
       "0       IndiGo      2019-03-24  Banglore   New Delhi              BLR → DEL   \n",
       "1    Air India      2019-01-05   Kolkata    Banglore  CCU → IXR → BBI → BLR   \n",
       "2  Jet Airways      2019-09-06     Delhi      Cochin  DEL → LKO → BOM → COK   \n",
       "3       IndiGo      2019-12-05   Kolkata    Banglore        CCU → NAG → BLR   \n",
       "4       IndiGo      2019-01-03  Banglore   New Delhi        BLR → NAG → DEL   \n",
       "\n",
       "             Dep_Time   Duration Total_Stops Additional_Info    Price  \\\n",
       "0 2020-10-13 22:20:00   2.833333    non-stop         No info   3897.0   \n",
       "1 2020-10-13 05:50:00   7.416667     2 stops         No info   7662.0   \n",
       "2 2020-10-13 09:25:00  19.000000     2 stops         No info  13882.0   \n",
       "3 2020-10-13 18:05:00   5.416667      1 stop         No info   6218.0   \n",
       "4 2020-10-13 16:50:00   4.750000      1 stop         No info  13302.0   \n",
       "\n",
       "    Weekday  \n",
       "0    Sunday  \n",
       "1  Saturday  \n",
       "2    Friday  \n",
       "3  Thursday  \n",
       "4  Thursday  "
      ]
     },
     "execution_count": 26,
     "metadata": {},
     "output_type": "execute_result"
    }
   ],
   "source": [
    "df.head()"
   ]
  },
  {
   "cell_type": "code",
   "execution_count": 27,
   "metadata": {},
   "outputs": [
    {
     "name": "stdout",
     "output_type": "stream",
     "text": [
      "Jet Airways                          4746\n",
      "IndiGo                               2564\n",
      "Air India                            2192\n",
      "Multiple carriers                    1543\n",
      "SpiceJet                             1026\n",
      "Vistara                               608\n",
      "Air Asia                              405\n",
      "GoAir                                 240\n",
      "Multiple carriers Premium economy      16\n",
      "Jet Airways Business                    8\n",
      "Vistara Premium economy                 5\n",
      "Trujet                                  1\n",
      "Name: Airline, dtype: int64\n",
      "\n",
      "Delhi       5682\n",
      "Kolkata     3581\n",
      "Banglore    2752\n",
      "Mumbai       883\n",
      "Chennai      456\n",
      "Name: Source, dtype: int64\n",
      "\n",
      "Cochin       5682\n",
      "Banglore     3581\n",
      "Delhi        1582\n",
      "New Delhi    1170\n",
      "Hyderabad     883\n",
      "Kolkata       456\n",
      "Name: Destination, dtype: int64\n",
      "\n",
      "DEL → BOM → COK                3000\n",
      "BLR → DEL                      1941\n",
      "CCU → BOM → BLR                1232\n",
      "CCU → BLR                       896\n",
      "BOM → HYD                       785\n",
      "                               ... \n",
      "BOM → UDR → DEL → HYD             1\n",
      "BLR → HBX → BOM → AMD → DEL       1\n",
      "BOM → DED → DEL → HYD             1\n",
      "BOM → IXC → DEL → HYD             1\n",
      "CCU → RPR → HYD → BLR             1\n",
      "Name: Route, Length: 132, dtype: int64\n",
      "\n",
      "1 stop      7056\n",
      "non-stop    4340\n",
      "2 stops     1899\n",
      "3 stops       56\n",
      "4 stops        2\n",
      "Name: Total_Stops, dtype: int64\n",
      "\n",
      "No info                         10493\n",
      "In-flight meal not included      2426\n",
      "No check-in baggage included      396\n",
      "1 Long layover                     20\n",
      "Change airports                     8\n",
      "Business class                      5\n",
      "No Info                             3\n",
      "2 Long layover                      1\n",
      "Red-eye flight                      1\n",
      "1 Short layover                     1\n",
      "Name: Additional_Info, dtype: int64\n",
      "\n",
      "Thursday     2855\n",
      "Friday       2262\n",
      "Wednesday    1991\n",
      "Monday       1858\n",
      "Tuesday      1536\n",
      "Saturday     1514\n",
      "Sunday       1338\n",
      "Name: Weekday, dtype: int64\n",
      "\n"
     ]
    }
   ],
   "source": [
    "for col in df.columns:\n",
    "    if df[col].dtype==\"object\":\n",
    "        print(df[col].value_counts())\n",
    "        print()"
   ]
  },
  {
   "cell_type": "code",
   "execution_count": 29,
   "metadata": {},
   "outputs": [],
   "source": [
    "# 1 long lay over and 2long layover. convert in to long layovers\n",
    "df[\"Additional_Info\"].replace(\"1 Long layover\",\"Long layover\",inplace=True)\n",
    "df[\"Additional_Info\"].replace(\"2 Long layover\",\"Long layover\",inplace=True)"
   ]
  },
  {
   "cell_type": "code",
   "execution_count": 30,
   "metadata": {},
   "outputs": [],
   "source": [
    "# No info and No Info to No Info\n",
    "df[\"Additional_Info\"].replace(\"No info\",\"No Info\",inplace=True)"
   ]
  },
  {
   "cell_type": "code",
   "execution_count": 31,
   "metadata": {},
   "outputs": [],
   "source": [
    "# Jet Airways Business to Jet airways\n",
    "# Multiple carriers Premium economy to Multiple Carriers\n",
    "#Vistara Premium economy to Vistara\n",
    "df[\"Airline\"].replace(\"Jet Airways Business\",\"Jet Airways\",inplace=True)\n",
    "df[\"Airline\"].replace(\"Multiple carriers Premium economy\",\"Multiple carriers\",inplace=True)\n",
    "df[\"Airline\"].replace(\"Vistara Premium economy\",\"Vistara\",inplace=True)"
   ]
  },
  {
   "cell_type": "code",
   "execution_count": 32,
   "metadata": {},
   "outputs": [],
   "source": [
    "# New Delhi to Delhi\n",
    "df[\"Destination\"].replace(\"New Delhi\",\"Delhi\",inplace=True)"
   ]
  },
  {
   "cell_type": "code",
   "execution_count": 34,
   "metadata": {},
   "outputs": [],
   "source": [
    "df[\"time_of_day\"]=np.where((df[\"Dep_Time\"].dt.hour>=0)&(df[\"Dep_Time\"].dt.hour<3),\"Late Night\",\n",
    "                                  np.where((df[\"Dep_Time\"].dt.hour>=3)&(df[\"Dep_Time\"].dt.hour<8),\"Early Morning\",\n",
    "                                           np.where((df[\"Dep_Time\"].dt.hour>=8)&(df[\"Dep_Time\"].dt.hour<12),\"Morning\",\n",
    "                                                    np.where((df[\"Dep_Time\"].dt.hour>=12)&(df[\"Dep_Time\"].dt.hour<17),\"Afternoon\",\n",
    "                                                             np.where((df[\"Dep_Time\"].dt.hour>=17)&(df[\"Dep_Time\"].dt.hour<=19),\"Evening\",\"Night\")))))"
   ]
  },
  {
   "cell_type": "code",
   "execution_count": 35,
   "metadata": {},
   "outputs": [
    {
     "data": {
      "text/html": [
       "<div>\n",
       "<style scoped>\n",
       "    .dataframe tbody tr th:only-of-type {\n",
       "        vertical-align: middle;\n",
       "    }\n",
       "\n",
       "    .dataframe tbody tr th {\n",
       "        vertical-align: top;\n",
       "    }\n",
       "\n",
       "    .dataframe thead th {\n",
       "        text-align: right;\n",
       "    }\n",
       "</style>\n",
       "<table border=\"1\" class=\"dataframe\">\n",
       "  <thead>\n",
       "    <tr style=\"text-align: right;\">\n",
       "      <th></th>\n",
       "      <th>Airline</th>\n",
       "      <th>Date_of_Journey</th>\n",
       "      <th>Source</th>\n",
       "      <th>Destination</th>\n",
       "      <th>Route</th>\n",
       "      <th>Dep_Time</th>\n",
       "      <th>Duration</th>\n",
       "      <th>Total_Stops</th>\n",
       "      <th>Additional_Info</th>\n",
       "      <th>Price</th>\n",
       "      <th>Weekday</th>\n",
       "      <th>time_of_day</th>\n",
       "    </tr>\n",
       "  </thead>\n",
       "  <tbody>\n",
       "    <tr>\n",
       "      <th>0</th>\n",
       "      <td>IndiGo</td>\n",
       "      <td>2019-03-24</td>\n",
       "      <td>Banglore</td>\n",
       "      <td>Delhi</td>\n",
       "      <td>BLR → DEL</td>\n",
       "      <td>2020-10-13 22:20:00</td>\n",
       "      <td>2.833333</td>\n",
       "      <td>non-stop</td>\n",
       "      <td>No Info</td>\n",
       "      <td>3897.0</td>\n",
       "      <td>Sunday</td>\n",
       "      <td>Night</td>\n",
       "    </tr>\n",
       "    <tr>\n",
       "      <th>1</th>\n",
       "      <td>Air India</td>\n",
       "      <td>2019-01-05</td>\n",
       "      <td>Kolkata</td>\n",
       "      <td>Banglore</td>\n",
       "      <td>CCU → IXR → BBI → BLR</td>\n",
       "      <td>2020-10-13 05:50:00</td>\n",
       "      <td>7.416667</td>\n",
       "      <td>2 stops</td>\n",
       "      <td>No Info</td>\n",
       "      <td>7662.0</td>\n",
       "      <td>Saturday</td>\n",
       "      <td>Early Morning</td>\n",
       "    </tr>\n",
       "    <tr>\n",
       "      <th>2</th>\n",
       "      <td>Jet Airways</td>\n",
       "      <td>2019-09-06</td>\n",
       "      <td>Delhi</td>\n",
       "      <td>Cochin</td>\n",
       "      <td>DEL → LKO → BOM → COK</td>\n",
       "      <td>2020-10-13 09:25:00</td>\n",
       "      <td>19.000000</td>\n",
       "      <td>2 stops</td>\n",
       "      <td>No Info</td>\n",
       "      <td>13882.0</td>\n",
       "      <td>Friday</td>\n",
       "      <td>Morning</td>\n",
       "    </tr>\n",
       "    <tr>\n",
       "      <th>3</th>\n",
       "      <td>IndiGo</td>\n",
       "      <td>2019-12-05</td>\n",
       "      <td>Kolkata</td>\n",
       "      <td>Banglore</td>\n",
       "      <td>CCU → NAG → BLR</td>\n",
       "      <td>2020-10-13 18:05:00</td>\n",
       "      <td>5.416667</td>\n",
       "      <td>1 stop</td>\n",
       "      <td>No Info</td>\n",
       "      <td>6218.0</td>\n",
       "      <td>Thursday</td>\n",
       "      <td>Evening</td>\n",
       "    </tr>\n",
       "    <tr>\n",
       "      <th>4</th>\n",
       "      <td>IndiGo</td>\n",
       "      <td>2019-01-03</td>\n",
       "      <td>Banglore</td>\n",
       "      <td>Delhi</td>\n",
       "      <td>BLR → NAG → DEL</td>\n",
       "      <td>2020-10-13 16:50:00</td>\n",
       "      <td>4.750000</td>\n",
       "      <td>1 stop</td>\n",
       "      <td>No Info</td>\n",
       "      <td>13302.0</td>\n",
       "      <td>Thursday</td>\n",
       "      <td>Afternoon</td>\n",
       "    </tr>\n",
       "  </tbody>\n",
       "</table>\n",
       "</div>"
      ],
      "text/plain": [
       "       Airline Date_of_Journey    Source Destination                  Route  \\\n",
       "0       IndiGo      2019-03-24  Banglore       Delhi              BLR → DEL   \n",
       "1    Air India      2019-01-05   Kolkata    Banglore  CCU → IXR → BBI → BLR   \n",
       "2  Jet Airways      2019-09-06     Delhi      Cochin  DEL → LKO → BOM → COK   \n",
       "3       IndiGo      2019-12-05   Kolkata    Banglore        CCU → NAG → BLR   \n",
       "4       IndiGo      2019-01-03  Banglore       Delhi        BLR → NAG → DEL   \n",
       "\n",
       "             Dep_Time   Duration Total_Stops Additional_Info    Price  \\\n",
       "0 2020-10-13 22:20:00   2.833333    non-stop         No Info   3897.0   \n",
       "1 2020-10-13 05:50:00   7.416667     2 stops         No Info   7662.0   \n",
       "2 2020-10-13 09:25:00  19.000000     2 stops         No Info  13882.0   \n",
       "3 2020-10-13 18:05:00   5.416667      1 stop         No Info   6218.0   \n",
       "4 2020-10-13 16:50:00   4.750000      1 stop         No Info  13302.0   \n",
       "\n",
       "    Weekday    time_of_day  \n",
       "0    Sunday          Night  \n",
       "1  Saturday  Early Morning  \n",
       "2    Friday        Morning  \n",
       "3  Thursday        Evening  \n",
       "4  Thursday      Afternoon  "
      ]
     },
     "execution_count": 35,
     "metadata": {},
     "output_type": "execute_result"
    }
   ],
   "source": [
    "df.head()"
   ]
  },
  {
   "cell_type": "code",
   "execution_count": 36,
   "metadata": {},
   "outputs": [],
   "source": [
    "# total stops, detination and source is enough, we can remove 'route'. Weekday, Time of Day is enough, we can remove Date of Journey\n",
    "df.drop(columns=[\"Date_of_Journey\",\"Route\"],inplace=True)"
   ]
  },
  {
   "cell_type": "code",
   "execution_count": 37,
   "metadata": {
    "scrolled": true
   },
   "outputs": [
    {
     "data": {
      "text/html": [
       "<div>\n",
       "<style scoped>\n",
       "    .dataframe tbody tr th:only-of-type {\n",
       "        vertical-align: middle;\n",
       "    }\n",
       "\n",
       "    .dataframe tbody tr th {\n",
       "        vertical-align: top;\n",
       "    }\n",
       "\n",
       "    .dataframe thead th {\n",
       "        text-align: right;\n",
       "    }\n",
       "</style>\n",
       "<table border=\"1\" class=\"dataframe\">\n",
       "  <thead>\n",
       "    <tr style=\"text-align: right;\">\n",
       "      <th></th>\n",
       "      <th>Airline</th>\n",
       "      <th>Source</th>\n",
       "      <th>Destination</th>\n",
       "      <th>Dep_Time</th>\n",
       "      <th>Duration</th>\n",
       "      <th>Total_Stops</th>\n",
       "      <th>Additional_Info</th>\n",
       "      <th>Price</th>\n",
       "      <th>Weekday</th>\n",
       "      <th>time_of_day</th>\n",
       "    </tr>\n",
       "  </thead>\n",
       "  <tbody>\n",
       "    <tr>\n",
       "      <th>0</th>\n",
       "      <td>IndiGo</td>\n",
       "      <td>Banglore</td>\n",
       "      <td>Delhi</td>\n",
       "      <td>2020-10-13 22:20:00</td>\n",
       "      <td>2.833333</td>\n",
       "      <td>non-stop</td>\n",
       "      <td>No Info</td>\n",
       "      <td>3897.0</td>\n",
       "      <td>Sunday</td>\n",
       "      <td>Night</td>\n",
       "    </tr>\n",
       "    <tr>\n",
       "      <th>1</th>\n",
       "      <td>Air India</td>\n",
       "      <td>Kolkata</td>\n",
       "      <td>Banglore</td>\n",
       "      <td>2020-10-13 05:50:00</td>\n",
       "      <td>7.416667</td>\n",
       "      <td>2 stops</td>\n",
       "      <td>No Info</td>\n",
       "      <td>7662.0</td>\n",
       "      <td>Saturday</td>\n",
       "      <td>Early Morning</td>\n",
       "    </tr>\n",
       "    <tr>\n",
       "      <th>2</th>\n",
       "      <td>Jet Airways</td>\n",
       "      <td>Delhi</td>\n",
       "      <td>Cochin</td>\n",
       "      <td>2020-10-13 09:25:00</td>\n",
       "      <td>19.000000</td>\n",
       "      <td>2 stops</td>\n",
       "      <td>No Info</td>\n",
       "      <td>13882.0</td>\n",
       "      <td>Friday</td>\n",
       "      <td>Morning</td>\n",
       "    </tr>\n",
       "    <tr>\n",
       "      <th>3</th>\n",
       "      <td>IndiGo</td>\n",
       "      <td>Kolkata</td>\n",
       "      <td>Banglore</td>\n",
       "      <td>2020-10-13 18:05:00</td>\n",
       "      <td>5.416667</td>\n",
       "      <td>1 stop</td>\n",
       "      <td>No Info</td>\n",
       "      <td>6218.0</td>\n",
       "      <td>Thursday</td>\n",
       "      <td>Evening</td>\n",
       "    </tr>\n",
       "    <tr>\n",
       "      <th>4</th>\n",
       "      <td>IndiGo</td>\n",
       "      <td>Banglore</td>\n",
       "      <td>Delhi</td>\n",
       "      <td>2020-10-13 16:50:00</td>\n",
       "      <td>4.750000</td>\n",
       "      <td>1 stop</td>\n",
       "      <td>No Info</td>\n",
       "      <td>13302.0</td>\n",
       "      <td>Thursday</td>\n",
       "      <td>Afternoon</td>\n",
       "    </tr>\n",
       "  </tbody>\n",
       "</table>\n",
       "</div>"
      ],
      "text/plain": [
       "       Airline    Source Destination            Dep_Time   Duration  \\\n",
       "0       IndiGo  Banglore       Delhi 2020-10-13 22:20:00   2.833333   \n",
       "1    Air India   Kolkata    Banglore 2020-10-13 05:50:00   7.416667   \n",
       "2  Jet Airways     Delhi      Cochin 2020-10-13 09:25:00  19.000000   \n",
       "3       IndiGo   Kolkata    Banglore 2020-10-13 18:05:00   5.416667   \n",
       "4       IndiGo  Banglore       Delhi 2020-10-13 16:50:00   4.750000   \n",
       "\n",
       "  Total_Stops Additional_Info    Price   Weekday    time_of_day  \n",
       "0    non-stop         No Info   3897.0    Sunday          Night  \n",
       "1     2 stops         No Info   7662.0  Saturday  Early Morning  \n",
       "2     2 stops         No Info  13882.0    Friday        Morning  \n",
       "3      1 stop         No Info   6218.0  Thursday        Evening  \n",
       "4      1 stop         No Info  13302.0  Thursday      Afternoon  "
      ]
     },
     "execution_count": 37,
     "metadata": {},
     "output_type": "execute_result"
    }
   ],
   "source": [
    "df.head()"
   ]
  },
  {
   "cell_type": "markdown",
   "metadata": {},
   "source": [
    "### Plots and Graphs for better Vizualization"
   ]
  },
  {
   "cell_type": "code",
   "execution_count": 38,
   "metadata": {},
   "outputs": [
    {
     "data": {
      "text/plain": [
       "<matplotlib.axes._subplots.AxesSubplot at 0x27aae321d30>"
      ]
     },
     "execution_count": 38,
     "metadata": {},
     "output_type": "execute_result"
    },
    {
     "data": {
      "image/png": "[encoded data removed]",
      "text/plain": [
       "<Figure size 432x288 with 1 Axes>"
      ]
     },
     "metadata": {
      "needs_background": "light"
     },
     "output_type": "display_data"
    }
   ],
   "source": [
    "sns.barplot(x='Weekday',y='Price',data=df)"
   ]
  },
  {
   "cell_type": "code",
   "execution_count": 39,
   "metadata": {},
   "outputs": [],
   "source": [
    "# Thursday, Monday, Sunday prices were on top."
   ]
  },
  {
   "cell_type": "code",
   "execution_count": 40,
   "metadata": {},
   "outputs": [
    {
     "data": {
      "text/plain": [
       "<matplotlib.axes._subplots.AxesSubplot at 0x27aac933be0>"
      ]
     },
     "execution_count": 40,
     "metadata": {},
     "output_type": "execute_result"
    },
    {
     "data": {
      "image/png": "[encoded data removed]",
      "text/plain": [
       "<Figure size 432x288 with 1 Axes>"
      ]
     },
     "metadata": {
      "needs_background": "light"
     },
     "output_type": "display_data"
    }
   ],
   "source": [
    "sns.barplot(x='time_of_day',y='Price',data=df)"
   ]
  },
  {
   "cell_type": "code",
   "execution_count": 41,
   "metadata": {},
   "outputs": [],
   "source": [
    "# Flights in mornings are high in price"
   ]
  },
  {
   "cell_type": "code",
   "execution_count": 44,
   "metadata": {},
   "outputs": [
    {
     "data": {
      "text/plain": [
       "<matplotlib.axes._subplots.AxesSubplot at 0x27aaf346f40>"
      ]
     },
     "execution_count": 44,
     "metadata": {},
     "output_type": "execute_result"
    },
    {
     "data": {
      "image/png": "[encoded data removed]",
      "text/plain": [
       "<Figure size 720x288 with 1 Axes>"
      ]
     },
     "metadata": {
      "needs_background": "light"
     },
     "output_type": "display_data"
    }
   ],
   "source": [
    "plt.figure(figsize=(10,4))\n",
    "sns.barplot(x='Airline',y='Price',data=df)"
   ]
  },
  {
   "cell_type": "code",
   "execution_count": 45,
   "metadata": {},
   "outputs": [],
   "source": [
    "# Jet airways is premium in price"
   ]
  },
  {
   "cell_type": "code",
   "execution_count": 46,
   "metadata": {},
   "outputs": [
    {
     "data": {
      "text/plain": [
       "<matplotlib.axes._subplots.AxesSubplot at 0x27aaf17da00>"
      ]
     },
     "execution_count": 46,
     "metadata": {},
     "output_type": "execute_result"
    },
    {
     "data": {
      "image/png": "[encoded data removed]",
      "text/plain": [
       "<Figure size 432x288 with 1 Axes>"
      ]
     },
     "metadata": {
      "needs_background": "light"
     },
     "output_type": "display_data"
    }
   ],
   "source": [
    "sns.barplot(x='Source',y='Price',data=df)"
   ]
  },
  {
   "cell_type": "code",
   "execution_count": 47,
   "metadata": {},
   "outputs": [],
   "source": [
    "# Flights from delhi are high in price"
   ]
  },
  {
   "cell_type": "code",
   "execution_count": 48,
   "metadata": {},
   "outputs": [
    {
     "data": {
      "text/plain": [
       "<matplotlib.axes._subplots.AxesSubplot at 0x27aaf230a60>"
      ]
     },
     "execution_count": 48,
     "metadata": {},
     "output_type": "execute_result"
    },
    {
     "data": {
      "image/png": "[encoded data removed]",
      "text/plain": [
       "<Figure size 432x288 with 1 Axes>"
      ]
     },
     "metadata": {
      "needs_background": "light"
     },
     "output_type": "display_data"
    }
   ],
   "source": [
    "sns.barplot(x='Total_Stops',y='Price',data=df)"
   ]
  },
  {
   "cell_type": "code",
   "execution_count": 49,
   "metadata": {},
   "outputs": [],
   "source": [
    "# More stops... More price"
   ]
  },
  {
   "cell_type": "code",
   "execution_count": 50,
   "metadata": {},
   "outputs": [
    {
     "data": {
      "text/plain": [
       "<matplotlib.axes._subplots.AxesSubplot at 0x27aaf21feb0>"
      ]
     },
     "execution_count": 50,
     "metadata": {},
     "output_type": "execute_result"
    },
    {
     "data": {
      "image/png": "[encoded data removed]",
      "text/plain": [
       "<Figure size 432x288 with 1 Axes>"
      ]
     },
     "metadata": {
      "needs_background": "light"
     },
     "output_type": "display_data"
    }
   ],
   "source": [
    "sns.barplot(x='Destination',y='Price',data=df)"
   ]
  },
  {
   "cell_type": "code",
   "execution_count": 53,
   "metadata": {},
   "outputs": [
    {
     "data": {
      "text/plain": [
       "<matplotlib.axes._subplots.AxesSubplot at 0x27aac864c40>"
      ]
     },
     "execution_count": 53,
     "metadata": {},
     "output_type": "execute_result"
    },
    {
     "data": {
      "image/png": "[encoded data removed]",
      "text/plain": [
       "<Figure size 1080x288 with 1 Axes>"
      ]
     },
     "metadata": {
      "needs_background": "light"
     },
     "output_type": "display_data"
    }
   ],
   "source": [
    "plt.figure(figsize=(15,4))\n",
    "sns.barplot(x='Additional_Info',y='Price',data=df)"
   ]
  },
  {
   "cell_type": "code",
   "execution_count": 54,
   "metadata": {},
   "outputs": [],
   "source": [
    "# Business class is high in price"
   ]
  },
  {
   "cell_type": "code",
   "execution_count": 56,
   "metadata": {},
   "outputs": [
    {
     "data": {
      "text/plain": [
       "<matplotlib.axes._subplots.AxesSubplot at 0x27aacb238e0>"
      ]
     },
     "execution_count": 56,
     "metadata": {},
     "output_type": "execute_result"
    },
    {
     "data": {
      "image/png": "[encoded data removed]",
      "text/plain": [
       "<Figure size 1080x432 with 1 Axes>"
      ]
     },
     "metadata": {
      "needs_background": "light"
     },
     "output_type": "display_data"
    }
   ],
   "source": [
    "plt.figure(figsize=(15,6))\n",
    "sns.countplot(x=\"Source\",hue=\"Airline\",data=df)"
   ]
  },
  {
   "cell_type": "code",
   "execution_count": 57,
   "metadata": {},
   "outputs": [],
   "source": [
    "# Jet airways operations are high in number"
   ]
  },
  {
   "cell_type": "code",
   "execution_count": 65,
   "metadata": {},
   "outputs": [
    {
     "name": "stdout",
     "output_type": "stream",
     "text": [
      "Indigo Mean Price: Price    5673.682903\n",
      "dtype: float64\n",
      "Jet Airways Mean Price: Price    11716.631128\n",
      "dtype: float64\n",
      "Air India Airways Mean Price: Price    9611.210616\n",
      "dtype: float64\n",
      "SpiceJet Mean Price: Price    4338.284841\n",
      "dtype: float64\n",
      "Multiple carriers Mean Price: Price    10908.228288\n",
      "dtype: float64\n",
      "Go Air Airways Mean Price: Price    5861.056701\n",
      "dtype: float64\n",
      "Vistara Airways Mean Price: Price    7803.605809\n",
      "dtype: float64\n",
      "Air Asia Airways Mean Price: Price    5590.260188\n",
      "dtype: float64\n",
      "Trujet Airways Mean Price: Price    4140.0\n",
      "dtype: float64\n"
     ]
    }
   ],
   "source": [
    "# finding mean prices for each airliner\n",
    "print(\"Indigo Mean Price:\",df.loc[df[\"Airline\"]==\"IndiGo\",[\"Price\"]].mean())\n",
    "print(\"Jet Airways Mean Price:\",df.loc[df[\"Airline\"]==\"Jet Airways\",[\"Price\"]].mean())\n",
    "print(\"Air India Airways Mean Price:\",df.loc[df[\"Airline\"]==\"Air India\",[\"Price\"]].mean())\n",
    "print(\"SpiceJet Mean Price:\",df.loc[df[\"Airline\"]==\"SpiceJet\",[\"Price\"]].mean())\n",
    "print(\"Multiple carriers Mean Price:\",df.loc[df[\"Airline\"]==\"Multiple carriers\",[\"Price\"]].mean())\n",
    "print(\"Go Air Airways Mean Price:\",df.loc[df[\"Airline\"]==\"GoAir\",[\"Price\"]].mean())\n",
    "print(\"Vistara Airways Mean Price:\",df.loc[df[\"Airline\"]==\"Vistara\",[\"Price\"]].mean())\n",
    "print(\"Air Asia Airways Mean Price:\",df.loc[df[\"Airline\"]==\"Air Asia\",[\"Price\"]].mean())\n",
    "print(\"Trujet Airways Mean Price:\",df.loc[df[\"Airline\"]==\"Trujet\",[\"Price\"]].mean())"
   ]
  },
  {
   "cell_type": "code",
   "execution_count": 66,
   "metadata": {},
   "outputs": [
    {
     "data": {
      "text/plain": [
       "<matplotlib.axes._subplots.AxesSubplot at 0x27aaedfa880>"
      ]
     },
     "execution_count": 66,
     "metadata": {},
     "output_type": "execute_result"
    },
    {
     "data": {
      "image/png": "[encoded data removed]",
      "text/plain": [
       "<Figure size 432x288 with 1 Axes>"
      ]
     },
     "metadata": {
      "needs_background": "light"
     },
     "output_type": "display_data"
    }
   ],
   "source": [
    "sns.scatterplot(x='Duration',y='Price',data=df)"
   ]
  },
  {
   "cell_type": "code",
   "execution_count": 67,
   "metadata": {},
   "outputs": [
    {
     "data": {
      "text/plain": [
       "<matplotlib.axes._subplots.AxesSubplot at 0x27aaeda69d0>"
      ]
     },
     "execution_count": 67,
     "metadata": {},
     "output_type": "execute_result"
    },
    {
     "data": {
      "image/png": "[encoded data removed]",
      "text/plain": [
       "<Figure size 432x288 with 1 Axes>"
      ]
     },
     "metadata": {
      "needs_background": "light"
     },
     "output_type": "display_data"
    }
   ],
   "source": [
    "sns.lineplot(x='Duration',y='Price',data=df)"
   ]
  },
  {
   "cell_type": "code",
   "execution_count": 68,
   "metadata": {},
   "outputs": [],
   "source": [
    "# Dropping departure time\n",
    "df.drop('Dep_Time',axis=1,inplace=True)"
   ]
  },
  {
   "cell_type": "code",
   "execution_count": 69,
   "metadata": {},
   "outputs": [
    {
     "data": {
      "text/html": [
       "<div>\n",
       "<style scoped>\n",
       "    .dataframe tbody tr th:only-of-type {\n",
       "        vertical-align: middle;\n",
       "    }\n",
       "\n",
       "    .dataframe tbody tr th {\n",
       "        vertical-align: top;\n",
       "    }\n",
       "\n",
       "    .dataframe thead th {\n",
       "        text-align: right;\n",
       "    }\n",
       "</style>\n",
       "<table border=\"1\" class=\"dataframe\">\n",
       "  <thead>\n",
       "    <tr style=\"text-align: right;\">\n",
       "      <th></th>\n",
       "      <th>Airline</th>\n",
       "      <th>Source</th>\n",
       "      <th>Destination</th>\n",
       "      <th>Duration</th>\n",
       "      <th>Total_Stops</th>\n",
       "      <th>Additional_Info</th>\n",
       "      <th>Price</th>\n",
       "      <th>Weekday</th>\n",
       "      <th>time_of_day</th>\n",
       "    </tr>\n",
       "  </thead>\n",
       "  <tbody>\n",
       "    <tr>\n",
       "      <th>0</th>\n",
       "      <td>IndiGo</td>\n",
       "      <td>Banglore</td>\n",
       "      <td>Delhi</td>\n",
       "      <td>2.833333</td>\n",
       "      <td>non-stop</td>\n",
       "      <td>No Info</td>\n",
       "      <td>3897.0</td>\n",
       "      <td>Sunday</td>\n",
       "      <td>Night</td>\n",
       "    </tr>\n",
       "    <tr>\n",
       "      <th>1</th>\n",
       "      <td>Air India</td>\n",
       "      <td>Kolkata</td>\n",
       "      <td>Banglore</td>\n",
       "      <td>7.416667</td>\n",
       "      <td>2 stops</td>\n",
       "      <td>No Info</td>\n",
       "      <td>7662.0</td>\n",
       "      <td>Saturday</td>\n",
       "      <td>Early Morning</td>\n",
       "    </tr>\n",
       "    <tr>\n",
       "      <th>2</th>\n",
       "      <td>Jet Airways</td>\n",
       "      <td>Delhi</td>\n",
       "      <td>Cochin</td>\n",
       "      <td>19.000000</td>\n",
       "      <td>2 stops</td>\n",
       "      <td>No Info</td>\n",
       "      <td>13882.0</td>\n",
       "      <td>Friday</td>\n",
       "      <td>Morning</td>\n",
       "    </tr>\n",
       "    <tr>\n",
       "      <th>3</th>\n",
       "      <td>IndiGo</td>\n",
       "      <td>Kolkata</td>\n",
       "      <td>Banglore</td>\n",
       "      <td>5.416667</td>\n",
       "      <td>1 stop</td>\n",
       "      <td>No Info</td>\n",
       "      <td>6218.0</td>\n",
       "      <td>Thursday</td>\n",
       "      <td>Evening</td>\n",
       "    </tr>\n",
       "    <tr>\n",
       "      <th>4</th>\n",
       "      <td>IndiGo</td>\n",
       "      <td>Banglore</td>\n",
       "      <td>Delhi</td>\n",
       "      <td>4.750000</td>\n",
       "      <td>1 stop</td>\n",
       "      <td>No Info</td>\n",
       "      <td>13302.0</td>\n",
       "      <td>Thursday</td>\n",
       "      <td>Afternoon</td>\n",
       "    </tr>\n",
       "    <tr>\n",
       "      <th>...</th>\n",
       "      <td>...</td>\n",
       "      <td>...</td>\n",
       "      <td>...</td>\n",
       "      <td>...</td>\n",
       "      <td>...</td>\n",
       "      <td>...</td>\n",
       "      <td>...</td>\n",
       "      <td>...</td>\n",
       "      <td>...</td>\n",
       "    </tr>\n",
       "    <tr>\n",
       "      <th>13349</th>\n",
       "      <td>Air India</td>\n",
       "      <td>Kolkata</td>\n",
       "      <td>Banglore</td>\n",
       "      <td>23.916667</td>\n",
       "      <td>1 stop</td>\n",
       "      <td>No Info</td>\n",
       "      <td>NaN</td>\n",
       "      <td>Thursday</td>\n",
       "      <td>Night</td>\n",
       "    </tr>\n",
       "    <tr>\n",
       "      <th>13350</th>\n",
       "      <td>IndiGo</td>\n",
       "      <td>Kolkata</td>\n",
       "      <td>Banglore</td>\n",
       "      <td>2.583333</td>\n",
       "      <td>non-stop</td>\n",
       "      <td>No Info</td>\n",
       "      <td>NaN</td>\n",
       "      <td>Wednesday</td>\n",
       "      <td>Afternoon</td>\n",
       "    </tr>\n",
       "    <tr>\n",
       "      <th>13351</th>\n",
       "      <td>Jet Airways</td>\n",
       "      <td>Delhi</td>\n",
       "      <td>Cochin</td>\n",
       "      <td>6.583333</td>\n",
       "      <td>1 stop</td>\n",
       "      <td>No Info</td>\n",
       "      <td>NaN</td>\n",
       "      <td>Monday</td>\n",
       "      <td>Night</td>\n",
       "    </tr>\n",
       "    <tr>\n",
       "      <th>13352</th>\n",
       "      <td>Air India</td>\n",
       "      <td>Delhi</td>\n",
       "      <td>Cochin</td>\n",
       "      <td>15.250000</td>\n",
       "      <td>1 stop</td>\n",
       "      <td>No Info</td>\n",
       "      <td>NaN</td>\n",
       "      <td>Monday</td>\n",
       "      <td>Early Morning</td>\n",
       "    </tr>\n",
       "    <tr>\n",
       "      <th>13353</th>\n",
       "      <td>Multiple carriers</td>\n",
       "      <td>Delhi</td>\n",
       "      <td>Cochin</td>\n",
       "      <td>14.333333</td>\n",
       "      <td>1 stop</td>\n",
       "      <td>No Info</td>\n",
       "      <td>NaN</td>\n",
       "      <td>Saturday</td>\n",
       "      <td>Early Morning</td>\n",
       "    </tr>\n",
       "  </tbody>\n",
       "</table>\n",
       "<p>13354 rows × 9 columns</p>\n",
       "</div>"
      ],
      "text/plain": [
       "                 Airline    Source Destination   Duration Total_Stops  \\\n",
       "0                 IndiGo  Banglore       Delhi   2.833333    non-stop   \n",
       "1              Air India   Kolkata    Banglore   7.416667     2 stops   \n",
       "2            Jet Airways     Delhi      Cochin  19.000000     2 stops   \n",
       "3                 IndiGo   Kolkata    Banglore   5.416667      1 stop   \n",
       "4                 IndiGo  Banglore       Delhi   4.750000      1 stop   \n",
       "...                  ...       ...         ...        ...         ...   \n",
       "13349          Air India   Kolkata    Banglore  23.916667      1 stop   \n",
       "13350             IndiGo   Kolkata    Banglore   2.583333    non-stop   \n",
       "13351        Jet Airways     Delhi      Cochin   6.583333      1 stop   \n",
       "13352          Air India     Delhi      Cochin  15.250000      1 stop   \n",
       "13353  Multiple carriers     Delhi      Cochin  14.333333      1 stop   \n",
       "\n",
       "      Additional_Info    Price    Weekday    time_of_day  \n",
       "0             No Info   3897.0     Sunday          Night  \n",
       "1             No Info   7662.0   Saturday  Early Morning  \n",
       "2             No Info  13882.0     Friday        Morning  \n",
       "3             No Info   6218.0   Thursday        Evening  \n",
       "4             No Info  13302.0   Thursday      Afternoon  \n",
       "...               ...      ...        ...            ...  \n",
       "13349         No Info      NaN   Thursday          Night  \n",
       "13350         No Info      NaN  Wednesday      Afternoon  \n",
       "13351         No Info      NaN     Monday          Night  \n",
       "13352         No Info      NaN     Monday  Early Morning  \n",
       "13353         No Info      NaN   Saturday  Early Morning  \n",
       "\n",
       "[13354 rows x 9 columns]"
      ]
     },
     "execution_count": 69,
     "metadata": {},
     "output_type": "execute_result"
    }
   ],
   "source": [
    "df"
   ]
  },
  {
   "cell_type": "code",
   "execution_count": 70,
   "metadata": {},
   "outputs": [],
   "source": [
    "# Creating dummies to convert categorical data in to numerical\n",
    "df_final=pd.get_dummies(df,columns=[\"Airline\",\"Source\",\"Destination\",\"Total_Stops\",\"Additional_Info\",\"Weekday\",\"time_of_day\"],drop_first=True)"
   ]
  },
  {
   "cell_type": "code",
   "execution_count": 71,
   "metadata": {},
   "outputs": [
    {
     "data": {
      "text/html": [
       "<div>\n",
       "<style scoped>\n",
       "    .dataframe tbody tr th:only-of-type {\n",
       "        vertical-align: middle;\n",
       "    }\n",
       "\n",
       "    .dataframe tbody tr th {\n",
       "        vertical-align: top;\n",
       "    }\n",
       "\n",
       "    .dataframe thead th {\n",
       "        text-align: right;\n",
       "    }\n",
       "</style>\n",
       "<table border=\"1\" class=\"dataframe\">\n",
       "  <thead>\n",
       "    <tr style=\"text-align: right;\">\n",
       "      <th></th>\n",
       "      <th>Duration</th>\n",
       "      <th>Price</th>\n",
       "      <th>Airline_Air India</th>\n",
       "      <th>Airline_GoAir</th>\n",
       "      <th>Airline_IndiGo</th>\n",
       "      <th>Airline_Jet Airways</th>\n",
       "      <th>Airline_Multiple carriers</th>\n",
       "      <th>Airline_SpiceJet</th>\n",
       "      <th>Airline_Trujet</th>\n",
       "      <th>Airline_Vistara</th>\n",
       "      <th>...</th>\n",
       "      <th>Weekday_Saturday</th>\n",
       "      <th>Weekday_Sunday</th>\n",
       "      <th>Weekday_Thursday</th>\n",
       "      <th>Weekday_Tuesday</th>\n",
       "      <th>Weekday_Wednesday</th>\n",
       "      <th>time_of_day_Early Morning</th>\n",
       "      <th>time_of_day_Evening</th>\n",
       "      <th>time_of_day_Late Night</th>\n",
       "      <th>time_of_day_Morning</th>\n",
       "      <th>time_of_day_Night</th>\n",
       "    </tr>\n",
       "  </thead>\n",
       "  <tbody>\n",
       "    <tr>\n",
       "      <th>0</th>\n",
       "      <td>2.833333</td>\n",
       "      <td>3897.0</td>\n",
       "      <td>0</td>\n",
       "      <td>0</td>\n",
       "      <td>1</td>\n",
       "      <td>0</td>\n",
       "      <td>0</td>\n",
       "      <td>0</td>\n",
       "      <td>0</td>\n",
       "      <td>0</td>\n",
       "      <td>...</td>\n",
       "      <td>0</td>\n",
       "      <td>1</td>\n",
       "      <td>0</td>\n",
       "      <td>0</td>\n",
       "      <td>0</td>\n",
       "      <td>0</td>\n",
       "      <td>0</td>\n",
       "      <td>0</td>\n",
       "      <td>0</td>\n",
       "      <td>1</td>\n",
       "    </tr>\n",
       "    <tr>\n",
       "      <th>1</th>\n",
       "      <td>7.416667</td>\n",
       "      <td>7662.0</td>\n",
       "      <td>1</td>\n",
       "      <td>0</td>\n",
       "      <td>0</td>\n",
       "      <td>0</td>\n",
       "      <td>0</td>\n",
       "      <td>0</td>\n",
       "      <td>0</td>\n",
       "      <td>0</td>\n",
       "      <td>...</td>\n",
       "      <td>1</td>\n",
       "      <td>0</td>\n",
       "      <td>0</td>\n",
       "      <td>0</td>\n",
       "      <td>0</td>\n",
       "      <td>1</td>\n",
       "      <td>0</td>\n",
       "      <td>0</td>\n",
       "      <td>0</td>\n",
       "      <td>0</td>\n",
       "    </tr>\n",
       "    <tr>\n",
       "      <th>2</th>\n",
       "      <td>19.000000</td>\n",
       "      <td>13882.0</td>\n",
       "      <td>0</td>\n",
       "      <td>0</td>\n",
       "      <td>0</td>\n",
       "      <td>1</td>\n",
       "      <td>0</td>\n",
       "      <td>0</td>\n",
       "      <td>0</td>\n",
       "      <td>0</td>\n",
       "      <td>...</td>\n",
       "      <td>0</td>\n",
       "      <td>0</td>\n",
       "      <td>0</td>\n",
       "      <td>0</td>\n",
       "      <td>0</td>\n",
       "      <td>0</td>\n",
       "      <td>0</td>\n",
       "      <td>0</td>\n",
       "      <td>1</td>\n",
       "      <td>0</td>\n",
       "    </tr>\n",
       "    <tr>\n",
       "      <th>3</th>\n",
       "      <td>5.416667</td>\n",
       "      <td>6218.0</td>\n",
       "      <td>0</td>\n",
       "      <td>0</td>\n",
       "      <td>1</td>\n",
       "      <td>0</td>\n",
       "      <td>0</td>\n",
       "      <td>0</td>\n",
       "      <td>0</td>\n",
       "      <td>0</td>\n",
       "      <td>...</td>\n",
       "      <td>0</td>\n",
       "      <td>0</td>\n",
       "      <td>1</td>\n",
       "      <td>0</td>\n",
       "      <td>0</td>\n",
       "      <td>0</td>\n",
       "      <td>1</td>\n",
       "      <td>0</td>\n",
       "      <td>0</td>\n",
       "      <td>0</td>\n",
       "    </tr>\n",
       "    <tr>\n",
       "      <th>4</th>\n",
       "      <td>4.750000</td>\n",
       "      <td>13302.0</td>\n",
       "      <td>0</td>\n",
       "      <td>0</td>\n",
       "      <td>1</td>\n",
       "      <td>0</td>\n",
       "      <td>0</td>\n",
       "      <td>0</td>\n",
       "      <td>0</td>\n",
       "      <td>0</td>\n",
       "      <td>...</td>\n",
       "      <td>0</td>\n",
       "      <td>0</td>\n",
       "      <td>1</td>\n",
       "      <td>0</td>\n",
       "      <td>0</td>\n",
       "      <td>0</td>\n",
       "      <td>0</td>\n",
       "      <td>0</td>\n",
       "      <td>0</td>\n",
       "      <td>0</td>\n",
       "    </tr>\n",
       "  </tbody>\n",
       "</table>\n",
       "<p>5 rows × 40 columns</p>\n",
       "</div>"
      ],
      "text/plain": [
       "    Duration    Price  Airline_Air India  Airline_GoAir  Airline_IndiGo  \\\n",
       "0   2.833333   3897.0                  0              0               1   \n",
       "1   7.416667   7662.0                  1              0               0   \n",
       "2  19.000000  13882.0                  0              0               0   \n",
       "3   5.416667   6218.0                  0              0               1   \n",
       "4   4.750000  13302.0                  0              0               1   \n",
       "\n",
       "   Airline_Jet Airways  Airline_Multiple carriers  Airline_SpiceJet  \\\n",
       "0                    0                          0                 0   \n",
       "1                    0                          0                 0   \n",
       "2                    1                          0                 0   \n",
       "3                    0                          0                 0   \n",
       "4                    0                          0                 0   \n",
       "\n",
       "   Airline_Trujet  Airline_Vistara  ...  Weekday_Saturday  Weekday_Sunday  \\\n",
       "0               0                0  ...                 0               1   \n",
       "1               0                0  ...                 1               0   \n",
       "2               0                0  ...                 0               0   \n",
       "3               0                0  ...                 0               0   \n",
       "4               0                0  ...                 0               0   \n",
       "\n",
       "   Weekday_Thursday  Weekday_Tuesday  Weekday_Wednesday  \\\n",
       "0                 0                0                  0   \n",
       "1                 0                0                  0   \n",
       "2                 0                0                  0   \n",
       "3                 1                0                  0   \n",
       "4                 1                0                  0   \n",
       "\n",
       "   time_of_day_Early Morning  time_of_day_Evening  time_of_day_Late Night  \\\n",
       "0                          0                    0                       0   \n",
       "1                          1                    0                       0   \n",
       "2                          0                    0                       0   \n",
       "3                          0                    1                       0   \n",
       "4                          0                    0                       0   \n",
       "\n",
       "   time_of_day_Morning  time_of_day_Night  \n",
       "0                    0                  1  \n",
       "1                    0                  0  \n",
       "2                    1                  0  \n",
       "3                    0                  0  \n",
       "4                    0                  0  \n",
       "\n",
       "[5 rows x 40 columns]"
      ]
     },
     "execution_count": 71,
     "metadata": {},
     "output_type": "execute_result"
    }
   ],
   "source": [
    "df_final.head()"
   ]
  },
  {
   "cell_type": "code",
   "execution_count": 72,
   "metadata": {},
   "outputs": [
    {
     "data": {
      "text/plain": [
       "(10683, 11)"
      ]
     },
     "execution_count": 72,
     "metadata": {},
     "output_type": "execute_result"
    }
   ],
   "source": [
    "df_train.shape"
   ]
  },
  {
   "cell_type": "code",
   "execution_count": 84,
   "metadata": {},
   "outputs": [],
   "source": [
    "df_final_train=df_final.iloc[0:10683,:]"
   ]
  },
  {
   "cell_type": "code",
   "execution_count": 85,
   "metadata": {},
   "outputs": [
    {
     "data": {
      "text/plain": [
       "(10683, 40)"
      ]
     },
     "execution_count": 85,
     "metadata": {},
     "output_type": "execute_result"
    }
   ],
   "source": [
    "df_final_train.shape"
   ]
  },
  {
   "cell_type": "code",
   "execution_count": 86,
   "metadata": {},
   "outputs": [
    {
     "data": {
      "text/plain": [
       "(2671, 10)"
      ]
     },
     "execution_count": 86,
     "metadata": {},
     "output_type": "execute_result"
    }
   ],
   "source": [
    "df_test.shape"
   ]
  },
  {
   "cell_type": "code",
   "execution_count": 88,
   "metadata": {},
   "outputs": [],
   "source": [
    "df_final_test=df_final.iloc[10683:,:]"
   ]
  },
  {
   "cell_type": "code",
   "execution_count": 89,
   "metadata": {},
   "outputs": [
    {
     "data": {
      "text/plain": [
       "(2671, 40)"
      ]
     },
     "execution_count": 89,
     "metadata": {},
     "output_type": "execute_result"
    }
   ],
   "source": [
    "df_final_test.shape"
   ]
  },
  {
   "cell_type": "code",
   "execution_count": 91,
   "metadata": {},
   "outputs": [
    {
     "data": {
      "text/html": [
       "<div>\n",
       "<style scoped>\n",
       "    .dataframe tbody tr th:only-of-type {\n",
       "        vertical-align: middle;\n",
       "    }\n",
       "\n",
       "    .dataframe tbody tr th {\n",
       "        vertical-align: top;\n",
       "    }\n",
       "\n",
       "    .dataframe thead th {\n",
       "        text-align: right;\n",
       "    }\n",
       "</style>\n",
       "<table border=\"1\" class=\"dataframe\">\n",
       "  <thead>\n",
       "    <tr style=\"text-align: right;\">\n",
       "      <th></th>\n",
       "      <th>Duration</th>\n",
       "      <th>Price</th>\n",
       "      <th>Airline_Air India</th>\n",
       "      <th>Airline_GoAir</th>\n",
       "      <th>Airline_IndiGo</th>\n",
       "      <th>Airline_Jet Airways</th>\n",
       "      <th>Airline_Multiple carriers</th>\n",
       "      <th>Airline_SpiceJet</th>\n",
       "      <th>Airline_Trujet</th>\n",
       "      <th>Airline_Vistara</th>\n",
       "      <th>...</th>\n",
       "      <th>Weekday_Saturday</th>\n",
       "      <th>Weekday_Sunday</th>\n",
       "      <th>Weekday_Thursday</th>\n",
       "      <th>Weekday_Tuesday</th>\n",
       "      <th>Weekday_Wednesday</th>\n",
       "      <th>time_of_day_Early Morning</th>\n",
       "      <th>time_of_day_Evening</th>\n",
       "      <th>time_of_day_Late Night</th>\n",
       "      <th>time_of_day_Morning</th>\n",
       "      <th>time_of_day_Night</th>\n",
       "    </tr>\n",
       "  </thead>\n",
       "  <tbody>\n",
       "    <tr>\n",
       "      <th>10683</th>\n",
       "      <td>10.916667</td>\n",
       "      <td>NaN</td>\n",
       "      <td>0</td>\n",
       "      <td>0</td>\n",
       "      <td>0</td>\n",
       "      <td>1</td>\n",
       "      <td>0</td>\n",
       "      <td>0</td>\n",
       "      <td>0</td>\n",
       "      <td>0</td>\n",
       "      <td>...</td>\n",
       "      <td>0</td>\n",
       "      <td>0</td>\n",
       "      <td>1</td>\n",
       "      <td>0</td>\n",
       "      <td>0</td>\n",
       "      <td>0</td>\n",
       "      <td>1</td>\n",
       "      <td>0</td>\n",
       "      <td>0</td>\n",
       "      <td>0</td>\n",
       "    </tr>\n",
       "    <tr>\n",
       "      <th>10684</th>\n",
       "      <td>4.000000</td>\n",
       "      <td>NaN</td>\n",
       "      <td>0</td>\n",
       "      <td>0</td>\n",
       "      <td>1</td>\n",
       "      <td>0</td>\n",
       "      <td>0</td>\n",
       "      <td>0</td>\n",
       "      <td>0</td>\n",
       "      <td>0</td>\n",
       "      <td>...</td>\n",
       "      <td>0</td>\n",
       "      <td>0</td>\n",
       "      <td>1</td>\n",
       "      <td>0</td>\n",
       "      <td>0</td>\n",
       "      <td>1</td>\n",
       "      <td>0</td>\n",
       "      <td>0</td>\n",
       "      <td>0</td>\n",
       "      <td>0</td>\n",
       "    </tr>\n",
       "    <tr>\n",
       "      <th>10685</th>\n",
       "      <td>23.750000</td>\n",
       "      <td>NaN</td>\n",
       "      <td>0</td>\n",
       "      <td>0</td>\n",
       "      <td>0</td>\n",
       "      <td>1</td>\n",
       "      <td>0</td>\n",
       "      <td>0</td>\n",
       "      <td>0</td>\n",
       "      <td>0</td>\n",
       "      <td>...</td>\n",
       "      <td>0</td>\n",
       "      <td>0</td>\n",
       "      <td>0</td>\n",
       "      <td>1</td>\n",
       "      <td>0</td>\n",
       "      <td>0</td>\n",
       "      <td>1</td>\n",
       "      <td>0</td>\n",
       "      <td>0</td>\n",
       "      <td>0</td>\n",
       "    </tr>\n",
       "    <tr>\n",
       "      <th>10686</th>\n",
       "      <td>13.000000</td>\n",
       "      <td>NaN</td>\n",
       "      <td>0</td>\n",
       "      <td>0</td>\n",
       "      <td>0</td>\n",
       "      <td>0</td>\n",
       "      <td>1</td>\n",
       "      <td>0</td>\n",
       "      <td>0</td>\n",
       "      <td>0</td>\n",
       "      <td>...</td>\n",
       "      <td>0</td>\n",
       "      <td>0</td>\n",
       "      <td>0</td>\n",
       "      <td>1</td>\n",
       "      <td>0</td>\n",
       "      <td>0</td>\n",
       "      <td>0</td>\n",
       "      <td>0</td>\n",
       "      <td>1</td>\n",
       "      <td>0</td>\n",
       "    </tr>\n",
       "    <tr>\n",
       "      <th>10687</th>\n",
       "      <td>2.833333</td>\n",
       "      <td>NaN</td>\n",
       "      <td>0</td>\n",
       "      <td>0</td>\n",
       "      <td>0</td>\n",
       "      <td>0</td>\n",
       "      <td>0</td>\n",
       "      <td>0</td>\n",
       "      <td>0</td>\n",
       "      <td>0</td>\n",
       "      <td>...</td>\n",
       "      <td>0</td>\n",
       "      <td>0</td>\n",
       "      <td>0</td>\n",
       "      <td>0</td>\n",
       "      <td>0</td>\n",
       "      <td>0</td>\n",
       "      <td>0</td>\n",
       "      <td>0</td>\n",
       "      <td>0</td>\n",
       "      <td>1</td>\n",
       "    </tr>\n",
       "  </tbody>\n",
       "</table>\n",
       "<p>5 rows × 40 columns</p>\n",
       "</div>"
      ],
      "text/plain": [
       "        Duration  Price  Airline_Air India  Airline_GoAir  Airline_IndiGo  \\\n",
       "10683  10.916667    NaN                  0              0               0   \n",
       "10684   4.000000    NaN                  0              0               1   \n",
       "10685  23.750000    NaN                  0              0               0   \n",
       "10686  13.000000    NaN                  0              0               0   \n",
       "10687   2.833333    NaN                  0              0               0   \n",
       "\n",
       "       Airline_Jet Airways  Airline_Multiple carriers  Airline_SpiceJet  \\\n",
       "10683                    1                          0                 0   \n",
       "10684                    0                          0                 0   \n",
       "10685                    1                          0                 0   \n",
       "10686                    0                          1                 0   \n",
       "10687                    0                          0                 0   \n",
       "\n",
       "       Airline_Trujet  Airline_Vistara  ...  Weekday_Saturday  Weekday_Sunday  \\\n",
       "10683               0                0  ...                 0               0   \n",
       "10684               0                0  ...                 0               0   \n",
       "10685               0                0  ...                 0               0   \n",
       "10686               0                0  ...                 0               0   \n",
       "10687               0                0  ...                 0               0   \n",
       "\n",
       "       Weekday_Thursday  Weekday_Tuesday  Weekday_Wednesday  \\\n",
       "10683                 1                0                  0   \n",
       "10684                 1                0                  0   \n",
       "10685                 0                1                  0   \n",
       "10686                 0                1                  0   \n",
       "10687                 0                0                  0   \n",
       "\n",
       "       time_of_day_Early Morning  time_of_day_Evening  time_of_day_Late Night  \\\n",
       "10683                          0                    1                       0   \n",
       "10684                          1                    0                       0   \n",
       "10685                          0                    1                       0   \n",
       "10686                          0                    0                       0   \n",
       "10687                          0                    0                       0   \n",
       "\n",
       "       time_of_day_Morning  time_of_day_Night  \n",
       "10683                    0                  0  \n",
       "10684                    0                  0  \n",
       "10685                    0                  0  \n",
       "10686                    1                  0  \n",
       "10687                    0                  1  \n",
       "\n",
       "[5 rows x 40 columns]"
      ]
     },
     "execution_count": 91,
     "metadata": {},
     "output_type": "execute_result"
    }
   ],
   "source": [
    "df_final_test.head()"
   ]
  },
  {
   "cell_type": "code",
   "execution_count": 92,
   "metadata": {},
   "outputs": [],
   "source": [
    "df_final_test.drop('Price',axis=1,inplace=True)"
   ]
  },
  {
   "cell_type": "code",
   "execution_count": 93,
   "metadata": {},
   "outputs": [],
   "source": [
    "# dividing the data in to train and test\n",
    "x=df_final_train.drop(columns=[\"Price\"])\n",
    "y=df_final_train[\"Price\"]"
   ]
  },
  {
   "cell_type": "code",
   "execution_count": 94,
   "metadata": {},
   "outputs": [
    {
     "data": {
      "text/plain": [
       "(10683, 39)"
      ]
     },
     "execution_count": 94,
     "metadata": {},
     "output_type": "execute_result"
    }
   ],
   "source": [
    "x.shape"
   ]
  },
  {
   "cell_type": "code",
   "execution_count": 95,
   "metadata": {},
   "outputs": [
    {
     "data": {
      "text/plain": [
       "(10683,)"
      ]
     },
     "execution_count": 95,
     "metadata": {},
     "output_type": "execute_result"
    }
   ],
   "source": [
    "y.shape"
   ]
  },
  {
   "cell_type": "code",
   "execution_count": 96,
   "metadata": {},
   "outputs": [],
   "source": [
    "from sklearn.preprocessing import StandardScaler\n",
    "sc = StandardScaler()\n",
    "x = sc.fit_transform(x)"
   ]
  },
  {
   "cell_type": "code",
   "execution_count": 97,
   "metadata": {},
   "outputs": [
    {
     "name": "stdout",
     "output_type": "stream",
     "text": [
      "vraiance :0.9717880998279389\n"
     ]
    }
   ],
   "source": [
    "# as the no of culumns are 39 let us reduce the dimensions using PCA\n",
    "from sklearn.decomposition import PCA\n",
    "pca = PCA(n_components=29)\n",
    "pca_x=pca.fit_transform(x)\n",
    "print(\"vraiance :{}\".format(np.sum(pca.explained_variance_ratio_)))"
   ]
  },
  {
   "cell_type": "code",
   "execution_count": 98,
   "metadata": {},
   "outputs": [],
   "source": [
    "# Almost 97% of data is explained by pca"
   ]
  },
  {
   "cell_type": "code",
   "execution_count": 101,
   "metadata": {},
   "outputs": [],
   "source": [
    "from sklearn.metrics import mean_absolute_error, mean_squared_error,r2_score\n",
    "from sklearn.model_selection import train_test_split, cross_val_score\n",
    "def max_r2_score(regr,x,y):\n",
    "    max_r_score=0\n",
    "    for r_state in range(42,100):\n",
    "        x_train, x_test, y_train, y_test = train_test_split(x, y,random_state = r_state,test_size=0.20)\n",
    "        regr.fit(x_train,y_train)\n",
    "        y_pred = regr.predict(x_test)\n",
    "        r2_scr=r2_score(y_test,y_pred)\n",
    "        print(\"r2 score corresponding to \",r_state,\" is \",r2_scr)\n",
    "        if r2_scr>max_r_score:\n",
    "            max_r_score=r2_scr\n",
    "            final_r_state=r_state\n",
    "    print(\"max r2 score corresponding to \",final_r_state,\" is \",max_r_score)\n",
    "    return final_r_state"
   ]
  },
  {
   "cell_type": "code",
   "execution_count": 104,
   "metadata": {},
   "outputs": [
    {
     "name": "stdout",
     "output_type": "stream",
     "text": [
      "r2 score corresponding to  42  is  0.5466314112061992\n",
      "r2 score corresponding to  43  is  0.6119764031593047\n",
      "r2 score corresponding to  44  is  -974.59668756388\n",
      "r2 score corresponding to  45  is  -822.1864829259953\n",
      "r2 score corresponding to  46  is  -1011.538447482632\n",
      "r2 score corresponding to  47  is  0.5622805456324609\n",
      "r2 score corresponding to  48  is  -15192.628778341412\n",
      "r2 score corresponding to  49  is  0.5635374895377984\n",
      "r2 score corresponding to  50  is  0.5477241125722472\n",
      "r2 score corresponding to  51  is  0.6075315114494693\n",
      "r2 score corresponding to  52  is  0.5444803337281152\n",
      "r2 score corresponding to  53  is  -9459.104931688287\n",
      "r2 score corresponding to  54  is  0.5578658053845233\n",
      "r2 score corresponding to  55  is  -15536.046985900832\n",
      "r2 score corresponding to  56  is  0.5770960753986618\n",
      "r2 score corresponding to  57  is  -3578.6377655052293\n",
      "r2 score corresponding to  58  is  0.643669495573405\n",
      "r2 score corresponding to  59  is  -1358.979348167117\n",
      "r2 score corresponding to  60  is  0.5680265970788109\n",
      "r2 score corresponding to  61  is  -17841.106915037206\n",
      "r2 score corresponding to  62  is  0.6125370962950858\n",
      "r2 score corresponding to  63  is  0.5040760937084128\n",
      "r2 score corresponding to  64  is  -1093.063132050421\n",
      "r2 score corresponding to  65  is  0.577941704679571\n",
      "r2 score corresponding to  66  is  -17300.960365738374\n",
      "r2 score corresponding to  67  is  0.5700458370767367\n",
      "r2 score corresponding to  68  is  -18539.74570253254\n",
      "r2 score corresponding to  69  is  -9810.026110093439\n",
      "r2 score corresponding to  70  is  -17109.080467130316\n",
      "r2 score corresponding to  71  is  -1156.5944720793943\n",
      "r2 score corresponding to  72  is  -16835.50545372412\n",
      "r2 score corresponding to  73  is  -15956.944952755326\n",
      "r2 score corresponding to  74  is  0.5837332433574294\n",
      "r2 score corresponding to  75  is  -16463.855188948797\n",
      "r2 score corresponding to  76  is  0.6199648659547532\n",
      "r2 score corresponding to  77  is  0.5915008427528821\n",
      "r2 score corresponding to  78  is  0.5820752441396659\n",
      "r2 score corresponding to  79  is  -15524.117295901333\n",
      "r2 score corresponding to  80  is  0.6000949393557864\n",
      "r2 score corresponding to  81  is  -868.2997685864107\n",
      "r2 score corresponding to  82  is  -877.0796304253885\n",
      "r2 score corresponding to  83  is  -17883.7719660077\n",
      "r2 score corresponding to  84  is  0.5157027908887009\n",
      "r2 score corresponding to  85  is  0.5694930813233013\n",
      "r2 score corresponding to  86  is  0.5714403556062015\n",
      "r2 score corresponding to  87  is  0.5780316279998512\n",
      "r2 score corresponding to  88  is  0.5479296990383209\n",
      "r2 score corresponding to  89  is  0.5766312106593245\n",
      "r2 score corresponding to  90  is  0.5479174075124403\n",
      "r2 score corresponding to  91  is  0.5668986173574366\n",
      "r2 score corresponding to  92  is  -16050.789185537724\n",
      "r2 score corresponding to  93  is  -994.9836832398662\n",
      "r2 score corresponding to  94  is  0.5892993680848306\n",
      "r2 score corresponding to  95  is  0.5817542314041959\n",
      "r2 score corresponding to  96  is  -17668.163327040755\n",
      "r2 score corresponding to  97  is  -1324.2894434736156\n",
      "r2 score corresponding to  98  is  0.6079785569132025\n",
      "r2 score corresponding to  99  is  -1302.6344748990932\n",
      "max r2 score corresponding to  58  is  0.643669495573405\n"
     ]
    },
    {
     "data": {
      "text/plain": [
       "58"
      ]
     },
     "execution_count": 104,
     "metadata": {},
     "output_type": "execute_result"
    }
   ],
   "source": [
    "from sklearn.linear_model import LinearRegression\n",
    "lr=LinearRegression()\n",
    "max_r2_score(lr,pca_x,y)"
   ]
  },
  {
   "cell_type": "code",
   "execution_count": 105,
   "metadata": {},
   "outputs": [
    {
     "data": {
      "text/plain": [
       "-2.1991671253651026e+23"
      ]
     },
     "execution_count": 105,
     "metadata": {},
     "output_type": "execute_result"
    }
   ],
   "source": [
    "cross_val_score(lr,x,y,cv=5,scoring='r2').mean()"
   ]
  },
  {
   "cell_type": "code",
   "execution_count": 106,
   "metadata": {},
   "outputs": [
    {
     "name": "stdout",
     "output_type": "stream",
     "text": [
      "r2 score corresponding to  42  is  0.6003871248278425\n",
      "r2 score corresponding to  43  is  0.651312053993305\n",
      "r2 score corresponding to  44  is  0.5862573376340228\n",
      "r2 score corresponding to  45  is  0.5534653156331446\n",
      "r2 score corresponding to  46  is  0.5969031456491412\n",
      "r2 score corresponding to  47  is  0.5688949738889907\n",
      "r2 score corresponding to  48  is  0.6010385446350821\n",
      "r2 score corresponding to  49  is  0.6061387546893212\n",
      "r2 score corresponding to  50  is  0.6384936054615975\n",
      "r2 score corresponding to  51  is  0.6045052204061041\n",
      "r2 score corresponding to  52  is  0.6430094138863267\n",
      "r2 score corresponding to  53  is  0.5052101873812009\n",
      "r2 score corresponding to  54  is  0.5102880315906242\n",
      "r2 score corresponding to  55  is  0.542574850813315\n",
      "r2 score corresponding to  56  is  0.5953743209142014\n",
      "r2 score corresponding to  57  is  0.583784083157133\n",
      "r2 score corresponding to  58  is  0.6678794795602062\n",
      "r2 score corresponding to  59  is  0.6314958717767216\n",
      "r2 score corresponding to  60  is  0.5378113504817202\n",
      "r2 score corresponding to  61  is  0.6056774835036118\n",
      "r2 score corresponding to  62  is  0.5209868908972913\n",
      "r2 score corresponding to  63  is  0.5749397029685908\n",
      "r2 score corresponding to  64  is  0.5038439906707419\n",
      "r2 score corresponding to  65  is  0.6239299271603403\n",
      "r2 score corresponding to  66  is  0.5025574080934982\n",
      "r2 score corresponding to  67  is  0.6748027099468896\n",
      "r2 score corresponding to  68  is  0.46139922541967926\n",
      "r2 score corresponding to  69  is  0.4763404095108933\n",
      "r2 score corresponding to  70  is  0.5606990175124607\n",
      "r2 score corresponding to  71  is  0.5641787291361735\n",
      "r2 score corresponding to  72  is  0.5919762473145234\n",
      "r2 score corresponding to  73  is  0.6090379350201742\n",
      "r2 score corresponding to  74  is  0.5784815296404676\n",
      "r2 score corresponding to  75  is  0.640884014204925\n",
      "r2 score corresponding to  76  is  0.6461281275988116\n",
      "r2 score corresponding to  77  is  0.5537175538839255\n",
      "r2 score corresponding to  78  is  0.6123867237038267\n",
      "r2 score corresponding to  79  is  0.617009960236938\n",
      "r2 score corresponding to  80  is  0.5892784726833039\n",
      "r2 score corresponding to  81  is  0.5951063071717559\n",
      "r2 score corresponding to  82  is  0.6115884857239088\n",
      "r2 score corresponding to  83  is  0.5479906241734893\n",
      "r2 score corresponding to  84  is  0.5265665757567868\n",
      "r2 score corresponding to  85  is  0.6142699145362668\n",
      "r2 score corresponding to  86  is  0.54456658049634\n",
      "r2 score corresponding to  87  is  0.6462944553235197\n",
      "r2 score corresponding to  88  is  0.5840963499193466\n",
      "r2 score corresponding to  89  is  0.6107927866411645\n",
      "r2 score corresponding to  90  is  0.6222789660770598\n",
      "r2 score corresponding to  91  is  0.5386518068742012\n",
      "r2 score corresponding to  92  is  0.6059342383608518\n",
      "r2 score corresponding to  93  is  0.6561834612409305\n",
      "r2 score corresponding to  94  is  0.6197342627131321\n",
      "r2 score corresponding to  95  is  0.5237623208969396\n",
      "r2 score corresponding to  96  is  0.6317746310765571\n",
      "r2 score corresponding to  97  is  0.5771043742675432\n",
      "r2 score corresponding to  98  is  0.5217403758479429\n",
      "r2 score corresponding to  99  is  0.5519092128167491\n",
      "max r2 score corresponding to  67  is  0.6748027099468896\n"
     ]
    },
    {
     "data": {
      "text/plain": [
       "67"
      ]
     },
     "execution_count": 106,
     "metadata": {},
     "output_type": "execute_result"
    }
   ],
   "source": [
    "from sklearn.tree import DecisionTreeRegressor\n",
    "dtr=DecisionTreeRegressor()\n",
    "max_r2_score(dtr,pca_x,y)"
   ]
  },
  {
   "cell_type": "code",
   "execution_count": 107,
   "metadata": {
    "scrolled": true
   },
   "outputs": [
    {
     "name": "stdout",
     "output_type": "stream",
     "text": [
      "r2 score corresponding to  42  is  0.6375689686474555\n",
      "r2 score corresponding to  43  is  0.6499841871911951\n",
      "r2 score corresponding to  44  is  0.6628409408263316\n",
      "r2 score corresponding to  45  is  0.6483712459445368\n",
      "r2 score corresponding to  46  is  0.623887253441266\n",
      "r2 score corresponding to  47  is  0.6281963419041449\n",
      "r2 score corresponding to  48  is  0.610201741091992\n",
      "r2 score corresponding to  49  is  0.6370061391289044\n",
      "r2 score corresponding to  50  is  0.658847291035632\n",
      "r2 score corresponding to  51  is  0.6852007338722887\n",
      "r2 score corresponding to  52  is  0.6302831285762296\n",
      "r2 score corresponding to  53  is  0.5935835158563629\n",
      "r2 score corresponding to  54  is  0.6336545000860498\n",
      "r2 score corresponding to  55  is  0.6111620895533505\n",
      "r2 score corresponding to  56  is  0.6458096037296384\n",
      "r2 score corresponding to  57  is  0.6453473255290937\n",
      "r2 score corresponding to  58  is  0.7287079396838214\n",
      "r2 score corresponding to  59  is  0.6482944969438198\n",
      "r2 score corresponding to  60  is  0.6563613505914687\n",
      "r2 score corresponding to  61  is  0.6580550239671777\n",
      "r2 score corresponding to  62  is  0.64715647078947\n",
      "r2 score corresponding to  63  is  0.6355895623373743\n",
      "r2 score corresponding to  64  is  0.6852221995513572\n",
      "r2 score corresponding to  65  is  0.6365228796005753\n",
      "r2 score corresponding to  66  is  0.571724743408786\n",
      "r2 score corresponding to  67  is  0.6888949019320325\n",
      "r2 score corresponding to  68  is  0.5992597590305284\n",
      "r2 score corresponding to  69  is  0.6275824081559406\n",
      "r2 score corresponding to  70  is  0.6032366074966734\n",
      "r2 score corresponding to  71  is  0.6855025010407699\n",
      "r2 score corresponding to  72  is  0.6513674058335783\n",
      "r2 score corresponding to  73  is  0.6460206148248702\n",
      "r2 score corresponding to  74  is  0.6085528679742462\n",
      "r2 score corresponding to  75  is  0.6677926653937379\n",
      "r2 score corresponding to  76  is  0.672767574365059\n",
      "r2 score corresponding to  77  is  0.6892919482337124\n",
      "r2 score corresponding to  78  is  0.6495142813333084\n",
      "r2 score corresponding to  79  is  0.6343417877926834\n",
      "r2 score corresponding to  80  is  0.628237260680039\n",
      "r2 score corresponding to  81  is  0.6274277740990046\n",
      "r2 score corresponding to  82  is  0.659374236713701\n",
      "r2 score corresponding to  83  is  0.6030840726155541\n",
      "r2 score corresponding to  84  is  0.5901213380903796\n",
      "r2 score corresponding to  85  is  0.6558128366522311\n",
      "r2 score corresponding to  86  is  0.5451054805634583\n",
      "r2 score corresponding to  87  is  0.7032836554976267\n",
      "r2 score corresponding to  88  is  0.6345024643682815\n",
      "r2 score corresponding to  89  is  0.6116591150261027\n",
      "r2 score corresponding to  90  is  0.6644125041549209\n",
      "r2 score corresponding to  91  is  0.6105800830105961\n",
      "r2 score corresponding to  92  is  0.6591099896599855\n",
      "r2 score corresponding to  93  is  0.6749933043144332\n",
      "r2 score corresponding to  94  is  0.6525642590643188\n",
      "r2 score corresponding to  95  is  0.6423795336609428\n",
      "r2 score corresponding to  96  is  0.6207290656720366\n",
      "r2 score corresponding to  97  is  0.6320702707820116\n",
      "r2 score corresponding to  98  is  0.6403413601990233\n",
      "r2 score corresponding to  99  is  0.47409491421951633\n",
      "max r2 score corresponding to  58  is  0.7287079396838214\n"
     ]
    },
    {
     "data": {
      "text/plain": [
       "58"
      ]
     },
     "execution_count": 107,
     "metadata": {},
     "output_type": "execute_result"
    }
   ],
   "source": [
    "max_r2_score(dtr,x,y)"
   ]
  },
  {
   "cell_type": "code",
   "execution_count": 108,
   "metadata": {},
   "outputs": [
    {
     "name": "stdout",
     "output_type": "stream",
     "text": [
      "r2 score corresponding to  42  is  0.7290569736582169\n",
      "r2 score corresponding to  43  is  0.7520543767792688\n",
      "r2 score corresponding to  44  is  0.7581958631662173\n",
      "r2 score corresponding to  45  is  0.7210754857971644\n",
      "r2 score corresponding to  46  is  0.7409240918352717\n",
      "r2 score corresponding to  47  is  0.7196854211117798\n",
      "r2 score corresponding to  48  is  0.7216940681312534\n",
      "r2 score corresponding to  49  is  0.7498102730795791\n",
      "r2 score corresponding to  50  is  0.7316809472755799\n",
      "r2 score corresponding to  51  is  0.7684692491957548\n",
      "r2 score corresponding to  52  is  0.7152592900023368\n",
      "r2 score corresponding to  53  is  0.6985399122718585\n",
      "r2 score corresponding to  54  is  0.7231289312813158\n",
      "r2 score corresponding to  55  is  0.6950031282345258\n",
      "r2 score corresponding to  56  is  0.747778408301339\n",
      "r2 score corresponding to  57  is  0.7475915775105795\n",
      "r2 score corresponding to  58  is  0.7895206111444023\n",
      "r2 score corresponding to  59  is  0.7482640402521856\n",
      "r2 score corresponding to  60  is  0.7166225385856453\n",
      "r2 score corresponding to  61  is  0.7010115657979585\n",
      "r2 score corresponding to  62  is  0.7407254115749635\n",
      "r2 score corresponding to  63  is  0.7076066993564369\n",
      "r2 score corresponding to  64  is  0.7221618069931617\n",
      "r2 score corresponding to  65  is  0.7454892945005178\n",
      "r2 score corresponding to  66  is  0.6776067060061833\n",
      "r2 score corresponding to  67  is  0.7593656802867199\n",
      "r2 score corresponding to  68  is  0.7134783118792376\n",
      "r2 score corresponding to  69  is  0.7349985983408074\n",
      "r2 score corresponding to  70  is  0.7421418741999688\n",
      "r2 score corresponding to  71  is  0.7323049610897826\n",
      "r2 score corresponding to  72  is  0.742838939111869\n",
      "r2 score corresponding to  73  is  0.734558016545017\n",
      "r2 score corresponding to  74  is  0.7145561419193929\n",
      "r2 score corresponding to  75  is  0.7700391748121537\n",
      "r2 score corresponding to  76  is  0.7765415498183326\n",
      "r2 score corresponding to  77  is  0.7880739054679351\n",
      "r2 score corresponding to  78  is  0.7584227399586299\n",
      "r2 score corresponding to  79  is  0.7666403783417619\n",
      "r2 score corresponding to  80  is  0.7496454667024017\n",
      "r2 score corresponding to  81  is  0.7293857207622401\n",
      "r2 score corresponding to  82  is  0.7397860951785249\n",
      "r2 score corresponding to  83  is  0.7103506175768993\n",
      "r2 score corresponding to  84  is  0.687570050991541\n",
      "r2 score corresponding to  85  is  0.7587361180815639\n",
      "r2 score corresponding to  86  is  0.6724825356010286\n",
      "r2 score corresponding to  87  is  0.7728464881200287\n",
      "r2 score corresponding to  88  is  0.725368910465753\n",
      "r2 score corresponding to  89  is  0.7318135892957948\n",
      "r2 score corresponding to  90  is  0.7345796614352667\n",
      "r2 score corresponding to  91  is  0.7220079885230202\n",
      "r2 score corresponding to  92  is  0.7394106734071826\n",
      "r2 score corresponding to  93  is  0.7644004302636941\n",
      "r2 score corresponding to  94  is  0.7579939022503841\n",
      "r2 score corresponding to  95  is  0.7288507287755412\n",
      "r2 score corresponding to  96  is  0.7385062586022726\n",
      "r2 score corresponding to  97  is  0.7378748719054707\n",
      "r2 score corresponding to  98  is  0.7508633929923043\n",
      "r2 score corresponding to  99  is  0.7086942737664834\n",
      "max r2 score corresponding to  58  is  0.7895206111444023\n"
     ]
    },
    {
     "data": {
      "text/plain": [
       "58"
      ]
     },
     "execution_count": 108,
     "metadata": {},
     "output_type": "execute_result"
    }
   ],
   "source": [
    "from sklearn.ensemble import RandomForestRegressor\n",
    "rf=RandomForestRegressor()\n",
    "max_r2_score(rf,x,y)"
   ]
  },
  {
   "cell_type": "code",
   "execution_count": 109,
   "metadata": {},
   "outputs": [
    {
     "data": {
      "text/plain": [
       "{'n_estimators': 500}"
      ]
     },
     "execution_count": 109,
     "metadata": {},
     "output_type": "execute_result"
    }
   ],
   "source": [
    "from sklearn.ensemble import RandomForestRegressor\n",
    "from sklearn.model_selection import GridSearchCV\n",
    "rf=RandomForestRegressor()\n",
    "parameters = {\"n_estimators\":[10,100,500]}\n",
    "gsv= GridSearchCV(rf, parameters, cv=5,scoring=\"r2\")\n",
    "gsv.fit(x,y)\n",
    "gsv.best_params_"
   ]
  },
  {
   "cell_type": "code",
   "execution_count": 110,
   "metadata": {},
   "outputs": [
    {
     "name": "stdout",
     "output_type": "stream",
     "text": [
      "r2 score corresponding to  42  is  0.732674440053789\n",
      "r2 score corresponding to  43  is  0.750861705044901\n",
      "r2 score corresponding to  44  is  0.7583173616460788\n",
      "r2 score corresponding to  45  is  0.7198472068618463\n",
      "r2 score corresponding to  46  is  0.7424273862229813\n",
      "r2 score corresponding to  47  is  0.722153800504888\n",
      "r2 score corresponding to  48  is  0.7183625334078223\n",
      "r2 score corresponding to  49  is  0.751515966296482\n",
      "r2 score corresponding to  50  is  0.7348136964285956\n",
      "r2 score corresponding to  51  is  0.7654173502375288\n",
      "r2 score corresponding to  52  is  0.7219698495629253\n",
      "r2 score corresponding to  53  is  0.7022020689193655\n",
      "r2 score corresponding to  54  is  0.7244532385093739\n",
      "r2 score corresponding to  55  is  0.6964116591633233\n",
      "r2 score corresponding to  56  is  0.7472046153968093\n",
      "r2 score corresponding to  57  is  0.7521901007277986\n",
      "r2 score corresponding to  58  is  0.7899657179252935\n",
      "r2 score corresponding to  59  is  0.7486485558866963\n",
      "r2 score corresponding to  60  is  0.7183952555615456\n",
      "r2 score corresponding to  61  is  0.704076943539931\n",
      "r2 score corresponding to  62  is  0.745262821676945\n",
      "r2 score corresponding to  63  is  0.7097933876294702\n",
      "r2 score corresponding to  64  is  0.7252855998402248\n",
      "r2 score corresponding to  65  is  0.7416400413224147\n",
      "r2 score corresponding to  66  is  0.6778766689104045\n",
      "r2 score corresponding to  67  is  0.7641997217777852\n",
      "r2 score corresponding to  68  is  0.7128293408985515\n",
      "r2 score corresponding to  69  is  0.7330281469188922\n",
      "r2 score corresponding to  70  is  0.7476626625554288\n",
      "r2 score corresponding to  71  is  0.7312469409352924\n",
      "r2 score corresponding to  72  is  0.7434979679707956\n",
      "r2 score corresponding to  73  is  0.7332833441199756\n",
      "r2 score corresponding to  74  is  0.7181044415180848\n",
      "r2 score corresponding to  75  is  0.7692939941327619\n",
      "r2 score corresponding to  76  is  0.7780102410515357\n",
      "r2 score corresponding to  77  is  0.7852047635528768\n",
      "r2 score corresponding to  78  is  0.7602090611055804\n",
      "r2 score corresponding to  79  is  0.7653223598605048\n",
      "r2 score corresponding to  80  is  0.7536839713722228\n",
      "r2 score corresponding to  81  is  0.7312949245398694\n",
      "r2 score corresponding to  82  is  0.7431341397296688\n",
      "r2 score corresponding to  83  is  0.7183114175417604\n",
      "r2 score corresponding to  84  is  0.6867968382842558\n",
      "r2 score corresponding to  85  is  0.7614859748069891\n",
      "r2 score corresponding to  86  is  0.6752193351955735\n",
      "r2 score corresponding to  87  is  0.7724666868378012\n",
      "r2 score corresponding to  88  is  0.7227356579682849\n",
      "r2 score corresponding to  89  is  0.7333649917631729\n",
      "r2 score corresponding to  90  is  0.7372848101147453\n",
      "r2 score corresponding to  91  is  0.7281319083299074\n",
      "r2 score corresponding to  92  is  0.7373210271568673\n",
      "r2 score corresponding to  93  is  0.7669034079696078\n",
      "r2 score corresponding to  94  is  0.7587099625206324\n",
      "r2 score corresponding to  95  is  0.7298171224917456\n",
      "r2 score corresponding to  96  is  0.73810356458874\n",
      "r2 score corresponding to  97  is  0.7386678147139241\n",
      "r2 score corresponding to  98  is  0.7498082791426288\n",
      "r2 score corresponding to  99  is  0.709379940216336\n",
      "max r2 score corresponding to  58  is  0.7899657179252935\n"
     ]
    },
    {
     "data": {
      "text/plain": [
       "58"
      ]
     },
     "execution_count": 110,
     "metadata": {},
     "output_type": "execute_result"
    }
   ],
   "source": [
    "rf=RandomForestRegressor(n_estimators=500)\n",
    "max_r2_score(rf,x,y)"
   ]
  },
  {
   "cell_type": "code",
   "execution_count": 111,
   "metadata": {},
   "outputs": [
    {
     "data": {
      "text/plain": [
       "{'n_neighbors': 8}"
      ]
     },
     "execution_count": 111,
     "metadata": {},
     "output_type": "execute_result"
    }
   ],
   "source": [
    "from sklearn.neighbors import KNeighborsRegressor\n",
    "knn=KNeighborsRegressor()\n",
    "parameters = {\"n_neighbors\":range(2,30)}\n",
    "gsv = GridSearchCV(knn, parameters, cv=5,scoring=\"r2\")\n",
    "gsv.fit(x, y)\n",
    "gsv.best_params_"
   ]
  },
  {
   "cell_type": "code",
   "execution_count": 112,
   "metadata": {},
   "outputs": [
    {
     "name": "stdout",
     "output_type": "stream",
     "text": [
      "r2 score corresponding to  42  is  0.711642491549675\n",
      "r2 score corresponding to  43  is  0.706503150720426\n",
      "r2 score corresponding to  44  is  0.7063247643997381\n",
      "r2 score corresponding to  45  is  0.6574802484779874\n",
      "r2 score corresponding to  46  is  0.6844587770097537\n",
      "r2 score corresponding to  47  is  0.6760552218712941\n",
      "r2 score corresponding to  48  is  0.6813028920352553\n",
      "r2 score corresponding to  49  is  0.6919756945322526\n",
      "r2 score corresponding to  50  is  0.683674120822534\n",
      "r2 score corresponding to  51  is  0.7048200044161149\n",
      "r2 score corresponding to  52  is  0.6982714343718832\n",
      "r2 score corresponding to  53  is  0.6818622621984972\n",
      "r2 score corresponding to  54  is  0.7127724215154918\n",
      "r2 score corresponding to  55  is  0.6385089930304544\n",
      "r2 score corresponding to  56  is  0.6812064666229689\n",
      "r2 score corresponding to  57  is  0.6972121451927233\n",
      "r2 score corresponding to  58  is  0.7177424786943605\n",
      "r2 score corresponding to  59  is  0.7014464532190274\n",
      "r2 score corresponding to  60  is  0.6920670314972459\n",
      "r2 score corresponding to  61  is  0.6426761699266037\n",
      "r2 score corresponding to  62  is  0.7153117874899927\n",
      "r2 score corresponding to  63  is  0.6464445721359786\n",
      "r2 score corresponding to  64  is  0.7213478806609506\n",
      "r2 score corresponding to  65  is  0.6892087206640896\n",
      "r2 score corresponding to  66  is  0.6140991384444572\n",
      "r2 score corresponding to  67  is  0.6900201037176104\n",
      "r2 score corresponding to  68  is  0.6908494535091367\n",
      "r2 score corresponding to  69  is  0.7030021254614722\n",
      "r2 score corresponding to  70  is  0.6831948533114083\n",
      "r2 score corresponding to  71  is  0.6574379378485435\n",
      "r2 score corresponding to  72  is  0.6622934958913714\n",
      "r2 score corresponding to  73  is  0.6701134619493144\n",
      "r2 score corresponding to  74  is  0.6443056533910692\n",
      "r2 score corresponding to  75  is  0.715419572180727\n",
      "r2 score corresponding to  76  is  0.7139278611928945\n",
      "r2 score corresponding to  77  is  0.7321165379553884\n",
      "r2 score corresponding to  78  is  0.7186151569459203\n",
      "r2 score corresponding to  79  is  0.712743813972829\n",
      "r2 score corresponding to  80  is  0.7210563992221661\n",
      "r2 score corresponding to  81  is  0.688880852695541\n",
      "r2 score corresponding to  82  is  0.6669638195623857\n",
      "r2 score corresponding to  83  is  0.6980076065299665\n",
      "r2 score corresponding to  84  is  0.7007427504152135\n",
      "r2 score corresponding to  85  is  0.7168610768524446\n",
      "r2 score corresponding to  86  is  0.6279371440347534\n",
      "r2 score corresponding to  87  is  0.687071108786121\n",
      "r2 score corresponding to  88  is  0.6534480813872716\n",
      "r2 score corresponding to  89  is  0.684778577878706\n",
      "r2 score corresponding to  90  is  0.6634029040368735\n",
      "r2 score corresponding to  91  is  0.7219728226033284\n",
      "r2 score corresponding to  92  is  0.6775658344975344\n",
      "r2 score corresponding to  93  is  0.6978356765779565\n",
      "r2 score corresponding to  94  is  0.7310672851128874\n",
      "r2 score corresponding to  95  is  0.6875182127512912\n",
      "r2 score corresponding to  96  is  0.6864850785819911\n",
      "r2 score corresponding to  97  is  0.6961314782060671\n",
      "r2 score corresponding to  98  is  0.7060008468769474\n",
      "r2 score corresponding to  99  is  0.6874509066494376\n",
      "max r2 score corresponding to  77  is  0.7321165379553884\n"
     ]
    },
    {
     "data": {
      "text/plain": [
       "77"
      ]
     },
     "execution_count": 112,
     "metadata": {},
     "output_type": "execute_result"
    }
   ],
   "source": [
    "knn=KNeighborsRegressor(n_neighbors=8)\n",
    "max_r2_score(knn,x,y)"
   ]
  },
  {
   "cell_type": "code",
   "execution_count": 114,
   "metadata": {},
   "outputs": [
    {
     "name": "stdout",
     "output_type": "stream",
     "text": [
      "r2 score corresponding to  42  is  0.7226909405293782\n",
      "r2 score corresponding to  43  is  0.6727349142228859\n",
      "r2 score corresponding to  44  is  0.7566748939447976\n",
      "r2 score corresponding to  45  is  0.6555462819103057\n",
      "r2 score corresponding to  46  is  0.7131383455243336\n",
      "r2 score corresponding to  47  is  0.7187988880695949\n",
      "r2 score corresponding to  48  is  0.6651448836495197\n",
      "r2 score corresponding to  49  is  0.7319147295758827\n",
      "r2 score corresponding to  50  is  0.7103493994297227\n",
      "r2 score corresponding to  51  is  0.7523915982254993\n",
      "r2 score corresponding to  52  is  0.7360604297017392\n",
      "r2 score corresponding to  53  is  0.717152612005669\n",
      "r2 score corresponding to  54  is  0.7232353068122381\n",
      "r2 score corresponding to  55  is  0.6280500051772505\n",
      "r2 score corresponding to  56  is  0.6944395554641669\n",
      "r2 score corresponding to  57  is  0.7317875097949271\n",
      "r2 score corresponding to  58  is  0.7222682597791116\n",
      "r2 score corresponding to  59  is  0.6882692861690197\n",
      "r2 score corresponding to  60  is  0.7201873663508938\n",
      "r2 score corresponding to  61  is  0.6859088811533783\n",
      "r2 score corresponding to  62  is  0.7082232787495812\n",
      "r2 score corresponding to  63  is  0.665043319019565\n",
      "r2 score corresponding to  64  is  0.7419555043006789\n",
      "r2 score corresponding to  65  is  0.7374115804815814\n",
      "r2 score corresponding to  66  is  0.6981346233982408\n",
      "r2 score corresponding to  67  is  0.7491523704660621\n",
      "r2 score corresponding to  68  is  0.7062334245387438\n",
      "r2 score corresponding to  69  is  0.7126246013742319\n",
      "r2 score corresponding to  70  is  0.7129970181168848\n",
      "r2 score corresponding to  71  is  0.6958320430506278\n",
      "r2 score corresponding to  72  is  0.7362604706599514\n",
      "r2 score corresponding to  73  is  0.7197300347666742\n",
      "r2 score corresponding to  74  is  0.6457287160186873\n",
      "r2 score corresponding to  75  is  0.7667890591056636\n",
      "r2 score corresponding to  76  is  0.7589912012916373\n",
      "r2 score corresponding to  77  is  0.8005413874861956\n",
      "r2 score corresponding to  78  is  0.7145695703218022\n",
      "r2 score corresponding to  79  is  0.7496805434081393\n",
      "r2 score corresponding to  80  is  0.7291189399377029\n",
      "r2 score corresponding to  81  is  0.7086498698640982\n",
      "r2 score corresponding to  82  is  0.6731481416317247\n",
      "r2 score corresponding to  83  is  0.6661512746234437\n",
      "r2 score corresponding to  84  is  0.7329743552542143\n",
      "r2 score corresponding to  85  is  0.7188450749546463\n",
      "r2 score corresponding to  86  is  0.6494323608669578\n",
      "r2 score corresponding to  87  is  0.7540134048556315\n",
      "r2 score corresponding to  88  is  0.6780395949743678\n",
      "r2 score corresponding to  89  is  0.7263404076195561\n",
      "r2 score corresponding to  90  is  0.6968898355508004\n",
      "r2 score corresponding to  91  is  0.7224059877168827\n",
      "r2 score corresponding to  92  is  0.6985820446747812\n",
      "r2 score corresponding to  93  is  0.6895839786382472\n",
      "r2 score corresponding to  94  is  0.7287172687647374\n",
      "r2 score corresponding to  95  is  0.7344439648242592\n",
      "r2 score corresponding to  96  is  0.702155973804026\n",
      "r2 score corresponding to  97  is  0.727841559779633\n",
      "r2 score corresponding to  98  is  0.7222506055802311\n",
      "r2 score corresponding to  99  is  0.744788181387529\n",
      "max r2 score corresponding to  77  is  0.8005413874861956\n"
     ]
    },
    {
     "data": {
      "text/plain": [
       "77"
      ]
     },
     "execution_count": 114,
     "metadata": {},
     "output_type": "execute_result"
    }
   ],
   "source": [
    "from sklearn.ensemble import BaggingRegressor\n",
    "bgr=BaggingRegressor(max_samples=0.5,max_features=0.6)\n",
    "max_r2_score(bgr,x,y)"
   ]
  },
  {
   "cell_type": "code",
   "execution_count": 116,
   "metadata": {},
   "outputs": [
    {
     "data": {
      "text/plain": [
       "{'kernel': 'linear'}"
      ]
     },
     "execution_count": 116,
     "metadata": {},
     "output_type": "execute_result"
    }
   ],
   "source": [
    "from sklearn.svm import SVR\n",
    "svr=SVR()\n",
    "parameters={\"kernel\":[\"linear\", \"poly\", \"rbf\"]}\n",
    "gsv = GridSearchCV(svr, parameters, cv=5,scoring=\"r2\")\n",
    "gsv.fit(x,y)\n",
    "gsv.best_params_"
   ]
  },
  {
   "cell_type": "code",
   "execution_count": 117,
   "metadata": {},
   "outputs": [
    {
     "name": "stdout",
     "output_type": "stream",
     "text": [
      "r2 score corresponding to  42  is  0.5483604632812856\n",
      "r2 score corresponding to  43  is  0.5417224308108732\n",
      "r2 score corresponding to  44  is  0.5604065897557928\n",
      "r2 score corresponding to  45  is  0.5191726746358585\n",
      "r2 score corresponding to  46  is  0.556640173779869\n",
      "r2 score corresponding to  47  is  0.55890651867164\n",
      "r2 score corresponding to  48  is  0.5005451742447191\n",
      "r2 score corresponding to  49  is  0.5763593605111296\n",
      "r2 score corresponding to  50  is  0.5565224392683998\n",
      "r2 score corresponding to  51  is  0.5778327909733254\n",
      "r2 score corresponding to  52  is  0.5841907847636699\n",
      "r2 score corresponding to  53  is  0.5440852973433358\n",
      "r2 score corresponding to  54  is  0.5840006961835968\n",
      "r2 score corresponding to  55  is  0.5140114103362767\n",
      "r2 score corresponding to  56  is  0.5046928805778826\n",
      "r2 score corresponding to  57  is  0.5362786358592679\n",
      "r2 score corresponding to  58  is  0.5208890971212436\n",
      "r2 score corresponding to  59  is  0.5501714444850825\n",
      "r2 score corresponding to  60  is  0.5489186493632044\n",
      "r2 score corresponding to  61  is  0.5177340708792605\n",
      "r2 score corresponding to  62  is  0.577206203444252\n",
      "r2 score corresponding to  63  is  0.5000540201451422\n",
      "r2 score corresponding to  64  is  0.6170417357547331\n",
      "r2 score corresponding to  65  is  0.5573075573853968\n",
      "r2 score corresponding to  66  is  0.5612300483919428\n",
      "r2 score corresponding to  67  is  0.5856872481712165\n",
      "r2 score corresponding to  68  is  0.5622889455709678\n",
      "r2 score corresponding to  69  is  0.5481958864893629\n",
      "r2 score corresponding to  70  is  0.5456826395002182\n",
      "r2 score corresponding to  71  is  0.5420735387623906\n",
      "r2 score corresponding to  72  is  0.5470797289197971\n",
      "r2 score corresponding to  73  is  0.5321446830438099\n",
      "r2 score corresponding to  74  is  0.4955528493884491\n",
      "r2 score corresponding to  75  is  0.5517326090176871\n",
      "r2 score corresponding to  76  is  0.5780765424590524\n",
      "r2 score corresponding to  77  is  0.6000132439793587\n",
      "r2 score corresponding to  78  is  0.5472972497548555\n",
      "r2 score corresponding to  79  is  0.5332121847365403\n",
      "r2 score corresponding to  80  is  0.5507709807796878\n",
      "r2 score corresponding to  81  is  0.5501328823929945\n",
      "r2 score corresponding to  82  is  0.5346168243405522\n",
      "r2 score corresponding to  83  is  0.5384331814663468\n",
      "r2 score corresponding to  84  is  0.5551942455080032\n",
      "r2 score corresponding to  85  is  0.5555663808712923\n",
      "r2 score corresponding to  86  is  0.48491892890733845\n",
      "r2 score corresponding to  87  is  0.5664337235611041\n",
      "r2 score corresponding to  88  is  0.5471356390591928\n",
      "r2 score corresponding to  89  is  0.5362588771729211\n",
      "r2 score corresponding to  90  is  0.5298541435545012\n",
      "r2 score corresponding to  91  is  0.5692729599860014\n",
      "r2 score corresponding to  92  is  0.533866821015087\n",
      "r2 score corresponding to  93  is  0.5592537861294791\n",
      "r2 score corresponding to  94  is  0.5443578658471547\n",
      "r2 score corresponding to  95  is  0.5718304525971849\n",
      "r2 score corresponding to  96  is  0.5232310566558925\n",
      "r2 score corresponding to  97  is  0.5537120141876984\n",
      "r2 score corresponding to  98  is  0.6187124056786583\n",
      "r2 score corresponding to  99  is  0.5838369250950948\n",
      "max r2 score corresponding to  98  is  0.6187124056786583\n"
     ]
    },
    {
     "data": {
      "text/plain": [
       "98"
      ]
     },
     "execution_count": 117,
     "metadata": {},
     "output_type": "execute_result"
    }
   ],
   "source": [
    "svr=SVR(kernel='linear')\n",
    "max_r2_score(svr,x,y)"
   ]
  },
  {
   "cell_type": "code",
   "execution_count": 119,
   "metadata": {},
   "outputs": [
    {
     "data": {
      "text/plain": [
       "{'max_features': 0.9, 'max_samples': 0.4, 'n_estimators': 50}"
      ]
     },
     "execution_count": 119,
     "metadata": {},
     "output_type": "execute_result"
    }
   ],
   "source": [
    "bgr=BaggingRegressor()\n",
    "parameters={'n_estimators':[10,20,30,40,50],'max_samples':[0.1,0.2,0.3,0.4,0.5,0.6,0.7,0.8,0.9,1],'max_features':[0.1,0.2,0.3,0.4,0.5,0.6,0.7,0.8,0.9,1]}\n",
    "gsv = GridSearchCV(bgr, parameters, cv=5,scoring=\"r2\")\n",
    "gsv.fit(x,y)\n",
    "gsv.best_params_\n"
   ]
  },
  {
   "cell_type": "code",
   "execution_count": 120,
   "metadata": {},
   "outputs": [
    {
     "name": "stdout",
     "output_type": "stream",
     "text": [
      "r2 score corresponding to  42  is  0.7706355225969704\n",
      "r2 score corresponding to  43  is  0.7703179230660637\n",
      "r2 score corresponding to  44  is  0.7865778099296663\n",
      "r2 score corresponding to  45  is  0.7439293833142737\n",
      "r2 score corresponding to  46  is  0.759537134814097\n",
      "r2 score corresponding to  47  is  0.7531380551536851\n",
      "r2 score corresponding to  48  is  0.7415135987497392\n",
      "r2 score corresponding to  49  is  0.7899596793210595\n",
      "r2 score corresponding to  50  is  0.7509337383315874\n",
      "r2 score corresponding to  51  is  0.7816968723145195\n",
      "r2 score corresponding to  52  is  0.7690524681412745\n",
      "r2 score corresponding to  53  is  0.7473689641073201\n",
      "r2 score corresponding to  54  is  0.7695041368918681\n",
      "r2 score corresponding to  55  is  0.7135787835910425\n",
      "r2 score corresponding to  56  is  0.7668939359016276\n",
      "r2 score corresponding to  57  is  0.7763817221768908\n",
      "r2 score corresponding to  58  is  0.793335197110529\n",
      "r2 score corresponding to  59  is  0.7741300189319112\n",
      "r2 score corresponding to  60  is  0.7477641130753514\n",
      "r2 score corresponding to  61  is  0.7213534082355038\n",
      "r2 score corresponding to  62  is  0.7732933880771493\n",
      "r2 score corresponding to  63  is  0.7369122605893583\n",
      "r2 score corresponding to  64  is  0.7784018237687717\n",
      "r2 score corresponding to  65  is  0.7652495348788235\n",
      "r2 score corresponding to  66  is  0.7105404897372014\n",
      "r2 score corresponding to  67  is  0.7874666557671465\n",
      "r2 score corresponding to  68  is  0.7594765371558607\n",
      "r2 score corresponding to  69  is  0.7730398532088896\n",
      "r2 score corresponding to  70  is  0.7773309019841377\n",
      "r2 score corresponding to  71  is  0.7622967948923273\n",
      "r2 score corresponding to  72  is  0.7772764107241811\n",
      "r2 score corresponding to  73  is  0.763002519860353\n",
      "r2 score corresponding to  74  is  0.7242640384352419\n",
      "r2 score corresponding to  75  is  0.7953120625794495\n",
      "r2 score corresponding to  76  is  0.7898367294259266\n",
      "r2 score corresponding to  77  is  0.8133866007819401\n",
      "r2 score corresponding to  78  is  0.7895498936821803\n",
      "r2 score corresponding to  79  is  0.7852881764522563\n",
      "r2 score corresponding to  80  is  0.7842380068705181\n",
      "r2 score corresponding to  81  is  0.7534649848367024\n",
      "r2 score corresponding to  82  is  0.770558204948193\n",
      "r2 score corresponding to  83  is  0.7433177711066002\n",
      "r2 score corresponding to  84  is  0.7445105734324249\n",
      "r2 score corresponding to  85  is  0.7848386048674039\n",
      "r2 score corresponding to  86  is  0.691719653667578\n",
      "r2 score corresponding to  87  is  0.7858458881001071\n",
      "r2 score corresponding to  88  is  0.7521525820780592\n",
      "r2 score corresponding to  89  is  0.7600633191454726\n",
      "r2 score corresponding to  90  is  0.7489637890871013\n",
      "r2 score corresponding to  91  is  0.7768535144930833\n",
      "r2 score corresponding to  92  is  0.7605100900477307\n",
      "r2 score corresponding to  93  is  0.7830794103516178\n",
      "r2 score corresponding to  94  is  0.7858171631917404\n",
      "r2 score corresponding to  95  is  0.7546498695079116\n",
      "r2 score corresponding to  96  is  0.7609803251142193\n",
      "r2 score corresponding to  97  is  0.7739953733737379\n",
      "r2 score corresponding to  98  is  0.7898496736581161\n",
      "r2 score corresponding to  99  is  0.7761430677638618\n",
      "max r2 score corresponding to  77  is  0.8133866007819401\n"
     ]
    },
    {
     "data": {
      "text/plain": [
       "77"
      ]
     },
     "execution_count": 120,
     "metadata": {},
     "output_type": "execute_result"
    }
   ],
   "source": [
    "bgr=BaggingRegressor(n_estimators=50,max_samples=0.4,max_features=0.9)\n",
    "max_r2_score(bgr,x,y)"
   ]
  },
  {
   "cell_type": "code",
   "execution_count": 121,
   "metadata": {},
   "outputs": [
    {
     "name": "stdout",
     "output_type": "stream",
     "text": [
      " R2 Score = 0.8165538675763732\n",
      "Mean Sq Error=  3519527.5073294686\n",
      "Mean Abs Error=  1238.2139427498573\n"
     ]
    }
   ],
   "source": [
    "# we got the highest R2 score in bagging regression. So we will finalize it.\n",
    "bgr=BaggingRegressor(n_estimators=50,max_samples=0.4,max_features=0.9)\n",
    "x_train, x_test, y_train, y_test = train_test_split(x, y,random_state = 77,test_size=0.20)\n",
    "bgr.fit(x_train,y_train)\n",
    "y_pred = bgr.predict(x_test)\n",
    "r2_scr=r2_score(y_test,y_pred)\n",
    "print(\" R2 Score =\", r2_scr)\n",
    "print(\"Mean Sq Error= \", mean_squared_error(y_test,y_pred))\n",
    "print(\"Mean Abs Error= \", mean_absolute_error(y_test,y_pred))"
   ]
  },
  {
   "cell_type": "code",
   "execution_count": 122,
   "metadata": {},
   "outputs": [],
   "source": [
    "y_pred=pd.DataFrame(y_pred,columns=['Price'])"
   ]
  },
  {
   "cell_type": "code",
   "execution_count": 123,
   "metadata": {},
   "outputs": [
    {
     "data": {
      "text/html": [
       "<div>\n",
       "<style scoped>\n",
       "    .dataframe tbody tr th:only-of-type {\n",
       "        vertical-align: middle;\n",
       "    }\n",
       "\n",
       "    .dataframe tbody tr th {\n",
       "        vertical-align: top;\n",
       "    }\n",
       "\n",
       "    .dataframe thead th {\n",
       "        text-align: right;\n",
       "    }\n",
       "</style>\n",
       "<table border=\"1\" class=\"dataframe\">\n",
       "  <thead>\n",
       "    <tr style=\"text-align: right;\">\n",
       "      <th></th>\n",
       "      <th>Price</th>\n",
       "    </tr>\n",
       "  </thead>\n",
       "  <tbody>\n",
       "    <tr>\n",
       "      <th>0</th>\n",
       "      <td>7888.873214</td>\n",
       "    </tr>\n",
       "    <tr>\n",
       "      <th>1</th>\n",
       "      <td>9729.063600</td>\n",
       "    </tr>\n",
       "    <tr>\n",
       "      <th>2</th>\n",
       "      <td>11515.473600</td>\n",
       "    </tr>\n",
       "    <tr>\n",
       "      <th>3</th>\n",
       "      <td>13316.517251</td>\n",
       "    </tr>\n",
       "    <tr>\n",
       "      <th>4</th>\n",
       "      <td>10731.930598</td>\n",
       "    </tr>\n",
       "    <tr>\n",
       "      <th>...</th>\n",
       "      <td>...</td>\n",
       "    </tr>\n",
       "    <tr>\n",
       "      <th>2132</th>\n",
       "      <td>3184.096667</td>\n",
       "    </tr>\n",
       "    <tr>\n",
       "      <th>2133</th>\n",
       "      <td>13851.857051</td>\n",
       "    </tr>\n",
       "    <tr>\n",
       "      <th>2134</th>\n",
       "      <td>3898.600000</td>\n",
       "    </tr>\n",
       "    <tr>\n",
       "      <th>2135</th>\n",
       "      <td>12140.045000</td>\n",
       "    </tr>\n",
       "    <tr>\n",
       "      <th>2136</th>\n",
       "      <td>5546.467961</td>\n",
       "    </tr>\n",
       "  </tbody>\n",
       "</table>\n",
       "<p>2137 rows × 1 columns</p>\n",
       "</div>"
      ],
      "text/plain": [
       "             Price\n",
       "0      7888.873214\n",
       "1      9729.063600\n",
       "2     11515.473600\n",
       "3     13316.517251\n",
       "4     10731.930598\n",
       "...            ...\n",
       "2132   3184.096667\n",
       "2133  13851.857051\n",
       "2134   3898.600000\n",
       "2135  12140.045000\n",
       "2136   5546.467961\n",
       "\n",
       "[2137 rows x 1 columns]"
      ]
     },
     "execution_count": 123,
     "metadata": {},
     "output_type": "execute_result"
    }
   ],
   "source": [
    "y_pred"
   ]
  },
  {
   "cell_type": "code",
   "execution_count": 124,
   "metadata": {},
   "outputs": [],
   "source": [
    "y_pred.to_csv(\"C:\\\\Pandasdata\\\\DT_files\\\\Flight_Price_Predictions.csv\",index=False)"
   ]
  },
  {
   "cell_type": "code",
   "execution_count": 125,
   "metadata": {},
   "outputs": [
    {
     "data": {
      "text/plain": [
       "['Flight_Price_Prediction.pkl']"
      ]
     },
     "execution_count": 125,
     "metadata": {},
     "output_type": "execute_result"
    }
   ],
   "source": [
    "import joblib\n",
    "joblib.dump(bgr,'Flight_Price_Prediction.pkl')"
   ]
  },
  {
   "cell_type": "code",
   "execution_count": null,
   "metadata": {},
   "outputs": [],
   "source": []
  }
 ],
 "metadata": {
  "kernelspec": {
   "display_name": "Python 3",
   "language": "python",
   "name": "python3"
  },
  "language_info": {
   "codemirror_mode": {
    "name": "ipython",
    "version": 3
   },
   "file_extension": ".py",
   "mimetype": "text/x-python",
   "name": "python",
   "nbconvert_exporter": "python",
   "pygments_lexer": "ipython3",
   "version": "3.8.3"
  }
 },
 "nbformat": 4,
 "nbformat_minor": 4
}
