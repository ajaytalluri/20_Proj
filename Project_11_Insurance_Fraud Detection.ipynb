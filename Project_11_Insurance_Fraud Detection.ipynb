{
 "cells": [
  {
   "cell_type": "code",
   "execution_count": 1,
   "metadata": {},
   "outputs": [],
   "source": [
    "import numpy as np\n",
    "import pandas as pd\n",
    "import matplotlib.pyplot as plt\n",
    "import seaborn as sns\n",
    "import warnings\n",
    "warnings.filterwarnings('ignore')"
   ]
  },
  {
   "cell_type": "code",
   "execution_count": 2,
   "metadata": {},
   "outputs": [],
   "source": [
    "df = pd.read_csv(\"C:\\\\Pandasdata\\\\DT_files\\\\insur_fraud.csv\",parse_dates=['policy_bind_date','incident_date'])"
   ]
  },
  {
   "cell_type": "code",
   "execution_count": 3,
   "metadata": {},
   "outputs": [
    {
     "data": {
      "text/html": [
       "<div>\n",
       "<style scoped>\n",
       "    .dataframe tbody tr th:only-of-type {\n",
       "        vertical-align: middle;\n",
       "    }\n",
       "\n",
       "    .dataframe tbody tr th {\n",
       "        vertical-align: top;\n",
       "    }\n",
       "\n",
       "    .dataframe thead th {\n",
       "        text-align: right;\n",
       "    }\n",
       "</style>\n",
       "<table border=\"1\" class=\"dataframe\">\n",
       "  <thead>\n",
       "    <tr style=\"text-align: right;\">\n",
       "      <th></th>\n",
       "      <th>months_as_customer</th>\n",
       "      <th>age</th>\n",
       "      <th>policy_number</th>\n",
       "      <th>policy_bind_date</th>\n",
       "      <th>policy_state</th>\n",
       "      <th>policy_csl</th>\n",
       "      <th>policy_deductable</th>\n",
       "      <th>policy_annual_premium</th>\n",
       "      <th>umbrella_limit</th>\n",
       "      <th>insured_zip</th>\n",
       "      <th>...</th>\n",
       "      <th>police_report_available</th>\n",
       "      <th>total_claim_amount</th>\n",
       "      <th>injury_claim</th>\n",
       "      <th>property_claim</th>\n",
       "      <th>vehicle_claim</th>\n",
       "      <th>auto_make</th>\n",
       "      <th>auto_model</th>\n",
       "      <th>auto_year</th>\n",
       "      <th>fraud_reported</th>\n",
       "      <th>_c39</th>\n",
       "    </tr>\n",
       "  </thead>\n",
       "  <tbody>\n",
       "    <tr>\n",
       "      <th>0</th>\n",
       "      <td>328</td>\n",
       "      <td>48</td>\n",
       "      <td>521585</td>\n",
       "      <td>2014-10-17</td>\n",
       "      <td>OH</td>\n",
       "      <td>250/500</td>\n",
       "      <td>1000</td>\n",
       "      <td>1406.91</td>\n",
       "      <td>0</td>\n",
       "      <td>466132</td>\n",
       "      <td>...</td>\n",
       "      <td>YES</td>\n",
       "      <td>71610</td>\n",
       "      <td>6510</td>\n",
       "      <td>13020</td>\n",
       "      <td>52080</td>\n",
       "      <td>Saab</td>\n",
       "      <td>92x</td>\n",
       "      <td>2004</td>\n",
       "      <td>Y</td>\n",
       "      <td>NaN</td>\n",
       "    </tr>\n",
       "    <tr>\n",
       "      <th>1</th>\n",
       "      <td>228</td>\n",
       "      <td>42</td>\n",
       "      <td>342868</td>\n",
       "      <td>2006-06-27</td>\n",
       "      <td>IN</td>\n",
       "      <td>250/500</td>\n",
       "      <td>2000</td>\n",
       "      <td>1197.22</td>\n",
       "      <td>5000000</td>\n",
       "      <td>468176</td>\n",
       "      <td>...</td>\n",
       "      <td>?</td>\n",
       "      <td>5070</td>\n",
       "      <td>780</td>\n",
       "      <td>780</td>\n",
       "      <td>3510</td>\n",
       "      <td>Mercedes</td>\n",
       "      <td>E400</td>\n",
       "      <td>2007</td>\n",
       "      <td>Y</td>\n",
       "      <td>NaN</td>\n",
       "    </tr>\n",
       "    <tr>\n",
       "      <th>2</th>\n",
       "      <td>134</td>\n",
       "      <td>29</td>\n",
       "      <td>687698</td>\n",
       "      <td>2000-06-09</td>\n",
       "      <td>OH</td>\n",
       "      <td>100/300</td>\n",
       "      <td>2000</td>\n",
       "      <td>1413.14</td>\n",
       "      <td>5000000</td>\n",
       "      <td>430632</td>\n",
       "      <td>...</td>\n",
       "      <td>NO</td>\n",
       "      <td>34650</td>\n",
       "      <td>7700</td>\n",
       "      <td>3850</td>\n",
       "      <td>23100</td>\n",
       "      <td>Dodge</td>\n",
       "      <td>RAM</td>\n",
       "      <td>2007</td>\n",
       "      <td>N</td>\n",
       "      <td>NaN</td>\n",
       "    </tr>\n",
       "    <tr>\n",
       "      <th>3</th>\n",
       "      <td>256</td>\n",
       "      <td>41</td>\n",
       "      <td>227811</td>\n",
       "      <td>1990-05-25</td>\n",
       "      <td>IL</td>\n",
       "      <td>250/500</td>\n",
       "      <td>2000</td>\n",
       "      <td>1415.74</td>\n",
       "      <td>6000000</td>\n",
       "      <td>608117</td>\n",
       "      <td>...</td>\n",
       "      <td>NO</td>\n",
       "      <td>63400</td>\n",
       "      <td>6340</td>\n",
       "      <td>6340</td>\n",
       "      <td>50720</td>\n",
       "      <td>Chevrolet</td>\n",
       "      <td>Tahoe</td>\n",
       "      <td>2014</td>\n",
       "      <td>Y</td>\n",
       "      <td>NaN</td>\n",
       "    </tr>\n",
       "    <tr>\n",
       "      <th>4</th>\n",
       "      <td>228</td>\n",
       "      <td>44</td>\n",
       "      <td>367455</td>\n",
       "      <td>2014-06-06</td>\n",
       "      <td>IL</td>\n",
       "      <td>500/1000</td>\n",
       "      <td>1000</td>\n",
       "      <td>1583.91</td>\n",
       "      <td>6000000</td>\n",
       "      <td>610706</td>\n",
       "      <td>...</td>\n",
       "      <td>NO</td>\n",
       "      <td>6500</td>\n",
       "      <td>1300</td>\n",
       "      <td>650</td>\n",
       "      <td>4550</td>\n",
       "      <td>Accura</td>\n",
       "      <td>RSX</td>\n",
       "      <td>2009</td>\n",
       "      <td>N</td>\n",
       "      <td>NaN</td>\n",
       "    </tr>\n",
       "  </tbody>\n",
       "</table>\n",
       "<p>5 rows × 40 columns</p>\n",
       "</div>"
      ],
      "text/plain": [
       "   months_as_customer  age  policy_number policy_bind_date policy_state  \\\n",
       "0                 328   48         521585       2014-10-17           OH   \n",
       "1                 228   42         342868       2006-06-27           IN   \n",
       "2                 134   29         687698       2000-06-09           OH   \n",
       "3                 256   41         227811       1990-05-25           IL   \n",
       "4                 228   44         367455       2014-06-06           IL   \n",
       "\n",
       "  policy_csl  policy_deductable  policy_annual_premium  umbrella_limit  \\\n",
       "0    250/500               1000                1406.91               0   \n",
       "1    250/500               2000                1197.22         5000000   \n",
       "2    100/300               2000                1413.14         5000000   \n",
       "3    250/500               2000                1415.74         6000000   \n",
       "4   500/1000               1000                1583.91         6000000   \n",
       "\n",
       "   insured_zip  ... police_report_available total_claim_amount injury_claim  \\\n",
       "0       466132  ...                     YES              71610         6510   \n",
       "1       468176  ...                       ?               5070          780   \n",
       "2       430632  ...                      NO              34650         7700   \n",
       "3       608117  ...                      NO              63400         6340   \n",
       "4       610706  ...                      NO               6500         1300   \n",
       "\n",
       "  property_claim vehicle_claim  auto_make  auto_model auto_year  \\\n",
       "0          13020         52080       Saab         92x      2004   \n",
       "1            780          3510   Mercedes        E400      2007   \n",
       "2           3850         23100      Dodge         RAM      2007   \n",
       "3           6340         50720  Chevrolet       Tahoe      2014   \n",
       "4            650          4550     Accura         RSX      2009   \n",
       "\n",
       "  fraud_reported _c39  \n",
       "0              Y  NaN  \n",
       "1              Y  NaN  \n",
       "2              N  NaN  \n",
       "3              Y  NaN  \n",
       "4              N  NaN  \n",
       "\n",
       "[5 rows x 40 columns]"
      ]
     },
     "execution_count": 3,
     "metadata": {},
     "output_type": "execute_result"
    }
   ],
   "source": [
    "df.head()"
   ]
  },
  {
   "cell_type": "code",
   "execution_count": 4,
   "metadata": {},
   "outputs": [],
   "source": [
    "df.drop('_c39',axis=1,inplace=True)"
   ]
  },
  {
   "cell_type": "code",
   "execution_count": 5,
   "metadata": {},
   "outputs": [
    {
     "data": {
      "text/plain": [
       "months_as_customer                      int64\n",
       "age                                     int64\n",
       "policy_number                           int64\n",
       "policy_bind_date               datetime64[ns]\n",
       "policy_state                           object\n",
       "policy_csl                             object\n",
       "policy_deductable                       int64\n",
       "policy_annual_premium                 float64\n",
       "umbrella_limit                          int64\n",
       "insured_zip                             int64\n",
       "insured_sex                            object\n",
       "insured_education_level                object\n",
       "insured_occupation                     object\n",
       "insured_hobbies                        object\n",
       "insured_relationship                   object\n",
       "capital-gains                           int64\n",
       "capital-loss                            int64\n",
       "incident_date                  datetime64[ns]\n",
       "incident_type                          object\n",
       "collision_type                         object\n",
       "incident_severity                      object\n",
       "authorities_contacted                  object\n",
       "incident_state                         object\n",
       "incident_city                          object\n",
       "incident_location                      object\n",
       "incident_hour_of_the_day                int64\n",
       "number_of_vehicles_involved             int64\n",
       "property_damage                        object\n",
       "bodily_injuries                         int64\n",
       "witnesses                               int64\n",
       "police_report_available                object\n",
       "total_claim_amount                      int64\n",
       "injury_claim                            int64\n",
       "property_claim                          int64\n",
       "vehicle_claim                           int64\n",
       "auto_make                              object\n",
       "auto_model                             object\n",
       "auto_year                               int64\n",
       "fraud_reported                         object\n",
       "dtype: object"
      ]
     },
     "execution_count": 5,
     "metadata": {},
     "output_type": "execute_result"
    }
   ],
   "source": [
    "df.dtypes"
   ]
  },
  {
   "cell_type": "code",
   "execution_count": 6,
   "metadata": {},
   "outputs": [
    {
     "data": {
      "text/plain": [
       "<matplotlib.axes._subplots.AxesSubplot at 0x2679bb37f70>"
      ]
     },
     "execution_count": 6,
     "metadata": {},
     "output_type": "execute_result"
    },
    {
     "data": {
      "image/png": "[encoded data removed]",
      "text/plain": [
       "<Figure size 432x288 with 1 Axes>"
      ]
     },
     "metadata": {
      "needs_background": "light"
     },
     "output_type": "display_data"
    }
   ],
   "source": [
    "sns.countplot(x=\"fraud_reported\", data=df)"
   ]
  },
  {
   "cell_type": "code",
   "execution_count": 7,
   "metadata": {},
   "outputs": [
    {
     "name": "stdout",
     "output_type": "stream",
     "text": [
      "Column Name is policy_state and  no of Unique values are 3\n",
      "\n",
      "Column Name is policy_csl and  no of Unique values are 3\n",
      "\n",
      "Column Name is insured_sex and  no of Unique values are 2\n",
      "\n",
      "Column Name is insured_education_level and  no of Unique values are 7\n",
      "\n",
      "Column Name is insured_occupation and  no of Unique values are 14\n",
      "\n",
      "Column Name is insured_hobbies and  no of Unique values are 20\n",
      "\n",
      "Column Name is insured_relationship and  no of Unique values are 6\n",
      "\n",
      "Column Name is incident_type and  no of Unique values are 4\n",
      "\n",
      "Column Name is collision_type and  no of Unique values are 4\n",
      "\n",
      "Column Name is incident_severity and  no of Unique values are 4\n",
      "\n",
      "Column Name is authorities_contacted and  no of Unique values are 5\n",
      "\n",
      "Column Name is incident_state and  no of Unique values are 7\n",
      "\n",
      "Column Name is incident_city and  no of Unique values are 7\n",
      "\n",
      "Column Name is incident_location and  no of Unique values are 1000\n",
      "\n",
      "Column Name is property_damage and  no of Unique values are 3\n",
      "\n",
      "Column Name is police_report_available and  no of Unique values are 3\n",
      "\n",
      "Column Name is auto_make and  no of Unique values are 14\n",
      "\n",
      "Column Name is auto_model and  no of Unique values are 39\n",
      "\n",
      "Column Name is fraud_reported and  no of Unique values are 2\n",
      "\n"
     ]
    }
   ],
   "source": [
    "for cols in df.columns:\n",
    "    if df[cols].dtypes =='object':\n",
    "        print(\"Column Name is {} and  no of Unique values are {}\".format(cols, len(df[cols].value_counts())))\n",
    "        print()"
   ]
  },
  {
   "cell_type": "code",
   "execution_count": 8,
   "metadata": {},
   "outputs": [
    {
     "name": "stdout",
     "output_type": "stream",
     "text": [
      "OH    352\n",
      "IL    338\n",
      "IN    310\n",
      "Name: policy_state, dtype: int64\n",
      "\n",
      "250/500     351\n",
      "100/300     349\n",
      "500/1000    300\n",
      "Name: policy_csl, dtype: int64\n",
      "\n",
      "FEMALE    537\n",
      "MALE      463\n",
      "Name: insured_sex, dtype: int64\n",
      "\n",
      "JD             161\n",
      "High School    160\n",
      "Associate      145\n",
      "MD             144\n",
      "Masters        143\n",
      "PhD            125\n",
      "College        122\n",
      "Name: insured_education_level, dtype: int64\n",
      "\n",
      "machine-op-inspct    93\n",
      "prof-specialty       85\n",
      "tech-support         78\n",
      "exec-managerial      76\n",
      "sales                76\n",
      "craft-repair         74\n",
      "transport-moving     72\n",
      "other-service        71\n",
      "priv-house-serv      71\n",
      "armed-forces         69\n",
      "adm-clerical         65\n",
      "protective-serv      63\n",
      "handlers-cleaners    54\n",
      "farming-fishing      53\n",
      "Name: insured_occupation, dtype: int64\n",
      "\n",
      "reading           64\n",
      "paintball         57\n",
      "exercise          57\n",
      "bungie-jumping    56\n",
      "camping           55\n",
      "golf              55\n",
      "movies            55\n",
      "kayaking          54\n",
      "yachting          53\n",
      "hiking            52\n",
      "video-games       50\n",
      "base-jumping      49\n",
      "skydiving         49\n",
      "board-games       48\n",
      "polo              47\n",
      "chess             46\n",
      "dancing           43\n",
      "sleeping          41\n",
      "cross-fit         35\n",
      "basketball        34\n",
      "Name: insured_hobbies, dtype: int64\n",
      "\n",
      "own-child         183\n",
      "other-relative    177\n",
      "not-in-family     174\n",
      "husband           170\n",
      "wife              155\n",
      "unmarried         141\n",
      "Name: insured_relationship, dtype: int64\n",
      "\n",
      "Multi-vehicle Collision     419\n",
      "Single Vehicle Collision    403\n",
      "Vehicle Theft                94\n",
      "Parked Car                   84\n",
      "Name: incident_type, dtype: int64\n",
      "\n",
      "Rear Collision     292\n",
      "Side Collision     276\n",
      "Front Collision    254\n",
      "?                  178\n",
      "Name: collision_type, dtype: int64\n",
      "\n",
      "Minor Damage      354\n",
      "Total Loss        280\n",
      "Major Damage      276\n",
      "Trivial Damage     90\n",
      "Name: incident_severity, dtype: int64\n",
      "\n",
      "Police       292\n",
      "Fire         223\n",
      "Other        198\n",
      "Ambulance    196\n",
      "None          91\n",
      "Name: authorities_contacted, dtype: int64\n",
      "\n",
      "NY    262\n",
      "SC    248\n",
      "WV    217\n",
      "NC    110\n",
      "VA    110\n",
      "PA     30\n",
      "OH     23\n",
      "Name: incident_state, dtype: int64\n",
      "\n",
      "Springfield    157\n",
      "Arlington      152\n",
      "Columbus       149\n",
      "Northbend      145\n",
      "Hillsdale      141\n",
      "Riverwood      134\n",
      "Northbrook     122\n",
      "Name: incident_city, dtype: int64\n",
      "\n",
      "1941 5th Ridge       1\n",
      "3100 Best St         1\n",
      "7155 Apache Drive    1\n",
      "3184 Oak Ave         1\n",
      "6110 Rock Ridge      1\n",
      "                    ..\n",
      "7299 Apache St       1\n",
      "1956 Apache St       1\n",
      "8204 Pine Lane       1\n",
      "3419 Apache St       1\n",
      "9369 Flute Hwy       1\n",
      "Name: incident_location, Length: 1000, dtype: int64\n",
      "\n",
      "?      360\n",
      "NO     338\n",
      "YES    302\n",
      "Name: property_damage, dtype: int64\n",
      "\n",
      "NO     343\n",
      "?      343\n",
      "YES    314\n",
      "Name: police_report_available, dtype: int64\n",
      "\n",
      "Dodge         80\n",
      "Suburu        80\n",
      "Saab          80\n",
      "Nissan        78\n",
      "Chevrolet     76\n",
      "BMW           72\n",
      "Ford          72\n",
      "Toyota        70\n",
      "Audi          69\n",
      "Volkswagen    68\n",
      "Accura        68\n",
      "Jeep          67\n",
      "Mercedes      65\n",
      "Honda         55\n",
      "Name: auto_make, dtype: int64\n",
      "\n",
      "RAM               43\n",
      "Wrangler          42\n",
      "A3                37\n",
      "Neon              37\n",
      "MDX               36\n",
      "Jetta             35\n",
      "Passat            33\n",
      "Legacy            32\n",
      "A5                32\n",
      "Pathfinder        31\n",
      "Malibu            30\n",
      "Forrestor         28\n",
      "Camry             28\n",
      "92x               28\n",
      "95                27\n",
      "F150              27\n",
      "E400              27\n",
      "Grand Cherokee    25\n",
      "93                25\n",
      "Tahoe             24\n",
      "Maxima            24\n",
      "Escape            24\n",
      "X5                23\n",
      "Ultima            23\n",
      "Silverado         22\n",
      "Highlander        22\n",
      "Civic             22\n",
      "Fusion            21\n",
      "Corolla           20\n",
      "CRV               20\n",
      "Impreza           20\n",
      "ML350             20\n",
      "TL                20\n",
      "C300              18\n",
      "3 Series          18\n",
      "X6                16\n",
      "M5                15\n",
      "Accord            13\n",
      "RSX               12\n",
      "Name: auto_model, dtype: int64\n",
      "\n",
      "N    753\n",
      "Y    247\n",
      "Name: fraud_reported, dtype: int64\n",
      "\n"
     ]
    }
   ],
   "source": [
    "for col in df.columns:\n",
    "    if df[col].dtype==\"object\":\n",
    "        print(df[col].value_counts())\n",
    "        print()"
   ]
  },
  {
   "cell_type": "code",
   "execution_count": 9,
   "metadata": {},
   "outputs": [
    {
     "data": {
      "text/plain": [
       "Index(['policy_state', 'policy_csl', 'insured_sex', 'insured_education_level',\n",
       "       'insured_occupation', 'insured_hobbies', 'insured_relationship',\n",
       "       'incident_type', 'collision_type', 'incident_severity',\n",
       "       'authorities_contacted', 'incident_state', 'incident_city',\n",
       "       'incident_location', 'property_damage', 'police_report_available',\n",
       "       'auto_make', 'auto_model', 'fraud_reported'],\n",
       "      dtype='object')"
      ]
     },
     "execution_count": 9,
     "metadata": {},
     "output_type": "execute_result"
    }
   ],
   "source": [
    "categorical=df.select_dtypes(include=['object']).keys()\n",
    "categorical"
   ]
  },
  {
   "cell_type": "code",
   "execution_count": 10,
   "metadata": {},
   "outputs": [
    {
     "data": {
      "text/plain": [
       "Index(['months_as_customer', 'age', 'policy_number', 'policy_deductable',\n",
       "       'umbrella_limit', 'insured_zip', 'capital-gains', 'capital-loss',\n",
       "       'incident_hour_of_the_day', 'number_of_vehicles_involved',\n",
       "       'bodily_injuries', 'witnesses', 'total_claim_amount', 'injury_claim',\n",
       "       'property_claim', 'vehicle_claim', 'auto_year'],\n",
       "      dtype='object')"
      ]
     },
     "execution_count": 10,
     "metadata": {},
     "output_type": "execute_result"
    }
   ],
   "source": [
    "numerical=df.select_dtypes(include=['int64']).keys()\n",
    "numerical"
   ]
  },
  {
   "cell_type": "code",
   "execution_count": 11,
   "metadata": {},
   "outputs": [
    {
     "data": {
      "text/plain": [
       "<matplotlib.axes._subplots.AxesSubplot at 0x2679c2d0fd0>"
      ]
     },
     "execution_count": 11,
     "metadata": {},
     "output_type": "execute_result"
    },
    {
     "data": {
      "image/png": "[encoded data removed]",
      "text/plain": [
       "<Figure size 1080x360 with 1 Axes>"
      ]
     },
     "metadata": {
      "needs_background": "light"
     },
     "output_type": "display_data"
    }
   ],
   "source": [
    "plt.figure(figsize=(15,5))\n",
    "sns.countplot('policy_state', hue='fraud_reported',data=df)"
   ]
  },
  {
   "cell_type": "code",
   "execution_count": 12,
   "metadata": {},
   "outputs": [
    {
     "data": {
      "text/plain": [
       "<matplotlib.axes._subplots.AxesSubplot at 0x2679c36adc0>"
      ]
     },
     "execution_count": 12,
     "metadata": {},
     "output_type": "execute_result"
    },
    {
     "data": {
      "image/png": "[encoded data removed]",
      "text/plain": [
       "<Figure size 1080x360 with 1 Axes>"
      ]
     },
     "metadata": {
      "needs_background": "light"
     },
     "output_type": "display_data"
    }
   ],
   "source": [
    "plt.figure(figsize=(15,5))\n",
    "sns.countplot('policy_csl', hue='fraud_reported',data=df)"
   ]
  },
  {
   "cell_type": "code",
   "execution_count": 13,
   "metadata": {},
   "outputs": [
    {
     "data": {
      "text/plain": [
       "<matplotlib.axes._subplots.AxesSubplot at 0x2679c3b5880>"
      ]
     },
     "execution_count": 13,
     "metadata": {},
     "output_type": "execute_result"
    },
    {
     "data": {
      "image/png": "[encoded data removed]",
      "text/plain": [
       "<Figure size 1080x360 with 1 Axes>"
      ]
     },
     "metadata": {
      "needs_background": "light"
     },
     "output_type": "display_data"
    }
   ],
   "source": [
    "plt.figure(figsize=(15,5))\n",
    "sns.countplot('insured_sex', hue='fraud_reported',data=df)"
   ]
  },
  {
   "cell_type": "code",
   "execution_count": 14,
   "metadata": {},
   "outputs": [
    {
     "data": {
      "text/plain": [
       "<matplotlib.axes._subplots.AxesSubplot at 0x2679c40c910>"
      ]
     },
     "execution_count": 14,
     "metadata": {},
     "output_type": "execute_result"
    },
    {
     "data": {
      "image/png": "[encoded data removed]",
      "text/plain": [
       "<Figure size 1080x360 with 1 Axes>"
      ]
     },
     "metadata": {
      "needs_background": "light"
     },
     "output_type": "display_data"
    }
   ],
   "source": [
    "plt.figure(figsize=(15,5))\n",
    "sns.countplot('insured_education_level', hue='fraud_reported',data=df)"
   ]
  },
  {
   "cell_type": "code",
   "execution_count": 15,
   "metadata": {},
   "outputs": [
    {
     "data": {
      "text/plain": [
       "<matplotlib.axes._subplots.AxesSubplot at 0x2679c3b5340>"
      ]
     },
     "execution_count": 15,
     "metadata": {},
     "output_type": "execute_result"
    },
    {
     "data": {
      "image/png": "[encoded data removed]",
      "text/plain": [
       "<Figure size 1800x360 with 1 Axes>"
      ]
     },
     "metadata": {
      "needs_background": "light"
     },
     "output_type": "display_data"
    }
   ],
   "source": [
    "plt.figure(figsize=(25,5))\n",
    "sns.countplot('insured_occupation', hue='fraud_reported',data=df)"
   ]
  },
  {
   "cell_type": "code",
   "execution_count": 16,
   "metadata": {},
   "outputs": [],
   "source": [
    "# more frauds reported as yes from Exec Management"
   ]
  },
  {
   "cell_type": "code",
   "execution_count": 17,
   "metadata": {},
   "outputs": [
    {
     "data": {
      "text/plain": [
       "<matplotlib.axes._subplots.AxesSubplot at 0x2679c66efa0>"
      ]
     },
     "execution_count": 17,
     "metadata": {},
     "output_type": "execute_result"
    },
    {
     "data": {
      "image/png": "[encoded data removed]",
      "text/plain": [
       "<Figure size 1800x360 with 1 Axes>"
      ]
     },
     "metadata": {
      "needs_background": "light"
     },
     "output_type": "display_data"
    }
   ],
   "source": [
    "plt.figure(figsize=(25,5))\n",
    "sns.countplot('insured_hobbies', hue='fraud_reported',data=df)"
   ]
  },
  {
   "cell_type": "code",
   "execution_count": 18,
   "metadata": {},
   "outputs": [],
   "source": [
    "# people who play chess and crossfit their frauds are more in number. Very interesting"
   ]
  },
  {
   "cell_type": "code",
   "execution_count": 19,
   "metadata": {},
   "outputs": [
    {
     "data": {
      "text/plain": [
       "<matplotlib.axes._subplots.AxesSubplot at 0x2679c693400>"
      ]
     },
     "execution_count": 19,
     "metadata": {},
     "output_type": "execute_result"
    },
    {
     "data": {
      "image/png": "[encoded data removed]",
      "text/plain": [
       "<Figure size 1080x360 with 1 Axes>"
      ]
     },
     "metadata": {
      "needs_background": "light"
     },
     "output_type": "display_data"
    }
   ],
   "source": [
    "plt.figure(figsize=(15,5))\n",
    "sns.countplot('insured_relationship', hue='fraud_reported',data=df)"
   ]
  },
  {
   "cell_type": "code",
   "execution_count": 20,
   "metadata": {},
   "outputs": [
    {
     "data": {
      "text/plain": [
       "<matplotlib.axes._subplots.AxesSubplot at 0x2679c769ee0>"
      ]
     },
     "execution_count": 20,
     "metadata": {},
     "output_type": "execute_result"
    },
    {
     "data": {
      "image/png": "[encoded data removed]",
      "text/plain": [
       "<Figure size 1080x360 with 1 Axes>"
      ]
     },
     "metadata": {
      "needs_background": "light"
     },
     "output_type": "display_data"
    }
   ],
   "source": [
    "plt.figure(figsize=(15,5))\n",
    "sns.countplot('incident_type', hue='fraud_reported',data=df)"
   ]
  },
  {
   "cell_type": "code",
   "execution_count": 21,
   "metadata": {
    "scrolled": true
   },
   "outputs": [
    {
     "data": {
      "text/plain": [
       "<matplotlib.axes._subplots.AxesSubplot at 0x2679cbcc8b0>"
      ]
     },
     "execution_count": 21,
     "metadata": {},
     "output_type": "execute_result"
    },
    {
     "data": {
      "image/png": "[encoded data removed]",
      "text/plain": [
       "<Figure size 1080x360 with 1 Axes>"
      ]
     },
     "metadata": {
      "needs_background": "light"
     },
     "output_type": "display_data"
    }
   ],
   "source": [
    "plt.figure(figsize=(15,5))\n",
    "sns.countplot('incident_severity', hue='fraud_reported',data=df)"
   ]
  },
  {
   "cell_type": "code",
   "execution_count": 22,
   "metadata": {},
   "outputs": [],
   "source": [
    "# More frauds in major damage"
   ]
  },
  {
   "cell_type": "code",
   "execution_count": 23,
   "metadata": {},
   "outputs": [
    {
     "data": {
      "text/plain": [
       "<matplotlib.axes._subplots.AxesSubplot at 0x2679c33ec10>"
      ]
     },
     "execution_count": 23,
     "metadata": {},
     "output_type": "execute_result"
    },
    {
     "data": {
      "image/png": "[encoded data removed]",
      "text/plain": [
       "<Figure size 1080x360 with 1 Axes>"
      ]
     },
     "metadata": {
      "needs_background": "light"
     },
     "output_type": "display_data"
    }
   ],
   "source": [
    "plt.figure(figsize=(15,5))\n",
    "sns.countplot('authorities_contacted', hue='fraud_reported',data=df)"
   ]
  },
  {
   "cell_type": "code",
   "execution_count": 24,
   "metadata": {},
   "outputs": [
    {
     "data": {
      "text/plain": [
       "<matplotlib.axes._subplots.AxesSubplot at 0x2679cbd56a0>"
      ]
     },
     "execution_count": 24,
     "metadata": {},
     "output_type": "execute_result"
    },
    {
     "data": {
      "image/png": "[encoded data removed]",
      "text/plain": [
       "<Figure size 1080x360 with 1 Axes>"
      ]
     },
     "metadata": {
      "needs_background": "light"
     },
     "output_type": "display_data"
    }
   ],
   "source": [
    "plt.figure(figsize=(15,5))\n",
    "sns.countplot('incident_state', hue='fraud_reported',data=df)"
   ]
  },
  {
   "cell_type": "code",
   "execution_count": 25,
   "metadata": {},
   "outputs": [],
   "source": [
    "df.replace('?',np.NaN,inplace=True)"
   ]
  },
  {
   "cell_type": "code",
   "execution_count": 26,
   "metadata": {},
   "outputs": [
    {
     "data": {
      "text/plain": [
       "months_as_customer               0\n",
       "age                              0\n",
       "policy_number                    0\n",
       "policy_bind_date                 0\n",
       "policy_state                     0\n",
       "policy_csl                       0\n",
       "policy_deductable                0\n",
       "policy_annual_premium            0\n",
       "umbrella_limit                   0\n",
       "insured_zip                      0\n",
       "insured_sex                      0\n",
       "insured_education_level          0\n",
       "insured_occupation               0\n",
       "insured_hobbies                  0\n",
       "insured_relationship             0\n",
       "capital-gains                    0\n",
       "capital-loss                     0\n",
       "incident_date                    0\n",
       "incident_type                    0\n",
       "collision_type                 178\n",
       "incident_severity                0\n",
       "authorities_contacted            0\n",
       "incident_state                   0\n",
       "incident_city                    0\n",
       "incident_location                0\n",
       "incident_hour_of_the_day         0\n",
       "number_of_vehicles_involved      0\n",
       "property_damage                360\n",
       "bodily_injuries                  0\n",
       "witnesses                        0\n",
       "police_report_available        343\n",
       "total_claim_amount               0\n",
       "injury_claim                     0\n",
       "property_claim                   0\n",
       "vehicle_claim                    0\n",
       "auto_make                        0\n",
       "auto_model                       0\n",
       "auto_year                        0\n",
       "fraud_reported                   0\n",
       "dtype: int64"
      ]
     },
     "execution_count": 26,
     "metadata": {},
     "output_type": "execute_result"
    }
   ],
   "source": [
    "df.isnull().sum()"
   ]
  },
  {
   "cell_type": "code",
   "execution_count": 27,
   "metadata": {},
   "outputs": [],
   "source": [
    "# let us impute the missing values with mode of the feature\n",
    "df['collision_type'].fillna(df['collision_type'].value_counts().index[0], inplace = True)\n",
    "df['property_damage'].fillna(df['property_damage'].value_counts().index[0], inplace = True)\n",
    "df['police_report_available'].fillna(df['police_report_available'].value_counts().index[0], inplace = True)"
   ]
  },
  {
   "cell_type": "code",
   "execution_count": 28,
   "metadata": {},
   "outputs": [
    {
     "data": {
      "text/plain": [
       "months_as_customer             0\n",
       "age                            0\n",
       "policy_number                  0\n",
       "policy_bind_date               0\n",
       "policy_state                   0\n",
       "policy_csl                     0\n",
       "policy_deductable              0\n",
       "policy_annual_premium          0\n",
       "umbrella_limit                 0\n",
       "insured_zip                    0\n",
       "insured_sex                    0\n",
       "insured_education_level        0\n",
       "insured_occupation             0\n",
       "insured_hobbies                0\n",
       "insured_relationship           0\n",
       "capital-gains                  0\n",
       "capital-loss                   0\n",
       "incident_date                  0\n",
       "incident_type                  0\n",
       "collision_type                 0\n",
       "incident_severity              0\n",
       "authorities_contacted          0\n",
       "incident_state                 0\n",
       "incident_city                  0\n",
       "incident_location              0\n",
       "incident_hour_of_the_day       0\n",
       "number_of_vehicles_involved    0\n",
       "property_damage                0\n",
       "bodily_injuries                0\n",
       "witnesses                      0\n",
       "police_report_available        0\n",
       "total_claim_amount             0\n",
       "injury_claim                   0\n",
       "property_claim                 0\n",
       "vehicle_claim                  0\n",
       "auto_make                      0\n",
       "auto_model                     0\n",
       "auto_year                      0\n",
       "fraud_reported                 0\n",
       "dtype: int64"
      ]
     },
     "execution_count": 28,
     "metadata": {},
     "output_type": "execute_result"
    }
   ],
   "source": [
    "df.isnull().sum()"
   ]
  },
  {
   "cell_type": "code",
   "execution_count": 29,
   "metadata": {},
   "outputs": [],
   "source": [
    "df['age_bins'] = pd.cut(df.age, bins = [0, 10, 20, 30, 40, 50, 60, 70], include_lowest = True, labels = ['0-10','11-20','21-30','31-40', '41-50', '51-60', '61-70'])"
   ]
  },
  {
   "cell_type": "code",
   "execution_count": 30,
   "metadata": {},
   "outputs": [],
   "source": [
    "age_fraud = pd.crosstab(df['age_bins'], df['fraud_reported'])"
   ]
  },
  {
   "cell_type": "code",
   "execution_count": 31,
   "metadata": {},
   "outputs": [
    {
     "data": {
      "text/plain": [
       "<matplotlib.axes._subplots.AxesSubplot at 0x2679c34a460>"
      ]
     },
     "execution_count": 31,
     "metadata": {},
     "output_type": "execute_result"
    },
    {
     "data": {
      "image/png": "[encoded data removed]",
      "text/plain": [
       "<Figure size 720x432 with 1 Axes>"
      ]
     },
     "metadata": {
      "needs_background": "light"
     },
     "output_type": "display_data"
    }
   ],
   "source": [
    "age_fraud.plot(kind = 'bar', figsize = (10,6))"
   ]
  },
  {
   "cell_type": "code",
   "execution_count": 32,
   "metadata": {},
   "outputs": [],
   "source": [
    "df['policy_premium_bins'] = pd.cut(df.policy_annual_premium, bins = [0, 500, 1000, 1500, 2000], include_lowest = True, labels = ['0-500','501-1000','1001-1500','1501-2000'])"
   ]
  },
  {
   "cell_type": "code",
   "execution_count": 33,
   "metadata": {},
   "outputs": [],
   "source": [
    "policy_premium_fraud = pd.crosstab(df.policy_premium_bins, df.fraud_reported)"
   ]
  },
  {
   "cell_type": "code",
   "execution_count": 34,
   "metadata": {},
   "outputs": [
    {
     "data": {
      "text/plain": [
       "<matplotlib.axes._subplots.AxesSubplot at 0x2679cc77c40>"
      ]
     },
     "execution_count": 34,
     "metadata": {},
     "output_type": "execute_result"
    },
    {
     "data": {
      "image/png": "[encoded data removed]",
      "text/plain": [
       "<Figure size 720x432 with 1 Axes>"
      ]
     },
     "metadata": {
      "needs_background": "light"
     },
     "output_type": "display_data"
    }
   ],
   "source": [
    "policy_premium_fraud.plot(kind = 'bar', figsize = (10,6))"
   ]
  },
  {
   "cell_type": "code",
   "execution_count": 35,
   "metadata": {},
   "outputs": [
    {
     "data": {
      "text/plain": [
       "months_as_customer                      int64\n",
       "age                                     int64\n",
       "policy_number                           int64\n",
       "policy_bind_date               datetime64[ns]\n",
       "policy_state                           object\n",
       "policy_csl                             object\n",
       "policy_deductable                       int64\n",
       "policy_annual_premium                 float64\n",
       "umbrella_limit                          int64\n",
       "insured_zip                             int64\n",
       "insured_sex                            object\n",
       "insured_education_level                object\n",
       "insured_occupation                     object\n",
       "insured_hobbies                        object\n",
       "insured_relationship                   object\n",
       "capital-gains                           int64\n",
       "capital-loss                            int64\n",
       "incident_date                  datetime64[ns]\n",
       "incident_type                          object\n",
       "collision_type                         object\n",
       "incident_severity                      object\n",
       "authorities_contacted                  object\n",
       "incident_state                         object\n",
       "incident_city                          object\n",
       "incident_location                      object\n",
       "incident_hour_of_the_day                int64\n",
       "number_of_vehicles_involved             int64\n",
       "property_damage                        object\n",
       "bodily_injuries                         int64\n",
       "witnesses                               int64\n",
       "police_report_available                object\n",
       "total_claim_amount                      int64\n",
       "injury_claim                            int64\n",
       "property_claim                          int64\n",
       "vehicle_claim                           int64\n",
       "auto_make                              object\n",
       "auto_model                             object\n",
       "auto_year                               int64\n",
       "fraud_reported                         object\n",
       "age_bins                             category\n",
       "policy_premium_bins                  category\n",
       "dtype: object"
      ]
     },
     "execution_count": 35,
     "metadata": {},
     "output_type": "execute_result"
    }
   ],
   "source": [
    "df.dtypes"
   ]
  },
  {
   "cell_type": "code",
   "execution_count": 36,
   "metadata": {
    "scrolled": true
   },
   "outputs": [
    {
     "data": {
      "text/html": [
       "<div>\n",
       "<style scoped>\n",
       "    .dataframe tbody tr th:only-of-type {\n",
       "        vertical-align: middle;\n",
       "    }\n",
       "\n",
       "    .dataframe tbody tr th {\n",
       "        vertical-align: top;\n",
       "    }\n",
       "\n",
       "    .dataframe thead th {\n",
       "        text-align: right;\n",
       "    }\n",
       "</style>\n",
       "<table border=\"1\" class=\"dataframe\">\n",
       "  <thead>\n",
       "    <tr style=\"text-align: right;\">\n",
       "      <th></th>\n",
       "      <th>months_as_customer</th>\n",
       "      <th>age</th>\n",
       "      <th>policy_number</th>\n",
       "      <th>policy_bind_date</th>\n",
       "      <th>policy_state</th>\n",
       "      <th>policy_csl</th>\n",
       "      <th>policy_deductable</th>\n",
       "      <th>policy_annual_premium</th>\n",
       "      <th>umbrella_limit</th>\n",
       "      <th>insured_zip</th>\n",
       "      <th>...</th>\n",
       "      <th>total_claim_amount</th>\n",
       "      <th>injury_claim</th>\n",
       "      <th>property_claim</th>\n",
       "      <th>vehicle_claim</th>\n",
       "      <th>auto_make</th>\n",
       "      <th>auto_model</th>\n",
       "      <th>auto_year</th>\n",
       "      <th>fraud_reported</th>\n",
       "      <th>age_bins</th>\n",
       "      <th>policy_premium_bins</th>\n",
       "    </tr>\n",
       "  </thead>\n",
       "  <tbody>\n",
       "    <tr>\n",
       "      <th>0</th>\n",
       "      <td>328</td>\n",
       "      <td>48</td>\n",
       "      <td>521585</td>\n",
       "      <td>2014-10-17</td>\n",
       "      <td>OH</td>\n",
       "      <td>250/500</td>\n",
       "      <td>1000</td>\n",
       "      <td>1406.91</td>\n",
       "      <td>0</td>\n",
       "      <td>466132</td>\n",
       "      <td>...</td>\n",
       "      <td>71610</td>\n",
       "      <td>6510</td>\n",
       "      <td>13020</td>\n",
       "      <td>52080</td>\n",
       "      <td>Saab</td>\n",
       "      <td>92x</td>\n",
       "      <td>2004</td>\n",
       "      <td>Y</td>\n",
       "      <td>41-50</td>\n",
       "      <td>1001-1500</td>\n",
       "    </tr>\n",
       "    <tr>\n",
       "      <th>1</th>\n",
       "      <td>228</td>\n",
       "      <td>42</td>\n",
       "      <td>342868</td>\n",
       "      <td>2006-06-27</td>\n",
       "      <td>IN</td>\n",
       "      <td>250/500</td>\n",
       "      <td>2000</td>\n",
       "      <td>1197.22</td>\n",
       "      <td>5000000</td>\n",
       "      <td>468176</td>\n",
       "      <td>...</td>\n",
       "      <td>5070</td>\n",
       "      <td>780</td>\n",
       "      <td>780</td>\n",
       "      <td>3510</td>\n",
       "      <td>Mercedes</td>\n",
       "      <td>E400</td>\n",
       "      <td>2007</td>\n",
       "      <td>Y</td>\n",
       "      <td>41-50</td>\n",
       "      <td>1001-1500</td>\n",
       "    </tr>\n",
       "    <tr>\n",
       "      <th>2</th>\n",
       "      <td>134</td>\n",
       "      <td>29</td>\n",
       "      <td>687698</td>\n",
       "      <td>2000-06-09</td>\n",
       "      <td>OH</td>\n",
       "      <td>100/300</td>\n",
       "      <td>2000</td>\n",
       "      <td>1413.14</td>\n",
       "      <td>5000000</td>\n",
       "      <td>430632</td>\n",
       "      <td>...</td>\n",
       "      <td>34650</td>\n",
       "      <td>7700</td>\n",
       "      <td>3850</td>\n",
       "      <td>23100</td>\n",
       "      <td>Dodge</td>\n",
       "      <td>RAM</td>\n",
       "      <td>2007</td>\n",
       "      <td>N</td>\n",
       "      <td>21-30</td>\n",
       "      <td>1001-1500</td>\n",
       "    </tr>\n",
       "    <tr>\n",
       "      <th>3</th>\n",
       "      <td>256</td>\n",
       "      <td>41</td>\n",
       "      <td>227811</td>\n",
       "      <td>1990-05-25</td>\n",
       "      <td>IL</td>\n",
       "      <td>250/500</td>\n",
       "      <td>2000</td>\n",
       "      <td>1415.74</td>\n",
       "      <td>6000000</td>\n",
       "      <td>608117</td>\n",
       "      <td>...</td>\n",
       "      <td>63400</td>\n",
       "      <td>6340</td>\n",
       "      <td>6340</td>\n",
       "      <td>50720</td>\n",
       "      <td>Chevrolet</td>\n",
       "      <td>Tahoe</td>\n",
       "      <td>2014</td>\n",
       "      <td>Y</td>\n",
       "      <td>41-50</td>\n",
       "      <td>1001-1500</td>\n",
       "    </tr>\n",
       "    <tr>\n",
       "      <th>4</th>\n",
       "      <td>228</td>\n",
       "      <td>44</td>\n",
       "      <td>367455</td>\n",
       "      <td>2014-06-06</td>\n",
       "      <td>IL</td>\n",
       "      <td>500/1000</td>\n",
       "      <td>1000</td>\n",
       "      <td>1583.91</td>\n",
       "      <td>6000000</td>\n",
       "      <td>610706</td>\n",
       "      <td>...</td>\n",
       "      <td>6500</td>\n",
       "      <td>1300</td>\n",
       "      <td>650</td>\n",
       "      <td>4550</td>\n",
       "      <td>Accura</td>\n",
       "      <td>RSX</td>\n",
       "      <td>2009</td>\n",
       "      <td>N</td>\n",
       "      <td>41-50</td>\n",
       "      <td>1501-2000</td>\n",
       "    </tr>\n",
       "  </tbody>\n",
       "</table>\n",
       "<p>5 rows × 41 columns</p>\n",
       "</div>"
      ],
      "text/plain": [
       "   months_as_customer  age  policy_number policy_bind_date policy_state  \\\n",
       "0                 328   48         521585       2014-10-17           OH   \n",
       "1                 228   42         342868       2006-06-27           IN   \n",
       "2                 134   29         687698       2000-06-09           OH   \n",
       "3                 256   41         227811       1990-05-25           IL   \n",
       "4                 228   44         367455       2014-06-06           IL   \n",
       "\n",
       "  policy_csl  policy_deductable  policy_annual_premium  umbrella_limit  \\\n",
       "0    250/500               1000                1406.91               0   \n",
       "1    250/500               2000                1197.22         5000000   \n",
       "2    100/300               2000                1413.14         5000000   \n",
       "3    250/500               2000                1415.74         6000000   \n",
       "4   500/1000               1000                1583.91         6000000   \n",
       "\n",
       "   insured_zip  ... total_claim_amount injury_claim property_claim  \\\n",
       "0       466132  ...              71610         6510          13020   \n",
       "1       468176  ...               5070          780            780   \n",
       "2       430632  ...              34650         7700           3850   \n",
       "3       608117  ...              63400         6340           6340   \n",
       "4       610706  ...               6500         1300            650   \n",
       "\n",
       "  vehicle_claim  auto_make  auto_model  auto_year fraud_reported age_bins  \\\n",
       "0         52080       Saab         92x       2004              Y    41-50   \n",
       "1          3510   Mercedes        E400       2007              Y    41-50   \n",
       "2         23100      Dodge         RAM       2007              N    21-30   \n",
       "3         50720  Chevrolet       Tahoe       2014              Y    41-50   \n",
       "4          4550     Accura         RSX       2009              N    41-50   \n",
       "\n",
       "  policy_premium_bins  \n",
       "0           1001-1500  \n",
       "1           1001-1500  \n",
       "2           1001-1500  \n",
       "3           1001-1500  \n",
       "4           1501-2000  \n",
       "\n",
       "[5 rows x 41 columns]"
      ]
     },
     "execution_count": 36,
     "metadata": {},
     "output_type": "execute_result"
    }
   ],
   "source": [
    "df.head()"
   ]
  },
  {
   "cell_type": "code",
   "execution_count": 37,
   "metadata": {},
   "outputs": [],
   "source": [
    "df.drop(columns = ['policy_bind_date','policy_csl','insured_zip','insured_education_level','insured_occupation', 'insured_occupation','insured_hobbies','insured_relationship', 'incident_date', 'incident_state', 'incident_city', 'incident_type', 'authorities_contacted', 'property_damage', 'injury_claim', 'property_claim', 'vehicle_claim','age_bins', 'policy_premium_bins'], axis = 1, inplace = True)"
   ]
  },
  {
   "cell_type": "code",
   "execution_count": 38,
   "metadata": {},
   "outputs": [],
   "source": [
    "df_code = df[['policy_state','insured_sex', 'collision_type', 'incident_severity', 'police_report_available']]"
   ]
  },
  {
   "cell_type": "code",
   "execution_count": 39,
   "metadata": {},
   "outputs": [],
   "source": [
    "from sklearn.preprocessing import OneHotEncoder"
   ]
  },
  {
   "cell_type": "code",
   "execution_count": 40,
   "metadata": {},
   "outputs": [],
   "source": [
    "enc=OneHotEncoder(sparse = False)"
   ]
  },
  {
   "cell_type": "code",
   "execution_count": 41,
   "metadata": {},
   "outputs": [
    {
     "data": {
      "text/plain": [
       "OneHotEncoder(sparse=False)"
      ]
     },
     "execution_count": 41,
     "metadata": {},
     "output_type": "execute_result"
    }
   ],
   "source": [
    "enc.fit(df_code)"
   ]
  },
  {
   "cell_type": "code",
   "execution_count": 42,
   "metadata": {},
   "outputs": [],
   "source": [
    "df_coded = enc.transform(df_code)"
   ]
  },
  {
   "cell_type": "code",
   "execution_count": 43,
   "metadata": {},
   "outputs": [],
   "source": [
    "columns = ['OH', 'IN', 'IL', \n",
    "                                'Insured_Male', 'Insured_Female',\n",
    "                                'Side_Collison','Rear _Collison','Front Collison',\n",
    "                                'Major Damage','Minor Damage','Total Loss','Trivial Damage'\n",
    "                                'Police Report available', 'Police report not available']"
   ]
  },
  {
   "cell_type": "code",
   "execution_count": 44,
   "metadata": {},
   "outputs": [],
   "source": [
    "df2= pd.DataFrame(df_coded, columns = ['OH', 'IN', 'IL', 'Insured_Male', 'Insured_Female', 'Side_Collison','Rear _Collison','Front Collison', 'Major Damage','Minor Damage','Total Loss','Trivial Damage', 'Police Report available', 'Police report not available'])"
   ]
  },
  {
   "cell_type": "code",
   "execution_count": 45,
   "metadata": {},
   "outputs": [],
   "source": [
    "df= pd.concat([df, df2], axis = 1)"
   ]
  },
  {
   "cell_type": "code",
   "execution_count": 46,
   "metadata": {},
   "outputs": [
    {
     "data": {
      "text/html": [
       "<div>\n",
       "<style scoped>\n",
       "    .dataframe tbody tr th:only-of-type {\n",
       "        vertical-align: middle;\n",
       "    }\n",
       "\n",
       "    .dataframe tbody tr th {\n",
       "        vertical-align: top;\n",
       "    }\n",
       "\n",
       "    .dataframe thead th {\n",
       "        text-align: right;\n",
       "    }\n",
       "</style>\n",
       "<table border=\"1\" class=\"dataframe\">\n",
       "  <thead>\n",
       "    <tr style=\"text-align: right;\">\n",
       "      <th></th>\n",
       "      <th>months_as_customer</th>\n",
       "      <th>age</th>\n",
       "      <th>policy_number</th>\n",
       "      <th>policy_state</th>\n",
       "      <th>policy_deductable</th>\n",
       "      <th>policy_annual_premium</th>\n",
       "      <th>umbrella_limit</th>\n",
       "      <th>insured_sex</th>\n",
       "      <th>capital-gains</th>\n",
       "      <th>capital-loss</th>\n",
       "      <th>...</th>\n",
       "      <th>Insured_Female</th>\n",
       "      <th>Side_Collison</th>\n",
       "      <th>Rear _Collison</th>\n",
       "      <th>Front Collison</th>\n",
       "      <th>Major Damage</th>\n",
       "      <th>Minor Damage</th>\n",
       "      <th>Total Loss</th>\n",
       "      <th>Trivial Damage</th>\n",
       "      <th>Police Report available</th>\n",
       "      <th>Police report not available</th>\n",
       "    </tr>\n",
       "  </thead>\n",
       "  <tbody>\n",
       "    <tr>\n",
       "      <th>0</th>\n",
       "      <td>328</td>\n",
       "      <td>48</td>\n",
       "      <td>521585</td>\n",
       "      <td>OH</td>\n",
       "      <td>1000</td>\n",
       "      <td>1406.91</td>\n",
       "      <td>0</td>\n",
       "      <td>MALE</td>\n",
       "      <td>53300</td>\n",
       "      <td>0</td>\n",
       "      <td>...</td>\n",
       "      <td>1.0</td>\n",
       "      <td>0.0</td>\n",
       "      <td>0.0</td>\n",
       "      <td>1.0</td>\n",
       "      <td>1.0</td>\n",
       "      <td>0.0</td>\n",
       "      <td>0.0</td>\n",
       "      <td>0.0</td>\n",
       "      <td>0.0</td>\n",
       "      <td>1.0</td>\n",
       "    </tr>\n",
       "    <tr>\n",
       "      <th>1</th>\n",
       "      <td>228</td>\n",
       "      <td>42</td>\n",
       "      <td>342868</td>\n",
       "      <td>IN</td>\n",
       "      <td>2000</td>\n",
       "      <td>1197.22</td>\n",
       "      <td>5000000</td>\n",
       "      <td>MALE</td>\n",
       "      <td>0</td>\n",
       "      <td>0</td>\n",
       "      <td>...</td>\n",
       "      <td>1.0</td>\n",
       "      <td>0.0</td>\n",
       "      <td>1.0</td>\n",
       "      <td>0.0</td>\n",
       "      <td>0.0</td>\n",
       "      <td>1.0</td>\n",
       "      <td>0.0</td>\n",
       "      <td>0.0</td>\n",
       "      <td>1.0</td>\n",
       "      <td>0.0</td>\n",
       "    </tr>\n",
       "    <tr>\n",
       "      <th>2</th>\n",
       "      <td>134</td>\n",
       "      <td>29</td>\n",
       "      <td>687698</td>\n",
       "      <td>OH</td>\n",
       "      <td>2000</td>\n",
       "      <td>1413.14</td>\n",
       "      <td>5000000</td>\n",
       "      <td>FEMALE</td>\n",
       "      <td>35100</td>\n",
       "      <td>0</td>\n",
       "      <td>...</td>\n",
       "      <td>0.0</td>\n",
       "      <td>0.0</td>\n",
       "      <td>1.0</td>\n",
       "      <td>0.0</td>\n",
       "      <td>0.0</td>\n",
       "      <td>1.0</td>\n",
       "      <td>0.0</td>\n",
       "      <td>0.0</td>\n",
       "      <td>1.0</td>\n",
       "      <td>0.0</td>\n",
       "    </tr>\n",
       "    <tr>\n",
       "      <th>3</th>\n",
       "      <td>256</td>\n",
       "      <td>41</td>\n",
       "      <td>227811</td>\n",
       "      <td>IL</td>\n",
       "      <td>2000</td>\n",
       "      <td>1415.74</td>\n",
       "      <td>6000000</td>\n",
       "      <td>FEMALE</td>\n",
       "      <td>48900</td>\n",
       "      <td>-62400</td>\n",
       "      <td>...</td>\n",
       "      <td>0.0</td>\n",
       "      <td>1.0</td>\n",
       "      <td>0.0</td>\n",
       "      <td>0.0</td>\n",
       "      <td>1.0</td>\n",
       "      <td>0.0</td>\n",
       "      <td>0.0</td>\n",
       "      <td>0.0</td>\n",
       "      <td>1.0</td>\n",
       "      <td>0.0</td>\n",
       "    </tr>\n",
       "    <tr>\n",
       "      <th>4</th>\n",
       "      <td>228</td>\n",
       "      <td>44</td>\n",
       "      <td>367455</td>\n",
       "      <td>IL</td>\n",
       "      <td>1000</td>\n",
       "      <td>1583.91</td>\n",
       "      <td>6000000</td>\n",
       "      <td>MALE</td>\n",
       "      <td>66000</td>\n",
       "      <td>-46000</td>\n",
       "      <td>...</td>\n",
       "      <td>1.0</td>\n",
       "      <td>0.0</td>\n",
       "      <td>1.0</td>\n",
       "      <td>0.0</td>\n",
       "      <td>0.0</td>\n",
       "      <td>1.0</td>\n",
       "      <td>0.0</td>\n",
       "      <td>0.0</td>\n",
       "      <td>1.0</td>\n",
       "      <td>0.0</td>\n",
       "    </tr>\n",
       "    <tr>\n",
       "      <th>...</th>\n",
       "      <td>...</td>\n",
       "      <td>...</td>\n",
       "      <td>...</td>\n",
       "      <td>...</td>\n",
       "      <td>...</td>\n",
       "      <td>...</td>\n",
       "      <td>...</td>\n",
       "      <td>...</td>\n",
       "      <td>...</td>\n",
       "      <td>...</td>\n",
       "      <td>...</td>\n",
       "      <td>...</td>\n",
       "      <td>...</td>\n",
       "      <td>...</td>\n",
       "      <td>...</td>\n",
       "      <td>...</td>\n",
       "      <td>...</td>\n",
       "      <td>...</td>\n",
       "      <td>...</td>\n",
       "      <td>...</td>\n",
       "      <td>...</td>\n",
       "    </tr>\n",
       "    <tr>\n",
       "      <th>995</th>\n",
       "      <td>3</td>\n",
       "      <td>38</td>\n",
       "      <td>941851</td>\n",
       "      <td>OH</td>\n",
       "      <td>1000</td>\n",
       "      <td>1310.80</td>\n",
       "      <td>0</td>\n",
       "      <td>FEMALE</td>\n",
       "      <td>0</td>\n",
       "      <td>0</td>\n",
       "      <td>...</td>\n",
       "      <td>0.0</td>\n",
       "      <td>1.0</td>\n",
       "      <td>0.0</td>\n",
       "      <td>0.0</td>\n",
       "      <td>0.0</td>\n",
       "      <td>1.0</td>\n",
       "      <td>0.0</td>\n",
       "      <td>0.0</td>\n",
       "      <td>1.0</td>\n",
       "      <td>0.0</td>\n",
       "    </tr>\n",
       "    <tr>\n",
       "      <th>996</th>\n",
       "      <td>285</td>\n",
       "      <td>41</td>\n",
       "      <td>186934</td>\n",
       "      <td>IL</td>\n",
       "      <td>1000</td>\n",
       "      <td>1436.79</td>\n",
       "      <td>0</td>\n",
       "      <td>FEMALE</td>\n",
       "      <td>70900</td>\n",
       "      <td>0</td>\n",
       "      <td>...</td>\n",
       "      <td>0.0</td>\n",
       "      <td>0.0</td>\n",
       "      <td>1.0</td>\n",
       "      <td>0.0</td>\n",
       "      <td>1.0</td>\n",
       "      <td>0.0</td>\n",
       "      <td>0.0</td>\n",
       "      <td>0.0</td>\n",
       "      <td>1.0</td>\n",
       "      <td>0.0</td>\n",
       "    </tr>\n",
       "    <tr>\n",
       "      <th>997</th>\n",
       "      <td>130</td>\n",
       "      <td>34</td>\n",
       "      <td>918516</td>\n",
       "      <td>OH</td>\n",
       "      <td>500</td>\n",
       "      <td>1383.49</td>\n",
       "      <td>3000000</td>\n",
       "      <td>FEMALE</td>\n",
       "      <td>35100</td>\n",
       "      <td>0</td>\n",
       "      <td>...</td>\n",
       "      <td>0.0</td>\n",
       "      <td>0.0</td>\n",
       "      <td>0.0</td>\n",
       "      <td>1.0</td>\n",
       "      <td>0.0</td>\n",
       "      <td>1.0</td>\n",
       "      <td>0.0</td>\n",
       "      <td>0.0</td>\n",
       "      <td>0.0</td>\n",
       "      <td>1.0</td>\n",
       "    </tr>\n",
       "    <tr>\n",
       "      <th>998</th>\n",
       "      <td>458</td>\n",
       "      <td>62</td>\n",
       "      <td>533940</td>\n",
       "      <td>IL</td>\n",
       "      <td>2000</td>\n",
       "      <td>1356.92</td>\n",
       "      <td>5000000</td>\n",
       "      <td>MALE</td>\n",
       "      <td>0</td>\n",
       "      <td>0</td>\n",
       "      <td>...</td>\n",
       "      <td>1.0</td>\n",
       "      <td>0.0</td>\n",
       "      <td>1.0</td>\n",
       "      <td>0.0</td>\n",
       "      <td>1.0</td>\n",
       "      <td>0.0</td>\n",
       "      <td>0.0</td>\n",
       "      <td>0.0</td>\n",
       "      <td>0.0</td>\n",
       "      <td>1.0</td>\n",
       "    </tr>\n",
       "    <tr>\n",
       "      <th>999</th>\n",
       "      <td>456</td>\n",
       "      <td>60</td>\n",
       "      <td>556080</td>\n",
       "      <td>OH</td>\n",
       "      <td>1000</td>\n",
       "      <td>766.19</td>\n",
       "      <td>0</td>\n",
       "      <td>FEMALE</td>\n",
       "      <td>0</td>\n",
       "      <td>0</td>\n",
       "      <td>...</td>\n",
       "      <td>0.0</td>\n",
       "      <td>0.0</td>\n",
       "      <td>1.0</td>\n",
       "      <td>0.0</td>\n",
       "      <td>0.0</td>\n",
       "      <td>1.0</td>\n",
       "      <td>0.0</td>\n",
       "      <td>0.0</td>\n",
       "      <td>1.0</td>\n",
       "      <td>0.0</td>\n",
       "    </tr>\n",
       "  </tbody>\n",
       "</table>\n",
       "<p>1000 rows × 37 columns</p>\n",
       "</div>"
      ],
      "text/plain": [
       "     months_as_customer  age  policy_number policy_state  policy_deductable  \\\n",
       "0                   328   48         521585           OH               1000   \n",
       "1                   228   42         342868           IN               2000   \n",
       "2                   134   29         687698           OH               2000   \n",
       "3                   256   41         227811           IL               2000   \n",
       "4                   228   44         367455           IL               1000   \n",
       "..                  ...  ...            ...          ...                ...   \n",
       "995                   3   38         941851           OH               1000   \n",
       "996                 285   41         186934           IL               1000   \n",
       "997                 130   34         918516           OH                500   \n",
       "998                 458   62         533940           IL               2000   \n",
       "999                 456   60         556080           OH               1000   \n",
       "\n",
       "     policy_annual_premium  umbrella_limit insured_sex  capital-gains  \\\n",
       "0                  1406.91               0        MALE          53300   \n",
       "1                  1197.22         5000000        MALE              0   \n",
       "2                  1413.14         5000000      FEMALE          35100   \n",
       "3                  1415.74         6000000      FEMALE          48900   \n",
       "4                  1583.91         6000000        MALE          66000   \n",
       "..                     ...             ...         ...            ...   \n",
       "995                1310.80               0      FEMALE              0   \n",
       "996                1436.79               0      FEMALE          70900   \n",
       "997                1383.49         3000000      FEMALE          35100   \n",
       "998                1356.92         5000000        MALE              0   \n",
       "999                 766.19               0      FEMALE              0   \n",
       "\n",
       "     capital-loss  ... Insured_Female Side_Collison Rear _Collison  \\\n",
       "0               0  ...            1.0           0.0            0.0   \n",
       "1               0  ...            1.0           0.0            1.0   \n",
       "2               0  ...            0.0           0.0            1.0   \n",
       "3          -62400  ...            0.0           1.0            0.0   \n",
       "4          -46000  ...            1.0           0.0            1.0   \n",
       "..            ...  ...            ...           ...            ...   \n",
       "995             0  ...            0.0           1.0            0.0   \n",
       "996             0  ...            0.0           0.0            1.0   \n",
       "997             0  ...            0.0           0.0            0.0   \n",
       "998             0  ...            1.0           0.0            1.0   \n",
       "999             0  ...            0.0           0.0            1.0   \n",
       "\n",
       "     Front Collison  Major Damage  Minor Damage  Total Loss Trivial Damage  \\\n",
       "0               1.0           1.0           0.0         0.0            0.0   \n",
       "1               0.0           0.0           1.0         0.0            0.0   \n",
       "2               0.0           0.0           1.0         0.0            0.0   \n",
       "3               0.0           1.0           0.0         0.0            0.0   \n",
       "4               0.0           0.0           1.0         0.0            0.0   \n",
       "..              ...           ...           ...         ...            ...   \n",
       "995             0.0           0.0           1.0         0.0            0.0   \n",
       "996             0.0           1.0           0.0         0.0            0.0   \n",
       "997             1.0           0.0           1.0         0.0            0.0   \n",
       "998             0.0           1.0           0.0         0.0            0.0   \n",
       "999             0.0           0.0           1.0         0.0            0.0   \n",
       "\n",
       "     Police Report available Police report not available  \n",
       "0                        0.0                         1.0  \n",
       "1                        1.0                         0.0  \n",
       "2                        1.0                         0.0  \n",
       "3                        1.0                         0.0  \n",
       "4                        1.0                         0.0  \n",
       "..                       ...                         ...  \n",
       "995                      1.0                         0.0  \n",
       "996                      1.0                         0.0  \n",
       "997                      0.0                         1.0  \n",
       "998                      0.0                         1.0  \n",
       "999                      1.0                         0.0  \n",
       "\n",
       "[1000 rows x 37 columns]"
      ]
     },
     "execution_count": 46,
     "metadata": {},
     "output_type": "execute_result"
    }
   ],
   "source": [
    "df"
   ]
  },
  {
   "cell_type": "code",
   "execution_count": 47,
   "metadata": {},
   "outputs": [],
   "source": [
    "df.drop(['policy_state','insured_sex','collision_type', 'incident_severity','police_report_available'], axis = 1, inplace = True)"
   ]
  },
  {
   "cell_type": "code",
   "execution_count": 48,
   "metadata": {},
   "outputs": [
    {
     "data": {
      "text/plain": [
       "months_as_customer               int64\n",
       "age                              int64\n",
       "policy_number                    int64\n",
       "policy_deductable                int64\n",
       "policy_annual_premium          float64\n",
       "umbrella_limit                   int64\n",
       "capital-gains                    int64\n",
       "capital-loss                     int64\n",
       "incident_location               object\n",
       "incident_hour_of_the_day         int64\n",
       "number_of_vehicles_involved      int64\n",
       "bodily_injuries                  int64\n",
       "witnesses                        int64\n",
       "total_claim_amount               int64\n",
       "auto_make                       object\n",
       "auto_model                      object\n",
       "auto_year                        int64\n",
       "fraud_reported                  object\n",
       "OH                             float64\n",
       "IN                             float64\n",
       "IL                             float64\n",
       "Insured_Male                   float64\n",
       "Insured_Female                 float64\n",
       "Side_Collison                  float64\n",
       "Rear _Collison                 float64\n",
       "Front Collison                 float64\n",
       "Major Damage                   float64\n",
       "Minor Damage                   float64\n",
       "Total Loss                     float64\n",
       "Trivial Damage                 float64\n",
       "Police Report available        float64\n",
       "Police report not available    float64\n",
       "dtype: object"
      ]
     },
     "execution_count": 48,
     "metadata": {},
     "output_type": "execute_result"
    }
   ],
   "source": [
    "df.dtypes"
   ]
  },
  {
   "cell_type": "code",
   "execution_count": 49,
   "metadata": {},
   "outputs": [],
   "source": [
    "df.drop(['incident_location','auto_make','auto_model'],axis=1,inplace=True)\n"
   ]
  },
  {
   "cell_type": "code",
   "execution_count": 50,
   "metadata": {},
   "outputs": [],
   "source": [
    "df['fraud_reported']=df['fraud_reported'].replace({'Y':1,'N':0})"
   ]
  },
  {
   "cell_type": "code",
   "execution_count": 51,
   "metadata": {},
   "outputs": [],
   "source": [
    "x=df.drop('fraud_reported',axis=1)\n",
    "y=df['fraud_reported']"
   ]
  },
  {
   "cell_type": "code",
   "execution_count": 52,
   "metadata": {},
   "outputs": [
    {
     "data": {
      "text/html": [
       "<div>\n",
       "<style scoped>\n",
       "    .dataframe tbody tr th:only-of-type {\n",
       "        vertical-align: middle;\n",
       "    }\n",
       "\n",
       "    .dataframe tbody tr th {\n",
       "        vertical-align: top;\n",
       "    }\n",
       "\n",
       "    .dataframe thead th {\n",
       "        text-align: right;\n",
       "    }\n",
       "</style>\n",
       "<table border=\"1\" class=\"dataframe\">\n",
       "  <thead>\n",
       "    <tr style=\"text-align: right;\">\n",
       "      <th></th>\n",
       "      <th>months_as_customer</th>\n",
       "      <th>age</th>\n",
       "      <th>policy_number</th>\n",
       "      <th>policy_deductable</th>\n",
       "      <th>policy_annual_premium</th>\n",
       "      <th>umbrella_limit</th>\n",
       "      <th>capital-gains</th>\n",
       "      <th>capital-loss</th>\n",
       "      <th>incident_hour_of_the_day</th>\n",
       "      <th>number_of_vehicles_involved</th>\n",
       "      <th>...</th>\n",
       "      <th>Insured_Female</th>\n",
       "      <th>Side_Collison</th>\n",
       "      <th>Rear _Collison</th>\n",
       "      <th>Front Collison</th>\n",
       "      <th>Major Damage</th>\n",
       "      <th>Minor Damage</th>\n",
       "      <th>Total Loss</th>\n",
       "      <th>Trivial Damage</th>\n",
       "      <th>Police Report available</th>\n",
       "      <th>Police report not available</th>\n",
       "    </tr>\n",
       "  </thead>\n",
       "  <tbody>\n",
       "    <tr>\n",
       "      <th>0</th>\n",
       "      <td>328</td>\n",
       "      <td>48</td>\n",
       "      <td>521585</td>\n",
       "      <td>1000</td>\n",
       "      <td>1406.91</td>\n",
       "      <td>0</td>\n",
       "      <td>53300</td>\n",
       "      <td>0</td>\n",
       "      <td>5</td>\n",
       "      <td>1</td>\n",
       "      <td>...</td>\n",
       "      <td>1.0</td>\n",
       "      <td>0.0</td>\n",
       "      <td>0.0</td>\n",
       "      <td>1.0</td>\n",
       "      <td>1.0</td>\n",
       "      <td>0.0</td>\n",
       "      <td>0.0</td>\n",
       "      <td>0.0</td>\n",
       "      <td>0.0</td>\n",
       "      <td>1.0</td>\n",
       "    </tr>\n",
       "    <tr>\n",
       "      <th>1</th>\n",
       "      <td>228</td>\n",
       "      <td>42</td>\n",
       "      <td>342868</td>\n",
       "      <td>2000</td>\n",
       "      <td>1197.22</td>\n",
       "      <td>5000000</td>\n",
       "      <td>0</td>\n",
       "      <td>0</td>\n",
       "      <td>8</td>\n",
       "      <td>1</td>\n",
       "      <td>...</td>\n",
       "      <td>1.0</td>\n",
       "      <td>0.0</td>\n",
       "      <td>1.0</td>\n",
       "      <td>0.0</td>\n",
       "      <td>0.0</td>\n",
       "      <td>1.0</td>\n",
       "      <td>0.0</td>\n",
       "      <td>0.0</td>\n",
       "      <td>1.0</td>\n",
       "      <td>0.0</td>\n",
       "    </tr>\n",
       "    <tr>\n",
       "      <th>2</th>\n",
       "      <td>134</td>\n",
       "      <td>29</td>\n",
       "      <td>687698</td>\n",
       "      <td>2000</td>\n",
       "      <td>1413.14</td>\n",
       "      <td>5000000</td>\n",
       "      <td>35100</td>\n",
       "      <td>0</td>\n",
       "      <td>7</td>\n",
       "      <td>3</td>\n",
       "      <td>...</td>\n",
       "      <td>0.0</td>\n",
       "      <td>0.0</td>\n",
       "      <td>1.0</td>\n",
       "      <td>0.0</td>\n",
       "      <td>0.0</td>\n",
       "      <td>1.0</td>\n",
       "      <td>0.0</td>\n",
       "      <td>0.0</td>\n",
       "      <td>1.0</td>\n",
       "      <td>0.0</td>\n",
       "    </tr>\n",
       "    <tr>\n",
       "      <th>3</th>\n",
       "      <td>256</td>\n",
       "      <td>41</td>\n",
       "      <td>227811</td>\n",
       "      <td>2000</td>\n",
       "      <td>1415.74</td>\n",
       "      <td>6000000</td>\n",
       "      <td>48900</td>\n",
       "      <td>-62400</td>\n",
       "      <td>5</td>\n",
       "      <td>1</td>\n",
       "      <td>...</td>\n",
       "      <td>0.0</td>\n",
       "      <td>1.0</td>\n",
       "      <td>0.0</td>\n",
       "      <td>0.0</td>\n",
       "      <td>1.0</td>\n",
       "      <td>0.0</td>\n",
       "      <td>0.0</td>\n",
       "      <td>0.0</td>\n",
       "      <td>1.0</td>\n",
       "      <td>0.0</td>\n",
       "    </tr>\n",
       "    <tr>\n",
       "      <th>4</th>\n",
       "      <td>228</td>\n",
       "      <td>44</td>\n",
       "      <td>367455</td>\n",
       "      <td>1000</td>\n",
       "      <td>1583.91</td>\n",
       "      <td>6000000</td>\n",
       "      <td>66000</td>\n",
       "      <td>-46000</td>\n",
       "      <td>20</td>\n",
       "      <td>1</td>\n",
       "      <td>...</td>\n",
       "      <td>1.0</td>\n",
       "      <td>0.0</td>\n",
       "      <td>1.0</td>\n",
       "      <td>0.0</td>\n",
       "      <td>0.0</td>\n",
       "      <td>1.0</td>\n",
       "      <td>0.0</td>\n",
       "      <td>0.0</td>\n",
       "      <td>1.0</td>\n",
       "      <td>0.0</td>\n",
       "    </tr>\n",
       "    <tr>\n",
       "      <th>...</th>\n",
       "      <td>...</td>\n",
       "      <td>...</td>\n",
       "      <td>...</td>\n",
       "      <td>...</td>\n",
       "      <td>...</td>\n",
       "      <td>...</td>\n",
       "      <td>...</td>\n",
       "      <td>...</td>\n",
       "      <td>...</td>\n",
       "      <td>...</td>\n",
       "      <td>...</td>\n",
       "      <td>...</td>\n",
       "      <td>...</td>\n",
       "      <td>...</td>\n",
       "      <td>...</td>\n",
       "      <td>...</td>\n",
       "      <td>...</td>\n",
       "      <td>...</td>\n",
       "      <td>...</td>\n",
       "      <td>...</td>\n",
       "      <td>...</td>\n",
       "    </tr>\n",
       "    <tr>\n",
       "      <th>995</th>\n",
       "      <td>3</td>\n",
       "      <td>38</td>\n",
       "      <td>941851</td>\n",
       "      <td>1000</td>\n",
       "      <td>1310.80</td>\n",
       "      <td>0</td>\n",
       "      <td>0</td>\n",
       "      <td>0</td>\n",
       "      <td>20</td>\n",
       "      <td>1</td>\n",
       "      <td>...</td>\n",
       "      <td>0.0</td>\n",
       "      <td>1.0</td>\n",
       "      <td>0.0</td>\n",
       "      <td>0.0</td>\n",
       "      <td>0.0</td>\n",
       "      <td>1.0</td>\n",
       "      <td>0.0</td>\n",
       "      <td>0.0</td>\n",
       "      <td>1.0</td>\n",
       "      <td>0.0</td>\n",
       "    </tr>\n",
       "    <tr>\n",
       "      <th>996</th>\n",
       "      <td>285</td>\n",
       "      <td>41</td>\n",
       "      <td>186934</td>\n",
       "      <td>1000</td>\n",
       "      <td>1436.79</td>\n",
       "      <td>0</td>\n",
       "      <td>70900</td>\n",
       "      <td>0</td>\n",
       "      <td>23</td>\n",
       "      <td>1</td>\n",
       "      <td>...</td>\n",
       "      <td>0.0</td>\n",
       "      <td>0.0</td>\n",
       "      <td>1.0</td>\n",
       "      <td>0.0</td>\n",
       "      <td>1.0</td>\n",
       "      <td>0.0</td>\n",
       "      <td>0.0</td>\n",
       "      <td>0.0</td>\n",
       "      <td>1.0</td>\n",
       "      <td>0.0</td>\n",
       "    </tr>\n",
       "    <tr>\n",
       "      <th>997</th>\n",
       "      <td>130</td>\n",
       "      <td>34</td>\n",
       "      <td>918516</td>\n",
       "      <td>500</td>\n",
       "      <td>1383.49</td>\n",
       "      <td>3000000</td>\n",
       "      <td>35100</td>\n",
       "      <td>0</td>\n",
       "      <td>4</td>\n",
       "      <td>3</td>\n",
       "      <td>...</td>\n",
       "      <td>0.0</td>\n",
       "      <td>0.0</td>\n",
       "      <td>0.0</td>\n",
       "      <td>1.0</td>\n",
       "      <td>0.0</td>\n",
       "      <td>1.0</td>\n",
       "      <td>0.0</td>\n",
       "      <td>0.0</td>\n",
       "      <td>0.0</td>\n",
       "      <td>1.0</td>\n",
       "    </tr>\n",
       "    <tr>\n",
       "      <th>998</th>\n",
       "      <td>458</td>\n",
       "      <td>62</td>\n",
       "      <td>533940</td>\n",
       "      <td>2000</td>\n",
       "      <td>1356.92</td>\n",
       "      <td>5000000</td>\n",
       "      <td>0</td>\n",
       "      <td>0</td>\n",
       "      <td>2</td>\n",
       "      <td>1</td>\n",
       "      <td>...</td>\n",
       "      <td>1.0</td>\n",
       "      <td>0.0</td>\n",
       "      <td>1.0</td>\n",
       "      <td>0.0</td>\n",
       "      <td>1.0</td>\n",
       "      <td>0.0</td>\n",
       "      <td>0.0</td>\n",
       "      <td>0.0</td>\n",
       "      <td>0.0</td>\n",
       "      <td>1.0</td>\n",
       "    </tr>\n",
       "    <tr>\n",
       "      <th>999</th>\n",
       "      <td>456</td>\n",
       "      <td>60</td>\n",
       "      <td>556080</td>\n",
       "      <td>1000</td>\n",
       "      <td>766.19</td>\n",
       "      <td>0</td>\n",
       "      <td>0</td>\n",
       "      <td>0</td>\n",
       "      <td>6</td>\n",
       "      <td>1</td>\n",
       "      <td>...</td>\n",
       "      <td>0.0</td>\n",
       "      <td>0.0</td>\n",
       "      <td>1.0</td>\n",
       "      <td>0.0</td>\n",
       "      <td>0.0</td>\n",
       "      <td>1.0</td>\n",
       "      <td>0.0</td>\n",
       "      <td>0.0</td>\n",
       "      <td>1.0</td>\n",
       "      <td>0.0</td>\n",
       "    </tr>\n",
       "  </tbody>\n",
       "</table>\n",
       "<p>1000 rows × 28 columns</p>\n",
       "</div>"
      ],
      "text/plain": [
       "     months_as_customer  age  policy_number  policy_deductable  \\\n",
       "0                   328   48         521585               1000   \n",
       "1                   228   42         342868               2000   \n",
       "2                   134   29         687698               2000   \n",
       "3                   256   41         227811               2000   \n",
       "4                   228   44         367455               1000   \n",
       "..                  ...  ...            ...                ...   \n",
       "995                   3   38         941851               1000   \n",
       "996                 285   41         186934               1000   \n",
       "997                 130   34         918516                500   \n",
       "998                 458   62         533940               2000   \n",
       "999                 456   60         556080               1000   \n",
       "\n",
       "     policy_annual_premium  umbrella_limit  capital-gains  capital-loss  \\\n",
       "0                  1406.91               0          53300             0   \n",
       "1                  1197.22         5000000              0             0   \n",
       "2                  1413.14         5000000          35100             0   \n",
       "3                  1415.74         6000000          48900        -62400   \n",
       "4                  1583.91         6000000          66000        -46000   \n",
       "..                     ...             ...            ...           ...   \n",
       "995                1310.80               0              0             0   \n",
       "996                1436.79               0          70900             0   \n",
       "997                1383.49         3000000          35100             0   \n",
       "998                1356.92         5000000              0             0   \n",
       "999                 766.19               0              0             0   \n",
       "\n",
       "     incident_hour_of_the_day  number_of_vehicles_involved  ...  \\\n",
       "0                           5                            1  ...   \n",
       "1                           8                            1  ...   \n",
       "2                           7                            3  ...   \n",
       "3                           5                            1  ...   \n",
       "4                          20                            1  ...   \n",
       "..                        ...                          ...  ...   \n",
       "995                        20                            1  ...   \n",
       "996                        23                            1  ...   \n",
       "997                         4                            3  ...   \n",
       "998                         2                            1  ...   \n",
       "999                         6                            1  ...   \n",
       "\n",
       "     Insured_Female  Side_Collison  Rear _Collison  Front Collison  \\\n",
       "0               1.0            0.0             0.0             1.0   \n",
       "1               1.0            0.0             1.0             0.0   \n",
       "2               0.0            0.0             1.0             0.0   \n",
       "3               0.0            1.0             0.0             0.0   \n",
       "4               1.0            0.0             1.0             0.0   \n",
       "..              ...            ...             ...             ...   \n",
       "995             0.0            1.0             0.0             0.0   \n",
       "996             0.0            0.0             1.0             0.0   \n",
       "997             0.0            0.0             0.0             1.0   \n",
       "998             1.0            0.0             1.0             0.0   \n",
       "999             0.0            0.0             1.0             0.0   \n",
       "\n",
       "     Major Damage  Minor Damage  Total Loss  Trivial Damage  \\\n",
       "0             1.0           0.0         0.0             0.0   \n",
       "1             0.0           1.0         0.0             0.0   \n",
       "2             0.0           1.0         0.0             0.0   \n",
       "3             1.0           0.0         0.0             0.0   \n",
       "4             0.0           1.0         0.0             0.0   \n",
       "..            ...           ...         ...             ...   \n",
       "995           0.0           1.0         0.0             0.0   \n",
       "996           1.0           0.0         0.0             0.0   \n",
       "997           0.0           1.0         0.0             0.0   \n",
       "998           1.0           0.0         0.0             0.0   \n",
       "999           0.0           1.0         0.0             0.0   \n",
       "\n",
       "     Police Report available  Police report not available  \n",
       "0                        0.0                          1.0  \n",
       "1                        1.0                          0.0  \n",
       "2                        1.0                          0.0  \n",
       "3                        1.0                          0.0  \n",
       "4                        1.0                          0.0  \n",
       "..                       ...                          ...  \n",
       "995                      1.0                          0.0  \n",
       "996                      1.0                          0.0  \n",
       "997                      0.0                          1.0  \n",
       "998                      0.0                          1.0  \n",
       "999                      1.0                          0.0  \n",
       "\n",
       "[1000 rows x 28 columns]"
      ]
     },
     "execution_count": 52,
     "metadata": {},
     "output_type": "execute_result"
    }
   ],
   "source": [
    "x"
   ]
  },
  {
   "cell_type": "code",
   "execution_count": 53,
   "metadata": {},
   "outputs": [],
   "source": [
    "from sklearn.preprocessing import StandardScaler\n",
    "ss=StandardScaler()\n",
    "x=ss.fit_transform(x)"
   ]
  },
  {
   "cell_type": "code",
   "execution_count": 54,
   "metadata": {},
   "outputs": [],
   "source": [
    "from sklearn.tree import DecisionTreeClassifier\n",
    "from sklearn.model_selection import train_test_split\n",
    "from sklearn.metrics import roc_auc_score,accuracy_score,f1_score"
   ]
  },
  {
   "cell_type": "code",
   "execution_count": 67,
   "metadata": {},
   "outputs": [
    {
     "name": "stdout",
     "output_type": "stream",
     "text": [
      "Accuracy Score =  0.6727272727272727\n",
      "AUC_ROC= 0.5960743801652894\n"
     ]
    }
   ],
   "source": [
    "x_train, x_test, y_train, y_test = train_test_split(x, y,random_state = 42,test_size=0.33)\n",
    "dtc=DecisionTreeClassifier()\n",
    "dtc.fit(x_train,y_train)\n",
    "y_pred=dtc.predict(x_test)\n",
    "print('Accuracy Score = ', accuracy_score(y_test,y_pred))\n",
    "print(\"AUC_ROC=\", roc_auc_score(y_test,y_pred))"
   ]
  },
  {
   "cell_type": "code",
   "execution_count": 56,
   "metadata": {},
   "outputs": [
    {
     "data": {
      "text/plain": [
       "0.6520728922402561"
      ]
     },
     "execution_count": 56,
     "metadata": {},
     "output_type": "execute_result"
    }
   ],
   "source": [
    "f1_score(y_test,y_pred, average='weighted')"
   ]
  },
  {
   "cell_type": "code",
   "execution_count": 57,
   "metadata": {},
   "outputs": [],
   "source": [
    "from sklearn.model_selection import train_test_split\n",
    "from sklearn.metrics import roc_auc_score,accuracy_score,f1_score\n",
    "def max_auc_roc_score(algo,x,y):\n",
    "    max_auc_roc_score=0\n",
    "    for r_state in range(42,100):\n",
    "        x_train, x_test, y_train, y_test = train_test_split(x, y,random_state = r_state,test_size=0.20)\n",
    "        algo.fit(x_train,y_train)\n",
    "        y_pred = algo.predict(x_test)\n",
    "        aucroc_scr=roc_auc_score(y_test,y_pred)\n",
    "        print(\"auc roc score corresponding to \",r_state,\" is \",aucroc_scr)\n",
    "        if aucroc_scr>max_auc_roc_score:\n",
    "            max_auc_roc_score=aucroc_scr\n",
    "            final_r_state=r_state\n",
    "    print(\"max auc roc score corresponding to \",final_r_state,\" is \",max_auc_roc_score)\n",
    "    print(\"Accuracy is=\",accuracy_score(y_test,y_pred))\n",
    "    print(\"F1 Score= \",f1_score(y_test,y_pred))\n",
    "    return final_r_state"
   ]
  },
  {
   "cell_type": "code",
   "execution_count": 58,
   "metadata": {},
   "outputs": [
    {
     "name": "stdout",
     "output_type": "stream",
     "text": [
      "auc roc score corresponding to  42  is  0.5918495297805642\n",
      "auc roc score corresponding to  43  is  0.608830109224898\n",
      "auc roc score corresponding to  44  is  0.595118898623279\n",
      "auc roc score corresponding to  45  is  0.5335856196783348\n",
      "auc roc score corresponding to  46  is  0.5597689231225005\n",
      "auc roc score corresponding to  47  is  0.6423751686909581\n",
      "auc roc score corresponding to  48  is  0.6169379144062688\n",
      "auc roc score corresponding to  49  is  0.6267832489645652\n",
      "auc roc score corresponding to  50  is  0.5996415770609319\n",
      "auc roc score corresponding to  51  is  0.6294178794178794\n",
      "auc roc score corresponding to  52  is  0.5885872066267832\n",
      "auc roc score corresponding to  53  is  0.6407523510971787\n",
      "auc roc score corresponding to  54  is  0.6214633504408474\n",
      "auc roc score corresponding to  55  is  0.6344041162564316\n",
      "auc roc score corresponding to  56  is  0.5559006211180124\n",
      "auc roc score corresponding to  57  is  0.5824454591577879\n",
      "auc roc score corresponding to  58  is  0.5548245614035087\n",
      "auc roc score corresponding to  59  is  0.5824454591577879\n",
      "auc roc score corresponding to  60  is  0.5669265756985056\n",
      "auc roc score corresponding to  61  is  0.6266666666666667\n",
      "auc roc score corresponding to  62  is  0.5481150793650793\n",
      "auc roc score corresponding to  63  is  0.5920515857349651\n",
      "auc roc score corresponding to  64  is  0.6951986500997086\n",
      "auc roc score corresponding to  65  is  0.6373676944316613\n",
      "auc roc score corresponding to  66  is  0.562394127611519\n",
      "auc roc score corresponding to  67  is  0.6912225705329154\n",
      "auc roc score corresponding to  68  is  0.6046594982078853\n",
      "auc roc score corresponding to  69  is  0.5746766791823112\n",
      "auc roc score corresponding to  70  is  0.5766108574327752\n",
      "auc roc score corresponding to  71  is  0.5526315789473684\n",
      "auc roc score corresponding to  72  is  0.6727272727272727\n",
      "auc roc score corresponding to  73  is  0.6304824561403508\n",
      "auc roc score corresponding to  74  is  0.5670469880996196\n",
      "auc roc score corresponding to  75  is  0.5119982224855577\n",
      "auc roc score corresponding to  76  is  0.6220970657766652\n",
      "auc roc score corresponding to  77  is  0.6384369350577109\n",
      "auc roc score corresponding to  78  is  0.5615904365904366\n",
      "auc roc score corresponding to  79  is  0.6446090141742316\n",
      "auc roc score corresponding to  80  is  0.5787944316799568\n",
      "auc roc score corresponding to  81  is  0.6052844979051223\n",
      "auc roc score corresponding to  82  is  0.6496881496881497\n",
      "auc roc score corresponding to  83  is  0.5666666666666668\n",
      "auc roc score corresponding to  84  is  0.6162280701754386\n",
      "auc roc score corresponding to  85  is  0.662004662004662\n",
      "auc roc score corresponding to  86  is  0.6134000770119369\n",
      "auc roc score corresponding to  87  is  0.5745920745920745\n",
      "auc roc score corresponding to  88  is  0.5759856630824373\n",
      "auc roc score corresponding to  89  is  0.6361185983827493\n",
      "auc roc score corresponding to  90  is  0.5903094875697615\n",
      "auc roc score corresponding to  91  is  0.5695340501792114\n",
      "auc roc score corresponding to  92  is  0.61\n",
      "auc roc score corresponding to  93  is  0.6078132927447997\n",
      "auc roc score corresponding to  94  is  0.6364394814529585\n",
      "auc roc score corresponding to  95  is  0.6461038961038961\n",
      "auc roc score corresponding to  96  is  0.6024892226394103\n",
      "auc roc score corresponding to  97  is  0.6617324561403509\n",
      "auc roc score corresponding to  98  is  0.5638939119951778\n",
      "auc roc score corresponding to  99  is  0.6066666666666666\n",
      "max auc roc score corresponding to  64  is  0.6951986500997086\n",
      "Accuracy is= 0.69\n",
      "F1 Score=  0.4150943396226415\n"
     ]
    },
    {
     "data": {
      "text/plain": [
       "64"
      ]
     },
     "execution_count": 58,
     "metadata": {},
     "output_type": "execute_result"
    }
   ],
   "source": [
    "max_auc_roc_score(dtc,x,y)"
   ]
  },
  {
   "cell_type": "code",
   "execution_count": 59,
   "metadata": {},
   "outputs": [
    {
     "name": "stdout",
     "output_type": "stream",
     "text": [
      "auc roc score corresponding to  42  is  0.6457680250783698\n",
      "auc roc score corresponding to  43  is  0.7045663903145151\n",
      "auc roc score corresponding to  44  is  0.6924628007231262\n",
      "auc roc score corresponding to  45  is  0.6753615353426139\n",
      "auc roc score corresponding to  46  is  0.7270034069026812\n",
      "auc roc score corresponding to  47  is  0.7002208317997791\n",
      "auc roc score corresponding to  48  is  0.7136829415310428\n",
      "auc roc score corresponding to  49  is  0.6861481822365394\n",
      "auc roc score corresponding to  50  is  0.7021505376344086\n",
      "auc roc score corresponding to  51  is  0.7117983367983367\n",
      "auc roc score corresponding to  52  is  0.7270286853811935\n",
      "auc roc score corresponding to  53  is  0.7141065830721003\n",
      "auc roc score corresponding to  54  is  0.6877878668245822\n",
      "auc roc score corresponding to  55  is  0.761159783062161\n",
      "auc roc score corresponding to  56  is  0.7100508187464709\n",
      "auc roc score corresponding to  57  is  0.7634449518011163\n",
      "auc roc score corresponding to  58  is  0.6557017543859649\n",
      "auc roc score corresponding to  59  is  0.6406646372399796\n",
      "auc roc score corresponding to  60  is  0.7153996101364523\n",
      "auc roc score corresponding to  61  is  0.7233333333333333\n",
      "auc roc score corresponding to  62  is  0.694940476190476\n",
      "auc roc score corresponding to  63  is  0.6877878668245822\n",
      "auc roc score corresponding to  64  is  0.7652247277189754\n",
      "auc roc score corresponding to  65  is  0.773048013499003\n",
      "auc roc score corresponding to  66  is  0.656832298136646\n",
      "auc roc score corresponding to  67  is  0.7231974921630093\n",
      "auc roc score corresponding to  68  is  0.7591397849462365\n",
      "auc roc score corresponding to  69  is  0.7194409678765123\n",
      "auc roc score corresponding to  70  is  0.6893708777270421\n",
      "auc roc score corresponding to  71  is  0.6540570175438597\n",
      "auc roc score corresponding to  72  is  0.7426332288401254\n",
      "auc roc score corresponding to  73  is  0.7505482456140351\n",
      "auc roc score corresponding to  74  is  0.7072138387927861\n",
      "auc roc score corresponding to  75  is  0.7249296400533255\n",
      "auc roc score corresponding to  76  is  0.7488527325823947\n",
      "auc roc score corresponding to  77  is  0.7136698651091643\n",
      "auc roc score corresponding to  78  is  0.6852910602910602\n",
      "auc roc score corresponding to  79  is  0.6939003025959548\n",
      "auc roc score corresponding to  80  is  0.7398972834166779\n",
      "auc roc score corresponding to  81  is  0.6993512636842817\n",
      "auc roc score corresponding to  82  is  0.6800935550935552\n",
      "auc roc score corresponding to  83  is  0.7233333333333333\n",
      "auc roc score corresponding to  84  is  0.7176535087719299\n",
      "auc roc score corresponding to  85  is  0.7345571095571095\n",
      "auc roc score corresponding to  86  is  0.7078680528815299\n",
      "auc roc score corresponding to  87  is  0.7167832167832169\n",
      "auc roc score corresponding to  88  is  0.7193548387096774\n",
      "auc roc score corresponding to  89  is  0.6908612501604415\n",
      "auc roc score corresponding to  90  is  0.6825215626585489\n",
      "auc roc score corresponding to  91  is  0.7401433691756272\n",
      "auc roc score corresponding to  92  is  0.7133333333333334\n",
      "auc roc score corresponding to  93  is  0.7298325722983258\n",
      "auc roc score corresponding to  94  is  0.7063278141445256\n",
      "auc roc score corresponding to  95  is  0.7720214568040654\n",
      "auc roc score corresponding to  96  is  0.7455847587261855\n",
      "auc roc score corresponding to  97  is  0.6902412280701754\n",
      "auc roc score corresponding to  98  is  0.6534056660638939\n",
      "auc roc score corresponding to  99  is  0.64\n",
      "max auc roc score corresponding to  65  is  0.773048013499003\n",
      "Accuracy is= 0.74\n",
      "F1 Score=  0.4583333333333333\n"
     ]
    },
    {
     "data": {
      "text/plain": [
       "65"
      ]
     },
     "execution_count": 59,
     "metadata": {},
     "output_type": "execute_result"
    }
   ],
   "source": [
    "from sklearn.linear_model import LogisticRegression\n",
    "lr=LogisticRegression()\n",
    "max_auc_roc_score(lr,x,y)"
   ]
  },
  {
   "cell_type": "code",
   "execution_count": 60,
   "metadata": {},
   "outputs": [
    {
     "data": {
      "text/plain": [
       "{'criterion': 'gini', 'n_estimators': 100}"
      ]
     },
     "execution_count": 60,
     "metadata": {},
     "output_type": "execute_result"
    }
   ],
   "source": [
    "from sklearn.ensemble import RandomForestClassifier\n",
    "from sklearn.model_selection import GridSearchCV\n",
    "parameters={\"n_estimators\":[10,100,500],'criterion' : (\"gini\", \"entropy\")}\n",
    "rf=RandomForestClassifier()\n",
    "gsv = GridSearchCV(rf, parameters, cv=5,scoring=\"roc_auc\")\n",
    "gsv.fit(x,y)\n",
    "gsv.best_params_"
   ]
  },
  {
   "cell_type": "code",
   "execution_count": 62,
   "metadata": {},
   "outputs": [
    {
     "name": "stdout",
     "output_type": "stream",
     "text": [
      "auc roc score corresponding to  42  is  0.6457680250783698\n",
      "auc roc score corresponding to  43  is  0.6356757468087906\n",
      "auc roc score corresponding to  44  is  0.6523432067862607\n",
      "auc roc score corresponding to  45  is  0.6648871469117449\n",
      "auc roc score corresponding to  46  is  0.665679158643164\n",
      "auc roc score corresponding to  47  is  0.668629615998037\n",
      "auc roc score corresponding to  48  is  0.6653104279686559\n",
      "auc roc score corresponding to  49  is  0.6676637521092192\n",
      "auc roc score corresponding to  50  is  0.6896057347670251\n",
      "auc roc score corresponding to  51  is  0.6642411642411643\n",
      "auc roc score corresponding to  52  is  0.6876821598404664\n",
      "auc roc score corresponding to  53  is  0.6686520376175549\n",
      "auc roc score corresponding to  54  is  0.5863929464403211\n",
      "auc roc score corresponding to  55  is  0.7177722152690864\n",
      "auc roc score corresponding to  56  is  0.7111801242236024\n",
      "auc roc score corresponding to  57  is  0.6547437848807712\n",
      "auc roc score corresponding to  58  is  0.5904605263157895\n",
      "auc roc score corresponding to  59  is  0.5768645357686453\n",
      "auc roc score corresponding to  60  is  0.689083820662768\n",
      "auc roc score corresponding to  61  is  0.6766666666666666\n",
      "auc roc score corresponding to  62  is  0.6076388888888888\n",
      "auc roc score corresponding to  63  is  0.6614686142913542\n",
      "auc roc score corresponding to  64  is  0.722733548090198\n",
      "auc roc score corresponding to  65  is  0.742751955821445\n",
      "auc roc score corresponding to  66  is  0.6503387916431395\n",
      "auc roc score corresponding to  67  is  0.6504702194357367\n",
      "auc roc score corresponding to  68  is  0.7290322580645162\n",
      "auc roc score corresponding to  69  is  0.7268112918926436\n",
      "auc roc score corresponding to  70  is  0.667427701674277\n",
      "auc roc score corresponding to  71  is  0.6814692982456141\n",
      "auc roc score corresponding to  72  is  0.6504702194357367\n",
      "auc roc score corresponding to  73  is  0.6705043859649124\n",
      "auc roc score corresponding to  74  is  0.6739050423260949\n",
      "auc roc score corresponding to  75  is  0.7080432528514294\n",
      "auc roc score corresponding to  76  is  0.7128354888054511\n",
      "auc roc score corresponding to  77  is  0.6367681824502851\n",
      "auc roc score corresponding to  78  is  0.6756756756756757\n",
      "auc roc score corresponding to  79  is  0.6523331740723045\n",
      "auc roc score corresponding to  80  is  0.6546830652790919\n",
      "auc roc score corresponding to  81  is  0.7161778618732261\n",
      "auc roc score corresponding to  82  is  0.7156964656964657\n",
      "auc roc score corresponding to  83  is  0.65\n",
      "auc roc score corresponding to  84  is  0.5712719298245613\n",
      "auc roc score corresponding to  85  is  0.6468531468531469\n",
      "auc roc score corresponding to  86  is  0.6255936336798871\n",
      "auc roc score corresponding to  87  is  0.6681235431235432\n",
      "auc roc score corresponding to  88  is  0.686021505376344\n",
      "auc roc score corresponding to  89  is  0.6617892439994865\n",
      "auc roc score corresponding to  90  is  0.6503044140030441\n",
      "auc roc score corresponding to  91  is  0.6544802867383512\n",
      "auc roc score corresponding to  92  is  0.6166666666666667\n",
      "auc roc score corresponding to  93  is  0.6338153221714865\n",
      "auc roc score corresponding to  94  is  0.7149916570401745\n",
      "auc roc score corresponding to  95  is  0.7111801242236024\n",
      "auc roc score corresponding to  96  is  0.6891252955082742\n",
      "auc roc score corresponding to  97  is  0.6798245614035087\n",
      "auc roc score corresponding to  98  is  0.6383363471971066\n",
      "auc roc score corresponding to  99  is  0.6499999999999999\n",
      "max auc roc score corresponding to  65  is  0.742751955821445\n",
      "Accuracy is= 0.745\n",
      "F1 Score=  0.4742268041237113\n"
     ]
    },
    {
     "data": {
      "text/plain": [
       "65"
      ]
     },
     "execution_count": 62,
     "metadata": {},
     "output_type": "execute_result"
    }
   ],
   "source": [
    "rf=RandomForestClassifier(criterion='gini',n_estimators=100)\n",
    "max_auc_roc_score(rf,x,y)"
   ]
  },
  {
   "cell_type": "code",
   "execution_count": 70,
   "metadata": {},
   "outputs": [
    {
     "name": "stdout",
     "output_type": "stream",
     "text": [
      "auc roc score corresponding to  42  is  0.7410658307210031\n",
      "auc roc score corresponding to  43  is  0.740163179365706\n",
      "auc roc score corresponding to  44  is  0.7039354748991795\n",
      "auc roc score corresponding to  45  is  0.7266522503040952\n",
      "auc roc score corresponding to  46  is  0.749148274329729\n",
      "auc roc score corresponding to  47  is  0.7686786897313213\n",
      "auc roc score corresponding to  48  is  0.7216696805304401\n",
      "auc roc score corresponding to  49  is  0.688909341923608\n",
      "auc roc score corresponding to  50  is  0.7433691756272401\n",
      "auc roc score corresponding to  51  is  0.7655925155925156\n",
      "auc roc score corresponding to  52  is  0.8061052308636294\n",
      "auc roc score corresponding to  53  is  0.7843260188087775\n",
      "auc roc score corresponding to  54  is  0.7463482037110146\n",
      "auc roc score corresponding to  55  is  0.8045473508552357\n",
      "auc roc score corresponding to  56  is  0.7622811970638057\n",
      "auc roc score corresponding to  57  is  0.8053018772196854\n",
      "auc roc score corresponding to  58  is  0.7258771929824562\n",
      "auc roc score corresponding to  59  is  0.7936326737696601\n",
      "auc roc score corresponding to  60  is  0.7587719298245613\n",
      "auc roc score corresponding to  61  is  0.7633333333333334\n",
      "auc roc score corresponding to  62  is  0.711309523809524\n",
      "auc roc score corresponding to  63  is  0.7396367943150415\n",
      "auc roc score corresponding to  64  is  0.7589354195428747\n",
      "auc roc score corresponding to  65  is  0.8033440711765608\n",
      "auc roc score corresponding to  66  is  0.7014398644833426\n",
      "auc roc score corresponding to  67  is  0.7764890282131661\n",
      "auc roc score corresponding to  68  is  0.760573476702509\n",
      "auc roc score corresponding to  69  is  0.7808371575580586\n",
      "auc roc score corresponding to  70  is  0.74974632166413\n",
      "auc roc score corresponding to  71  is  0.7275219298245614\n",
      "auc roc score corresponding to  72  is  0.7855799373040752\n",
      "auc roc score corresponding to  73  is  0.7927631578947368\n",
      "auc roc score corresponding to  74  is  0.7405839774260827\n",
      "auc roc score corresponding to  75  is  0.8031402755147385\n",
      "auc roc score corresponding to  76  is  0.7783340286469198\n",
      "auc roc score corresponding to  77  is  0.7431511611736894\n",
      "auc roc score corresponding to  78  is  0.6977650727650728\n",
      "auc roc score corresponding to  79  is  0.719939480809046\n",
      "auc roc score corresponding to  80  is  0.770779835112853\n",
      "auc roc score corresponding to  81  is  0.7539532369239087\n",
      "auc roc score corresponding to  82  is  0.8175675675675675\n",
      "auc roc score corresponding to  83  is  0.7666666666666667\n",
      "auc roc score corresponding to  84  is  0.7565789473684211\n",
      "auc roc score corresponding to  85  is  0.7476689976689976\n",
      "auc roc score corresponding to  86  is  0.7603003465537159\n",
      "auc roc score corresponding to  87  is  0.7494172494172494\n",
      "auc roc score corresponding to  88  is  0.7272401433691756\n",
      "auc roc score corresponding to  89  is  0.755358747272494\n",
      "auc roc score corresponding to  90  is  0.7151192288178588\n",
      "auc roc score corresponding to  91  is  0.7448028673835125\n",
      "auc roc score corresponding to  92  is  0.7633333333333334\n",
      "auc roc score corresponding to  93  is  0.7624302384576357\n",
      "auc roc score corresponding to  94  is  0.7964959568733154\n",
      "auc roc score corresponding to  95  is  0.805759457933371\n",
      "auc roc score corresponding to  96  is  0.7930746766791823\n",
      "auc roc score corresponding to  97  is  0.7774122807017543\n",
      "auc roc score corresponding to  98  is  0.694695599758891\n",
      "auc roc score corresponding to  99  is  0.6733333333333333\n",
      "max auc roc score corresponding to  82  is  0.8175675675675675\n",
      "Accuracy is= 0.75\n",
      "F1 Score=  0.5098039215686274\n"
     ]
    },
    {
     "data": {
      "text/plain": [
       "82"
      ]
     },
     "execution_count": 70,
     "metadata": {},
     "output_type": "execute_result"
    }
   ],
   "source": [
    "from sklearn.svm import SVC\n",
    "svc=SVC(kernel='linear')\n",
    "max_auc_roc_score(svc,x,y)"
   ]
  },
  {
   "cell_type": "code",
   "execution_count": 64,
   "metadata": {
    "scrolled": true
   },
   "outputs": [
    {
     "name": "stdout",
     "output_type": "stream",
     "text": [
      "auc roc score corresponding to  42  is  0.613166144200627\n",
      "auc roc score corresponding to  43  is  0.6331096196868008\n",
      "auc roc score corresponding to  44  is  0.6645807259073842\n",
      "auc roc score corresponding to  45  is  0.6819840518989053\n",
      "auc roc score corresponding to  46  is  0.6519774848170642\n",
      "auc roc score corresponding to  47  is  0.6369770580296896\n",
      "auc roc score corresponding to  48  is  0.6184448462929476\n",
      "auc roc score corresponding to  49  is  0.5767755790765455\n",
      "auc roc score corresponding to  50  is  0.7057347670250896\n",
      "auc roc score corresponding to  51  is  0.5906964656964657\n",
      "auc roc score corresponding to  52  is  0.6329958582604694\n",
      "auc roc score corresponding to  53  is  0.667398119122257\n",
      "auc roc score corresponding to  54  is  0.6294907224634821\n",
      "auc roc score corresponding to  55  is  0.6498400778751218\n",
      "auc roc score corresponding to  56  is  0.677442123094297\n",
      "auc roc score corresponding to  57  is  0.6718670725520041\n",
      "auc roc score corresponding to  58  is  0.6414473684210527\n",
      "auc roc score corresponding to  59  is  0.615296803652968\n",
      "auc roc score corresponding to  60  is  0.6689408706952567\n",
      "auc roc score corresponding to  61  is  0.6300000000000001\n",
      "auc roc score corresponding to  62  is  0.601190476190476\n",
      "auc roc score corresponding to  63  is  0.6423871562047637\n",
      "auc roc score corresponding to  64  is  0.671575394999233\n",
      "auc roc score corresponding to  65  is  0.6573861021629084\n",
      "auc roc score corresponding to  66  is  0.6284584980237155\n",
      "auc roc score corresponding to  67  is  0.6426332288401254\n",
      "auc roc score corresponding to  68  is  0.6562724014336918\n",
      "auc roc score corresponding to  69  is  0.6539424280350438\n",
      "auc roc score corresponding to  70  is  0.6660324708269915\n",
      "auc roc score corresponding to  71  is  0.6589912280701755\n",
      "auc roc score corresponding to  72  is  0.6755485893416928\n",
      "auc roc score corresponding to  73  is  0.6765350877192983\n",
      "auc roc score corresponding to  74  is  0.6387559808612441\n",
      "auc roc score corresponding to  75  is  0.59813360983558\n",
      "auc roc score corresponding to  76  is  0.6874565429008482\n",
      "auc roc score corresponding to  77  is  0.6670143234598803\n",
      "auc roc score corresponding to  78  is  0.6185031185031185\n",
      "auc roc score corresponding to  79  is  0.6200828157349896\n",
      "auc roc score corresponding to  80  is  0.640356804973645\n",
      "auc roc score corresponding to  81  is  0.6817137451006894\n",
      "auc roc score corresponding to  82  is  0.6772349272349272\n",
      "auc roc score corresponding to  83  is  0.6566666666666666\n",
      "auc roc score corresponding to  84  is  0.6447368421052632\n",
      "auc roc score corresponding to  85  is  0.6255827505827506\n",
      "auc roc score corresponding to  86  is  0.6478629187524066\n",
      "auc roc score corresponding to  87  is  0.6515151515151515\n",
      "auc roc score corresponding to  88  is  0.6594982078853047\n",
      "auc roc score corresponding to  89  is  0.6195610319599538\n",
      "auc roc score corresponding to  90  is  0.6372399797057331\n",
      "auc roc score corresponding to  91  is  0.6118279569892473\n",
      "auc roc score corresponding to  92  is  0.6466666666666666\n",
      "auc roc score corresponding to  93  is  0.6440892947742263\n",
      "auc roc score corresponding to  94  is  0.6599281221922731\n",
      "auc roc score corresponding to  95  is  0.6665725578769057\n",
      "auc roc score corresponding to  96  is  0.606452510082047\n",
      "auc roc score corresponding to  97  is  0.6716008771929824\n",
      "auc roc score corresponding to  98  is  0.5858951175406871\n",
      "auc roc score corresponding to  99  is  0.5966666666666667\n",
      "max auc roc score corresponding to  50  is  0.7057347670250896\n",
      "Accuracy is= 0.725\n",
      "F1 Score=  0.38202247191011235\n"
     ]
    },
    {
     "data": {
      "text/plain": [
       "50"
      ]
     },
     "execution_count": 64,
     "metadata": {},
     "output_type": "execute_result"
    }
   ],
   "source": [
    "from sklearn.neighbors import KNeighborsClassifier\n",
    "knn=KNeighborsClassifier()\n",
    "max_auc_roc_score(knn,x,y)"
   ]
  },
  {
   "cell_type": "code",
   "execution_count": 65,
   "metadata": {
    "scrolled": true
   },
   "outputs": [
    {
     "name": "stdout",
     "output_type": "stream",
     "text": [
      "auc roc score corresponding to  42  is  0.6150470219435736\n",
      "auc roc score corresponding to  43  is  0.6916699565732334\n",
      "auc roc score corresponding to  44  is  0.6286330134890835\n",
      "auc roc score corresponding to  45  is  0.6957696986079199\n",
      "auc roc score corresponding to  46  is  0.7386313138794253\n",
      "auc roc score corresponding to  47  is  0.6756226229910441\n",
      "auc roc score corresponding to  48  is  0.6422543701024713\n",
      "auc roc score corresponding to  49  is  0.6224114127933732\n",
      "auc roc score corresponding to  50  is  0.6802867383512545\n",
      "auc roc score corresponding to  51  is  0.7021829521829521\n",
      "auc roc score corresponding to  52  is  0.6566191133609449\n",
      "auc roc score corresponding to  53  is  0.6742946708463949\n",
      "auc roc score corresponding to  54  is  0.6844321621265955\n",
      "auc roc score corresponding to  55  is  0.6711166736198024\n",
      "auc roc score corresponding to  56  is  0.6915584415584416\n",
      "auc roc score corresponding to  57  is  0.6615930999492644\n",
      "auc roc score corresponding to  58  is  0.6041666666666666\n",
      "auc roc score corresponding to  59  is  0.6338153221714865\n",
      "auc roc score corresponding to  60  is  0.672027290448343\n",
      "auc roc score corresponding to  61  is  0.6966666666666667\n",
      "auc roc score corresponding to  62  is  0.632440476190476\n",
      "auc roc score corresponding to  63  is  0.6614686142913542\n",
      "auc roc score corresponding to  64  is  0.7258782021782484\n",
      "auc roc score corresponding to  65  is  0.6967326277036355\n",
      "auc roc score corresponding to  66  is  0.6394692264257481\n",
      "auc roc score corresponding to  67  is  0.6811912225705329\n",
      "auc roc score corresponding to  68  is  0.6716845878136201\n",
      "auc roc score corresponding to  69  is  0.6809901265470727\n",
      "auc roc score corresponding to  70  is  0.6060375443937088\n",
      "auc roc score corresponding to  71  is  0.6299342105263158\n",
      "auc roc score corresponding to  72  is  0.6617554858934169\n",
      "auc roc score corresponding to  73  is  0.6984649122807017\n",
      "auc roc score corresponding to  74  is  0.6580787633419213\n",
      "auc roc score corresponding to  75  is  0.6382758109909643\n",
      "auc roc score corresponding to  76  is  0.6702822973160896\n",
      "auc roc score corresponding to  77  is  0.6932276456681963\n",
      "auc roc score corresponding to  78  is  0.6982848232848232\n",
      "auc roc score corresponding to  79  is  0.6169772256728778\n",
      "auc roc score corresponding to  80  is  0.7156372482767943\n",
      "auc roc score corresponding to  81  is  0.6924584403297744\n",
      "auc roc score corresponding to  82  is  0.7450623700623702\n",
      "auc roc score corresponding to  83  is  0.6766666666666666\n",
      "auc roc score corresponding to  84  is  0.6343201754385965\n",
      "auc roc score corresponding to  85  is  0.6354895104895104\n",
      "auc roc score corresponding to  86  is  0.6444615582081888\n",
      "auc roc score corresponding to  87  is  0.6486013986013986\n",
      "auc roc score corresponding to  88  is  0.6670250896057348\n",
      "auc roc score corresponding to  89  is  0.678796046720575\n",
      "auc roc score corresponding to  90  is  0.6708523592085236\n",
      "auc roc score corresponding to  91  is  0.646594982078853\n",
      "auc roc score corresponding to  92  is  0.6133333333333334\n",
      "auc roc score corresponding to  93  is  0.7054794520547946\n",
      "auc roc score corresponding to  94  is  0.6772558079835708\n",
      "auc roc score corresponding to  95  is  0.7361660079051383\n",
      "auc roc score corresponding to  96  is  0.7284105131414267\n",
      "auc roc score corresponding to  97  is  0.6798245614035087\n",
      "auc roc score corresponding to  98  is  0.6772151898734177\n",
      "auc roc score corresponding to  99  is  0.6066666666666666\n",
      "max auc roc score corresponding to  82  is  0.7450623700623702\n",
      "Accuracy is= 0.72\n",
      "F1 Score=  0.4042553191489362\n"
     ]
    },
    {
     "data": {
      "text/plain": [
       "82"
      ]
     },
     "execution_count": 65,
     "metadata": {},
     "output_type": "execute_result"
    }
   ],
   "source": [
    "from sklearn.ensemble import GradientBoostingClassifier\n",
    "gbc=GradientBoostingClassifier()\n",
    "max_auc_roc_score(gbc,x,y)"
   ]
  },
  {
   "cell_type": "code",
   "execution_count": 66,
   "metadata": {},
   "outputs": [
    {
     "name": "stdout",
     "output_type": "stream",
     "text": [
      "auc roc score corresponding to  42  is  0.6072100313479624\n",
      "auc roc score corresponding to  43  is  0.6292275299381498\n",
      "auc roc score corresponding to  44  is  0.5737727715199554\n",
      "auc roc score corresponding to  45  is  0.6279226922557103\n",
      "auc roc score corresponding to  46  is  0.6679010516960451\n",
      "auc roc score corresponding to  47  is  0.6299840510366826\n",
      "auc roc score corresponding to  48  is  0.6216094032549729\n",
      "auc roc score corresponding to  49  is  0.6196502531063046\n",
      "auc roc score corresponding to  50  is  0.6021505376344085\n",
      "auc roc score corresponding to  51  is  0.6733367983367983\n",
      "auc roc score corresponding to  52  is  0.6727258782021782\n",
      "auc roc score corresponding to  53  is  0.6561128526645768\n",
      "auc roc score corresponding to  54  is  0.6488353730754046\n",
      "auc roc score corresponding to  55  is  0.5999165623696286\n",
      "auc roc score corresponding to  56  is  0.6915584415584416\n",
      "auc roc score corresponding to  57  is  0.6187214611872146\n",
      "auc roc score corresponding to  58  is  0.5723684210526316\n",
      "auc roc score corresponding to  59  is  0.5998224251648909\n",
      "auc roc score corresponding to  60  is  0.6232943469785575\n",
      "auc roc score corresponding to  61  is  0.6433333333333333\n",
      "auc roc score corresponding to  62  is  0.576388888888889\n",
      "auc roc score corresponding to  63  is  0.6129753914988815\n",
      "auc roc score corresponding to  64  is  0.6314618806565424\n",
      "auc roc score corresponding to  65  is  0.663675410339009\n",
      "auc roc score corresponding to  66  is  0.6133540372670807\n",
      "auc roc score corresponding to  67  is  0.6664576802507837\n",
      "auc roc score corresponding to  68  is  0.6229390681003585\n",
      "auc roc score corresponding to  69  is  0.6286330134890835\n",
      "auc roc score corresponding to  70  is  0.5875190258751902\n",
      "auc roc score corresponding to  71  is  0.6293859649122807\n",
      "auc roc score corresponding to  72  is  0.6335423197492164\n",
      "auc roc score corresponding to  73  is  0.6699561403508771\n",
      "auc roc score corresponding to  74  is  0.6001717580664949\n",
      "auc roc score corresponding to  75  is  0.6161309435639165\n",
      "auc roc score corresponding to  76  is  0.6637463496036712\n",
      "auc roc score corresponding to  77  is  0.635933806146572\n",
      "auc roc score corresponding to  78  is  0.6185031185031185\n",
      "auc roc score corresponding to  79  is  0.6200828157349896\n",
      "auc roc score corresponding to  80  is  0.6505608866062982\n",
      "auc roc score corresponding to  81  is  0.6582646303554535\n",
      "auc roc score corresponding to  82  is  0.670997920997921\n",
      "auc roc score corresponding to  83  is  0.65\n",
      "auc roc score corresponding to  84  is  0.6337719298245613\n",
      "auc roc score corresponding to  85  is  0.6241258741258741\n",
      "auc roc score corresponding to  86  is  0.6478629187524066\n",
      "auc roc score corresponding to  87  is  0.6777389277389277\n",
      "auc roc score corresponding to  88  is  0.6448028673835126\n",
      "auc roc score corresponding to  89  is  0.6436914388396869\n",
      "auc roc score corresponding to  90  is  0.6187214611872146\n",
      "auc roc score corresponding to  91  is  0.632258064516129\n",
      "auc roc score corresponding to  92  is  0.5633333333333332\n",
      "auc roc score corresponding to  93  is  0.6557584982242517\n",
      "auc roc score corresponding to  94  is  0.6214221537671671\n",
      "auc roc score corresponding to  95  is  0.6448334274421231\n",
      "auc roc score corresponding to  96  is  0.70546516478932\n",
      "auc roc score corresponding to  97  is  0.6726973684210527\n",
      "auc roc score corresponding to  98  is  0.6597347799879445\n",
      "auc roc score corresponding to  99  is  0.6233333333333333\n",
      "max auc roc score corresponding to  96  is  0.70546516478932\n",
      "Accuracy is= 0.745\n",
      "F1 Score=  0.4269662921348315\n"
     ]
    },
    {
     "data": {
      "text/plain": [
       "96"
      ]
     },
     "execution_count": 66,
     "metadata": {},
     "output_type": "execute_result"
    }
   ],
   "source": [
    "from sklearn.ensemble import BaggingClassifier\n",
    "bgc=BaggingClassifier()\n",
    "max_auc_roc_score(bgc,x,y)"
   ]
  },
  {
   "cell_type": "code",
   "execution_count": 72,
   "metadata": {},
   "outputs": [
    {
     "name": "stdout",
     "output_type": "stream",
     "text": [
      "Accuracy Score =  0.885\n",
      "AUC_ROC= 0.8474532224532224\n"
     ]
    },
    {
     "data": {
      "text/html": [
       "<div>\n",
       "<style scoped>\n",
       "    .dataframe tbody tr th:only-of-type {\n",
       "        vertical-align: middle;\n",
       "    }\n",
       "\n",
       "    .dataframe tbody tr th {\n",
       "        vertical-align: top;\n",
       "    }\n",
       "\n",
       "    .dataframe thead th {\n",
       "        text-align: right;\n",
       "    }\n",
       "</style>\n",
       "<table border=\"1\" class=\"dataframe\">\n",
       "  <thead>\n",
       "    <tr style=\"text-align: right;\">\n",
       "      <th>col_0</th>\n",
       "      <th>0</th>\n",
       "      <th>1</th>\n",
       "    </tr>\n",
       "    <tr>\n",
       "      <th>fraud_reported</th>\n",
       "      <th></th>\n",
       "      <th></th>\n",
       "    </tr>\n",
       "  </thead>\n",
       "  <tbody>\n",
       "    <tr>\n",
       "      <th>0</th>\n",
       "      <td>137</td>\n",
       "      <td>11</td>\n",
       "    </tr>\n",
       "    <tr>\n",
       "      <th>1</th>\n",
       "      <td>12</td>\n",
       "      <td>40</td>\n",
       "    </tr>\n",
       "  </tbody>\n",
       "</table>\n",
       "</div>"
      ],
      "text/plain": [
       "col_0             0   1\n",
       "fraud_reported         \n",
       "0               137  11\n",
       "1                12  40"
      ]
     },
     "execution_count": 72,
     "metadata": {},
     "output_type": "execute_result"
    }
   ],
   "source": [
    "# SVC is giving high accuracy and ROC score. Let us finalize it\n",
    "x_train, x_test, y_train, y_test = train_test_split(x, y,random_state = 82,test_size=0.2)\n",
    "svc=SVC(kernel='linear')\n",
    "svc.fit(x_train,y_train)\n",
    "y_pred=dtc.predict(x_test)\n",
    "print('Accuracy Score = ', accuracy_score(y_test,y_pred))\n",
    "print(\"AUC_ROC=\", roc_auc_score(y_test,y_pred))\n",
    "pd.crosstab(y_test,y_pred)"
   ]
  },
  {
   "cell_type": "code",
   "execution_count": 73,
   "metadata": {},
   "outputs": [
    {
     "data": {
      "text/plain": [
       "['Auto_Insurance_fraud.pkl']"
      ]
     },
     "execution_count": 73,
     "metadata": {},
     "output_type": "execute_result"
    }
   ],
   "source": [
    "import joblib\n",
    "joblib.dump(svc,'Auto_Insurance_fraud.pkl')"
   ]
  },
  {
   "cell_type": "code",
   "execution_count": null,
   "metadata": {},
   "outputs": [],
   "source": []
  }
 ],
 "metadata": {
  "kernelspec": {
   "display_name": "Python 3",
   "language": "python",
   "name": "python3"
  },
  "language_info": {
   "codemirror_mode": {
    "name": "ipython",
    "version": 3
   },
   "file_extension": ".py",
   "mimetype": "text/x-python",
   "name": "python",
   "nbconvert_exporter": "python",
   "pygments_lexer": "ipython3",
   "version": "3.8.3"
  }
 },
 "nbformat": 4,
 "nbformat_minor": 4
}
