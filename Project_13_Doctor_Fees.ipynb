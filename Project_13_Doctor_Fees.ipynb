{
 "cells": [
  {
   "cell_type": "code",
   "execution_count": 1,
   "metadata": {},
   "outputs": [],
   "source": [
    "import numpy as np\n",
    "import pandas as pd\n",
    "import matplotlib.pyplot as plt\n",
    "import seaborn as sns\n",
    "import warnings\n",
    "warnings.filterwarnings('ignore')"
   ]
  },
  {
   "cell_type": "code",
   "execution_count": 2,
   "metadata": {},
   "outputs": [],
   "source": [
    "df_train=pd.read_excel(\"C:\\\\Pandasdata\\\\DT_files\\\\doc_train.xlsx\")"
   ]
  },
  {
   "cell_type": "code",
   "execution_count": 3,
   "metadata": {},
   "outputs": [],
   "source": [
    "df_test =pd.read_excel(\"c:\\\\Pandasdata\\\\DT_files\\\\doc_test.xlsx\")"
   ]
  },
  {
   "cell_type": "code",
   "execution_count": 4,
   "metadata": {},
   "outputs": [
    {
     "data": {
      "text/html": [
       "<div>\n",
       "<style scoped>\n",
       "    .dataframe tbody tr th:only-of-type {\n",
       "        vertical-align: middle;\n",
       "    }\n",
       "\n",
       "    .dataframe tbody tr th {\n",
       "        vertical-align: top;\n",
       "    }\n",
       "\n",
       "    .dataframe thead th {\n",
       "        text-align: right;\n",
       "    }\n",
       "</style>\n",
       "<table border=\"1\" class=\"dataframe\">\n",
       "  <thead>\n",
       "    <tr style=\"text-align: right;\">\n",
       "      <th></th>\n",
       "      <th>Qualification</th>\n",
       "      <th>Experience</th>\n",
       "      <th>Rating</th>\n",
       "      <th>Place</th>\n",
       "      <th>Profile</th>\n",
       "      <th>Miscellaneous_Info</th>\n",
       "      <th>Fees</th>\n",
       "    </tr>\n",
       "  </thead>\n",
       "  <tbody>\n",
       "    <tr>\n",
       "      <th>0</th>\n",
       "      <td>BHMS, MD - Homeopathy</td>\n",
       "      <td>24 years experience</td>\n",
       "      <td>100%</td>\n",
       "      <td>Kakkanad, Ernakulam</td>\n",
       "      <td>Homeopath</td>\n",
       "      <td>100% 16 Feedback Kakkanad, Ernakulam</td>\n",
       "      <td>100</td>\n",
       "    </tr>\n",
       "    <tr>\n",
       "      <th>1</th>\n",
       "      <td>BAMS, MD - Ayurveda Medicine</td>\n",
       "      <td>12 years experience</td>\n",
       "      <td>98%</td>\n",
       "      <td>Whitefield, Bangalore</td>\n",
       "      <td>Ayurveda</td>\n",
       "      <td>98% 76 Feedback Whitefield, Bangalore</td>\n",
       "      <td>350</td>\n",
       "    </tr>\n",
       "    <tr>\n",
       "      <th>2</th>\n",
       "      <td>MBBS, MS - Otorhinolaryngology</td>\n",
       "      <td>9 years experience</td>\n",
       "      <td>NaN</td>\n",
       "      <td>Mathikere - BEL, Bangalore</td>\n",
       "      <td>ENT Specialist</td>\n",
       "      <td>NaN</td>\n",
       "      <td>300</td>\n",
       "    </tr>\n",
       "    <tr>\n",
       "      <th>3</th>\n",
       "      <td>BSc - Zoology, BAMS</td>\n",
       "      <td>12 years experience</td>\n",
       "      <td>NaN</td>\n",
       "      <td>Bannerghatta Road, Bangalore</td>\n",
       "      <td>Ayurveda</td>\n",
       "      <td>Bannerghatta Road, Bangalore ₹250 Available on...</td>\n",
       "      <td>250</td>\n",
       "    </tr>\n",
       "    <tr>\n",
       "      <th>4</th>\n",
       "      <td>BAMS</td>\n",
       "      <td>20 years experience</td>\n",
       "      <td>100%</td>\n",
       "      <td>Keelkattalai, Chennai</td>\n",
       "      <td>Ayurveda</td>\n",
       "      <td>100% 4 Feedback Keelkattalai, Chennai</td>\n",
       "      <td>250</td>\n",
       "    </tr>\n",
       "  </tbody>\n",
       "</table>\n",
       "</div>"
      ],
      "text/plain": [
       "                    Qualification           Experience Rating  \\\n",
       "0           BHMS, MD - Homeopathy  24 years experience   100%   \n",
       "1    BAMS, MD - Ayurveda Medicine  12 years experience    98%   \n",
       "2  MBBS, MS - Otorhinolaryngology   9 years experience    NaN   \n",
       "3             BSc - Zoology, BAMS  12 years experience    NaN   \n",
       "4                            BAMS  20 years experience   100%   \n",
       "\n",
       "                          Place         Profile  \\\n",
       "0           Kakkanad, Ernakulam       Homeopath   \n",
       "1         Whitefield, Bangalore        Ayurveda   \n",
       "2    Mathikere - BEL, Bangalore  ENT Specialist   \n",
       "3  Bannerghatta Road, Bangalore        Ayurveda   \n",
       "4         Keelkattalai, Chennai        Ayurveda   \n",
       "\n",
       "                                  Miscellaneous_Info  Fees  \n",
       "0               100% 16 Feedback Kakkanad, Ernakulam   100  \n",
       "1              98% 76 Feedback Whitefield, Bangalore   350  \n",
       "2                                                NaN   300  \n",
       "3  Bannerghatta Road, Bangalore ₹250 Available on...   250  \n",
       "4              100% 4 Feedback Keelkattalai, Chennai   250  "
      ]
     },
     "execution_count": 4,
     "metadata": {},
     "output_type": "execute_result"
    }
   ],
   "source": [
    "df_train.head()"
   ]
  },
  {
   "cell_type": "code",
   "execution_count": 5,
   "metadata": {},
   "outputs": [
    {
     "data": {
      "text/html": [
       "<div>\n",
       "<style scoped>\n",
       "    .dataframe tbody tr th:only-of-type {\n",
       "        vertical-align: middle;\n",
       "    }\n",
       "\n",
       "    .dataframe tbody tr th {\n",
       "        vertical-align: top;\n",
       "    }\n",
       "\n",
       "    .dataframe thead th {\n",
       "        text-align: right;\n",
       "    }\n",
       "</style>\n",
       "<table border=\"1\" class=\"dataframe\">\n",
       "  <thead>\n",
       "    <tr style=\"text-align: right;\">\n",
       "      <th></th>\n",
       "      <th>Qualification</th>\n",
       "      <th>Experience</th>\n",
       "      <th>Rating</th>\n",
       "      <th>Place</th>\n",
       "      <th>Profile</th>\n",
       "      <th>Miscellaneous_Info</th>\n",
       "    </tr>\n",
       "  </thead>\n",
       "  <tbody>\n",
       "    <tr>\n",
       "      <th>0</th>\n",
       "      <td>MBBS</td>\n",
       "      <td>35 years experience</td>\n",
       "      <td>NaN</td>\n",
       "      <td>Ghatkopar East, Mumbai</td>\n",
       "      <td>General Medicine</td>\n",
       "      <td>NaN</td>\n",
       "    </tr>\n",
       "    <tr>\n",
       "      <th>1</th>\n",
       "      <td>MBBS, Diploma in Otorhinolaryngology (DLO)</td>\n",
       "      <td>31 years experience</td>\n",
       "      <td>NaN</td>\n",
       "      <td>West Marredpally, Hyderabad</td>\n",
       "      <td>ENT Specialist</td>\n",
       "      <td>NaN</td>\n",
       "    </tr>\n",
       "    <tr>\n",
       "      <th>2</th>\n",
       "      <td>MBBS, DDVL</td>\n",
       "      <td>40 years experience</td>\n",
       "      <td>70%</td>\n",
       "      <td>KK Nagar, Chennai</td>\n",
       "      <td>Dermatologists</td>\n",
       "      <td>70% 4 Feedback KK Nagar, Chennai</td>\n",
       "    </tr>\n",
       "    <tr>\n",
       "      <th>3</th>\n",
       "      <td>BAMS</td>\n",
       "      <td>0 years experience</td>\n",
       "      <td>NaN</td>\n",
       "      <td>New Ashok Nagar, Delhi</td>\n",
       "      <td>Ayurveda</td>\n",
       "      <td>NaN</td>\n",
       "    </tr>\n",
       "    <tr>\n",
       "      <th>4</th>\n",
       "      <td>BDS, MDS - Conservative Dentistry &amp; Endodontics</td>\n",
       "      <td>16 years experience</td>\n",
       "      <td>100%</td>\n",
       "      <td>Kanakpura Road, Bangalore</td>\n",
       "      <td>Dentist</td>\n",
       "      <td>General Dentistry Conservative Dentistry Cosme...</td>\n",
       "    </tr>\n",
       "  </tbody>\n",
       "</table>\n",
       "</div>"
      ],
      "text/plain": [
       "                                     Qualification           Experience  \\\n",
       "0                                             MBBS  35 years experience   \n",
       "1       MBBS, Diploma in Otorhinolaryngology (DLO)  31 years experience   \n",
       "2                                       MBBS, DDVL  40 years experience   \n",
       "3                                             BAMS   0 years experience   \n",
       "4  BDS, MDS - Conservative Dentistry & Endodontics  16 years experience   \n",
       "\n",
       "  Rating                        Place           Profile  \\\n",
       "0    NaN       Ghatkopar East, Mumbai  General Medicine   \n",
       "1    NaN  West Marredpally, Hyderabad    ENT Specialist   \n",
       "2    70%            KK Nagar, Chennai    Dermatologists   \n",
       "3    NaN       New Ashok Nagar, Delhi          Ayurveda   \n",
       "4   100%    Kanakpura Road, Bangalore           Dentist   \n",
       "\n",
       "                                  Miscellaneous_Info  \n",
       "0                                                NaN  \n",
       "1                                                NaN  \n",
       "2                   70% 4 Feedback KK Nagar, Chennai  \n",
       "3                                                NaN  \n",
       "4  General Dentistry Conservative Dentistry Cosme...  "
      ]
     },
     "execution_count": 5,
     "metadata": {},
     "output_type": "execute_result"
    }
   ],
   "source": [
    "df_test.head()"
   ]
  },
  {
   "cell_type": "code",
   "execution_count": 6,
   "metadata": {},
   "outputs": [],
   "source": [
    "df= pd.concat([df_train,df_test])"
   ]
  },
  {
   "cell_type": "code",
   "execution_count": 7,
   "metadata": {
    "scrolled": true
   },
   "outputs": [
    {
     "data": {
      "text/html": [
       "<div>\n",
       "<style scoped>\n",
       "    .dataframe tbody tr th:only-of-type {\n",
       "        vertical-align: middle;\n",
       "    }\n",
       "\n",
       "    .dataframe tbody tr th {\n",
       "        vertical-align: top;\n",
       "    }\n",
       "\n",
       "    .dataframe thead th {\n",
       "        text-align: right;\n",
       "    }\n",
       "</style>\n",
       "<table border=\"1\" class=\"dataframe\">\n",
       "  <thead>\n",
       "    <tr style=\"text-align: right;\">\n",
       "      <th></th>\n",
       "      <th>Qualification</th>\n",
       "      <th>Experience</th>\n",
       "      <th>Rating</th>\n",
       "      <th>Place</th>\n",
       "      <th>Profile</th>\n",
       "      <th>Miscellaneous_Info</th>\n",
       "      <th>Fees</th>\n",
       "    </tr>\n",
       "  </thead>\n",
       "  <tbody>\n",
       "    <tr>\n",
       "      <th>0</th>\n",
       "      <td>BHMS, MD - Homeopathy</td>\n",
       "      <td>24 years experience</td>\n",
       "      <td>100%</td>\n",
       "      <td>Kakkanad, Ernakulam</td>\n",
       "      <td>Homeopath</td>\n",
       "      <td>100% 16 Feedback Kakkanad, Ernakulam</td>\n",
       "      <td>100.0</td>\n",
       "    </tr>\n",
       "    <tr>\n",
       "      <th>1</th>\n",
       "      <td>BAMS, MD - Ayurveda Medicine</td>\n",
       "      <td>12 years experience</td>\n",
       "      <td>98%</td>\n",
       "      <td>Whitefield, Bangalore</td>\n",
       "      <td>Ayurveda</td>\n",
       "      <td>98% 76 Feedback Whitefield, Bangalore</td>\n",
       "      <td>350.0</td>\n",
       "    </tr>\n",
       "    <tr>\n",
       "      <th>2</th>\n",
       "      <td>MBBS, MS - Otorhinolaryngology</td>\n",
       "      <td>9 years experience</td>\n",
       "      <td>NaN</td>\n",
       "      <td>Mathikere - BEL, Bangalore</td>\n",
       "      <td>ENT Specialist</td>\n",
       "      <td>NaN</td>\n",
       "      <td>300.0</td>\n",
       "    </tr>\n",
       "    <tr>\n",
       "      <th>3</th>\n",
       "      <td>BSc - Zoology, BAMS</td>\n",
       "      <td>12 years experience</td>\n",
       "      <td>NaN</td>\n",
       "      <td>Bannerghatta Road, Bangalore</td>\n",
       "      <td>Ayurveda</td>\n",
       "      <td>Bannerghatta Road, Bangalore ₹250 Available on...</td>\n",
       "      <td>250.0</td>\n",
       "    </tr>\n",
       "    <tr>\n",
       "      <th>4</th>\n",
       "      <td>BAMS</td>\n",
       "      <td>20 years experience</td>\n",
       "      <td>100%</td>\n",
       "      <td>Keelkattalai, Chennai</td>\n",
       "      <td>Ayurveda</td>\n",
       "      <td>100% 4 Feedback Keelkattalai, Chennai</td>\n",
       "      <td>250.0</td>\n",
       "    </tr>\n",
       "  </tbody>\n",
       "</table>\n",
       "</div>"
      ],
      "text/plain": [
       "                    Qualification           Experience Rating  \\\n",
       "0           BHMS, MD - Homeopathy  24 years experience   100%   \n",
       "1    BAMS, MD - Ayurveda Medicine  12 years experience    98%   \n",
       "2  MBBS, MS - Otorhinolaryngology   9 years experience    NaN   \n",
       "3             BSc - Zoology, BAMS  12 years experience    NaN   \n",
       "4                            BAMS  20 years experience   100%   \n",
       "\n",
       "                          Place         Profile  \\\n",
       "0           Kakkanad, Ernakulam       Homeopath   \n",
       "1         Whitefield, Bangalore        Ayurveda   \n",
       "2    Mathikere - BEL, Bangalore  ENT Specialist   \n",
       "3  Bannerghatta Road, Bangalore        Ayurveda   \n",
       "4         Keelkattalai, Chennai        Ayurveda   \n",
       "\n",
       "                                  Miscellaneous_Info   Fees  \n",
       "0               100% 16 Feedback Kakkanad, Ernakulam  100.0  \n",
       "1              98% 76 Feedback Whitefield, Bangalore  350.0  \n",
       "2                                                NaN  300.0  \n",
       "3  Bannerghatta Road, Bangalore ₹250 Available on...  250.0  \n",
       "4              100% 4 Feedback Keelkattalai, Chennai  250.0  "
      ]
     },
     "execution_count": 7,
     "metadata": {},
     "output_type": "execute_result"
    }
   ],
   "source": [
    "df.head()"
   ]
  },
  {
   "cell_type": "code",
   "execution_count": 8,
   "metadata": {},
   "outputs": [],
   "source": [
    "df.reset_index(drop=True,inplace=True)"
   ]
  },
  {
   "cell_type": "code",
   "execution_count": 9,
   "metadata": {},
   "outputs": [
    {
     "data": {
      "text/plain": [
       "Qualification            0\n",
       "Experience               0\n",
       "Rating                4392\n",
       "Place                   31\n",
       "Profile                  0\n",
       "Miscellaneous_Info    3454\n",
       "Fees                  1987\n",
       "dtype: int64"
      ]
     },
     "execution_count": 9,
     "metadata": {},
     "output_type": "execute_result"
    }
   ],
   "source": [
    "df.isnull().sum()"
   ]
  },
  {
   "cell_type": "code",
   "execution_count": 10,
   "metadata": {},
   "outputs": [
    {
     "data": {
      "text/plain": [
       "Qualification          object\n",
       "Experience             object\n",
       "Rating                 object\n",
       "Place                  object\n",
       "Profile                object\n",
       "Miscellaneous_Info     object\n",
       "Fees                  float64\n",
       "dtype: object"
      ]
     },
     "execution_count": 10,
     "metadata": {},
     "output_type": "execute_result"
    }
   ],
   "source": [
    "df.dtypes"
   ]
  },
  {
   "cell_type": "code",
   "execution_count": 11,
   "metadata": {},
   "outputs": [
    {
     "name": "stdout",
     "output_type": "stream",
     "text": [
      "BDS                                                                                             632\n",
      "BHMS                                                                                            627\n",
      "BAMS                                                                                            624\n",
      "MBBS                                                                                            441\n",
      "MBBS, MS - ENT                                                                                  280\n",
      "                                                                                               ... \n",
      "BAMS, MD - Internal Medicine, Diploma in Emergency Medicine, Post Graduate Diploma In Yoga        1\n",
      "MD - Homeopathy, MBS (H)                                                                          1\n",
      "MBBS, DNB, Diploma in Dermatology                                                                 1\n",
      "BHMS, Doctor of Homeopathic Medicine (HMD)                                                        1\n",
      "MBBS, MD - Physical Medicine & Rehabilitation, Diploma in Physical Medicine & Rehabilitation      1\n",
      "Name: Qualification, Length: 1801, dtype: int64\n",
      "\n",
      "9 years experience     419\n",
      "10 years experience    404\n",
      "8 years experience     380\n",
      "11 years experience    374\n",
      "12 years experience    358\n",
      "                      ... \n",
      "58 years experience      1\n",
      "64 years experience      1\n",
      "66 years experience      1\n",
      "61 years experience      1\n",
      "60 years experience      1\n",
      "Name: Experience, Length: 64, dtype: int64\n",
      "\n",
      "100%    907\n",
      "98%     402\n",
      "99%     327\n",
      "97%     325\n",
      "96%     285\n",
      "95%     225\n",
      "94%     166\n",
      "93%     143\n",
      "90%      95\n",
      "92%      95\n",
      "91%      86\n",
      "88%      54\n",
      "89%      53\n",
      "85%      35\n",
      "83%      32\n",
      "82%      32\n",
      "86%      27\n",
      "80%      26\n",
      "87%      25\n",
      "84%      20\n",
      "67%      17\n",
      "77%      17\n",
      "71%      16\n",
      "81%      15\n",
      "79%      15\n",
      "73%      13\n",
      "76%      13\n",
      "60%      11\n",
      "70%       8\n",
      "75%       8\n",
      "78%       7\n",
      "74%       7\n",
      "69%       6\n",
      "68%       5\n",
      "55%       5\n",
      "56%       5\n",
      "64%       4\n",
      "57%       3\n",
      "72%       3\n",
      "33%       2\n",
      "65%       2\n",
      "63%       2\n",
      "53%       2\n",
      "62%       2\n",
      "58%       1\n",
      "40%       1\n",
      "7%        1\n",
      "48%       1\n",
      "47%       1\n",
      "52%       1\n",
      "45%       1\n",
      "36%       1\n",
      "Name: Rating, dtype: int64\n",
      "\n",
      "HSR Layout, Bangalore        97\n",
      "Andheri West, Mumbai         97\n",
      "Dwarka, Delhi                93\n",
      "Banjara Hills, Hyderabad     85\n",
      "Mulund West, Mumbai          81\n",
      "                             ..\n",
      "Fort, Mumbai                  1\n",
      "Kurla, Mumbai                 1\n",
      "Edapally North, Ernakulam     1\n",
      "Gandhi Nagar, Chennai         1\n",
      "Bandlaguda, Hyderabad         1\n",
      "Name: Place, Length: 948, dtype: int64\n",
      "\n",
      "Dentist             1838\n",
      "General Medicine    1617\n",
      "Dermatologists      1373\n",
      "Homeopath           1120\n",
      "Ayurveda            1037\n",
      "ENT Specialist       963\n",
      "Name: Profile, dtype: int64\n",
      "\n",
      "Acrylic Partial Denture Crowns and Bridges Fixing Artificial Teeth                  50\n",
      "Skin Allergy Treatment Skin Allergies Dermabrasion                                  18\n",
      "Tooth Extraction Dental Fillings Scaling / Polishing                                16\n",
      "Dental Fillings Zirconia Crowns Dental Implant Fixing                               15\n",
      "Dermabrasion Laser Resurfacing Acne / Pimples Treatment                             14\n",
      "                                                                                    ..\n",
      "Otoplasty Hearing Deficiency Assessment Congenital Ear Problem Treatment             1\n",
      "Allergy Testing Microscopic Ear Surgery Mastoidectomy                                1\n",
      "100% 23 Feedback Rohini, Delhi                                                       1\n",
      "Functional Endoscopic Sinus Surgery - FESS Ear Micro Surgery Hearing Aid Fitting     1\n",
      "91% 3 Feedback Pitampura, Delhi                                                      1\n",
      "Name: Miscellaneous_Info, Length: 3980, dtype: int64\n",
      "\n"
     ]
    }
   ],
   "source": [
    "for col in df.columns:\n",
    "    if df[col].dtype=='object':\n",
    "        print(df[col].value_counts())\n",
    "        print()"
   ]
  },
  {
   "cell_type": "code",
   "execution_count": 12,
   "metadata": {},
   "outputs": [
    {
     "data": {
      "text/html": [
       "<div>\n",
       "<style scoped>\n",
       "    .dataframe tbody tr th:only-of-type {\n",
       "        vertical-align: middle;\n",
       "    }\n",
       "\n",
       "    .dataframe tbody tr th {\n",
       "        vertical-align: top;\n",
       "    }\n",
       "\n",
       "    .dataframe thead th {\n",
       "        text-align: right;\n",
       "    }\n",
       "</style>\n",
       "<table border=\"1\" class=\"dataframe\">\n",
       "  <thead>\n",
       "    <tr style=\"text-align: right;\">\n",
       "      <th></th>\n",
       "      <th>Qualification</th>\n",
       "      <th>Experience</th>\n",
       "      <th>Rating</th>\n",
       "      <th>Place</th>\n",
       "      <th>Profile</th>\n",
       "      <th>Miscellaneous_Info</th>\n",
       "      <th>Fees</th>\n",
       "    </tr>\n",
       "  </thead>\n",
       "  <tbody>\n",
       "    <tr>\n",
       "      <th>0</th>\n",
       "      <td>BHMS, MD - Homeopathy</td>\n",
       "      <td>24 years experience</td>\n",
       "      <td>100%</td>\n",
       "      <td>Kakkanad, Ernakulam</td>\n",
       "      <td>Homeopath</td>\n",
       "      <td>100% 16 Feedback Kakkanad, Ernakulam</td>\n",
       "      <td>100.0</td>\n",
       "    </tr>\n",
       "    <tr>\n",
       "      <th>1</th>\n",
       "      <td>BAMS, MD - Ayurveda Medicine</td>\n",
       "      <td>12 years experience</td>\n",
       "      <td>98%</td>\n",
       "      <td>Whitefield, Bangalore</td>\n",
       "      <td>Ayurveda</td>\n",
       "      <td>98% 76 Feedback Whitefield, Bangalore</td>\n",
       "      <td>350.0</td>\n",
       "    </tr>\n",
       "    <tr>\n",
       "      <th>2</th>\n",
       "      <td>MBBS, MS - Otorhinolaryngology</td>\n",
       "      <td>9 years experience</td>\n",
       "      <td>NaN</td>\n",
       "      <td>Mathikere - BEL, Bangalore</td>\n",
       "      <td>ENT Specialist</td>\n",
       "      <td>NaN</td>\n",
       "      <td>300.0</td>\n",
       "    </tr>\n",
       "    <tr>\n",
       "      <th>3</th>\n",
       "      <td>BSc - Zoology, BAMS</td>\n",
       "      <td>12 years experience</td>\n",
       "      <td>NaN</td>\n",
       "      <td>Bannerghatta Road, Bangalore</td>\n",
       "      <td>Ayurveda</td>\n",
       "      <td>Bannerghatta Road, Bangalore ₹250 Available on...</td>\n",
       "      <td>250.0</td>\n",
       "    </tr>\n",
       "    <tr>\n",
       "      <th>4</th>\n",
       "      <td>BAMS</td>\n",
       "      <td>20 years experience</td>\n",
       "      <td>100%</td>\n",
       "      <td>Keelkattalai, Chennai</td>\n",
       "      <td>Ayurveda</td>\n",
       "      <td>100% 4 Feedback Keelkattalai, Chennai</td>\n",
       "      <td>250.0</td>\n",
       "    </tr>\n",
       "    <tr>\n",
       "      <th>...</th>\n",
       "      <td>...</td>\n",
       "      <td>...</td>\n",
       "      <td>...</td>\n",
       "      <td>...</td>\n",
       "      <td>...</td>\n",
       "      <td>...</td>\n",
       "      <td>...</td>\n",
       "    </tr>\n",
       "    <tr>\n",
       "      <th>7943</th>\n",
       "      <td>BAMS, Doctor of Medicine</td>\n",
       "      <td>10 years experience</td>\n",
       "      <td>NaN</td>\n",
       "      <td>Basavanagudi, Bangalore</td>\n",
       "      <td>Ayurveda</td>\n",
       "      <td>NaN</td>\n",
       "      <td>NaN</td>\n",
       "    </tr>\n",
       "    <tr>\n",
       "      <th>7944</th>\n",
       "      <td>MD - Dermatology , Venereology &amp; Leprosy, MBBS</td>\n",
       "      <td>4 years experience</td>\n",
       "      <td>NaN</td>\n",
       "      <td>Choolai, Chennai</td>\n",
       "      <td>Dermatologists</td>\n",
       "      <td>NaN</td>\n",
       "      <td>NaN</td>\n",
       "    </tr>\n",
       "    <tr>\n",
       "      <th>7945</th>\n",
       "      <td>MBBS, MD / MS - Obstetrics &amp; Gynaecology</td>\n",
       "      <td>9 years experience</td>\n",
       "      <td>NaN</td>\n",
       "      <td>Porur, Chennai</td>\n",
       "      <td>General Medicine</td>\n",
       "      <td>NaN</td>\n",
       "      <td>NaN</td>\n",
       "    </tr>\n",
       "    <tr>\n",
       "      <th>7946</th>\n",
       "      <td>BDS</td>\n",
       "      <td>12 years experience</td>\n",
       "      <td>98%</td>\n",
       "      <td>Arekere, Bangalore</td>\n",
       "      <td>Dentist</td>\n",
       "      <td>RCT - Root Canal Treatment Root Canal Treatmen...</td>\n",
       "      <td>NaN</td>\n",
       "    </tr>\n",
       "    <tr>\n",
       "      <th>7947</th>\n",
       "      <td>MBBS, MD - Dermatology , Venereology &amp; Leprosy</td>\n",
       "      <td>8 years experience</td>\n",
       "      <td>NaN</td>\n",
       "      <td>Pallikaranai, Chennai</td>\n",
       "      <td>Dermatologists</td>\n",
       "      <td>1 Feedback Pallikaranai, Chennai ₹500</td>\n",
       "      <td>NaN</td>\n",
       "    </tr>\n",
       "  </tbody>\n",
       "</table>\n",
       "<p>7948 rows × 7 columns</p>\n",
       "</div>"
      ],
      "text/plain": [
       "                                       Qualification           Experience  \\\n",
       "0                              BHMS, MD - Homeopathy  24 years experience   \n",
       "1                       BAMS, MD - Ayurveda Medicine  12 years experience   \n",
       "2                     MBBS, MS - Otorhinolaryngology   9 years experience   \n",
       "3                                BSc - Zoology, BAMS  12 years experience   \n",
       "4                                               BAMS  20 years experience   \n",
       "...                                              ...                  ...   \n",
       "7943                        BAMS, Doctor of Medicine  10 years experience   \n",
       "7944  MD - Dermatology , Venereology & Leprosy, MBBS   4 years experience   \n",
       "7945        MBBS, MD / MS - Obstetrics & Gynaecology   9 years experience   \n",
       "7946                                             BDS  12 years experience   \n",
       "7947  MBBS, MD - Dermatology , Venereology & Leprosy   8 years experience   \n",
       "\n",
       "     Rating                         Place           Profile  \\\n",
       "0      100%           Kakkanad, Ernakulam         Homeopath   \n",
       "1       98%         Whitefield, Bangalore          Ayurveda   \n",
       "2       NaN    Mathikere - BEL, Bangalore    ENT Specialist   \n",
       "3       NaN  Bannerghatta Road, Bangalore          Ayurveda   \n",
       "4      100%         Keelkattalai, Chennai          Ayurveda   \n",
       "...     ...                           ...               ...   \n",
       "7943    NaN       Basavanagudi, Bangalore          Ayurveda   \n",
       "7944    NaN              Choolai, Chennai    Dermatologists   \n",
       "7945    NaN                Porur, Chennai  General Medicine   \n",
       "7946    98%            Arekere, Bangalore           Dentist   \n",
       "7947    NaN         Pallikaranai, Chennai    Dermatologists   \n",
       "\n",
       "                                     Miscellaneous_Info   Fees  \n",
       "0                  100% 16 Feedback Kakkanad, Ernakulam  100.0  \n",
       "1                 98% 76 Feedback Whitefield, Bangalore  350.0  \n",
       "2                                                   NaN  300.0  \n",
       "3     Bannerghatta Road, Bangalore ₹250 Available on...  250.0  \n",
       "4                 100% 4 Feedback Keelkattalai, Chennai  250.0  \n",
       "...                                                 ...    ...  \n",
       "7943                                                NaN    NaN  \n",
       "7944                                                NaN    NaN  \n",
       "7945                                                NaN    NaN  \n",
       "7946  RCT - Root Canal Treatment Root Canal Treatmen...    NaN  \n",
       "7947              1 Feedback Pallikaranai, Chennai ₹500    NaN  \n",
       "\n",
       "[7948 rows x 7 columns]"
      ]
     },
     "execution_count": 12,
     "metadata": {},
     "output_type": "execute_result"
    }
   ],
   "source": [
    "df"
   ]
  },
  {
   "cell_type": "code",
   "execution_count": 13,
   "metadata": {},
   "outputs": [
    {
     "data": {
      "text/plain": [
       "HSR Layout, Bangalore        97\n",
       "Andheri West, Mumbai         97\n",
       "Dwarka, Delhi                93\n",
       "Banjara Hills, Hyderabad     85\n",
       "Mulund West, Mumbai          81\n",
       "                             ..\n",
       "Fort, Mumbai                  1\n",
       "Kurla, Mumbai                 1\n",
       "Edapally North, Ernakulam     1\n",
       "Gandhi Nagar, Chennai         1\n",
       "Bandlaguda, Hyderabad         1\n",
       "Name: Place, Length: 948, dtype: int64"
      ]
     },
     "execution_count": 13,
     "metadata": {},
     "output_type": "execute_result"
    }
   ],
   "source": [
    "df['Place'].value_counts()"
   ]
  },
  {
   "cell_type": "code",
   "execution_count": 14,
   "metadata": {},
   "outputs": [],
   "source": [
    "# we will select the top 5 from the list and impute them to missing values"
   ]
  },
  {
   "cell_type": "code",
   "execution_count": 15,
   "metadata": {},
   "outputs": [],
   "source": [
    "top_doc_places=df[\"Place\"].value_counts().index[0:5]"
   ]
  },
  {
   "cell_type": "code",
   "execution_count": 16,
   "metadata": {},
   "outputs": [
    {
     "data": {
      "text/plain": [
       "Index(['HSR Layout, Bangalore', 'Andheri West, Mumbai', 'Dwarka, Delhi',\n",
       "       'Banjara Hills, Hyderabad', 'Mulund West, Mumbai'],\n",
       "      dtype='object')"
      ]
     },
     "execution_count": 16,
     "metadata": {},
     "output_type": "execute_result"
    }
   ],
   "source": [
    "top_doc_places"
   ]
  },
  {
   "cell_type": "code",
   "execution_count": 17,
   "metadata": {},
   "outputs": [
    {
     "data": {
      "text/html": [
       "<div>\n",
       "<style scoped>\n",
       "    .dataframe tbody tr th:only-of-type {\n",
       "        vertical-align: middle;\n",
       "    }\n",
       "\n",
       "    .dataframe tbody tr th {\n",
       "        vertical-align: top;\n",
       "    }\n",
       "\n",
       "    .dataframe thead th {\n",
       "        text-align: right;\n",
       "    }\n",
       "</style>\n",
       "<table border=\"1\" class=\"dataframe\">\n",
       "  <thead>\n",
       "    <tr style=\"text-align: right;\">\n",
       "      <th></th>\n",
       "      <th>Place</th>\n",
       "    </tr>\n",
       "  </thead>\n",
       "  <tbody>\n",
       "    <tr>\n",
       "      <th>0</th>\n",
       "      <td>False</td>\n",
       "    </tr>\n",
       "    <tr>\n",
       "      <th>1</th>\n",
       "      <td>False</td>\n",
       "    </tr>\n",
       "    <tr>\n",
       "      <th>2</th>\n",
       "      <td>False</td>\n",
       "    </tr>\n",
       "    <tr>\n",
       "      <th>3</th>\n",
       "      <td>False</td>\n",
       "    </tr>\n",
       "    <tr>\n",
       "      <th>4</th>\n",
       "      <td>False</td>\n",
       "    </tr>\n",
       "    <tr>\n",
       "      <th>...</th>\n",
       "      <td>...</td>\n",
       "    </tr>\n",
       "    <tr>\n",
       "      <th>7943</th>\n",
       "      <td>False</td>\n",
       "    </tr>\n",
       "    <tr>\n",
       "      <th>7944</th>\n",
       "      <td>False</td>\n",
       "    </tr>\n",
       "    <tr>\n",
       "      <th>7945</th>\n",
       "      <td>False</td>\n",
       "    </tr>\n",
       "    <tr>\n",
       "      <th>7946</th>\n",
       "      <td>False</td>\n",
       "    </tr>\n",
       "    <tr>\n",
       "      <th>7947</th>\n",
       "      <td>False</td>\n",
       "    </tr>\n",
       "  </tbody>\n",
       "</table>\n",
       "<p>7948 rows × 1 columns</p>\n",
       "</div>"
      ],
      "text/plain": [
       "      Place\n",
       "0     False\n",
       "1     False\n",
       "2     False\n",
       "3     False\n",
       "4     False\n",
       "...     ...\n",
       "7943  False\n",
       "7944  False\n",
       "7945  False\n",
       "7946  False\n",
       "7947  False\n",
       "\n",
       "[7948 rows x 1 columns]"
      ]
     },
     "execution_count": 17,
     "metadata": {},
     "output_type": "execute_result"
    }
   ],
   "source": [
    "null_condition=df[[\"Place\"]].isnull()\n",
    "null_condition"
   ]
  },
  {
   "cell_type": "code",
   "execution_count": 18,
   "metadata": {},
   "outputs": [],
   "source": [
    "#We  will impute the null values with fisrt top 5 popular places where doctor sit\n",
    "null_condition=df[[\"Place\"]].isnull()\n",
    "count=0\n",
    "for index_null in null_condition.index:\n",
    "    if null_condition.loc[index_null][0]==True:\n",
    "        if count%5==0:\n",
    "            df.loc[index_null,[\"Place\"]]=top_doc_places[0]\n",
    "        if count%5==1:\n",
    "            df.loc[index_null,[\"Place\"]]=top_doc_places[1]\n",
    "        if count%5==2:\n",
    "            df.loc[index_null,[\"Place\"]]=top_doc_places[2]\n",
    "        if count%5==3:\n",
    "            df.loc[index_null,[\"Place\"]]=top_doc_places[3]\n",
    "        if count%5==4:\n",
    "            df.loc[index_null,[\"Place\"]]=top_doc_places[4]\n",
    "        count=count+1"
   ]
  },
  {
   "cell_type": "code",
   "execution_count": 19,
   "metadata": {},
   "outputs": [
    {
     "data": {
      "text/plain": [
       "0"
      ]
     },
     "execution_count": 19,
     "metadata": {},
     "output_type": "execute_result"
    }
   ],
   "source": [
    "df['Place'].isnull().sum()"
   ]
  },
  {
   "cell_type": "code",
   "execution_count": 20,
   "metadata": {},
   "outputs": [],
   "source": [
    "df[\"Miscellaneous_Info\"].fillna(\"missing\",inplace=True)"
   ]
  },
  {
   "cell_type": "code",
   "execution_count": 21,
   "metadata": {},
   "outputs": [],
   "source": [
    "df[\"Experience\"]=df[\"Experience\"].str.strip(\" years experience\")"
   ]
  },
  {
   "cell_type": "code",
   "execution_count": 22,
   "metadata": {},
   "outputs": [
    {
     "data": {
      "text/plain": [
       "0       24\n",
       "1       12\n",
       "2        9\n",
       "3       12\n",
       "4       20\n",
       "        ..\n",
       "7943    10\n",
       "7944     4\n",
       "7945     9\n",
       "7946    12\n",
       "7947     8\n",
       "Name: Experience, Length: 7948, dtype: object"
      ]
     },
     "execution_count": 22,
     "metadata": {},
     "output_type": "execute_result"
    }
   ],
   "source": [
    "df['Experience']"
   ]
  },
  {
   "cell_type": "code",
   "execution_count": 23,
   "metadata": {},
   "outputs": [],
   "source": [
    "df[\"Experience\"]=df[\"Experience\"].astype(int)"
   ]
  },
  {
   "cell_type": "code",
   "execution_count": 24,
   "metadata": {},
   "outputs": [
    {
     "data": {
      "text/html": [
       "<div>\n",
       "<style scoped>\n",
       "    .dataframe tbody tr th:only-of-type {\n",
       "        vertical-align: middle;\n",
       "    }\n",
       "\n",
       "    .dataframe tbody tr th {\n",
       "        vertical-align: top;\n",
       "    }\n",
       "\n",
       "    .dataframe thead th {\n",
       "        text-align: right;\n",
       "    }\n",
       "</style>\n",
       "<table border=\"1\" class=\"dataframe\">\n",
       "  <thead>\n",
       "    <tr style=\"text-align: right;\">\n",
       "      <th></th>\n",
       "      <th>Rating</th>\n",
       "    </tr>\n",
       "    <tr>\n",
       "      <th>Profile</th>\n",
       "      <th></th>\n",
       "    </tr>\n",
       "  </thead>\n",
       "  <tbody>\n",
       "    <tr>\n",
       "      <th>Ayurveda</th>\n",
       "      <td>100%</td>\n",
       "    </tr>\n",
       "    <tr>\n",
       "      <th>Dentist</th>\n",
       "      <td>100%</td>\n",
       "    </tr>\n",
       "    <tr>\n",
       "      <th>Dermatologists</th>\n",
       "      <td>100%</td>\n",
       "    </tr>\n",
       "    <tr>\n",
       "      <th>ENT Specialist</th>\n",
       "      <td>100%</td>\n",
       "    </tr>\n",
       "    <tr>\n",
       "      <th>General Medicine</th>\n",
       "      <td>100%</td>\n",
       "    </tr>\n",
       "    <tr>\n",
       "      <th>Homeopath</th>\n",
       "      <td>100%</td>\n",
       "    </tr>\n",
       "  </tbody>\n",
       "</table>\n",
       "</div>"
      ],
      "text/plain": [
       "                 Rating\n",
       "Profile                \n",
       "Ayurveda           100%\n",
       "Dentist            100%\n",
       "Dermatologists     100%\n",
       "ENT Specialist     100%\n",
       "General Medicine   100%\n",
       "Homeopath          100%"
      ]
     },
     "execution_count": 24,
     "metadata": {},
     "output_type": "execute_result"
    }
   ],
   "source": [
    "df.groupby([\"Profile\"]).agg({\"Rating\":lambda x: x.value_counts().index[0]})"
   ]
  },
  {
   "cell_type": "code",
   "execution_count": 25,
   "metadata": {},
   "outputs": [],
   "source": [
    "df[\"Rating\"]=df[\"Rating\"].str.strip(\"%\")"
   ]
  },
  {
   "cell_type": "code",
   "execution_count": 26,
   "metadata": {},
   "outputs": [],
   "source": [
    "df[\"Rating\"]=df[\"Rating\"].astype(float)"
   ]
  },
  {
   "cell_type": "code",
   "execution_count": 27,
   "metadata": {},
   "outputs": [
    {
     "data": {
      "text/html": [
       "<div>\n",
       "<style scoped>\n",
       "    .dataframe tbody tr th:only-of-type {\n",
       "        vertical-align: middle;\n",
       "    }\n",
       "\n",
       "    .dataframe tbody tr th {\n",
       "        vertical-align: top;\n",
       "    }\n",
       "\n",
       "    .dataframe thead th {\n",
       "        text-align: right;\n",
       "    }\n",
       "</style>\n",
       "<table border=\"1\" class=\"dataframe\">\n",
       "  <thead>\n",
       "    <tr style=\"text-align: right;\">\n",
       "      <th></th>\n",
       "      <th>Qualification</th>\n",
       "      <th>Experience</th>\n",
       "      <th>Rating</th>\n",
       "      <th>Place</th>\n",
       "      <th>Profile</th>\n",
       "      <th>Miscellaneous_Info</th>\n",
       "      <th>Fees</th>\n",
       "    </tr>\n",
       "  </thead>\n",
       "  <tbody>\n",
       "    <tr>\n",
       "      <th>2</th>\n",
       "      <td>MBBS, MS - Otorhinolaryngology</td>\n",
       "      <td>9</td>\n",
       "      <td>NaN</td>\n",
       "      <td>Mathikere - BEL, Bangalore</td>\n",
       "      <td>ENT Specialist</td>\n",
       "      <td>missing</td>\n",
       "      <td>300.0</td>\n",
       "    </tr>\n",
       "    <tr>\n",
       "      <th>3</th>\n",
       "      <td>BSc - Zoology, BAMS</td>\n",
       "      <td>12</td>\n",
       "      <td>NaN</td>\n",
       "      <td>Bannerghatta Road, Bangalore</td>\n",
       "      <td>Ayurveda</td>\n",
       "      <td>Bannerghatta Road, Bangalore ₹250 Available on...</td>\n",
       "      <td>250.0</td>\n",
       "    </tr>\n",
       "    <tr>\n",
       "      <th>5</th>\n",
       "      <td>BAMS</td>\n",
       "      <td>8</td>\n",
       "      <td>NaN</td>\n",
       "      <td>Porur, Chennai</td>\n",
       "      <td>Ayurveda</td>\n",
       "      <td>missing</td>\n",
       "      <td>100.0</td>\n",
       "    </tr>\n",
       "    <tr>\n",
       "      <th>6</th>\n",
       "      <td>BHMS</td>\n",
       "      <td>42</td>\n",
       "      <td>NaN</td>\n",
       "      <td>Karol Bagh, Delhi</td>\n",
       "      <td>Homeopath</td>\n",
       "      <td>missing</td>\n",
       "      <td>200.0</td>\n",
       "    </tr>\n",
       "    <tr>\n",
       "      <th>8</th>\n",
       "      <td>MBBS, MD - General Medicine</td>\n",
       "      <td>14</td>\n",
       "      <td>NaN</td>\n",
       "      <td>Old City, Hyderabad</td>\n",
       "      <td>General Medicine</td>\n",
       "      <td>missing</td>\n",
       "      <td>100.0</td>\n",
       "    </tr>\n",
       "    <tr>\n",
       "      <th>...</th>\n",
       "      <td>...</td>\n",
       "      <td>...</td>\n",
       "      <td>...</td>\n",
       "      <td>...</td>\n",
       "      <td>...</td>\n",
       "      <td>...</td>\n",
       "      <td>...</td>\n",
       "    </tr>\n",
       "    <tr>\n",
       "      <th>7942</th>\n",
       "      <td>MBBS, MD - Dermatology , Venereology &amp; Leprosy...</td>\n",
       "      <td>8</td>\n",
       "      <td>NaN</td>\n",
       "      <td>Lajpat Nagar III, Delhi</td>\n",
       "      <td>Dermatologists</td>\n",
       "      <td>missing</td>\n",
       "      <td>NaN</td>\n",
       "    </tr>\n",
       "    <tr>\n",
       "      <th>7943</th>\n",
       "      <td>BAMS, Doctor of Medicine</td>\n",
       "      <td>10</td>\n",
       "      <td>NaN</td>\n",
       "      <td>Basavanagudi, Bangalore</td>\n",
       "      <td>Ayurveda</td>\n",
       "      <td>missing</td>\n",
       "      <td>NaN</td>\n",
       "    </tr>\n",
       "    <tr>\n",
       "      <th>7944</th>\n",
       "      <td>MD - Dermatology , Venereology &amp; Leprosy, MBBS</td>\n",
       "      <td>4</td>\n",
       "      <td>NaN</td>\n",
       "      <td>Choolai, Chennai</td>\n",
       "      <td>Dermatologists</td>\n",
       "      <td>missing</td>\n",
       "      <td>NaN</td>\n",
       "    </tr>\n",
       "    <tr>\n",
       "      <th>7945</th>\n",
       "      <td>MBBS, MD / MS - Obstetrics &amp; Gynaecology</td>\n",
       "      <td>9</td>\n",
       "      <td>NaN</td>\n",
       "      <td>Porur, Chennai</td>\n",
       "      <td>General Medicine</td>\n",
       "      <td>missing</td>\n",
       "      <td>NaN</td>\n",
       "    </tr>\n",
       "    <tr>\n",
       "      <th>7947</th>\n",
       "      <td>MBBS, MD - Dermatology , Venereology &amp; Leprosy</td>\n",
       "      <td>8</td>\n",
       "      <td>NaN</td>\n",
       "      <td>Pallikaranai, Chennai</td>\n",
       "      <td>Dermatologists</td>\n",
       "      <td>1 Feedback Pallikaranai, Chennai ₹500</td>\n",
       "      <td>NaN</td>\n",
       "    </tr>\n",
       "  </tbody>\n",
       "</table>\n",
       "<p>4392 rows × 7 columns</p>\n",
       "</div>"
      ],
      "text/plain": [
       "                                          Qualification  Experience  Rating  \\\n",
       "2                        MBBS, MS - Otorhinolaryngology           9     NaN   \n",
       "3                                   BSc - Zoology, BAMS          12     NaN   \n",
       "5                                                  BAMS           8     NaN   \n",
       "6                                                  BHMS          42     NaN   \n",
       "8                           MBBS, MD - General Medicine          14     NaN   \n",
       "...                                                 ...         ...     ...   \n",
       "7942  MBBS, MD - Dermatology , Venereology & Leprosy...           8     NaN   \n",
       "7943                           BAMS, Doctor of Medicine          10     NaN   \n",
       "7944     MD - Dermatology , Venereology & Leprosy, MBBS           4     NaN   \n",
       "7945           MBBS, MD / MS - Obstetrics & Gynaecology           9     NaN   \n",
       "7947     MBBS, MD - Dermatology , Venereology & Leprosy           8     NaN   \n",
       "\n",
       "                             Place           Profile  \\\n",
       "2       Mathikere - BEL, Bangalore    ENT Specialist   \n",
       "3     Bannerghatta Road, Bangalore          Ayurveda   \n",
       "5                   Porur, Chennai          Ayurveda   \n",
       "6                Karol Bagh, Delhi         Homeopath   \n",
       "8              Old City, Hyderabad  General Medicine   \n",
       "...                            ...               ...   \n",
       "7942       Lajpat Nagar III, Delhi    Dermatologists   \n",
       "7943       Basavanagudi, Bangalore          Ayurveda   \n",
       "7944              Choolai, Chennai    Dermatologists   \n",
       "7945                Porur, Chennai  General Medicine   \n",
       "7947         Pallikaranai, Chennai    Dermatologists   \n",
       "\n",
       "                                     Miscellaneous_Info   Fees  \n",
       "2                                               missing  300.0  \n",
       "3     Bannerghatta Road, Bangalore ₹250 Available on...  250.0  \n",
       "5                                               missing  100.0  \n",
       "6                                               missing  200.0  \n",
       "8                                               missing  100.0  \n",
       "...                                                 ...    ...  \n",
       "7942                                            missing    NaN  \n",
       "7943                                            missing    NaN  \n",
       "7944                                            missing    NaN  \n",
       "7945                                            missing    NaN  \n",
       "7947              1 Feedback Pallikaranai, Chennai ₹500    NaN  \n",
       "\n",
       "[4392 rows x 7 columns]"
      ]
     },
     "execution_count": 27,
     "metadata": {},
     "output_type": "execute_result"
    }
   ],
   "source": [
    "df.loc[df[\"Rating\"].isnull()]"
   ]
  },
  {
   "cell_type": "code",
   "execution_count": 28,
   "metadata": {},
   "outputs": [],
   "source": [
    "df[\"Rating\"].fillna(0,inplace=True)"
   ]
  },
  {
   "cell_type": "code",
   "execution_count": 29,
   "metadata": {},
   "outputs": [
    {
     "data": {
      "text/plain": [
       "Qualification            0\n",
       "Experience               0\n",
       "Rating                   0\n",
       "Place                    0\n",
       "Profile                  0\n",
       "Miscellaneous_Info       0\n",
       "Fees                  1987\n",
       "dtype: int64"
      ]
     },
     "execution_count": 29,
     "metadata": {},
     "output_type": "execute_result"
    }
   ],
   "source": [
    "df.isnull().sum()"
   ]
  },
  {
   "cell_type": "code",
   "execution_count": 30,
   "metadata": {},
   "outputs": [
    {
     "data": {
      "text/plain": [
       "0                Kakkanad, Ernakulam\n",
       "1              Whitefield, Bangalore\n",
       "2         Mathikere - BEL, Bangalore\n",
       "3       Bannerghatta Road, Bangalore\n",
       "4              Keelkattalai, Chennai\n",
       "                    ...             \n",
       "7943         Basavanagudi, Bangalore\n",
       "7944                Choolai, Chennai\n",
       "7945                  Porur, Chennai\n",
       "7946              Arekere, Bangalore\n",
       "7947           Pallikaranai, Chennai\n",
       "Name: Place, Length: 7948, dtype: object"
      ]
     },
     "execution_count": 30,
     "metadata": {},
     "output_type": "execute_result"
    }
   ],
   "source": [
    "df['Place']"
   ]
  },
  {
   "cell_type": "code",
   "execution_count": 31,
   "metadata": {},
   "outputs": [
    {
     "name": "stdout",
     "output_type": "stream",
     "text": [
      "Max length is = 3\n"
     ]
    }
   ],
   "source": [
    "# We will divide place in to two columns with city name and locality\n",
    "max_length=-1\n",
    "for i in range(len(df['Place'])):\n",
    "    temp = len(df['Place'].iloc[i].strip().upper().split(','))\n",
    "    \n",
    "    if temp > max_length:\n",
    "        max_length=temp\n",
    "\n",
    "print(\"Max length is =\", max_length)"
   ]
  },
  {
   "cell_type": "code",
   "execution_count": 32,
   "metadata": {},
   "outputs": [],
   "source": [
    "l1=list()\n",
    "l2=list()\n",
    "l3=list()\n",
    "\n",
    "for i in range(len(df['Place'])):\n",
    "    temp=df[\"Place\"].iloc[i].split(\",\")\n",
    "    \n",
    "    try:\n",
    "        l1.append(temp[0].strip().upper())\n",
    "    except:\n",
    "        l1.append('NONE')\n",
    "        \n",
    "    try:\n",
    "        l2.append(temp[1].strip().upper())\n",
    "    except :\n",
    "        l2.append('NONE')\n",
    "        \n",
    "    try :\n",
    "        l3.append(temp[2].strip().upper())\n",
    "    except :\n",
    "        l3.append('NONE')"
   ]
  },
  {
   "cell_type": "code",
   "execution_count": 33,
   "metadata": {},
   "outputs": [],
   "source": [
    "df['l1']=l1\n",
    "df['l2']=l2\n",
    "df['l3']=l3"
   ]
  },
  {
   "cell_type": "code",
   "execution_count": 34,
   "metadata": {},
   "outputs": [
    {
     "data": {
      "text/html": [
       "<div>\n",
       "<style scoped>\n",
       "    .dataframe tbody tr th:only-of-type {\n",
       "        vertical-align: middle;\n",
       "    }\n",
       "\n",
       "    .dataframe tbody tr th {\n",
       "        vertical-align: top;\n",
       "    }\n",
       "\n",
       "    .dataframe thead th {\n",
       "        text-align: right;\n",
       "    }\n",
       "</style>\n",
       "<table border=\"1\" class=\"dataframe\">\n",
       "  <thead>\n",
       "    <tr style=\"text-align: right;\">\n",
       "      <th></th>\n",
       "      <th>Qualification</th>\n",
       "      <th>Experience</th>\n",
       "      <th>Rating</th>\n",
       "      <th>Place</th>\n",
       "      <th>Profile</th>\n",
       "      <th>Miscellaneous_Info</th>\n",
       "      <th>Fees</th>\n",
       "      <th>l1</th>\n",
       "      <th>l2</th>\n",
       "      <th>l3</th>\n",
       "    </tr>\n",
       "  </thead>\n",
       "  <tbody>\n",
       "    <tr>\n",
       "      <th>2169</th>\n",
       "      <td>BDS</td>\n",
       "      <td>11</td>\n",
       "      <td>0.0</td>\n",
       "      <td>Dwarka, Sector 5, Delhi</td>\n",
       "      <td>Dentist</td>\n",
       "      <td>missing</td>\n",
       "      <td>250.0</td>\n",
       "      <td>DWARKA</td>\n",
       "      <td>SECTOR 5</td>\n",
       "      <td>DELHI</td>\n",
       "    </tr>\n",
       "  </tbody>\n",
       "</table>\n",
       "</div>"
      ],
      "text/plain": [
       "     Qualification  Experience  Rating                    Place  Profile  \\\n",
       "2169           BDS          11     0.0  Dwarka, Sector 5, Delhi  Dentist   \n",
       "\n",
       "     Miscellaneous_Info   Fees      l1        l2     l3  \n",
       "2169            missing  250.0  DWARKA  SECTOR 5  DELHI  "
      ]
     },
     "execution_count": 34,
     "metadata": {},
     "output_type": "execute_result"
    }
   ],
   "source": [
    "df.loc[df['l3']!='NONE']"
   ]
  },
  {
   "cell_type": "code",
   "execution_count": 35,
   "metadata": {},
   "outputs": [],
   "source": [
    "# only one row "
   ]
  },
  {
   "cell_type": "code",
   "execution_count": 36,
   "metadata": {},
   "outputs": [],
   "source": [
    "df.loc[df[\"l3\"]!=\"NONE\", ['l2']] = df[['l3']]"
   ]
  },
  {
   "cell_type": "code",
   "execution_count": 37,
   "metadata": {},
   "outputs": [],
   "source": [
    "df[\"l2\"].fillna(\"DELHI\",inplace=True)"
   ]
  },
  {
   "cell_type": "code",
   "execution_count": 38,
   "metadata": {},
   "outputs": [
    {
     "data": {
      "text/plain": [
       "0       ERNAKULAM\n",
       "1       BANGALORE\n",
       "2       BANGALORE\n",
       "3       BANGALORE\n",
       "4         CHENNAI\n",
       "          ...    \n",
       "7943    BANGALORE\n",
       "7944      CHENNAI\n",
       "7945      CHENNAI\n",
       "7946    BANGALORE\n",
       "7947      CHENNAI\n",
       "Name: l2, Length: 7948, dtype: object"
      ]
     },
     "execution_count": 38,
     "metadata": {},
     "output_type": "execute_result"
    }
   ],
   "source": [
    "df['l2']"
   ]
  },
  {
   "cell_type": "code",
   "execution_count": 39,
   "metadata": {},
   "outputs": [
    {
     "data": {
      "text/plain": [
       "0       NONE\n",
       "1       NONE\n",
       "2       NONE\n",
       "3       NONE\n",
       "4       NONE\n",
       "        ... \n",
       "7943    NONE\n",
       "7944    NONE\n",
       "7945    NONE\n",
       "7946    NONE\n",
       "7947    NONE\n",
       "Name: l3, Length: 7948, dtype: object"
      ]
     },
     "execution_count": 39,
     "metadata": {},
     "output_type": "execute_result"
    }
   ],
   "source": [
    "df['l3']"
   ]
  },
  {
   "cell_type": "code",
   "execution_count": 40,
   "metadata": {},
   "outputs": [],
   "source": [
    "# we can drop l3\n",
    "df.drop('l3',axis=1,inplace=True)\n",
    "df.drop('Place',axis=1,inplace=True)"
   ]
  },
  {
   "cell_type": "code",
   "execution_count": 41,
   "metadata": {},
   "outputs": [
    {
     "data": {
      "text/html": [
       "<div>\n",
       "<style scoped>\n",
       "    .dataframe tbody tr th:only-of-type {\n",
       "        vertical-align: middle;\n",
       "    }\n",
       "\n",
       "    .dataframe tbody tr th {\n",
       "        vertical-align: top;\n",
       "    }\n",
       "\n",
       "    .dataframe thead th {\n",
       "        text-align: right;\n",
       "    }\n",
       "</style>\n",
       "<table border=\"1\" class=\"dataframe\">\n",
       "  <thead>\n",
       "    <tr style=\"text-align: right;\">\n",
       "      <th></th>\n",
       "      <th>Qualification</th>\n",
       "      <th>Experience</th>\n",
       "      <th>Rating</th>\n",
       "      <th>Profile</th>\n",
       "      <th>Miscellaneous_Info</th>\n",
       "      <th>Fees</th>\n",
       "      <th>l1</th>\n",
       "      <th>l2</th>\n",
       "    </tr>\n",
       "  </thead>\n",
       "  <tbody>\n",
       "    <tr>\n",
       "      <th>0</th>\n",
       "      <td>BHMS, MD - Homeopathy</td>\n",
       "      <td>24</td>\n",
       "      <td>100.0</td>\n",
       "      <td>Homeopath</td>\n",
       "      <td>100% 16 Feedback Kakkanad, Ernakulam</td>\n",
       "      <td>100.0</td>\n",
       "      <td>KAKKANAD</td>\n",
       "      <td>ERNAKULAM</td>\n",
       "    </tr>\n",
       "    <tr>\n",
       "      <th>1</th>\n",
       "      <td>BAMS, MD - Ayurveda Medicine</td>\n",
       "      <td>12</td>\n",
       "      <td>98.0</td>\n",
       "      <td>Ayurveda</td>\n",
       "      <td>98% 76 Feedback Whitefield, Bangalore</td>\n",
       "      <td>350.0</td>\n",
       "      <td>WHITEFIELD</td>\n",
       "      <td>BANGALORE</td>\n",
       "    </tr>\n",
       "    <tr>\n",
       "      <th>2</th>\n",
       "      <td>MBBS, MS - Otorhinolaryngology</td>\n",
       "      <td>9</td>\n",
       "      <td>0.0</td>\n",
       "      <td>ENT Specialist</td>\n",
       "      <td>missing</td>\n",
       "      <td>300.0</td>\n",
       "      <td>MATHIKERE - BEL</td>\n",
       "      <td>BANGALORE</td>\n",
       "    </tr>\n",
       "    <tr>\n",
       "      <th>3</th>\n",
       "      <td>BSc - Zoology, BAMS</td>\n",
       "      <td>12</td>\n",
       "      <td>0.0</td>\n",
       "      <td>Ayurveda</td>\n",
       "      <td>Bannerghatta Road, Bangalore ₹250 Available on...</td>\n",
       "      <td>250.0</td>\n",
       "      <td>BANNERGHATTA ROAD</td>\n",
       "      <td>BANGALORE</td>\n",
       "    </tr>\n",
       "    <tr>\n",
       "      <th>4</th>\n",
       "      <td>BAMS</td>\n",
       "      <td>20</td>\n",
       "      <td>100.0</td>\n",
       "      <td>Ayurveda</td>\n",
       "      <td>100% 4 Feedback Keelkattalai, Chennai</td>\n",
       "      <td>250.0</td>\n",
       "      <td>KEELKATTALAI</td>\n",
       "      <td>CHENNAI</td>\n",
       "    </tr>\n",
       "  </tbody>\n",
       "</table>\n",
       "</div>"
      ],
      "text/plain": [
       "                    Qualification  Experience  Rating         Profile  \\\n",
       "0           BHMS, MD - Homeopathy          24   100.0       Homeopath   \n",
       "1    BAMS, MD - Ayurveda Medicine          12    98.0        Ayurveda   \n",
       "2  MBBS, MS - Otorhinolaryngology           9     0.0  ENT Specialist   \n",
       "3             BSc - Zoology, BAMS          12     0.0        Ayurveda   \n",
       "4                            BAMS          20   100.0        Ayurveda   \n",
       "\n",
       "                                  Miscellaneous_Info   Fees  \\\n",
       "0               100% 16 Feedback Kakkanad, Ernakulam  100.0   \n",
       "1              98% 76 Feedback Whitefield, Bangalore  350.0   \n",
       "2                                            missing  300.0   \n",
       "3  Bannerghatta Road, Bangalore ₹250 Available on...  250.0   \n",
       "4              100% 4 Feedback Keelkattalai, Chennai  250.0   \n",
       "\n",
       "                  l1         l2  \n",
       "0           KAKKANAD  ERNAKULAM  \n",
       "1         WHITEFIELD  BANGALORE  \n",
       "2    MATHIKERE - BEL  BANGALORE  \n",
       "3  BANNERGHATTA ROAD  BANGALORE  \n",
       "4       KEELKATTALAI    CHENNAI  "
      ]
     },
     "execution_count": 41,
     "metadata": {},
     "output_type": "execute_result"
    }
   ],
   "source": [
    "df.head()"
   ]
  },
  {
   "cell_type": "code",
   "execution_count": 42,
   "metadata": {},
   "outputs": [
    {
     "data": {
      "text/html": [
       "<div>\n",
       "<style scoped>\n",
       "    .dataframe tbody tr th:only-of-type {\n",
       "        vertical-align: middle;\n",
       "    }\n",
       "\n",
       "    .dataframe tbody tr th {\n",
       "        vertical-align: top;\n",
       "    }\n",
       "\n",
       "    .dataframe thead th {\n",
       "        text-align: right;\n",
       "    }\n",
       "</style>\n",
       "<table border=\"1\" class=\"dataframe\">\n",
       "  <thead>\n",
       "    <tr style=\"text-align: right;\">\n",
       "      <th></th>\n",
       "      <th>Qualification</th>\n",
       "      <th>Experience</th>\n",
       "      <th>Rating</th>\n",
       "      <th>Profile</th>\n",
       "      <th>Miscellaneous_Info</th>\n",
       "      <th>Fees</th>\n",
       "      <th>l1</th>\n",
       "      <th>l2</th>\n",
       "    </tr>\n",
       "  </thead>\n",
       "  <tbody>\n",
       "    <tr>\n",
       "      <th>0</th>\n",
       "      <td>BHMS, MD - Homeopathy</td>\n",
       "      <td>24</td>\n",
       "      <td>100.0</td>\n",
       "      <td>Homeopath</td>\n",
       "      <td>100% 16 Feedback Kakkanad, Ernakulam</td>\n",
       "      <td>100.0</td>\n",
       "      <td>KAKKANAD</td>\n",
       "      <td>ERNAKULAM</td>\n",
       "    </tr>\n",
       "    <tr>\n",
       "      <th>1</th>\n",
       "      <td>BAMS, MD - Ayurveda Medicine</td>\n",
       "      <td>12</td>\n",
       "      <td>98.0</td>\n",
       "      <td>Ayurveda</td>\n",
       "      <td>98% 76 Feedback Whitefield, Bangalore</td>\n",
       "      <td>350.0</td>\n",
       "      <td>WHITEFIELD</td>\n",
       "      <td>BANGALORE</td>\n",
       "    </tr>\n",
       "    <tr>\n",
       "      <th>2</th>\n",
       "      <td>MBBS, MS - Otorhinolaryngology</td>\n",
       "      <td>9</td>\n",
       "      <td>0.0</td>\n",
       "      <td>ENT Specialist</td>\n",
       "      <td>missing</td>\n",
       "      <td>300.0</td>\n",
       "      <td>MATHIKERE - BEL</td>\n",
       "      <td>BANGALORE</td>\n",
       "    </tr>\n",
       "    <tr>\n",
       "      <th>3</th>\n",
       "      <td>BSc - Zoology, BAMS</td>\n",
       "      <td>12</td>\n",
       "      <td>0.0</td>\n",
       "      <td>Ayurveda</td>\n",
       "      <td>Bannerghatta Road, Bangalore ₹250 Available on...</td>\n",
       "      <td>250.0</td>\n",
       "      <td>BANNERGHATTA ROAD</td>\n",
       "      <td>BANGALORE</td>\n",
       "    </tr>\n",
       "    <tr>\n",
       "      <th>4</th>\n",
       "      <td>BAMS</td>\n",
       "      <td>20</td>\n",
       "      <td>100.0</td>\n",
       "      <td>Ayurveda</td>\n",
       "      <td>100% 4 Feedback Keelkattalai, Chennai</td>\n",
       "      <td>250.0</td>\n",
       "      <td>KEELKATTALAI</td>\n",
       "      <td>CHENNAI</td>\n",
       "    </tr>\n",
       "    <tr>\n",
       "      <th>5</th>\n",
       "      <td>BAMS</td>\n",
       "      <td>8</td>\n",
       "      <td>0.0</td>\n",
       "      <td>Ayurveda</td>\n",
       "      <td>missing</td>\n",
       "      <td>100.0</td>\n",
       "      <td>PORUR</td>\n",
       "      <td>CHENNAI</td>\n",
       "    </tr>\n",
       "    <tr>\n",
       "      <th>6</th>\n",
       "      <td>BHMS</td>\n",
       "      <td>42</td>\n",
       "      <td>0.0</td>\n",
       "      <td>Homeopath</td>\n",
       "      <td>missing</td>\n",
       "      <td>200.0</td>\n",
       "      <td>KAROL BAGH</td>\n",
       "      <td>DELHI</td>\n",
       "    </tr>\n",
       "    <tr>\n",
       "      <th>7</th>\n",
       "      <td>BDS</td>\n",
       "      <td>10</td>\n",
       "      <td>99.0</td>\n",
       "      <td>Dentist</td>\n",
       "      <td>Dental Fillings Crowns and Bridges Fixing Impa...</td>\n",
       "      <td>200.0</td>\n",
       "      <td>AREKERE</td>\n",
       "      <td>BANGALORE</td>\n",
       "    </tr>\n",
       "    <tr>\n",
       "      <th>8</th>\n",
       "      <td>MBBS, MD - General Medicine</td>\n",
       "      <td>14</td>\n",
       "      <td>0.0</td>\n",
       "      <td>General Medicine</td>\n",
       "      <td>missing</td>\n",
       "      <td>100.0</td>\n",
       "      <td>OLD CITY</td>\n",
       "      <td>HYDERABAD</td>\n",
       "    </tr>\n",
       "    <tr>\n",
       "      <th>9</th>\n",
       "      <td>BSc, BDS</td>\n",
       "      <td>23</td>\n",
       "      <td>0.0</td>\n",
       "      <td>Dentist</td>\n",
       "      <td>missing</td>\n",
       "      <td>100.0</td>\n",
       "      <td>ATHANI</td>\n",
       "      <td>ERNAKULAM</td>\n",
       "    </tr>\n",
       "    <tr>\n",
       "      <th>10</th>\n",
       "      <td>MBBS, MS, DNB - ENT</td>\n",
       "      <td>5</td>\n",
       "      <td>0.0</td>\n",
       "      <td>ENT Specialist</td>\n",
       "      <td>missing</td>\n",
       "      <td>700.0</td>\n",
       "      <td>THOUSAND LIGHTS</td>\n",
       "      <td>CHENNAI</td>\n",
       "    </tr>\n",
       "    <tr>\n",
       "      <th>11</th>\n",
       "      <td>BAMS</td>\n",
       "      <td>7</td>\n",
       "      <td>0.0</td>\n",
       "      <td>Ayurveda</td>\n",
       "      <td>missing</td>\n",
       "      <td>100.0</td>\n",
       "      <td>SOMAJIGUDA</td>\n",
       "      <td>HYDERABAD</td>\n",
       "    </tr>\n",
       "    <tr>\n",
       "      <th>12</th>\n",
       "      <td>BDS, MDS</td>\n",
       "      <td>9</td>\n",
       "      <td>98.0</td>\n",
       "      <td>Dentist</td>\n",
       "      <td>98% 14 Feedback Coimbatore Racecourse, Coimbatore</td>\n",
       "      <td>200.0</td>\n",
       "      <td>COIMBATORE RACECOURSE</td>\n",
       "      <td>COIMBATORE</td>\n",
       "    </tr>\n",
       "    <tr>\n",
       "      <th>13</th>\n",
       "      <td>BDS, MDS - Oral &amp; Maxillofacial Surgery</td>\n",
       "      <td>21</td>\n",
       "      <td>0.0</td>\n",
       "      <td>Dentist</td>\n",
       "      <td>Dental Crowns Facet Dental Dental prophylaxis</td>\n",
       "      <td>350.0</td>\n",
       "      <td>JUBILEE HILLS</td>\n",
       "      <td>HYDERABAD</td>\n",
       "    </tr>\n",
       "    <tr>\n",
       "      <th>14</th>\n",
       "      <td>MBBS, Diploma in Otorhinolaryngology (DLO), DN...</td>\n",
       "      <td>12</td>\n",
       "      <td>0.0</td>\n",
       "      <td>ENT Specialist</td>\n",
       "      <td>missing</td>\n",
       "      <td>500.0</td>\n",
       "      <td>KONDLI</td>\n",
       "      <td>DELHI</td>\n",
       "    </tr>\n",
       "    <tr>\n",
       "      <th>15</th>\n",
       "      <td>MBBS, MD - General Medicine</td>\n",
       "      <td>10</td>\n",
       "      <td>0.0</td>\n",
       "      <td>General Medicine</td>\n",
       "      <td>missing</td>\n",
       "      <td>200.0</td>\n",
       "      <td>SAROOR NAGAR</td>\n",
       "      <td>HYDERABAD</td>\n",
       "    </tr>\n",
       "    <tr>\n",
       "      <th>16</th>\n",
       "      <td>MBBS, Diploma in Otorhinolaryngology (DLO)</td>\n",
       "      <td>24</td>\n",
       "      <td>0.0</td>\n",
       "      <td>ENT Specialist</td>\n",
       "      <td>missing</td>\n",
       "      <td>100.0</td>\n",
       "      <td>TAMBARAM WEST</td>\n",
       "      <td>CHENNAI</td>\n",
       "    </tr>\n",
       "    <tr>\n",
       "      <th>17</th>\n",
       "      <td>MBBS, MF- Homeopathy</td>\n",
       "      <td>5</td>\n",
       "      <td>0.0</td>\n",
       "      <td>Homeopath</td>\n",
       "      <td>missing</td>\n",
       "      <td>300.0</td>\n",
       "      <td>PURASAWAKKAM</td>\n",
       "      <td>CHENNAI</td>\n",
       "    </tr>\n",
       "    <tr>\n",
       "      <th>18</th>\n",
       "      <td>MBBS, MS - ENT</td>\n",
       "      <td>19</td>\n",
       "      <td>79.0</td>\n",
       "      <td>ENT Specialist</td>\n",
       "      <td>79% 8 Feedback KPHB, Hyderabad</td>\n",
       "      <td>400.0</td>\n",
       "      <td>KPHB</td>\n",
       "      <td>HYDERABAD</td>\n",
       "    </tr>\n",
       "    <tr>\n",
       "      <th>19</th>\n",
       "      <td>MBBS</td>\n",
       "      <td>19</td>\n",
       "      <td>100.0</td>\n",
       "      <td>General Medicine</td>\n",
       "      <td>100% 4 Feedback HSR Layout, Bangalore</td>\n",
       "      <td>150.0</td>\n",
       "      <td>HSR LAYOUT</td>\n",
       "      <td>BANGALORE</td>\n",
       "    </tr>\n",
       "    <tr>\n",
       "      <th>20</th>\n",
       "      <td>MDS, DNB, BDS</td>\n",
       "      <td>21</td>\n",
       "      <td>100.0</td>\n",
       "      <td>Dentist</td>\n",
       "      <td>100% 7 Feedback Pollachi, Coimbatore</td>\n",
       "      <td>100.0</td>\n",
       "      <td>POLLACHI</td>\n",
       "      <td>COIMBATORE</td>\n",
       "    </tr>\n",
       "    <tr>\n",
       "      <th>21</th>\n",
       "      <td>MBBS, DNB - ENT</td>\n",
       "      <td>14</td>\n",
       "      <td>0.0</td>\n",
       "      <td>ENT Specialist</td>\n",
       "      <td>Adenoid / Tonsil Surgery Rhinoplasty Laryngoscopy</td>\n",
       "      <td>500.0</td>\n",
       "      <td>VASUNDHRA ENCLAVE</td>\n",
       "      <td>DELHI</td>\n",
       "    </tr>\n",
       "    <tr>\n",
       "      <th>22</th>\n",
       "      <td>MBBS</td>\n",
       "      <td>41</td>\n",
       "      <td>0.0</td>\n",
       "      <td>General Medicine</td>\n",
       "      <td>missing</td>\n",
       "      <td>200.0</td>\n",
       "      <td>CHEMBUR</td>\n",
       "      <td>MUMBAI</td>\n",
       "    </tr>\n",
       "    <tr>\n",
       "      <th>23</th>\n",
       "      <td>MBBS, Fellowship of College of General Practic...</td>\n",
       "      <td>31</td>\n",
       "      <td>0.0</td>\n",
       "      <td>General Medicine</td>\n",
       "      <td>missing</td>\n",
       "      <td>100.0</td>\n",
       "      <td>THAMMANAM</td>\n",
       "      <td>ERNAKULAM</td>\n",
       "    </tr>\n",
       "    <tr>\n",
       "      <th>24</th>\n",
       "      <td>MBBS, DDVL</td>\n",
       "      <td>23</td>\n",
       "      <td>0.0</td>\n",
       "      <td>Dermatologists</td>\n",
       "      <td>missing</td>\n",
       "      <td>100.0</td>\n",
       "      <td>ANDHERI</td>\n",
       "      <td>MUMBAI</td>\n",
       "    </tr>\n",
       "  </tbody>\n",
       "</table>\n",
       "</div>"
      ],
      "text/plain": [
       "                                        Qualification  Experience  Rating  \\\n",
       "0                               BHMS, MD - Homeopathy          24   100.0   \n",
       "1                        BAMS, MD - Ayurveda Medicine          12    98.0   \n",
       "2                      MBBS, MS - Otorhinolaryngology           9     0.0   \n",
       "3                                 BSc - Zoology, BAMS          12     0.0   \n",
       "4                                                BAMS          20   100.0   \n",
       "5                                                BAMS           8     0.0   \n",
       "6                                                BHMS          42     0.0   \n",
       "7                                                 BDS          10    99.0   \n",
       "8                         MBBS, MD - General Medicine          14     0.0   \n",
       "9                                            BSc, BDS          23     0.0   \n",
       "10                                MBBS, MS, DNB - ENT           5     0.0   \n",
       "11                                               BAMS           7     0.0   \n",
       "12                                           BDS, MDS           9    98.0   \n",
       "13            BDS, MDS - Oral & Maxillofacial Surgery          21     0.0   \n",
       "14  MBBS, Diploma in Otorhinolaryngology (DLO), DN...          12     0.0   \n",
       "15                        MBBS, MD - General Medicine          10     0.0   \n",
       "16         MBBS, Diploma in Otorhinolaryngology (DLO)          24     0.0   \n",
       "17                               MBBS, MF- Homeopathy           5     0.0   \n",
       "18                                     MBBS, MS - ENT          19    79.0   \n",
       "19                                               MBBS          19   100.0   \n",
       "20                                      MDS, DNB, BDS          21   100.0   \n",
       "21                                    MBBS, DNB - ENT          14     0.0   \n",
       "22                                               MBBS          41     0.0   \n",
       "23  MBBS, Fellowship of College of General Practic...          31     0.0   \n",
       "24                                         MBBS, DDVL          23     0.0   \n",
       "\n",
       "             Profile                                 Miscellaneous_Info  \\\n",
       "0          Homeopath               100% 16 Feedback Kakkanad, Ernakulam   \n",
       "1           Ayurveda              98% 76 Feedback Whitefield, Bangalore   \n",
       "2     ENT Specialist                                            missing   \n",
       "3           Ayurveda  Bannerghatta Road, Bangalore ₹250 Available on...   \n",
       "4           Ayurveda              100% 4 Feedback Keelkattalai, Chennai   \n",
       "5           Ayurveda                                            missing   \n",
       "6          Homeopath                                            missing   \n",
       "7            Dentist  Dental Fillings Crowns and Bridges Fixing Impa...   \n",
       "8   General Medicine                                            missing   \n",
       "9            Dentist                                            missing   \n",
       "10    ENT Specialist                                            missing   \n",
       "11          Ayurveda                                            missing   \n",
       "12           Dentist  98% 14 Feedback Coimbatore Racecourse, Coimbatore   \n",
       "13           Dentist      Dental Crowns Facet Dental Dental prophylaxis   \n",
       "14    ENT Specialist                                            missing   \n",
       "15  General Medicine                                            missing   \n",
       "16    ENT Specialist                                            missing   \n",
       "17         Homeopath                                            missing   \n",
       "18    ENT Specialist                     79% 8 Feedback KPHB, Hyderabad   \n",
       "19  General Medicine              100% 4 Feedback HSR Layout, Bangalore   \n",
       "20           Dentist               100% 7 Feedback Pollachi, Coimbatore   \n",
       "21    ENT Specialist  Adenoid / Tonsil Surgery Rhinoplasty Laryngoscopy   \n",
       "22  General Medicine                                            missing   \n",
       "23  General Medicine                                            missing   \n",
       "24    Dermatologists                                            missing   \n",
       "\n",
       "     Fees                     l1          l2  \n",
       "0   100.0               KAKKANAD   ERNAKULAM  \n",
       "1   350.0             WHITEFIELD   BANGALORE  \n",
       "2   300.0        MATHIKERE - BEL   BANGALORE  \n",
       "3   250.0      BANNERGHATTA ROAD   BANGALORE  \n",
       "4   250.0           KEELKATTALAI     CHENNAI  \n",
       "5   100.0                  PORUR     CHENNAI  \n",
       "6   200.0             KAROL BAGH       DELHI  \n",
       "7   200.0                AREKERE   BANGALORE  \n",
       "8   100.0               OLD CITY   HYDERABAD  \n",
       "9   100.0                 ATHANI   ERNAKULAM  \n",
       "10  700.0        THOUSAND LIGHTS     CHENNAI  \n",
       "11  100.0             SOMAJIGUDA   HYDERABAD  \n",
       "12  200.0  COIMBATORE RACECOURSE  COIMBATORE  \n",
       "13  350.0          JUBILEE HILLS   HYDERABAD  \n",
       "14  500.0                 KONDLI       DELHI  \n",
       "15  200.0           SAROOR NAGAR   HYDERABAD  \n",
       "16  100.0          TAMBARAM WEST     CHENNAI  \n",
       "17  300.0           PURASAWAKKAM     CHENNAI  \n",
       "18  400.0                   KPHB   HYDERABAD  \n",
       "19  150.0             HSR LAYOUT   BANGALORE  \n",
       "20  100.0               POLLACHI  COIMBATORE  \n",
       "21  500.0      VASUNDHRA ENCLAVE       DELHI  \n",
       "22  200.0                CHEMBUR      MUMBAI  \n",
       "23  100.0              THAMMANAM   ERNAKULAM  \n",
       "24  100.0                ANDHERI      MUMBAI  "
      ]
     },
     "execution_count": 42,
     "metadata": {},
     "output_type": "execute_result"
    }
   ],
   "source": [
    "df.head(25)"
   ]
  },
  {
   "cell_type": "code",
   "execution_count": 43,
   "metadata": {},
   "outputs": [
    {
     "data": {
      "text/plain": [
       "7948"
      ]
     },
     "execution_count": 43,
     "metadata": {},
     "output_type": "execute_result"
    }
   ],
   "source": [
    "len(df['Qualification'])"
   ]
  },
  {
   "cell_type": "code",
   "execution_count": 44,
   "metadata": {},
   "outputs": [
    {
     "name": "stdout",
     "output_type": "stream",
     "text": [
      "Max length is = 17\n"
     ]
    }
   ],
   "source": [
    "# we will find the no of splits qualification have and repeat the same procedure that we have done for Place\n",
    "max_length=-1\n",
    "for i in range(len(df['Qualification'])):\n",
    "    temp = len(df['Qualification'].iloc[i].strip().upper().split(','))\n",
    "    \n",
    "    if temp > max_length:\n",
    "        max_length=temp\n",
    "\n",
    "print(\"Max length is =\", max_length)"
   ]
  },
  {
   "cell_type": "code",
   "execution_count": 45,
   "metadata": {},
   "outputs": [],
   "source": [
    "# 17 lists\n",
    "q1=list()\n",
    "q2=list()\n",
    "q3=list()\n",
    "q4=list()\n",
    "q5=list()\n",
    "q6=list()\n",
    "q7=list()\n",
    "q8=list()\n",
    "q9=list()\n",
    "q10=list()\n",
    "q11=list()\n",
    "q12=list()\n",
    "q13=list()\n",
    "q14=list()\n",
    "q15=list()\n",
    "q16=list()\n",
    "q17=list()"
   ]
  },
  {
   "cell_type": "code",
   "execution_count": 46,
   "metadata": {},
   "outputs": [],
   "source": [
    "for i in range(len(df[\"Qualification\"])):\n",
    "    temp=df[\"Qualification\"].iloc[i].split(\",\")\n",
    "    try :\n",
    "        q1.append(temp[0].strip().upper())\n",
    "    except :\n",
    "        q1.append('NONE')\n",
    "    try :\n",
    "        q2.append(temp[1].strip().upper())\n",
    "    except :\n",
    "        q2.append('NONE')\n",
    "    try :\n",
    "        q3.append(temp[2].strip().upper())\n",
    "    except :\n",
    "        q3.append('NONE')\n",
    "    try :\n",
    "        q4.append(temp[3].strip().upper())\n",
    "    except :\n",
    "        q4.append('NONE')\n",
    "    try :\n",
    "        q5.append(temp[4].strip().upper())\n",
    "    except :\n",
    "        q5.append('NONE')\n",
    "    try :\n",
    "        q6.append(temp[5].strip().upper())\n",
    "    except :\n",
    "        q6.append('NONE')\n",
    "    try :\n",
    "        q7.append(temp[6].strip().upper())\n",
    "    except :\n",
    "        q7.append('NONE')\n",
    "    try :\n",
    "        q8.append(temp[7].strip().upper())\n",
    "    except :\n",
    "        q8.append('NONE')\n",
    "    try :\n",
    "        q9.append(temp[8].strip().upper())\n",
    "    except :\n",
    "        q9.append('NONE')\n",
    "    try :\n",
    "        q10.append(temp[9].strip().upper())\n",
    "    except :\n",
    "        q10.append('NONE')\n",
    "    try :\n",
    "        q11.append(temp[10].strip().upper())\n",
    "    except :\n",
    "        q11.append('NONE')\n",
    "    try :\n",
    "        q12.append(temp[11].strip().upper())\n",
    "    except :\n",
    "        q12.append('NONE')\n",
    "    try :\n",
    "        q13.append(temp[12].strip().upper())\n",
    "    except :\n",
    "        q13.append('NONE')\n",
    "    try :\n",
    "        q14.append(temp[13].strip().upper())\n",
    "    except :\n",
    "        q14.append('NONE')\n",
    "    try :\n",
    "        q15.append(temp[14].strip().upper())\n",
    "    except :\n",
    "        q15.append('NONE')\n",
    "    try :\n",
    "        q16.append(temp[15].strip().upper())\n",
    "    except :\n",
    "        q16.append('NONE')\n",
    "    try :\n",
    "        q17.append(temp[16].strip().upper())\n",
    "    except :\n",
    "        q17.append('NONE')"
   ]
  },
  {
   "cell_type": "code",
   "execution_count": 47,
   "metadata": {},
   "outputs": [],
   "source": [
    "df['q1']=q1\n",
    "df['q2']=q2\n",
    "df['q3']=q3\n",
    "df[\"q4\"]=q4\n",
    "df[\"q5\"]=q5\n",
    "df[\"q6\"]=q6\n",
    "df[\"q7\"]=q7\n",
    "df[\"q8\"]=q8\n",
    "df[\"q9\"]=q9\n",
    "df[\"q10\"]=q10\n",
    "df[\"q11\"]=q11\n",
    "df[\"q12\"]=q12\n",
    "df[\"q13\"]=q13\n",
    "df[\"q14\"]=q14\n",
    "df[\"q15\"]=q15\n",
    "df[\"q16\"]=q16\n",
    "df[\"q17\"]=q17"
   ]
  },
  {
   "cell_type": "code",
   "execution_count": 48,
   "metadata": {},
   "outputs": [
    {
     "data": {
      "text/plain": [
       "0       NONE\n",
       "1       NONE\n",
       "2       NONE\n",
       "3       NONE\n",
       "4       NONE\n",
       "        ... \n",
       "7943    NONE\n",
       "7944    NONE\n",
       "7945    NONE\n",
       "7946    NONE\n",
       "7947    NONE\n",
       "Name: q8, Length: 7948, dtype: object"
      ]
     },
     "execution_count": 48,
     "metadata": {},
     "output_type": "execute_result"
    }
   ],
   "source": [
    "df['q8']"
   ]
  },
  {
   "cell_type": "code",
   "execution_count": 49,
   "metadata": {},
   "outputs": [
    {
     "data": {
      "text/plain": [
       "0       NONE\n",
       "1       NONE\n",
       "2       NONE\n",
       "3       NONE\n",
       "4       NONE\n",
       "        ... \n",
       "7943    NONE\n",
       "7944    NONE\n",
       "7945    NONE\n",
       "7946    NONE\n",
       "7947    NONE\n",
       "Name: q9, Length: 7948, dtype: object"
      ]
     },
     "execution_count": 49,
     "metadata": {},
     "output_type": "execute_result"
    }
   ],
   "source": [
    "df['q9']"
   ]
  },
  {
   "cell_type": "code",
   "execution_count": 50,
   "metadata": {},
   "outputs": [
    {
     "data": {
      "text/plain": [
       "0       NONE\n",
       "1       NONE\n",
       "2       NONE\n",
       "3       NONE\n",
       "4       NONE\n",
       "        ... \n",
       "7943    NONE\n",
       "7944    NONE\n",
       "7945    NONE\n",
       "7946    NONE\n",
       "7947    NONE\n",
       "Name: q17, Length: 7948, dtype: object"
      ]
     },
     "execution_count": 50,
     "metadata": {},
     "output_type": "execute_result"
    }
   ],
   "source": [
    "df['q17']"
   ]
  },
  {
   "cell_type": "code",
   "execution_count": 51,
   "metadata": {},
   "outputs": [],
   "source": [
    "# q8 to q17 were NONE. We can drop them\n",
    "df.drop(columns=[\"q8\",\"q9\",\"q10\",\"q11\",\"q12\",\"q13\",\"q14\",\"q15\",\"q16\",\"q17\"],inplace=True)"
   ]
  },
  {
   "cell_type": "code",
   "execution_count": 52,
   "metadata": {},
   "outputs": [],
   "source": [
    "df.drop(columns=[\"Qualification\"],inplace=True)"
   ]
  },
  {
   "cell_type": "code",
   "execution_count": 53,
   "metadata": {
    "scrolled": true
   },
   "outputs": [
    {
     "data": {
      "text/html": [
       "<div>\n",
       "<style scoped>\n",
       "    .dataframe tbody tr th:only-of-type {\n",
       "        vertical-align: middle;\n",
       "    }\n",
       "\n",
       "    .dataframe tbody tr th {\n",
       "        vertical-align: top;\n",
       "    }\n",
       "\n",
       "    .dataframe thead th {\n",
       "        text-align: right;\n",
       "    }\n",
       "</style>\n",
       "<table border=\"1\" class=\"dataframe\">\n",
       "  <thead>\n",
       "    <tr style=\"text-align: right;\">\n",
       "      <th></th>\n",
       "      <th>Experience</th>\n",
       "      <th>Rating</th>\n",
       "      <th>Profile</th>\n",
       "      <th>Miscellaneous_Info</th>\n",
       "      <th>Fees</th>\n",
       "      <th>l1</th>\n",
       "      <th>l2</th>\n",
       "      <th>q1</th>\n",
       "      <th>q2</th>\n",
       "      <th>q3</th>\n",
       "      <th>q4</th>\n",
       "      <th>q5</th>\n",
       "      <th>q6</th>\n",
       "      <th>q7</th>\n",
       "    </tr>\n",
       "  </thead>\n",
       "  <tbody>\n",
       "    <tr>\n",
       "      <th>0</th>\n",
       "      <td>24</td>\n",
       "      <td>100.0</td>\n",
       "      <td>Homeopath</td>\n",
       "      <td>100% 16 Feedback Kakkanad, Ernakulam</td>\n",
       "      <td>100.0</td>\n",
       "      <td>KAKKANAD</td>\n",
       "      <td>ERNAKULAM</td>\n",
       "      <td>BHMS</td>\n",
       "      <td>MD - HOMEOPATHY</td>\n",
       "      <td>NONE</td>\n",
       "      <td>NONE</td>\n",
       "      <td>NONE</td>\n",
       "      <td>NONE</td>\n",
       "      <td>NONE</td>\n",
       "    </tr>\n",
       "    <tr>\n",
       "      <th>1</th>\n",
       "      <td>12</td>\n",
       "      <td>98.0</td>\n",
       "      <td>Ayurveda</td>\n",
       "      <td>98% 76 Feedback Whitefield, Bangalore</td>\n",
       "      <td>350.0</td>\n",
       "      <td>WHITEFIELD</td>\n",
       "      <td>BANGALORE</td>\n",
       "      <td>BAMS</td>\n",
       "      <td>MD - AYURVEDA MEDICINE</td>\n",
       "      <td>NONE</td>\n",
       "      <td>NONE</td>\n",
       "      <td>NONE</td>\n",
       "      <td>NONE</td>\n",
       "      <td>NONE</td>\n",
       "    </tr>\n",
       "    <tr>\n",
       "      <th>2</th>\n",
       "      <td>9</td>\n",
       "      <td>0.0</td>\n",
       "      <td>ENT Specialist</td>\n",
       "      <td>missing</td>\n",
       "      <td>300.0</td>\n",
       "      <td>MATHIKERE - BEL</td>\n",
       "      <td>BANGALORE</td>\n",
       "      <td>MBBS</td>\n",
       "      <td>MS - OTORHINOLARYNGOLOGY</td>\n",
       "      <td>NONE</td>\n",
       "      <td>NONE</td>\n",
       "      <td>NONE</td>\n",
       "      <td>NONE</td>\n",
       "      <td>NONE</td>\n",
       "    </tr>\n",
       "    <tr>\n",
       "      <th>3</th>\n",
       "      <td>12</td>\n",
       "      <td>0.0</td>\n",
       "      <td>Ayurveda</td>\n",
       "      <td>Bannerghatta Road, Bangalore ₹250 Available on...</td>\n",
       "      <td>250.0</td>\n",
       "      <td>BANNERGHATTA ROAD</td>\n",
       "      <td>BANGALORE</td>\n",
       "      <td>BSC - ZOOLOGY</td>\n",
       "      <td>BAMS</td>\n",
       "      <td>NONE</td>\n",
       "      <td>NONE</td>\n",
       "      <td>NONE</td>\n",
       "      <td>NONE</td>\n",
       "      <td>NONE</td>\n",
       "    </tr>\n",
       "    <tr>\n",
       "      <th>4</th>\n",
       "      <td>20</td>\n",
       "      <td>100.0</td>\n",
       "      <td>Ayurveda</td>\n",
       "      <td>100% 4 Feedback Keelkattalai, Chennai</td>\n",
       "      <td>250.0</td>\n",
       "      <td>KEELKATTALAI</td>\n",
       "      <td>CHENNAI</td>\n",
       "      <td>BAMS</td>\n",
       "      <td>NONE</td>\n",
       "      <td>NONE</td>\n",
       "      <td>NONE</td>\n",
       "      <td>NONE</td>\n",
       "      <td>NONE</td>\n",
       "      <td>NONE</td>\n",
       "    </tr>\n",
       "  </tbody>\n",
       "</table>\n",
       "</div>"
      ],
      "text/plain": [
       "   Experience  Rating         Profile  \\\n",
       "0          24   100.0       Homeopath   \n",
       "1          12    98.0        Ayurveda   \n",
       "2           9     0.0  ENT Specialist   \n",
       "3          12     0.0        Ayurveda   \n",
       "4          20   100.0        Ayurveda   \n",
       "\n",
       "                                  Miscellaneous_Info   Fees  \\\n",
       "0               100% 16 Feedback Kakkanad, Ernakulam  100.0   \n",
       "1              98% 76 Feedback Whitefield, Bangalore  350.0   \n",
       "2                                            missing  300.0   \n",
       "3  Bannerghatta Road, Bangalore ₹250 Available on...  250.0   \n",
       "4              100% 4 Feedback Keelkattalai, Chennai  250.0   \n",
       "\n",
       "                  l1         l2             q1                        q2  \\\n",
       "0           KAKKANAD  ERNAKULAM           BHMS           MD - HOMEOPATHY   \n",
       "1         WHITEFIELD  BANGALORE           BAMS    MD - AYURVEDA MEDICINE   \n",
       "2    MATHIKERE - BEL  BANGALORE           MBBS  MS - OTORHINOLARYNGOLOGY   \n",
       "3  BANNERGHATTA ROAD  BANGALORE  BSC - ZOOLOGY                      BAMS   \n",
       "4       KEELKATTALAI    CHENNAI           BAMS                      NONE   \n",
       "\n",
       "     q3    q4    q5    q6    q7  \n",
       "0  NONE  NONE  NONE  NONE  NONE  \n",
       "1  NONE  NONE  NONE  NONE  NONE  \n",
       "2  NONE  NONE  NONE  NONE  NONE  \n",
       "3  NONE  NONE  NONE  NONE  NONE  \n",
       "4  NONE  NONE  NONE  NONE  NONE  "
      ]
     },
     "execution_count": 53,
     "metadata": {},
     "output_type": "execute_result"
    }
   ],
   "source": [
    "df.head()"
   ]
  },
  {
   "cell_type": "code",
   "execution_count": 54,
   "metadata": {},
   "outputs": [
    {
     "name": "stdout",
     "output_type": "stream",
     "text": [
      "Requirement already satisfied: nltk in c:\\users\\ajay\\anaconda3\\lib\\site-packages (3.5)\n",
      "Requirement already satisfied: tqdm in c:\\users\\ajay\\anaconda3\\lib\\site-packages (from nltk) (4.47.0)\n",
      "Requirement already satisfied: click in c:\\users\\ajay\\anaconda3\\lib\\site-packages (from nltk) (7.1.2)\n",
      "Requirement already satisfied: regex in c:\\users\\ajay\\anaconda3\\lib\\site-packages (from nltk) (2020.6.8)\n",
      "Requirement already satisfied: joblib in c:\\users\\ajay\\anaconda3\\lib\\site-packages (from nltk) (0.16.0)\n",
      "Note: you may need to restart the kernel to use updated packages.\n"
     ]
    }
   ],
   "source": [
    "pip install nltk"
   ]
  },
  {
   "cell_type": "code",
   "execution_count": 55,
   "metadata": {},
   "outputs": [
    {
     "name": "stderr",
     "output_type": "stream",
     "text": [
      "[nltk_data] Downloading package stopwords to\n",
      "[nltk_data]     C:\\Users\\AJAY\\AppData\\Roaming\\nltk_data...\n",
      "[nltk_data]   Package stopwords is already up-to-date!\n"
     ]
    },
    {
     "data": {
      "text/plain": [
       "True"
      ]
     },
     "execution_count": 55,
     "metadata": {},
     "output_type": "execute_result"
    }
   ],
   "source": [
    "import nltk\n",
    "nltk.download('stopwords')"
   ]
  },
  {
   "cell_type": "code",
   "execution_count": 56,
   "metadata": {},
   "outputs": [],
   "source": [
    "import re\n",
    "import nltk\n",
    "from nltk.stem import WordNetLemmatizer \n",
    "from nltk.corpus import stopwords\n",
    "stop_words=list(stopwords.words('english'))\n",
    "lemmatizer = WordNetLemmatizer()\n",
    "def clean(text):\n",
    "    newstring=\"\"\n",
    "    text=re.sub(\"[\\W*]\",\" \",text)\n",
    "    text=re.sub(\"\\d+[a-z]*\",\" \",text)\n",
    "    text=re.sub(\"\\s+\",\" \",text)\n",
    "    count=0\n",
    "    for word in text.split():\n",
    "        if word not in stop_words:\n",
    "            word=lemmatizer.lemmatize(word)\n",
    "            if count==0:\n",
    "                newstring=newstring+word\n",
    "            if count!=0:\n",
    "                newstring=newstring+\" \"+word\n",
    "            count=count+1\n",
    "    return newstring"
   ]
  },
  {
   "cell_type": "code",
   "execution_count": 57,
   "metadata": {},
   "outputs": [
    {
     "name": "stderr",
     "output_type": "stream",
     "text": [
      "[nltk_data] Downloading package wordnet to\n",
      "[nltk_data]     C:\\Users\\AJAY\\AppData\\Roaming\\nltk_data...\n",
      "[nltk_data]   Package wordnet is already up-to-date!\n"
     ]
    }
   ],
   "source": [
    "nltk.download('wordnet')\n",
    "df[\"Miscellaneous_Info\"]=df[\"Miscellaneous_Info\"].apply(lambda x: clean(x))"
   ]
  },
  {
   "cell_type": "code",
   "execution_count": 58,
   "metadata": {},
   "outputs": [
    {
     "data": {
      "text/plain": [
       "0                             Feedback Kakkanad Ernakulam\n",
       "1                           Feedback Whitefield Bangalore\n",
       "2                                                 missing\n",
       "3           Bannerghatta Road Bangalore Available Sun Feb\n",
       "4                           Feedback Keelkattalai Chennai\n",
       "                              ...                        \n",
       "7943                                              missing\n",
       "7944                                              missing\n",
       "7945                                              missing\n",
       "7946    RCT Root Canal Treatment Root Canal Treatment ...\n",
       "7947                        Feedback Pallikaranai Chennai\n",
       "Name: Miscellaneous_Info, Length: 7948, dtype: object"
      ]
     },
     "execution_count": 58,
     "metadata": {},
     "output_type": "execute_result"
    }
   ],
   "source": [
    "df['Miscellaneous_Info']"
   ]
  },
  {
   "cell_type": "code",
   "execution_count": 59,
   "metadata": {},
   "outputs": [
    {
     "data": {
      "text/plain": [
       "(7948, 1000)"
      ]
     },
     "execution_count": 59,
     "metadata": {},
     "output_type": "execute_result"
    }
   ],
   "source": [
    "# converting description string in to numbers\n",
    "from sklearn.feature_extraction.text import TfidfVectorizer\n",
    "vectorizer = TfidfVectorizer(max_features=1000)\n",
    "miss_info = vectorizer.fit_transform(df[\"Miscellaneous_Info\"].to_list())\n",
    "miss_info.shape"
   ]
  },
  {
   "cell_type": "code",
   "execution_count": 60,
   "metadata": {},
   "outputs": [],
   "source": [
    "df_final=pd.concat([df,pd.DataFrame(miss_info.toarray())],axis=1)"
   ]
  },
  {
   "cell_type": "code",
   "execution_count": 61,
   "metadata": {},
   "outputs": [],
   "source": [
    "df.drop('Miscellaneous_Info',axis=1,inplace=True)"
   ]
  },
  {
   "cell_type": "code",
   "execution_count": 62,
   "metadata": {},
   "outputs": [
    {
     "data": {
      "text/html": [
       "<div>\n",
       "<style scoped>\n",
       "    .dataframe tbody tr th:only-of-type {\n",
       "        vertical-align: middle;\n",
       "    }\n",
       "\n",
       "    .dataframe tbody tr th {\n",
       "        vertical-align: top;\n",
       "    }\n",
       "\n",
       "    .dataframe thead th {\n",
       "        text-align: right;\n",
       "    }\n",
       "</style>\n",
       "<table border=\"1\" class=\"dataframe\">\n",
       "  <thead>\n",
       "    <tr style=\"text-align: right;\">\n",
       "      <th></th>\n",
       "      <th>Experience</th>\n",
       "      <th>Rating</th>\n",
       "      <th>Profile</th>\n",
       "      <th>Miscellaneous_Info</th>\n",
       "      <th>Fees</th>\n",
       "      <th>l1</th>\n",
       "      <th>l2</th>\n",
       "      <th>q1</th>\n",
       "      <th>q2</th>\n",
       "      <th>q3</th>\n",
       "      <th>...</th>\n",
       "      <th>990</th>\n",
       "      <th>991</th>\n",
       "      <th>992</th>\n",
       "      <th>993</th>\n",
       "      <th>994</th>\n",
       "      <th>995</th>\n",
       "      <th>996</th>\n",
       "      <th>997</th>\n",
       "      <th>998</th>\n",
       "      <th>999</th>\n",
       "    </tr>\n",
       "  </thead>\n",
       "  <tbody>\n",
       "    <tr>\n",
       "      <th>0</th>\n",
       "      <td>24</td>\n",
       "      <td>100.0</td>\n",
       "      <td>Homeopath</td>\n",
       "      <td>Feedback Kakkanad Ernakulam</td>\n",
       "      <td>100.0</td>\n",
       "      <td>KAKKANAD</td>\n",
       "      <td>ERNAKULAM</td>\n",
       "      <td>BHMS</td>\n",
       "      <td>MD - HOMEOPATHY</td>\n",
       "      <td>NONE</td>\n",
       "      <td>...</td>\n",
       "      <td>0.0</td>\n",
       "      <td>0.0</td>\n",
       "      <td>0.0</td>\n",
       "      <td>0.0</td>\n",
       "      <td>0.0</td>\n",
       "      <td>0.0</td>\n",
       "      <td>0.0</td>\n",
       "      <td>0.0</td>\n",
       "      <td>0.0</td>\n",
       "      <td>0.0</td>\n",
       "    </tr>\n",
       "    <tr>\n",
       "      <th>1</th>\n",
       "      <td>12</td>\n",
       "      <td>98.0</td>\n",
       "      <td>Ayurveda</td>\n",
       "      <td>Feedback Whitefield Bangalore</td>\n",
       "      <td>350.0</td>\n",
       "      <td>WHITEFIELD</td>\n",
       "      <td>BANGALORE</td>\n",
       "      <td>BAMS</td>\n",
       "      <td>MD - AYURVEDA MEDICINE</td>\n",
       "      <td>NONE</td>\n",
       "      <td>...</td>\n",
       "      <td>0.0</td>\n",
       "      <td>0.0</td>\n",
       "      <td>0.0</td>\n",
       "      <td>0.0</td>\n",
       "      <td>0.0</td>\n",
       "      <td>0.0</td>\n",
       "      <td>0.0</td>\n",
       "      <td>0.0</td>\n",
       "      <td>0.0</td>\n",
       "      <td>0.0</td>\n",
       "    </tr>\n",
       "    <tr>\n",
       "      <th>2</th>\n",
       "      <td>9</td>\n",
       "      <td>0.0</td>\n",
       "      <td>ENT Specialist</td>\n",
       "      <td>missing</td>\n",
       "      <td>300.0</td>\n",
       "      <td>MATHIKERE - BEL</td>\n",
       "      <td>BANGALORE</td>\n",
       "      <td>MBBS</td>\n",
       "      <td>MS - OTORHINOLARYNGOLOGY</td>\n",
       "      <td>NONE</td>\n",
       "      <td>...</td>\n",
       "      <td>0.0</td>\n",
       "      <td>0.0</td>\n",
       "      <td>0.0</td>\n",
       "      <td>0.0</td>\n",
       "      <td>0.0</td>\n",
       "      <td>0.0</td>\n",
       "      <td>0.0</td>\n",
       "      <td>0.0</td>\n",
       "      <td>0.0</td>\n",
       "      <td>0.0</td>\n",
       "    </tr>\n",
       "    <tr>\n",
       "      <th>3</th>\n",
       "      <td>12</td>\n",
       "      <td>0.0</td>\n",
       "      <td>Ayurveda</td>\n",
       "      <td>Bannerghatta Road Bangalore Available Sun Feb</td>\n",
       "      <td>250.0</td>\n",
       "      <td>BANNERGHATTA ROAD</td>\n",
       "      <td>BANGALORE</td>\n",
       "      <td>BSC - ZOOLOGY</td>\n",
       "      <td>BAMS</td>\n",
       "      <td>NONE</td>\n",
       "      <td>...</td>\n",
       "      <td>0.0</td>\n",
       "      <td>0.0</td>\n",
       "      <td>0.0</td>\n",
       "      <td>0.0</td>\n",
       "      <td>0.0</td>\n",
       "      <td>0.0</td>\n",
       "      <td>0.0</td>\n",
       "      <td>0.0</td>\n",
       "      <td>0.0</td>\n",
       "      <td>0.0</td>\n",
       "    </tr>\n",
       "    <tr>\n",
       "      <th>4</th>\n",
       "      <td>20</td>\n",
       "      <td>100.0</td>\n",
       "      <td>Ayurveda</td>\n",
       "      <td>Feedback Keelkattalai Chennai</td>\n",
       "      <td>250.0</td>\n",
       "      <td>KEELKATTALAI</td>\n",
       "      <td>CHENNAI</td>\n",
       "      <td>BAMS</td>\n",
       "      <td>NONE</td>\n",
       "      <td>NONE</td>\n",
       "      <td>...</td>\n",
       "      <td>0.0</td>\n",
       "      <td>0.0</td>\n",
       "      <td>0.0</td>\n",
       "      <td>0.0</td>\n",
       "      <td>0.0</td>\n",
       "      <td>0.0</td>\n",
       "      <td>0.0</td>\n",
       "      <td>0.0</td>\n",
       "      <td>0.0</td>\n",
       "      <td>0.0</td>\n",
       "    </tr>\n",
       "    <tr>\n",
       "      <th>...</th>\n",
       "      <td>...</td>\n",
       "      <td>...</td>\n",
       "      <td>...</td>\n",
       "      <td>...</td>\n",
       "      <td>...</td>\n",
       "      <td>...</td>\n",
       "      <td>...</td>\n",
       "      <td>...</td>\n",
       "      <td>...</td>\n",
       "      <td>...</td>\n",
       "      <td>...</td>\n",
       "      <td>...</td>\n",
       "      <td>...</td>\n",
       "      <td>...</td>\n",
       "      <td>...</td>\n",
       "      <td>...</td>\n",
       "      <td>...</td>\n",
       "      <td>...</td>\n",
       "      <td>...</td>\n",
       "      <td>...</td>\n",
       "      <td>...</td>\n",
       "    </tr>\n",
       "    <tr>\n",
       "      <th>7943</th>\n",
       "      <td>10</td>\n",
       "      <td>0.0</td>\n",
       "      <td>Ayurveda</td>\n",
       "      <td>missing</td>\n",
       "      <td>NaN</td>\n",
       "      <td>BASAVANAGUDI</td>\n",
       "      <td>BANGALORE</td>\n",
       "      <td>BAMS</td>\n",
       "      <td>DOCTOR OF MEDICINE</td>\n",
       "      <td>NONE</td>\n",
       "      <td>...</td>\n",
       "      <td>0.0</td>\n",
       "      <td>0.0</td>\n",
       "      <td>0.0</td>\n",
       "      <td>0.0</td>\n",
       "      <td>0.0</td>\n",
       "      <td>0.0</td>\n",
       "      <td>0.0</td>\n",
       "      <td>0.0</td>\n",
       "      <td>0.0</td>\n",
       "      <td>0.0</td>\n",
       "    </tr>\n",
       "    <tr>\n",
       "      <th>7944</th>\n",
       "      <td>4</td>\n",
       "      <td>0.0</td>\n",
       "      <td>Dermatologists</td>\n",
       "      <td>missing</td>\n",
       "      <td>NaN</td>\n",
       "      <td>CHOOLAI</td>\n",
       "      <td>CHENNAI</td>\n",
       "      <td>MD - DERMATOLOGY</td>\n",
       "      <td>VENEREOLOGY &amp; LEPROSY</td>\n",
       "      <td>MBBS</td>\n",
       "      <td>...</td>\n",
       "      <td>0.0</td>\n",
       "      <td>0.0</td>\n",
       "      <td>0.0</td>\n",
       "      <td>0.0</td>\n",
       "      <td>0.0</td>\n",
       "      <td>0.0</td>\n",
       "      <td>0.0</td>\n",
       "      <td>0.0</td>\n",
       "      <td>0.0</td>\n",
       "      <td>0.0</td>\n",
       "    </tr>\n",
       "    <tr>\n",
       "      <th>7945</th>\n",
       "      <td>9</td>\n",
       "      <td>0.0</td>\n",
       "      <td>General Medicine</td>\n",
       "      <td>missing</td>\n",
       "      <td>NaN</td>\n",
       "      <td>PORUR</td>\n",
       "      <td>CHENNAI</td>\n",
       "      <td>MBBS</td>\n",
       "      <td>MD / MS - OBSTETRICS &amp; GYNAECOLOGY</td>\n",
       "      <td>NONE</td>\n",
       "      <td>...</td>\n",
       "      <td>0.0</td>\n",
       "      <td>0.0</td>\n",
       "      <td>0.0</td>\n",
       "      <td>0.0</td>\n",
       "      <td>0.0</td>\n",
       "      <td>0.0</td>\n",
       "      <td>0.0</td>\n",
       "      <td>0.0</td>\n",
       "      <td>0.0</td>\n",
       "      <td>0.0</td>\n",
       "    </tr>\n",
       "    <tr>\n",
       "      <th>7946</th>\n",
       "      <td>12</td>\n",
       "      <td>98.0</td>\n",
       "      <td>Dentist</td>\n",
       "      <td>RCT Root Canal Treatment Root Canal Treatment ...</td>\n",
       "      <td>NaN</td>\n",
       "      <td>AREKERE</td>\n",
       "      <td>BANGALORE</td>\n",
       "      <td>BDS</td>\n",
       "      <td>NONE</td>\n",
       "      <td>NONE</td>\n",
       "      <td>...</td>\n",
       "      <td>0.0</td>\n",
       "      <td>0.0</td>\n",
       "      <td>0.0</td>\n",
       "      <td>0.0</td>\n",
       "      <td>0.0</td>\n",
       "      <td>0.0</td>\n",
       "      <td>0.0</td>\n",
       "      <td>0.0</td>\n",
       "      <td>0.0</td>\n",
       "      <td>0.0</td>\n",
       "    </tr>\n",
       "    <tr>\n",
       "      <th>7947</th>\n",
       "      <td>8</td>\n",
       "      <td>0.0</td>\n",
       "      <td>Dermatologists</td>\n",
       "      <td>Feedback Pallikaranai Chennai</td>\n",
       "      <td>NaN</td>\n",
       "      <td>PALLIKARANAI</td>\n",
       "      <td>CHENNAI</td>\n",
       "      <td>MBBS</td>\n",
       "      <td>MD - DERMATOLOGY</td>\n",
       "      <td>VENEREOLOGY &amp; LEPROSY</td>\n",
       "      <td>...</td>\n",
       "      <td>0.0</td>\n",
       "      <td>0.0</td>\n",
       "      <td>0.0</td>\n",
       "      <td>0.0</td>\n",
       "      <td>0.0</td>\n",
       "      <td>0.0</td>\n",
       "      <td>0.0</td>\n",
       "      <td>0.0</td>\n",
       "      <td>0.0</td>\n",
       "      <td>0.0</td>\n",
       "    </tr>\n",
       "  </tbody>\n",
       "</table>\n",
       "<p>7948 rows × 1014 columns</p>\n",
       "</div>"
      ],
      "text/plain": [
       "      Experience  Rating           Profile  \\\n",
       "0             24   100.0         Homeopath   \n",
       "1             12    98.0          Ayurveda   \n",
       "2              9     0.0    ENT Specialist   \n",
       "3             12     0.0          Ayurveda   \n",
       "4             20   100.0          Ayurveda   \n",
       "...          ...     ...               ...   \n",
       "7943          10     0.0          Ayurveda   \n",
       "7944           4     0.0    Dermatologists   \n",
       "7945           9     0.0  General Medicine   \n",
       "7946          12    98.0           Dentist   \n",
       "7947           8     0.0    Dermatologists   \n",
       "\n",
       "                                     Miscellaneous_Info   Fees  \\\n",
       "0                           Feedback Kakkanad Ernakulam  100.0   \n",
       "1                         Feedback Whitefield Bangalore  350.0   \n",
       "2                                               missing  300.0   \n",
       "3         Bannerghatta Road Bangalore Available Sun Feb  250.0   \n",
       "4                         Feedback Keelkattalai Chennai  250.0   \n",
       "...                                                 ...    ...   \n",
       "7943                                            missing    NaN   \n",
       "7944                                            missing    NaN   \n",
       "7945                                            missing    NaN   \n",
       "7946  RCT Root Canal Treatment Root Canal Treatment ...    NaN   \n",
       "7947                      Feedback Pallikaranai Chennai    NaN   \n",
       "\n",
       "                     l1         l2                q1  \\\n",
       "0              KAKKANAD  ERNAKULAM              BHMS   \n",
       "1            WHITEFIELD  BANGALORE              BAMS   \n",
       "2       MATHIKERE - BEL  BANGALORE              MBBS   \n",
       "3     BANNERGHATTA ROAD  BANGALORE     BSC - ZOOLOGY   \n",
       "4          KEELKATTALAI    CHENNAI              BAMS   \n",
       "...                 ...        ...               ...   \n",
       "7943       BASAVANAGUDI  BANGALORE              BAMS   \n",
       "7944            CHOOLAI    CHENNAI  MD - DERMATOLOGY   \n",
       "7945              PORUR    CHENNAI              MBBS   \n",
       "7946            AREKERE  BANGALORE               BDS   \n",
       "7947       PALLIKARANAI    CHENNAI              MBBS   \n",
       "\n",
       "                                      q2                     q3  ...  990  \\\n",
       "0                        MD - HOMEOPATHY                   NONE  ...  0.0   \n",
       "1                 MD - AYURVEDA MEDICINE                   NONE  ...  0.0   \n",
       "2               MS - OTORHINOLARYNGOLOGY                   NONE  ...  0.0   \n",
       "3                                   BAMS                   NONE  ...  0.0   \n",
       "4                                   NONE                   NONE  ...  0.0   \n",
       "...                                  ...                    ...  ...  ...   \n",
       "7943                  DOCTOR OF MEDICINE                   NONE  ...  0.0   \n",
       "7944               VENEREOLOGY & LEPROSY                   MBBS  ...  0.0   \n",
       "7945  MD / MS - OBSTETRICS & GYNAECOLOGY                   NONE  ...  0.0   \n",
       "7946                                NONE                   NONE  ...  0.0   \n",
       "7947                    MD - DERMATOLOGY  VENEREOLOGY & LEPROSY  ...  0.0   \n",
       "\n",
       "      991  992  993  994  995  996  997  998  999  \n",
       "0     0.0  0.0  0.0  0.0  0.0  0.0  0.0  0.0  0.0  \n",
       "1     0.0  0.0  0.0  0.0  0.0  0.0  0.0  0.0  0.0  \n",
       "2     0.0  0.0  0.0  0.0  0.0  0.0  0.0  0.0  0.0  \n",
       "3     0.0  0.0  0.0  0.0  0.0  0.0  0.0  0.0  0.0  \n",
       "4     0.0  0.0  0.0  0.0  0.0  0.0  0.0  0.0  0.0  \n",
       "...   ...  ...  ...  ...  ...  ...  ...  ...  ...  \n",
       "7943  0.0  0.0  0.0  0.0  0.0  0.0  0.0  0.0  0.0  \n",
       "7944  0.0  0.0  0.0  0.0  0.0  0.0  0.0  0.0  0.0  \n",
       "7945  0.0  0.0  0.0  0.0  0.0  0.0  0.0  0.0  0.0  \n",
       "7946  0.0  0.0  0.0  0.0  0.0  0.0  0.0  0.0  0.0  \n",
       "7947  0.0  0.0  0.0  0.0  0.0  0.0  0.0  0.0  0.0  \n",
       "\n",
       "[7948 rows x 1014 columns]"
      ]
     },
     "execution_count": 62,
     "metadata": {},
     "output_type": "execute_result"
    }
   ],
   "source": [
    "df_final"
   ]
  },
  {
   "cell_type": "code",
   "execution_count": 63,
   "metadata": {},
   "outputs": [
    {
     "data": {
      "text/plain": [
       "<matplotlib.axes._subplots.AxesSubplot at 0x298a55be520>"
      ]
     },
     "execution_count": 63,
     "metadata": {},
     "output_type": "execute_result"
    },
    {
     "data": {
      "image/png": "[encoded data removed]",
      "text/plain": [
       "<Figure size 1080x360 with 1 Axes>"
      ]
     },
     "metadata": {
      "needs_background": "light"
     },
     "output_type": "display_data"
    }
   ],
   "source": [
    "plt.figure(figsize=(15,5))\n",
    "sns.barplot(x='l2',y='Fees',data=df)"
   ]
  },
  {
   "cell_type": "code",
   "execution_count": 64,
   "metadata": {},
   "outputs": [
    {
     "data": {
      "text/plain": [
       "<matplotlib.axes._subplots.AxesSubplot at 0x298ac5a0cd0>"
      ]
     },
     "execution_count": 64,
     "metadata": {},
     "output_type": "execute_result"
    },
    {
     "data": {
      "image/png": "[encoded data removed]",
      "text/plain": [
       "<Figure size 1080x360 with 1 Axes>"
      ]
     },
     "metadata": {
      "needs_background": "light"
     },
     "output_type": "display_data"
    }
   ],
   "source": [
    "plt.figure(figsize=(15,5))\n",
    "sns.barplot(x='Profile',y='Fees',data=df)"
   ]
  },
  {
   "cell_type": "code",
   "execution_count": 65,
   "metadata": {},
   "outputs": [
    {
     "data": {
      "text/plain": [
       "<matplotlib.axes._subplots.AxesSubplot at 0x298ac44ec40>"
      ]
     },
     "execution_count": 65,
     "metadata": {},
     "output_type": "execute_result"
    },
    {
     "data": {
      "image/png": "[encoded data removed]",
      "text/plain": [
       "<Figure size 1080x360 with 1 Axes>"
      ]
     },
     "metadata": {
      "needs_background": "light"
     },
     "output_type": "display_data"
    }
   ],
   "source": [
    "plt.figure(figsize=(15,5))\n",
    "sns.barplot(x='Experience',y='Fees',data=df)"
   ]
  },
  {
   "cell_type": "code",
   "execution_count": 66,
   "metadata": {},
   "outputs": [
    {
     "data": {
      "text/plain": [
       "<matplotlib.axes._subplots.AxesSubplot at 0x298ac51a400>"
      ]
     },
     "execution_count": 66,
     "metadata": {},
     "output_type": "execute_result"
    },
    {
     "data": {
      "image/png": "[encoded data removed]",
      "text/plain": [
       "<Figure size 2520x360 with 1 Axes>"
      ]
     },
     "metadata": {
      "needs_background": "light"
     },
     "output_type": "display_data"
    }
   ],
   "source": [
    "plt.figure(figsize=(35,5))\n",
    "sns.barplot(x='q1',y='Fees',data=df)"
   ]
  },
  {
   "cell_type": "code",
   "execution_count": 67,
   "metadata": {},
   "outputs": [
    {
     "data": {
      "text/plain": [
       "<matplotlib.axes._subplots.AxesSubplot at 0x298ac819dc0>"
      ]
     },
     "execution_count": 67,
     "metadata": {},
     "output_type": "execute_result"
    },
    {
     "data": {
      "image/png": "[encoded data removed]",
      "text/plain": [
       "<Figure size 7560x360 with 1 Axes>"
      ]
     },
     "metadata": {
      "needs_background": "light"
     },
     "output_type": "display_data"
    }
   ],
   "source": [
    "plt.figure(figsize=(105,5))\n",
    "sns.barplot(x='q2',y='Fees',data=df)"
   ]
  },
  {
   "cell_type": "code",
   "execution_count": 68,
   "metadata": {},
   "outputs": [],
   "source": [
    "from sklearn.preprocessing import LabelEncoder\n",
    "for col in df_final.columns:\n",
    "    if df_final[col].dtype==\"object\":\n",
    "        df_final[col]=LabelEncoder().fit_transform(df_final[col])"
   ]
  },
  {
   "cell_type": "code",
   "execution_count": 69,
   "metadata": {},
   "outputs": [],
   "source": [
    "# Just showing the distribution of Fee in qualification"
   ]
  },
  {
   "cell_type": "code",
   "execution_count": 70,
   "metadata": {},
   "outputs": [
    {
     "data": {
      "text/plain": [
       "(5961, 7)"
      ]
     },
     "execution_count": 70,
     "metadata": {},
     "output_type": "execute_result"
    }
   ],
   "source": [
    "df_train.shape"
   ]
  },
  {
   "cell_type": "code",
   "execution_count": 71,
   "metadata": {},
   "outputs": [],
   "source": [
    "df_train_final=df_final.iloc[0:5961,:]"
   ]
  },
  {
   "cell_type": "code",
   "execution_count": 72,
   "metadata": {},
   "outputs": [
    {
     "data": {
      "text/plain": [
       "(5961, 1014)"
      ]
     },
     "execution_count": 72,
     "metadata": {},
     "output_type": "execute_result"
    }
   ],
   "source": [
    "df_train_final.shape"
   ]
  },
  {
   "cell_type": "code",
   "execution_count": 73,
   "metadata": {},
   "outputs": [],
   "source": [
    "df_test_final=df_final.iloc[5961:,:]"
   ]
  },
  {
   "cell_type": "code",
   "execution_count": 74,
   "metadata": {},
   "outputs": [
    {
     "data": {
      "text/plain": [
       "(1987, 1014)"
      ]
     },
     "execution_count": 74,
     "metadata": {},
     "output_type": "execute_result"
    }
   ],
   "source": [
    "df_test_final.shape"
   ]
  },
  {
   "cell_type": "code",
   "execution_count": 75,
   "metadata": {},
   "outputs": [
    {
     "data": {
      "text/plain": [
       "(1987, 6)"
      ]
     },
     "execution_count": 75,
     "metadata": {},
     "output_type": "execute_result"
    }
   ],
   "source": [
    "df_test.shape"
   ]
  },
  {
   "cell_type": "code",
   "execution_count": 76,
   "metadata": {},
   "outputs": [],
   "source": [
    "df_test_final.reset_index(drop=True,inplace=True)"
   ]
  },
  {
   "cell_type": "code",
   "execution_count": 77,
   "metadata": {},
   "outputs": [],
   "source": [
    "x=df_train_final.drop(columns=[\"Fees\"])\n",
    "y=df_train_final[[\"Fees\"]]"
   ]
  },
  {
   "cell_type": "code",
   "execution_count": 78,
   "metadata": {},
   "outputs": [
    {
     "data": {
      "text/plain": [
       "((5961, 1013), (5961, 1))"
      ]
     },
     "execution_count": 78,
     "metadata": {},
     "output_type": "execute_result"
    }
   ],
   "source": [
    "x.shape,y.shape"
   ]
  },
  {
   "cell_type": "code",
   "execution_count": 79,
   "metadata": {},
   "outputs": [],
   "source": [
    "from sklearn.preprocessing import StandardScaler\n",
    "ss = StandardScaler()\n",
    "x= ss.fit_transform(x)"
   ]
  },
  {
   "cell_type": "code",
   "execution_count": 80,
   "metadata": {},
   "outputs": [],
   "source": [
    "from sklearn.metrics import mean_absolute_error, mean_squared_error, r2_score, mean_squared_log_error\n",
    "from sklearn.model_selection import train_test_split\n",
    "def max_r2_score(algo,x,y):\n",
    "    min_rmsle_score=100\n",
    "    for r_state in range(42,52):\n",
    "        x_train, x_test, y_train, y_test = train_test_split(x, y,random_state = r_state,test_size=0.20)\n",
    "        algo.fit(x_train,y_train)\n",
    "        y_pred = algo.predict(x_test)\n",
    "        rmsle_scr=np.sqrt(mean_squared_log_error(y_test,y_pred))\n",
    "        print(\"RMSLE corresponding to \",r_state,\" is \",rmsle_scr)\n",
    "        if rmsle_scr<min_rmsle_score:\n",
    "            min_rmsle_score=rmsle_scr\n",
    "            final_r_state=r_state\n",
    "    print(\"min RMSLE corresponding to \",final_r_state,\" is \",min_rmsle_score)\n",
    "    return final_r_state"
   ]
  },
  {
   "cell_type": "code",
   "execution_count": 81,
   "metadata": {},
   "outputs": [
    {
     "name": "stdout",
     "output_type": "stream",
     "text": [
      "RMSLE corresponding to  42  is  0.605337259760526\n",
      "RMSLE corresponding to  43  is  0.6080227066653364\n",
      "RMSLE corresponding to  44  is  0.6006296306219973\n",
      "RMSLE corresponding to  45  is  0.6277753351957636\n",
      "RMSLE corresponding to  46  is  0.6553076919578212\n",
      "RMSLE corresponding to  47  is  0.6374162355709858\n",
      "RMSLE corresponding to  48  is  0.6345774392056573\n",
      "RMSLE corresponding to  49  is  0.6053965218169006\n",
      "RMSLE corresponding to  50  is  0.6120539505972606\n",
      "RMSLE corresponding to  51  is  0.6367698330766228\n",
      "min RMSLE corresponding to  44  is  0.6006296306219973\n"
     ]
    },
    {
     "data": {
      "text/plain": [
       "44"
      ]
     },
     "execution_count": 81,
     "metadata": {},
     "output_type": "execute_result"
    }
   ],
   "source": [
    "from sklearn.ensemble import RandomForestRegressor\n",
    "rf=RandomForestRegressor()\n",
    "max_r2_score(rf,x,y)"
   ]
  },
  {
   "cell_type": "code",
   "execution_count": 82,
   "metadata": {},
   "outputs": [
    {
     "data": {
      "text/plain": [
       "array([[ 0.60097885,  1.22066882,  1.54301587, ..., -0.02204546,\n",
       "        -0.01295319, -0.07981934],\n",
       "       [-0.47604029,  1.17841853, -1.47289258, ..., -0.02204546,\n",
       "        -0.01295319, -0.07981934],\n",
       "       [-0.74529508, -0.89184525,  0.33665249, ..., -0.02204546,\n",
       "        -0.01295319, -0.07981934],\n",
       "       ...,\n",
       "       [ 2.12675597,  1.15729339,  0.93983418, ..., -0.02204546,\n",
       "        -0.01295319, -0.07981934],\n",
       "       [-0.20678551,  1.00941741,  0.93983418, ..., -0.02204546,\n",
       "        -0.01295319, -0.07981934],\n",
       "       [-0.02728232,  1.22066882, -0.86971089, ..., -0.02204546,\n",
       "        -0.01295319, -0.07981934]])"
      ]
     },
     "execution_count": 82,
     "metadata": {},
     "output_type": "execute_result"
    }
   ],
   "source": [
    "x"
   ]
  },
  {
   "cell_type": "code",
   "execution_count": 83,
   "metadata": {},
   "outputs": [
    {
     "name": "stdout",
     "output_type": "stream",
     "text": [
      "RMSLE corresponding to  42  is  0.6485565071486974\n",
      "RMSLE corresponding to  43  is  0.6548785121450184\n",
      "RMSLE corresponding to  44  is  0.6661522776337008\n",
      "RMSLE corresponding to  45  is  0.6689566743542003\n",
      "RMSLE corresponding to  46  is  0.693956264703685\n",
      "RMSLE corresponding to  47  is  0.6753157556752335\n",
      "RMSLE corresponding to  48  is  0.677269397805072\n",
      "RMSLE corresponding to  49  is  0.6669704085360286\n",
      "RMSLE corresponding to  50  is  0.6680229331100866\n",
      "RMSLE corresponding to  51  is  0.6770936026632765\n",
      "min RMSLE corresponding to  42  is  0.6485565071486974\n"
     ]
    },
    {
     "data": {
      "text/plain": [
       "42"
      ]
     },
     "execution_count": 83,
     "metadata": {},
     "output_type": "execute_result"
    }
   ],
   "source": [
    "from sklearn.svm import SVR\n",
    "svr=SVR()\n",
    "max_r2_score(svr,x,y)"
   ]
  },
  {
   "cell_type": "code",
   "execution_count": 84,
   "metadata": {},
   "outputs": [
    {
     "name": "stdout",
     "output_type": "stream",
     "text": [
      "RMSLE corresponding to  42  is  0.7792874458144101\n",
      "RMSLE corresponding to  43  is  0.7944445777480046\n",
      "RMSLE corresponding to  44  is  0.8197471660916036\n",
      "RMSLE corresponding to  45  is  0.8518636797939122\n",
      "RMSLE corresponding to  46  is  0.8391550992837358\n",
      "RMSLE corresponding to  47  is  0.8172187281110534\n",
      "RMSLE corresponding to  48  is  0.8177501912527196\n",
      "RMSLE corresponding to  49  is  0.8176541494830801\n",
      "RMSLE corresponding to  50  is  0.7916924776484021\n",
      "RMSLE corresponding to  51  is  0.7965727792968945\n",
      "min RMSLE corresponding to  42  is  0.7792874458144101\n"
     ]
    },
    {
     "data": {
      "text/plain": [
       "42"
      ]
     },
     "execution_count": 84,
     "metadata": {},
     "output_type": "execute_result"
    }
   ],
   "source": [
    "from sklearn.tree import DecisionTreeRegressor\n",
    "dtr=DecisionTreeRegressor()\n",
    "max_r2_score(dtr,x,y)"
   ]
  },
  {
   "cell_type": "code",
   "execution_count": 85,
   "metadata": {},
   "outputs": [
    {
     "name": "stdout",
     "output_type": "stream",
     "text": [
      "RMSLE corresponding to  42  is  0.6142002792297809\n",
      "RMSLE corresponding to  43  is  0.6201902938367309\n",
      "RMSLE corresponding to  44  is  0.6152010351262954\n",
      "RMSLE corresponding to  45  is  0.6309133225411422\n",
      "RMSLE corresponding to  46  is  0.6661582721055479\n",
      "RMSLE corresponding to  47  is  0.6459440430383544\n",
      "RMSLE corresponding to  48  is  0.6396886558642122\n",
      "RMSLE corresponding to  49  is  0.6221412347023747\n",
      "RMSLE corresponding to  50  is  0.6332665952100704\n",
      "RMSLE corresponding to  51  is  0.6464950669986541\n",
      "min RMSLE corresponding to  42  is  0.6142002792297809\n"
     ]
    },
    {
     "data": {
      "text/plain": [
       "42"
      ]
     },
     "execution_count": 85,
     "metadata": {},
     "output_type": "execute_result"
    }
   ],
   "source": [
    "from sklearn.ensemble import GradientBoostingRegressor\n",
    "gbr=GradientBoostingRegressor()\n",
    "max_r2_score(gbr,x,y)"
   ]
  },
  {
   "cell_type": "code",
   "execution_count": 86,
   "metadata": {
    "scrolled": true
   },
   "outputs": [
    {
     "name": "stdout",
     "output_type": "stream",
     "text": [
      "[LightGBM] [Warning] Auto-choosing row-wise multi-threading, the overhead of testing was 0.002853 seconds.\n",
      "You can set `force_row_wise=true` to remove the overhead.\n",
      "And if memory is not enough, you can set `force_col_wise=true`.\n",
      "[LightGBM] [Info] Total Bins 3644\n",
      "[LightGBM] [Info] Number of data points in the train set: 4768, number of used features: 123\n",
      "[LightGBM] [Info] Start training from score 307.757550\n",
      "RMSLE corresponding to  42  is  0.5970052211470745\n",
      "[LightGBM] [Warning] Auto-choosing row-wise multi-threading, the overhead of testing was 0.002922 seconds.\n",
      "You can set `force_row_wise=true` to remove the overhead.\n",
      "And if memory is not enough, you can set `force_col_wise=true`.\n",
      "[LightGBM] [Info] Total Bins 3685\n",
      "[LightGBM] [Info] Number of data points in the train set: 4768, number of used features: 127\n",
      "[LightGBM] [Info] Start training from score 306.965814\n",
      "RMSLE corresponding to  43  is  0.6050892659318584\n",
      "[LightGBM] [Warning] Auto-choosing row-wise multi-threading, the overhead of testing was 0.002827 seconds.\n",
      "You can set `force_row_wise=true` to remove the overhead.\n",
      "And if memory is not enough, you can set `force_col_wise=true`.\n",
      "[LightGBM] [Info] Total Bins 3604\n",
      "[LightGBM] [Info] Number of data points in the train set: 4768, number of used features: 122\n",
      "[LightGBM] [Info] Start training from score 307.363255\n",
      "RMSLE corresponding to  44  is  0.5965102192208142\n",
      "[LightGBM] [Warning] Auto-choosing row-wise multi-threading, the overhead of testing was 0.002851 seconds.\n",
      "You can set `force_row_wise=true` to remove the overhead.\n",
      "And if memory is not enough, you can set `force_col_wise=true`.\n",
      "[LightGBM] [Info] Total Bins 3608\n",
      "[LightGBM] [Info] Number of data points in the train set: 4768, number of used features: 123\n",
      "[LightGBM] [Info] Start training from score 309.414430\n",
      "RMSLE corresponding to  45  is  0.609430755543234\n",
      "[LightGBM] [Warning] Auto-choosing row-wise multi-threading, the overhead of testing was 0.002885 seconds.\n",
      "You can set `force_row_wise=true` to remove the overhead.\n",
      "And if memory is not enough, you can set `force_col_wise=true`.\n",
      "[LightGBM] [Info] Total Bins 3603\n",
      "[LightGBM] [Info] Number of data points in the train set: 4768, number of used features: 126\n",
      "[LightGBM] [Info] Start training from score 308.483221\n",
      "RMSLE corresponding to  46  is  0.6472066266264359\n",
      "[LightGBM] [Warning] Auto-choosing row-wise multi-threading, the overhead of testing was 0.004383 seconds.\n",
      "You can set `force_row_wise=true` to remove the overhead.\n",
      "And if memory is not enough, you can set `force_col_wise=true`.\n",
      "[LightGBM] [Info] Total Bins 3650\n",
      "[LightGBM] [Info] Number of data points in the train set: 4768, number of used features: 124\n",
      "[LightGBM] [Info] Start training from score 308.046980\n",
      "RMSLE corresponding to  47  is  0.6237197857095172\n",
      "[LightGBM] [Warning] Auto-choosing row-wise multi-threading, the overhead of testing was 0.002936 seconds.\n",
      "You can set `force_row_wise=true` to remove the overhead.\n",
      "And if memory is not enough, you can set `force_col_wise=true`.\n",
      "[LightGBM] [Info] Total Bins 3622\n",
      "[LightGBM] [Info] Number of data points in the train set: 4768, number of used features: 127\n",
      "[LightGBM] [Info] Start training from score 306.641779\n",
      "RMSLE corresponding to  48  is  0.6233835308363427\n",
      "[LightGBM] [Warning] Auto-choosing row-wise multi-threading, the overhead of testing was 0.003011 seconds.\n",
      "You can set `force_row_wise=true` to remove the overhead.\n",
      "And if memory is not enough, you can set `force_col_wise=true`.\n",
      "[LightGBM] [Info] Total Bins 3596\n",
      "[LightGBM] [Info] Number of data points in the train set: 4768, number of used features: 123\n",
      "[LightGBM] [Info] Start training from score 308.996225\n",
      "RMSLE corresponding to  49  is  0.5971475222326793\n",
      "[LightGBM] [Warning] Auto-choosing row-wise multi-threading, the overhead of testing was 0.002667 seconds.\n",
      "You can set `force_row_wise=true` to remove the overhead.\n",
      "And if memory is not enough, you can set `force_col_wise=true`.\n",
      "[LightGBM] [Info] Total Bins 3577\n",
      "[LightGBM] [Info] Number of data points in the train set: 4768, number of used features: 123\n",
      "[LightGBM] [Info] Start training from score 308.105914\n",
      "RMSLE corresponding to  50  is  0.6132105291877622\n",
      "[LightGBM] [Warning] Auto-choosing row-wise multi-threading, the overhead of testing was 0.002675 seconds.\n",
      "You can set `force_row_wise=true` to remove the overhead.\n",
      "And if memory is not enough, you can set `force_col_wise=true`.\n",
      "[LightGBM] [Info] Total Bins 3614\n",
      "[LightGBM] [Info] Number of data points in the train set: 4768, number of used features: 122\n",
      "[LightGBM] [Info] Start training from score 307.909606\n",
      "RMSLE corresponding to  51  is  0.6291693650212097\n",
      "min RMSLE corresponding to  44  is  0.5965102192208142\n"
     ]
    },
    {
     "data": {
      "text/plain": [
       "44"
      ]
     },
     "execution_count": 86,
     "metadata": {},
     "output_type": "execute_result"
    }
   ],
   "source": [
    "import lightgbm as lgb\n",
    "lg = lgb.LGBMRegressor(silent=False)\n",
    "max_r2_score(lg,x,y)"
   ]
  },
  {
   "cell_type": "code",
   "execution_count": 89,
   "metadata": {},
   "outputs": [
    {
     "name": "stdout",
     "output_type": "stream",
     "text": [
      "[LightGBM] [Warning] Auto-choosing row-wise multi-threading, the overhead of testing was 0.006616 seconds.\n",
      "You can set `force_row_wise=true` to remove the overhead.\n",
      "And if memory is not enough, you can set `force_col_wise=true`.\n",
      "[LightGBM] [Info] Total Bins 3604\n",
      "[LightGBM] [Info] Number of data points in the train set: 4768, number of used features: 122\n",
      "[LightGBM] [Info] Start training from score 307.363255\n",
      "RMSLE score is=  0.5965102192208142\n",
      "\n",
      "r2 score is  0.27706179395211783\n"
     ]
    }
   ],
   "source": [
    "x_train, x_test, y_train, y_test = train_test_split(x,y, random_state=44,test_size=0.2)\n",
    "lg = lgb.LGBMRegressor(silent=False)\n",
    "lg.fit(x_train,y_train)\n",
    "y_pred = lg.predict(x_test)\n",
    "rmsle_scr=np.sqrt(mean_squared_log_error(y_test,y_pred))\n",
    "print(\"RMSLE score is= \",rmsle_scr)\n",
    "print()\n",
    "print(\"r2 score is \",r2_score(y_test,y_pred))"
   ]
  },
  {
   "cell_type": "code",
   "execution_count": 90,
   "metadata": {},
   "outputs": [],
   "source": [
    "df_test1=df_test_final.drop('Fees',axis=1)"
   ]
  },
  {
   "cell_type": "code",
   "execution_count": 91,
   "metadata": {},
   "outputs": [],
   "source": [
    "doc_fee_pred=lg.predict(df_test1)"
   ]
  },
  {
   "cell_type": "code",
   "execution_count": 92,
   "metadata": {},
   "outputs": [
    {
     "data": {
      "text/plain": [
       "array([357.01911682, 357.01911682, 355.33524203, ..., 349.62674009,\n",
       "       308.6219465 , 355.28068786])"
      ]
     },
     "execution_count": 92,
     "metadata": {},
     "output_type": "execute_result"
    }
   ],
   "source": [
    "doc_fee_pred"
   ]
  },
  {
   "cell_type": "code",
   "execution_count": 93,
   "metadata": {},
   "outputs": [],
   "source": [
    "doc_fee_pred=pd.DataFrame(doc_fee_pred,columns=[\"fees\"])"
   ]
  },
  {
   "cell_type": "code",
   "execution_count": 94,
   "metadata": {},
   "outputs": [],
   "source": [
    "doc_fee_pred.to_csv(\"C:\\\\Pandasdata\\\\DT_files\\\\doctor_fees_predictions.csv\",index=False)"
   ]
  },
  {
   "cell_type": "code",
   "execution_count": 95,
   "metadata": {},
   "outputs": [
    {
     "data": {
      "text/plain": [
       "['Doctor_Fee_lg.pkl']"
      ]
     },
     "execution_count": 95,
     "metadata": {},
     "output_type": "execute_result"
    }
   ],
   "source": [
    "import joblib\n",
    "joblib.dump(lg,\"Doctor_Fee_lg.pkl\")"
   ]
  },
  {
   "cell_type": "code",
   "execution_count": null,
   "metadata": {},
   "outputs": [],
   "source": []
  }
 ],
 "metadata": {
  "kernelspec": {
   "display_name": "Python 3",
   "language": "python",
   "name": "python3"
  },
  "language_info": {
   "codemirror_mode": {
    "name": "ipython",
    "version": 3
   },
   "file_extension": ".py",
   "mimetype": "text/x-python",
   "name": "python",
   "nbconvert_exporter": "python",
   "pygments_lexer": "ipython3",
   "version": "3.8.3"
  }
 },
 "nbformat": 4,
 "nbformat_minor": 4
}
